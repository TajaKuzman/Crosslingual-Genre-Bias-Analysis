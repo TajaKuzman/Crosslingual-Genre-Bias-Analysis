{
 "cells": [
  {
   "cell_type": "code",
   "execution_count": 1,
   "metadata": {},
   "outputs": [
    {
     "name": "stdout",
     "output_type": "stream",
     "text": [
      "env: CUDA_DEVICE_ORDER=PCI_BUS_ID\n",
      "env: CUDA_VISIBLE_DEVICES=6\n"
     ]
    },
    {
     "name": "stderr",
     "output_type": "stream",
     "text": [
      "/home/tajak/Crosslingual-Genre-Bias-Analysis/crosslingual_venv/lib/python3.8/site-packages/tqdm/auto.py:21: TqdmWarning: IProgress not found. Please update jupyter and ipywidgets. See https://ipywidgets.readthedocs.io/en/stable/user_install.html\n",
      "  from .autonotebook import tqdm as notebook_tqdm\n"
     ]
    }
   ],
   "source": [
    "# Define the gpu  on the gpu machine\n",
    "%env CUDA_DEVICE_ORDER=PCI_BUS_ID\n",
    "%env CUDA_VISIBLE_DEVICES=6\n",
    "\n",
    "import pandas as pd\n",
    "import json\n",
    "from tqdm import tqdm\n",
    "from transformers import AutoTokenizer\n",
    "from datasets import load_dataset\n",
    "import numpy as np\n",
    "from collections import Counter\n",
    "from sklearn.preprocessing import MinMaxScaler\n",
    "import re"
   ]
  },
  {
   "cell_type": "markdown",
   "metadata": {},
   "source": [
    "## Tokenize and count tokens for train_df"
   ]
  },
  {
   "cell_type": "markdown",
   "metadata": {},
   "source": [
    "Code for tokenization (it is now already done):"
   ]
  },
  {
   "cell_type": "code",
   "execution_count": 18,
   "metadata": {},
   "outputs": [
    {
     "data": {
      "text/html": [
       "<div>\n",
       "<style scoped>\n",
       "    .dataframe tbody tr th:only-of-type {\n",
       "        vertical-align: middle;\n",
       "    }\n",
       "\n",
       "    .dataframe tbody tr th {\n",
       "        vertical-align: top;\n",
       "    }\n",
       "\n",
       "    .dataframe thead th {\n",
       "        text-align: right;\n",
       "    }\n",
       "</style>\n",
       "<table border=\"1\" class=\"dataframe\">\n",
       "  <thead>\n",
       "    <tr style=\"text-align: right;\">\n",
       "      <th></th>\n",
       "      <th>text</th>\n",
       "      <th>labels</th>\n",
       "      <th>dataset</th>\n",
       "      <th>language</th>\n",
       "    </tr>\n",
       "  </thead>\n",
       "  <tbody>\n",
       "    <tr>\n",
       "      <th>0</th>\n",
       "      <td>Seeking All Things Brilliant \"I want people to...</td>\n",
       "      <td>Other</td>\n",
       "      <td>CORE</td>\n",
       "      <td>English</td>\n",
       "    </tr>\n",
       "    <tr>\n",
       "      <th>1</th>\n",
       "      <td>Meet Orchid du Bois I first met Hayley Mowday ...</td>\n",
       "      <td>Other</td>\n",
       "      <td>CORE</td>\n",
       "      <td>English</td>\n",
       "    </tr>\n",
       "  </tbody>\n",
       "</table>\n",
       "</div>"
      ],
      "text/plain": [
       "                                                text labels dataset language\n",
       "0  Seeking All Things Brilliant \"I want people to...  Other    CORE  English\n",
       "1  Meet Orchid du Bois I first met Hayley Mowday ...  Other    CORE  English"
      ]
     },
     "metadata": {},
     "output_type": "display_data"
    },
    {
     "name": "stderr",
     "output_type": "stream",
     "text": [
      "  0%|          | 0/1772 [00:00<?, ?it/s]Token indices sequence length is longer than the specified maximum sequence length for this model (1810 > 512). Running this sequence through the model will result in indexing errors\n",
      "100%|██████████| 1772/1772 [00:09<00:00, 189.74it/s]\n"
     ]
    },
    {
     "name": "stdout",
     "output_type": "stream",
     "text": [
      "699465\n"
     ]
    }
   ],
   "source": [
    "# Import the train dataset\n",
    "train = load_dataset(\"TajaKuzman/X-GENRE-multilingual-text-genre-dataset\", \"train\")\n",
    "\n",
    "# To open as Pandas DataFrame:\n",
    "train_df = pd.DataFrame(train[\"train\"])\n",
    "\n",
    "display(train_df.head(2))\n",
    "\n",
    "tokenizer = AutoTokenizer.from_pretrained(\"xlm-roberta-base\")\n",
    "\n",
    "# Tokenize the train dataset\n",
    "tokens_train = []\n",
    "integers_train = []\n",
    "token_list_train = []\n",
    "\n",
    "for text in tqdm(train_df.text.to_list()):\n",
    "\tencoded_text = tokenizer(text)\n",
    "\t# Take all tokens_train, except the beginning (<s>) and end (</s>) token\n",
    "\tcurrent_tokens_train = tokenizer.convert_ids_to_tokens(encoded_text.input_ids)[1:-1]\n",
    "\ttokens_train.append(current_tokens_train)\n",
    "\ttoken_list_train.extend(current_tokens_train)\n",
    "\tintegers_train.append(encoded_text.input_ids[1:-1])\n",
    "\n",
    "train_df[\"tokens_train\"] = tokens_train\n",
    "train_df[\"token_ids\"] = integers_train\n",
    "\n",
    "#print(token_list_train[:10])\n",
    "#print(len(token_list_train))\n",
    "\n",
    "# Create a list of tokens, where we take only the first 512 tokens\n",
    "train_tokens_shortened = []\n",
    "\n",
    "for i in train_df[\"tokens_train\"].to_list():\n",
    "\ttrain_tokens_shortened.extend(i[:512])\n",
    "\n",
    "print(len(train_tokens_shortened))\n",
    "\n",
    "train_df.head(3)\n",
    "\n",
    "# Save the tokenized version\n",
    "train_df.to_json(\"datasets/tokenized_datasets/X-GENRE-train-tokenized.json\")"
   ]
  },
  {
   "cell_type": "markdown",
   "metadata": {},
   "source": [
    "Code to count tokens:"
   ]
  },
  {
   "cell_type": "code",
   "execution_count": 6,
   "metadata": {},
   "outputs": [
    {
     "data": {
      "text/html": [
       "<div>\n",
       "<style scoped>\n",
       "    .dataframe tbody tr th:only-of-type {\n",
       "        vertical-align: middle;\n",
       "    }\n",
       "\n",
       "    .dataframe tbody tr th {\n",
       "        vertical-align: top;\n",
       "    }\n",
       "\n",
       "    .dataframe thead th {\n",
       "        text-align: right;\n",
       "    }\n",
       "</style>\n",
       "<table border=\"1\" class=\"dataframe\">\n",
       "  <thead>\n",
       "    <tr style=\"text-align: right;\">\n",
       "      <th></th>\n",
       "      <th>text</th>\n",
       "      <th>labels</th>\n",
       "      <th>dataset</th>\n",
       "      <th>language</th>\n",
       "      <th>tokens_train</th>\n",
       "      <th>token_ids</th>\n",
       "    </tr>\n",
       "  </thead>\n",
       "  <tbody>\n",
       "    <tr>\n",
       "      <th>0</th>\n",
       "      <td>Seeking All Things Brilliant \"I want people to...</td>\n",
       "      <td>Other</td>\n",
       "      <td>CORE</td>\n",
       "      <td>English</td>\n",
       "      <td>[▁See, king, ▁All, ▁Things, ▁Br, illian, t, ▁\"...</td>\n",
       "      <td>[6872, 6048, 3164, 119175, 13008, 162076, 18, ...</td>\n",
       "    </tr>\n",
       "    <tr>\n",
       "      <th>1</th>\n",
       "      <td>Meet Orchid du Bois I first met Hayley Mowday ...</td>\n",
       "      <td>Other</td>\n",
       "      <td>CORE</td>\n",
       "      <td>English</td>\n",
       "      <td>[▁Meet, ▁Or, ch, id, ▁du, ▁Bo, is, ▁I, ▁first,...</td>\n",
       "      <td>[72626, 3347, 206, 532, 115, 2460, 164, 87, 51...</td>\n",
       "    </tr>\n",
       "  </tbody>\n",
       "</table>\n",
       "</div>"
      ],
      "text/plain": [
       "                                                text labels dataset language  \\\n",
       "0  Seeking All Things Brilliant \"I want people to...  Other    CORE  English   \n",
       "1  Meet Orchid du Bois I first met Hayley Mowday ...  Other    CORE  English   \n",
       "\n",
       "                                        tokens_train  \\\n",
       "0  [▁See, king, ▁All, ▁Things, ▁Br, illian, t, ▁\"...   \n",
       "1  [▁Meet, ▁Or, ch, id, ▁du, ▁Bo, is, ▁I, ▁first,...   \n",
       "\n",
       "                                           token_ids  \n",
       "0  [6872, 6048, 3164, 119175, 13008, 162076, 18, ...  \n",
       "1  [72626, 3347, 206, 532, 115, 2460, 164, 87, 51...  "
      ]
     },
     "execution_count": 6,
     "metadata": {},
     "output_type": "execute_result"
    }
   ],
   "source": [
    "# Open the tokenized df\n",
    "train_df = pd.read_json(\"datasets/tokenized_datasets/X-GENRE-train-tokenized.json\")\n",
    "train_df.head(2)"
   ]
  },
  {
   "cell_type": "code",
   "execution_count": 7,
   "metadata": {},
   "outputs": [
    {
     "name": "stdout",
     "output_type": "stream",
     "text": [
      "699465\n",
      "[('!', 430), ('!!', 23), ('!!!', 14), ('!!!!', 6), ('!!!!!', 1), ('!!!!!!', 1), ('!!!!!!!', 1), ('!\"', 14), ('!)', 10), ('!),', 1), ('!).', 2), ('\"', 528), ('\")', 7), ('\"),', 6), ('\").', 7), ('\",', 56), ('\".', 83), ('\"...', 3), ('\";', 3), ('\"?', 6), ('#', 4), ('$', 8), ('%', 4), ('%)', 1), ('&', 46), (\"'\", 4517), ('(', 31), ('(1', 1), (')', 788), ('),', 242), (').', 297), ('):', 13), (');', 5), ('*', 19), ('**', 2), ('****', 1), ('+', 15), ('+5', 1), (',', 23447), (',«', 12), ('-', 2803), ('---', 3), ('------', 5), ('----------------', 41), ('-0', 3), ('-01', 1), ('-02', 2), ('-02-', 2), ('-03-', 4), ('-06', 1), ('-06-', 3), ('-09-', 1), ('-1', 15), ('-1)', 3), ('-10', 2), ('-10-', 1), ('-11', 6), ('-11-', 1), ('-12', 8), ('-13', 6), ('-14', 3), ('-15', 7), ('-16', 9), ('-17', 3), ('-18', 9), ('-19', 5), ('-2', 10), ('-20', 3), ('-2000', 3), ('-2005', 1), ('-2007', 8), ('-2009', 1), ('-2010', 1), ('-2011', 1), ('-2012', 1), ('-2014', 1), ('-2020', 1), ('-21', 4), ('-22', 3), ('-23', 2), ('-24', 3), ('-25', 1), ('-26', 2), ('-27', 3), ('-28', 1), ('-29', 1), ('-3', 10), ('-30', 5), ('-300', 1), ('-31', 2), ('-33', 1), ('-34', 1), ('-35', 1), ('-36', 1), ('-4', 5), ('-40', 1), ('-45', 3), ('-5', 4), ('-50', 1), ('-52', 1)]\n",
      "27025\n"
     ]
    }
   ],
   "source": [
    "# Create a dictionary that counts all the token occurrences\n",
    "\n",
    "# Create a list of tokens, where we take only the first 512 tokens\n",
    "train_tokens_shortened = []\n",
    "\n",
    "for i in train_df[\"tokens_train\"].to_list():\n",
    "\ttrain_tokens_shortened.extend(i[:512])\n",
    "\n",
    "print(len(train_tokens_shortened))\n",
    "\n",
    "# Create a dictionary which counts the occurrences of the words\n",
    "\n",
    "word_dict_train = Counter(train_tokens_shortened)\n",
    "\n",
    "# Sort the dictionary alphabetically based on keys\n",
    "word_dict_train = dict(sorted(word_dict_train.items()))\n",
    "\n",
    "print(list(word_dict_train.items())[:100])\n",
    "print(len(word_dict_train))"
   ]
  },
  {
   "cell_type": "code",
   "execution_count": 6,
   "metadata": {},
   "outputs": [
    {
     "data": {
      "text/plain": [
       "27025"
      ]
     },
     "execution_count": 6,
     "metadata": {},
     "output_type": "execute_result"
    }
   ],
   "source": [
    "len(set(train_tokens_shortened))"
   ]
  },
  {
   "cell_type": "markdown",
   "metadata": {},
   "source": [
    "The train dataset has 699.465 tokens and 27.025 unique words."
   ]
  },
  {
   "cell_type": "code",
   "execution_count": 7,
   "metadata": {},
   "outputs": [
    {
     "data": {
      "text/plain": [
       "[(',', 23447),\n",
       " ('.', 21407),\n",
       " ('▁', 19553),\n",
       " ('▁the', 18860),\n",
       " ('s', 14184),\n",
       " ('▁to', 10762),\n",
       " ('▁of', 9912),\n",
       " ('▁and', 9752),\n",
       " ('▁in', 9140),\n",
       " ('▁a', 8341)]"
      ]
     },
     "execution_count": 7,
     "metadata": {},
     "output_type": "execute_result"
    }
   ],
   "source": [
    "# See the most frequent tokens:\n",
    "\n",
    "# Sort the dictionary by values (word counts) in descending order\n",
    "sorted(word_dict_train.items(), key=lambda x: x[1], reverse=True)[:10]\n"
   ]
  },
  {
   "cell_type": "code",
   "execution_count": 14,
   "metadata": {},
   "outputs": [],
   "source": [
    "# Save the dictionary of tokens\n",
    "with open(\"datasets/tokenized_datasets/X-GENRE-train-token-count.json\", \"w\") as train_count_file:\n",
    "\tjson.dump(word_dict_train, train_count_file)"
   ]
  },
  {
   "cell_type": "markdown",
   "metadata": {},
   "source": [
    "# Tokenize and count tokens for test sets & calculate percentage overlap"
   ]
  },
  {
   "cell_type": "markdown",
   "metadata": {},
   "source": [
    "Code with which I tokenized the datasets:"
   ]
  },
  {
   "cell_type": "code",
   "execution_count": 4,
   "metadata": {},
   "outputs": [
    {
     "data": {
      "text/plain": [
       "dict_keys(['mt', 'el', 'tr', 'sq', 'is', 'uk', 'ca', 'mk', 'hr', 'sl'])"
      ]
     },
     "execution_count": 4,
     "metadata": {},
     "output_type": "execute_result"
    }
   ],
   "source": [
    "# Import the final dataset with test sets\n",
    "with open(\"manual-annotations/multilingual-genre-annotated-test-set.json\") as main_file:\n",
    "\tmain_dict = json.load(main_file)\n",
    "\n",
    "main_dict.keys()"
   ]
  },
  {
   "cell_type": "code",
   "execution_count": null,
   "metadata": {},
   "outputs": [],
   "source": [
    "# Code with which the test sets were tokenized\n",
    "\n",
    "# Define an array of token overlap\n",
    "token_overlap_results = {}\n",
    "\n",
    "# Loop through the datasets and calculate token overlap\n",
    "for lang in list(main_dict.keys()):\n",
    "\tdf = pd.DataFrame(main_dict[lang][\"dataset\"])\n",
    "\n",
    "\ttokenizer = AutoTokenizer.from_pretrained(\"xlm-roberta-base\")\n",
    "\n",
    "\ttokens = []\n",
    "\tintegers = []\n",
    "\ttoken_list = []\n",
    "\n",
    "\tprint(\"Tokenizing text.\")\n",
    "\n",
    "\tfor text in tqdm(df.text.to_list()):\n",
    "\t\tencoded_text = tokenizer(text)\n",
    "\t\t# Take all tokens, except the beginning (<s>) and end (</s>) token\n",
    "\t\tcurrent_tokens = tokenizer.convert_ids_to_tokens(encoded_text.input_ids)[1:-1]\n",
    "\t\t# Shorten the list to 512, as tokens after that were not observed by the classifier\n",
    "\t\tcurrent_tokens = current_tokens[:512]\n",
    "\t\ttokens.append(current_tokens)\n",
    "\t\ttoken_list.extend(current_tokens)\n",
    "\t\tintegers.append(encoded_text.input_ids[1:-1][:512])\n",
    "\n",
    "\tdf[\"tokens\"] = tokens\n",
    "\tdf[\"token_ids\"] = integers\n",
    "\n",
    "\tprint(token_list[:10])\n",
    "\tprint(\"All tokens:\")\n",
    "\tprint(len(token_list))\n",
    "\n",
    "\t# See how many tokens overlap\n",
    "\toverlap_counter = 0\n",
    "\n",
    "\tprint(\"Calculating overlap.\")\n",
    "\n",
    "\t# Save tokens that overlap for further inspection\n",
    "\toverlap_token_list = []\n",
    "\n",
    "\t# We calculate overlap by dividing the number of tokens that are shared in train and test set by the number of all tokens in both sets\n",
    "\t#overlap_counter = sum(1 for element in token_list if element in train_tokens_shortened)\n",
    "\tfor token in tqdm(token_list):\n",
    "\t\tif token in train_tokens_shortened:\n",
    "\t\t\t# Add to the overlap counter number of all times the token appears in both datasets\n",
    "\t\t\toverlap_counter += 1\n",
    "\t\t\toverlap_token_list.append(token)\n",
    "\n",
    "\n",
    "\t# Out of all tokens in test set, how many overlap?\n",
    "\toverlap_per = overlap_counter/len(token_list)\n",
    "\n",
    "\tprint(f\"Number of tokens that overlap: {overlap_counter}\")\n",
    "\tprint(f\"Percentage of overlap: {overlap_per}\")\n",
    "\n",
    "\t# Update the dataset in the dictionary\n",
    "\tmain_dict[lang][\"dataset\"] = df.to_dict()\n",
    "\n",
    "\t# Add the list of all tokens to the dictionary\n",
    "\tmain_dict[lang][\"token_overlap\"] = {\"overlap_percentage\":overlap_per, \"token_list\": token_list, \"overlap_token_list\":overlap_token_list}\n",
    "\n",
    "\t# Add to the results\n",
    "\ttoken_overlap_results[lang] = {\"percentage\": overlap_per, \"overlap_list\": overlap_token_list}\n",
    "\n",
    "\t# Convert tokens back to words\n",
    "\t#print(tokenizer.convert_tokens_to_string(tokens))\n",
    "\n",
    "# Inspect the results\n",
    "overlap_df = pd.DataFrame(token_overlap_results)"
   ]
  },
  {
   "cell_type": "code",
   "execution_count": 8,
   "metadata": {},
   "outputs": [
    {
     "name": "stdout",
     "output_type": "stream",
     "text": [
      "['▁Angel', 'o', '▁Che', 't', 'cuti', ',', '▁se', '▁j', 'kun', '▁qe']\n",
      "All tokens:\n",
      "39040\n",
      "Calculating overlap.\n"
     ]
    },
    {
     "name": "stderr",
     "output_type": "stream",
     "text": [
      "100%|██████████| 39040/39040 [01:28<00:00, 439.17it/s] \n"
     ]
    },
    {
     "name": "stdout",
     "output_type": "stream",
     "text": [
      "Number of tokens that overlap: 31899\n",
      "Number of different tokens that overlap: 3586\n",
      "Percentage of overlap: 0.8170850409836066\n",
      "['▁Ενημέρωση', '▁του', '▁Pegasus', '▁Esti', 'asi', '▁με', '▁τις', '▁εισ', 'ερ', 'χ']\n",
      "All tokens:\n",
      "31240\n",
      "Calculating overlap.\n"
     ]
    },
    {
     "name": "stderr",
     "output_type": "stream",
     "text": [
      "100%|██████████| 31240/31240 [03:41<00:00, 141.06it/s]\n"
     ]
    },
    {
     "name": "stdout",
     "output_type": "stream",
     "text": [
      "Number of tokens that overlap: 5043\n",
      "Number of different tokens that overlap: 822\n",
      "Percentage of overlap: 0.1614276568501921\n",
      "['▁A', 'Ö', 'L', '▁Der', 's', '▁Seçim', 'i', '▁ve', '▁Sınav', '▁Giriş']\n",
      "All tokens:\n",
      "29578\n",
      "Calculating overlap.\n"
     ]
    },
    {
     "name": "stderr",
     "output_type": "stream",
     "text": [
      "100%|██████████| 29578/29578 [02:07<00:00, 231.09it/s]\n"
     ]
    },
    {
     "name": "stdout",
     "output_type": "stream",
     "text": [
      "Number of tokens that overlap: 15425\n",
      "Number of different tokens that overlap: 2451\n",
      "Percentage of overlap: 0.5215024680505782\n",
      "['▁Blog', '▁“', 'U', 'në', '▁të', '▁kam', '▁dashur', '▁me', '▁një', '▁dashuri']\n",
      "All tokens:\n",
      "26769\n",
      "Calculating overlap.\n"
     ]
    },
    {
     "name": "stderr",
     "output_type": "stream",
     "text": [
      "100%|██████████| 26769/26769 [01:50<00:00, 242.39it/s]\n"
     ]
    },
    {
     "name": "stdout",
     "output_type": "stream",
     "text": [
      "Number of tokens that overlap: 16216\n",
      "Number of different tokens that overlap: 2748\n",
      "Percentage of overlap: 0.605775337143711\n",
      "['▁[', 'is', ']', '▁Því', '▁er', '▁við', '▁hæ', 'fi', '▁að', '▁reg']\n",
      "All tokens:\n",
      "29644\n",
      "Calculating overlap.\n"
     ]
    },
    {
     "name": "stderr",
     "output_type": "stream",
     "text": [
      "100%|██████████| 29644/29644 [02:19<00:00, 212.04it/s]\n"
     ]
    },
    {
     "name": "stdout",
     "output_type": "stream",
     "text": [
      "Number of tokens that overlap: 15343\n",
      "Number of different tokens that overlap: 2122\n",
      "Percentage of overlap: 0.5175752260153825\n",
      "['▁Не', 'стандарт', 'ний', '▁підхід', '▁для', '▁виготовлення', '▁Ак', 'вар', 'і', 'у']\n",
      "All tokens:\n",
      "31677\n",
      "Calculating overlap.\n"
     ]
    },
    {
     "name": "stderr",
     "output_type": "stream",
     "text": [
      "100%|██████████| 31677/31677 [03:42<00:00, 142.62it/s]\n"
     ]
    },
    {
     "name": "stdout",
     "output_type": "stream",
     "text": [
      "Number of tokens that overlap: 4963\n",
      "Number of different tokens that overlap: 411\n",
      "Percentage of overlap: 0.15667519020109233\n",
      "['▁P', 'à', 'gine', 's', '▁En', 'fei', 'nada', '▁Porto', '▁uns', '▁dies']\n",
      "All tokens:\n",
      "27544\n",
      "Calculating overlap.\n"
     ]
    },
    {
     "name": "stderr",
     "output_type": "stream",
     "text": [
      "100%|██████████| 27544/27544 [01:12<00:00, 378.13it/s]\n"
     ]
    },
    {
     "name": "stdout",
     "output_type": "stream",
     "text": [
      "Number of tokens that overlap: 20517\n",
      "Number of different tokens that overlap: 2896\n",
      "Percentage of overlap: 0.7448809178042405\n",
      "['▁Ек', 'шу', 'ли', ',', '▁T', 'CL', '▁ги', '▁прави', '▁смартфон', 'овите']\n",
      "All tokens:\n",
      "27639\n",
      "Calculating overlap.\n"
     ]
    },
    {
     "name": "stderr",
     "output_type": "stream",
     "text": [
      "100%|██████████| 27639/27639 [03:22<00:00, 136.20it/s]\n"
     ]
    },
    {
     "name": "stdout",
     "output_type": "stream",
     "text": [
      "Number of tokens that overlap: 4035\n",
      "Number of different tokens that overlap: 656\n",
      "Percentage of overlap: 0.14598936285683273\n",
      "['▁O', '▁proizvod', 'u', '▁Color', '▁Trans', 'former', ',', '▁za', '▁pamet', 'no']\n",
      "All tokens:\n",
      "26546\n",
      "Calculating overlap.\n"
     ]
    },
    {
     "name": "stderr",
     "output_type": "stream",
     "text": [
      "100%|██████████| 26546/26546 [01:08<00:00, 389.67it/s]\n"
     ]
    },
    {
     "name": "stdout",
     "output_type": "stream",
     "text": [
      "Number of tokens that overlap: 21808\n",
      "Number of different tokens that overlap: 4383\n",
      "Percentage of overlap: 0.8215173660815189\n",
      "['▁Kita', 'jsko', '▁mesto', '▁duhov', '▁V', '▁Notranj', 'i', '▁Mongol', 'iji', '▁raste']\n",
      "All tokens:\n",
      "26292\n",
      "Calculating overlap.\n"
     ]
    },
    {
     "name": "stderr",
     "output_type": "stream",
     "text": [
      "100%|██████████| 26292/26292 [00:49<00:00, 527.18it/s]"
     ]
    },
    {
     "name": "stdout",
     "output_type": "stream",
     "text": [
      "Number of tokens that overlap: 25616\n",
      "Number of different tokens that overlap: 5281\n",
      "Percentage of overlap: 0.9742887570363609\n"
     ]
    },
    {
     "name": "stderr",
     "output_type": "stream",
     "text": [
      "\n"
     ]
    }
   ],
   "source": [
    "# Improved code to calculate token overlap - we can simply calculate which tokens do not overlap - meaning that they occur only in one of the dataset, and calculate the percentage overlap based on that\n",
    "token_overlap_results = {}\n",
    "\n",
    "# Loop through the datasets and calculate token overlap\n",
    "for lang in list(main_dict.keys()):\n",
    "\ttoken_list = main_dict[lang][\"token_overlap\"]['token_list']\n",
    "\tprint(token_list[:10])\n",
    "\tprint(\"All tokens:\")\n",
    "\tprint(len(token_list))\n",
    "\n",
    "\t# See how many tokens do not overlap\n",
    "\tno_overlap_counter = 0\n",
    "\n",
    "\tprint(\"Calculating overlap.\")\n",
    "\n",
    "\t# Save tokens that overlap for further inspection\n",
    "\toverlap_token_list = []\n",
    "\n",
    "\t# We calculate overlap by counting how many tokens do not appear in both sets\n",
    "\tfor token in tqdm(token_list):\n",
    "\t\tif token not in train_tokens_shortened:\n",
    "\t\t\tno_overlap_counter += 1\n",
    "\t\telse:\n",
    "\t\t\toverlap_token_list.append(token)\n",
    "\n",
    "\t# Out of all tokens in test set, how many do not overlap with train set?\n",
    "\tno_overlap_per = no_overlap_counter/len(token_list)\n",
    "\n",
    "\t# Calculate percentage of overlap based on that\n",
    "\toverlap_per = 1-no_overlap_per\n",
    "\n",
    "\tprint(f\"Number of tokens that overlap: {len(overlap_token_list)}\")\n",
    "\tprint(f\"Number of different tokens that overlap: {len(set(overlap_token_list))}\")\n",
    "\tprint(f\"Percentage of overlap: {overlap_per}\")\n",
    "\n",
    "\t# Add the list of all tokens to the dictionary\n",
    "\tmain_dict[lang][\"token_overlap\"][\"overlap_percentage\"] = overlap_per\n",
    "\tmain_dict[lang][\"token_overlap\"][\"overlap_token_list\"] = overlap_token_list\n",
    "\n",
    "\t# Add to the results\n",
    "\ttoken_overlap_results[lang] = {\"percentage\": overlap_per, \"overlap_list_size\": len(overlap_token_list), \"overlap_set_size\": len(set(overlap_token_list))}\n",
    "\n",
    "\n",
    "# Inspect the results\n",
    "overlap_df = pd.DataFrame(token_overlap_results)"
   ]
  },
  {
   "cell_type": "code",
   "execution_count": 9,
   "metadata": {},
   "outputs": [
    {
     "data": {
      "text/html": [
       "<div>\n",
       "<style scoped>\n",
       "    .dataframe tbody tr th:only-of-type {\n",
       "        vertical-align: middle;\n",
       "    }\n",
       "\n",
       "    .dataframe tbody tr th {\n",
       "        vertical-align: top;\n",
       "    }\n",
       "\n",
       "    .dataframe thead th {\n",
       "        text-align: right;\n",
       "    }\n",
       "</style>\n",
       "<table border=\"1\" class=\"dataframe\">\n",
       "  <thead>\n",
       "    <tr style=\"text-align: right;\">\n",
       "      <th></th>\n",
       "      <th>percentage</th>\n",
       "      <th>overlap_list_size</th>\n",
       "      <th>overlap_set_size</th>\n",
       "    </tr>\n",
       "  </thead>\n",
       "  <tbody>\n",
       "    <tr>\n",
       "      <th>mt</th>\n",
       "      <td>0.817085</td>\n",
       "      <td>31899.0</td>\n",
       "      <td>3586.0</td>\n",
       "    </tr>\n",
       "    <tr>\n",
       "      <th>el</th>\n",
       "      <td>0.161428</td>\n",
       "      <td>5043.0</td>\n",
       "      <td>822.0</td>\n",
       "    </tr>\n",
       "    <tr>\n",
       "      <th>tr</th>\n",
       "      <td>0.521502</td>\n",
       "      <td>15425.0</td>\n",
       "      <td>2451.0</td>\n",
       "    </tr>\n",
       "    <tr>\n",
       "      <th>sq</th>\n",
       "      <td>0.605775</td>\n",
       "      <td>16216.0</td>\n",
       "      <td>2748.0</td>\n",
       "    </tr>\n",
       "    <tr>\n",
       "      <th>is</th>\n",
       "      <td>0.517575</td>\n",
       "      <td>15343.0</td>\n",
       "      <td>2122.0</td>\n",
       "    </tr>\n",
       "    <tr>\n",
       "      <th>uk</th>\n",
       "      <td>0.156675</td>\n",
       "      <td>4963.0</td>\n",
       "      <td>411.0</td>\n",
       "    </tr>\n",
       "    <tr>\n",
       "      <th>ca</th>\n",
       "      <td>0.744881</td>\n",
       "      <td>20517.0</td>\n",
       "      <td>2896.0</td>\n",
       "    </tr>\n",
       "    <tr>\n",
       "      <th>mk</th>\n",
       "      <td>0.145989</td>\n",
       "      <td>4035.0</td>\n",
       "      <td>656.0</td>\n",
       "    </tr>\n",
       "    <tr>\n",
       "      <th>hr</th>\n",
       "      <td>0.821517</td>\n",
       "      <td>21808.0</td>\n",
       "      <td>4383.0</td>\n",
       "    </tr>\n",
       "    <tr>\n",
       "      <th>sl</th>\n",
       "      <td>0.974289</td>\n",
       "      <td>25616.0</td>\n",
       "      <td>5281.0</td>\n",
       "    </tr>\n",
       "  </tbody>\n",
       "</table>\n",
       "</div>"
      ],
      "text/plain": [
       "    percentage  overlap_list_size  overlap_set_size\n",
       "mt    0.817085            31899.0            3586.0\n",
       "el    0.161428             5043.0             822.0\n",
       "tr    0.521502            15425.0            2451.0\n",
       "sq    0.605775            16216.0            2748.0\n",
       "is    0.517575            15343.0            2122.0\n",
       "uk    0.156675             4963.0             411.0\n",
       "ca    0.744881            20517.0            2896.0\n",
       "mk    0.145989             4035.0             656.0\n",
       "hr    0.821517            21808.0            4383.0\n",
       "sl    0.974289            25616.0            5281.0"
      ]
     },
     "execution_count": 9,
     "metadata": {},
     "output_type": "execute_result"
    }
   ],
   "source": [
    "overlap_df = pd.DataFrame(token_overlap_results).transpose()\n",
    "overlap_df"
   ]
  },
  {
   "cell_type": "code",
   "execution_count": 10,
   "metadata": {},
   "outputs": [
    {
     "data": {
      "text/html": [
       "<div>\n",
       "<style scoped>\n",
       "    .dataframe tbody tr th:only-of-type {\n",
       "        vertical-align: middle;\n",
       "    }\n",
       "\n",
       "    .dataframe tbody tr th {\n",
       "        vertical-align: top;\n",
       "    }\n",
       "\n",
       "    .dataframe thead th {\n",
       "        text-align: right;\n",
       "    }\n",
       "</style>\n",
       "<table border=\"1\" class=\"dataframe\">\n",
       "  <thead>\n",
       "    <tr style=\"text-align: right;\">\n",
       "      <th></th>\n",
       "      <th>percentage</th>\n",
       "      <th>overlap_list_size</th>\n",
       "      <th>overlap_set_size</th>\n",
       "    </tr>\n",
       "  </thead>\n",
       "  <tbody>\n",
       "    <tr>\n",
       "      <th>sl</th>\n",
       "      <td>0.974289</td>\n",
       "      <td>25616.0</td>\n",
       "      <td>5281.0</td>\n",
       "    </tr>\n",
       "    <tr>\n",
       "      <th>hr</th>\n",
       "      <td>0.821517</td>\n",
       "      <td>21808.0</td>\n",
       "      <td>4383.0</td>\n",
       "    </tr>\n",
       "    <tr>\n",
       "      <th>mt</th>\n",
       "      <td>0.817085</td>\n",
       "      <td>31899.0</td>\n",
       "      <td>3586.0</td>\n",
       "    </tr>\n",
       "    <tr>\n",
       "      <th>ca</th>\n",
       "      <td>0.744881</td>\n",
       "      <td>20517.0</td>\n",
       "      <td>2896.0</td>\n",
       "    </tr>\n",
       "    <tr>\n",
       "      <th>sq</th>\n",
       "      <td>0.605775</td>\n",
       "      <td>16216.0</td>\n",
       "      <td>2748.0</td>\n",
       "    </tr>\n",
       "    <tr>\n",
       "      <th>tr</th>\n",
       "      <td>0.521502</td>\n",
       "      <td>15425.0</td>\n",
       "      <td>2451.0</td>\n",
       "    </tr>\n",
       "    <tr>\n",
       "      <th>is</th>\n",
       "      <td>0.517575</td>\n",
       "      <td>15343.0</td>\n",
       "      <td>2122.0</td>\n",
       "    </tr>\n",
       "    <tr>\n",
       "      <th>el</th>\n",
       "      <td>0.161428</td>\n",
       "      <td>5043.0</td>\n",
       "      <td>822.0</td>\n",
       "    </tr>\n",
       "    <tr>\n",
       "      <th>uk</th>\n",
       "      <td>0.156675</td>\n",
       "      <td>4963.0</td>\n",
       "      <td>411.0</td>\n",
       "    </tr>\n",
       "    <tr>\n",
       "      <th>mk</th>\n",
       "      <td>0.145989</td>\n",
       "      <td>4035.0</td>\n",
       "      <td>656.0</td>\n",
       "    </tr>\n",
       "  </tbody>\n",
       "</table>\n",
       "</div>"
      ],
      "text/plain": [
       "    percentage  overlap_list_size  overlap_set_size\n",
       "sl    0.974289            25616.0            5281.0\n",
       "hr    0.821517            21808.0            4383.0\n",
       "mt    0.817085            31899.0            3586.0\n",
       "ca    0.744881            20517.0            2896.0\n",
       "sq    0.605775            16216.0            2748.0\n",
       "tr    0.521502            15425.0            2451.0\n",
       "is    0.517575            15343.0            2122.0\n",
       "el    0.161428             5043.0             822.0\n",
       "uk    0.156675             4963.0             411.0\n",
       "mk    0.145989             4035.0             656.0"
      ]
     },
     "execution_count": 10,
     "metadata": {},
     "output_type": "execute_result"
    }
   ],
   "source": [
    "overlap_df.sort_values(by=\"percentage\", ascending=False)"
   ]
  },
  {
   "cell_type": "code",
   "execution_count": 11,
   "metadata": {},
   "outputs": [],
   "source": [
    "# Save the extended json dict\n",
    "with open(\"manual-annotations/multilingual-genre-annotated-test-set.json\", \"w\") as file:\n",
    "\tjson.dump(main_dict, file)"
   ]
  },
  {
   "cell_type": "markdown",
   "metadata": {},
   "source": [
    "Add token counts information"
   ]
  },
  {
   "cell_type": "code",
   "execution_count": 23,
   "metadata": {},
   "outputs": [
    {
     "data": {
      "text/plain": [
       "dict_keys(['mt', 'el', 'tr', 'sq', 'is', 'uk', 'ca', 'mk', 'hr', 'sl'])"
      ]
     },
     "execution_count": 23,
     "metadata": {},
     "output_type": "execute_result"
    }
   ],
   "source": [
    "# Import the final dataset with test sets\n",
    "with open(\"manual-annotations/multilingual-genre-annotated-test-set.json\") as main_file:\n",
    "\tmain_dict = json.load(main_file)\n",
    "\n",
    "main_dict.keys()"
   ]
  },
  {
   "cell_type": "code",
   "execution_count": 48,
   "metadata": {},
   "outputs": [
    {
     "name": "stdout",
     "output_type": "stream",
     "text": [
      "|    |   tokens |   types |\n",
      "|:---|---------:|--------:|\n",
      "| mt |    39040 |    4787 |\n",
      "| el |    31240 |    4751 |\n",
      "| tr |    29578 |    6272 |\n",
      "| sq |    26769 |    4891 |\n",
      "| is |    29644 |    4615 |\n",
      "| uk |    31677 |    6507 |\n",
      "| ca |    27544 |    5314 |\n",
      "| mk |    27639 |    5468 |\n",
      "| hr |    26546 |    6222 |\n",
      "| sl |    26292 |    5763 |\n"
     ]
    }
   ],
   "source": [
    "token_number = {}\n",
    "type_number = {}\n",
    "\n",
    "for lang in list(main_dict.keys()):\n",
    "\t#print(f\"Creating token dict for {lang}\")\n",
    "\tcurrent_token_list = main_dict[lang][\"token_overlap\"][\"token_list\"]\n",
    "\n",
    "\t#print(f\"No of tokens: {len(current_token_list)}\")\n",
    "\n",
    "\t# Create a dictionary which counts the occurrences of the tokens\n",
    "\n",
    "\t#word_dict_test = Counter(current_token_list)\n",
    "\n",
    "\t# Sort the dictionary alphabetically based on keys\n",
    "\t#word_dict_test = dict(sorted(word_dict_test.items()))\n",
    "\n",
    "\t# Add information on no. of tokens and words to a dict\n",
    "\ttoken_number[lang] = len(current_token_list)\n",
    "\t#type_number[lang] = len(word_dict_test)\n",
    "\ttype_number[lang] = len(set(current_token_list))\n",
    "\n",
    "\t#print(list(word_dict_test.items())[:100])\n",
    "\t#print(f\"No of unique tokens: {len(word_dict_test)}\")\n",
    "\n",
    "\t# Add the count of tokens to the main dictionary\n",
    "\t#main_dict[lang][\"token_overlap\"][\"token_count\"] = word_dict_test\n",
    "\n",
    "# Create a dataframe for statistics\n",
    "token_df = pd.DataFrame({\"tokens\": token_number, \"types\": type_number})\n",
    "print(token_df.to_markdown())"
   ]
  },
  {
   "cell_type": "code",
   "execution_count": 59,
   "metadata": {},
   "outputs": [
    {
     "data": {
      "text/html": [
       "<div>\n",
       "<style scoped>\n",
       "    .dataframe tbody tr th:only-of-type {\n",
       "        vertical-align: middle;\n",
       "    }\n",
       "\n",
       "    .dataframe tbody tr th {\n",
       "        vertical-align: top;\n",
       "    }\n",
       "\n",
       "    .dataframe thead th {\n",
       "        text-align: right;\n",
       "    }\n",
       "</style>\n",
       "<table border=\"1\" class=\"dataframe\">\n",
       "  <thead>\n",
       "    <tr style=\"text-align: right;\">\n",
       "      <th></th>\n",
       "      <th>overlap_percentage</th>\n",
       "      <th>all_tokens</th>\n",
       "      <th>overlapping_tokens</th>\n",
       "      <th>all_types</th>\n",
       "      <th>overlapping_types</th>\n",
       "    </tr>\n",
       "  </thead>\n",
       "  <tbody>\n",
       "    <tr>\n",
       "      <th>mt</th>\n",
       "      <td>0.817085</td>\n",
       "      <td>39040</td>\n",
       "      <td>31899.0</td>\n",
       "      <td>4787</td>\n",
       "      <td>3586.0</td>\n",
       "    </tr>\n",
       "    <tr>\n",
       "      <th>el</th>\n",
       "      <td>0.161428</td>\n",
       "      <td>31240</td>\n",
       "      <td>5043.0</td>\n",
       "      <td>4751</td>\n",
       "      <td>822.0</td>\n",
       "    </tr>\n",
       "    <tr>\n",
       "      <th>tr</th>\n",
       "      <td>0.521502</td>\n",
       "      <td>29578</td>\n",
       "      <td>15425.0</td>\n",
       "      <td>6272</td>\n",
       "      <td>2451.0</td>\n",
       "    </tr>\n",
       "    <tr>\n",
       "      <th>sq</th>\n",
       "      <td>0.605775</td>\n",
       "      <td>26769</td>\n",
       "      <td>16216.0</td>\n",
       "      <td>4891</td>\n",
       "      <td>2748.0</td>\n",
       "    </tr>\n",
       "    <tr>\n",
       "      <th>is</th>\n",
       "      <td>0.517575</td>\n",
       "      <td>29644</td>\n",
       "      <td>15343.0</td>\n",
       "      <td>4615</td>\n",
       "      <td>2122.0</td>\n",
       "    </tr>\n",
       "    <tr>\n",
       "      <th>uk</th>\n",
       "      <td>0.156675</td>\n",
       "      <td>31677</td>\n",
       "      <td>4963.0</td>\n",
       "      <td>6507</td>\n",
       "      <td>411.0</td>\n",
       "    </tr>\n",
       "    <tr>\n",
       "      <th>ca</th>\n",
       "      <td>0.744881</td>\n",
       "      <td>27544</td>\n",
       "      <td>20517.0</td>\n",
       "      <td>5314</td>\n",
       "      <td>2896.0</td>\n",
       "    </tr>\n",
       "    <tr>\n",
       "      <th>mk</th>\n",
       "      <td>0.145989</td>\n",
       "      <td>27639</td>\n",
       "      <td>4035.0</td>\n",
       "      <td>5468</td>\n",
       "      <td>656.0</td>\n",
       "    </tr>\n",
       "    <tr>\n",
       "      <th>hr</th>\n",
       "      <td>0.821517</td>\n",
       "      <td>26546</td>\n",
       "      <td>21808.0</td>\n",
       "      <td>6222</td>\n",
       "      <td>4383.0</td>\n",
       "    </tr>\n",
       "    <tr>\n",
       "      <th>sl</th>\n",
       "      <td>0.974289</td>\n",
       "      <td>26292</td>\n",
       "      <td>25616.0</td>\n",
       "      <td>5763</td>\n",
       "      <td>5281.0</td>\n",
       "    </tr>\n",
       "  </tbody>\n",
       "</table>\n",
       "</div>"
      ],
      "text/plain": [
       "    overlap_percentage  all_tokens  overlapping_tokens  all_types  \\\n",
       "mt            0.817085       39040             31899.0       4787   \n",
       "el            0.161428       31240              5043.0       4751   \n",
       "tr            0.521502       29578             15425.0       6272   \n",
       "sq            0.605775       26769             16216.0       4891   \n",
       "is            0.517575       29644             15343.0       4615   \n",
       "uk            0.156675       31677              4963.0       6507   \n",
       "ca            0.744881       27544             20517.0       5314   \n",
       "mk            0.145989       27639              4035.0       5468   \n",
       "hr            0.821517       26546             21808.0       6222   \n",
       "sl            0.974289       26292             25616.0       5763   \n",
       "\n",
       "    overlapping_types  \n",
       "mt             3586.0  \n",
       "el              822.0  \n",
       "tr             2451.0  \n",
       "sq             2748.0  \n",
       "is             2122.0  \n",
       "uk              411.0  \n",
       "ca             2896.0  \n",
       "mk              656.0  \n",
       "hr             4383.0  \n",
       "sl             5281.0  "
      ]
     },
     "execution_count": 59,
     "metadata": {},
     "output_type": "execute_result"
    }
   ],
   "source": [
    "# Merge token_df and overlap_df\n",
    "merged = pd.concat([overlap_df, token_df], axis=1)\n",
    "merged\n",
    "\n",
    "# Reorder columns\n",
    "\n",
    "merged = merged[[\"percentage\", \"tokens\", \"overlap_list_size\", \"types\",\"overlap_set_size\"]]\n",
    "\n",
    "# Rename columns\n",
    "\n",
    "merged.columns = [\"overlap_percentage\", \"all_tokens\", \"overlapping_tokens\", \"all_types\", \"overlapping_types\"]\n",
    "\n",
    "merged"
   ]
  },
  {
   "cell_type": "code",
   "execution_count": 61,
   "metadata": {},
   "outputs": [
    {
     "name": "stdout",
     "output_type": "stream",
     "text": [
      "|    |   overlap_percentage |   all_tokens |   overlapping_tokens |   all_types |   overlapping_types |\n",
      "|:---|---------------------:|-------------:|---------------------:|------------:|--------------------:|\n",
      "| mt |             0.817085 |        39040 |                31899 |        4787 |                3586 |\n",
      "| el |             0.161428 |        31240 |                 5043 |        4751 |                 822 |\n",
      "| tr |             0.521502 |        29578 |                15425 |        6272 |                2451 |\n",
      "| sq |             0.605775 |        26769 |                16216 |        4891 |                2748 |\n",
      "| is |             0.517575 |        29644 |                15343 |        4615 |                2122 |\n",
      "| uk |             0.156675 |        31677 |                 4963 |        6507 |                 411 |\n",
      "| ca |             0.744881 |        27544 |                20517 |        5314 |                2896 |\n",
      "| mk |             0.145989 |        27639 |                 4035 |        5468 |                 656 |\n",
      "| hr |             0.821517 |        26546 |                21808 |        6222 |                4383 |\n",
      "| sl |             0.974289 |        26292 |                25616 |        5763 |                5281 |\n"
     ]
    }
   ],
   "source": [
    "print(merged.to_markdown())"
   ]
  },
  {
   "cell_type": "code",
   "execution_count": 35,
   "metadata": {},
   "outputs": [
    {
     "name": "stdout",
     "output_type": "stream",
     "text": [
      "|    | most_frequent_type                                                                                                                       |\n",
      "|:---|:-----------------------------------------------------------------------------------------------------------------------------------------|\n",
      "| ca | [(',', 1080), ('▁de', 1014), ('.', 675), ('s', 648), ('▁i', 564), ('▁la', 559), ('▁a', 529), ('▁que', 438), (\"'\", 360), ('’', 334)]      |\n",
      "| el | [('▁', 1017), ('.', 801), (',', 782), ('▁και', 553), ('ς', 525), ('▁να', 351), ('▁το', 321), ('▁του', 292), ('▁την', 268), ('▁με', 264)] |\n",
      "| hr | [(',', 878), ('.', 766), ('▁i', 546), ('▁u', 430), ('a', 413), ('▁je', 350), ('▁na', 282), ('▁za', 253), ('▁se', 239), ('e', 219)]       |\n",
      "| is | [('.', 1017), ('▁og', 628), ('▁að', 613), (',', 600), ('▁', 528), ('▁í', 434), ('▁á', 388), ('▁er', 357), ('s', 326), ('▁sem', 279)]     |\n",
      "| mk | [(',', 1021), ('▁на', 983), ('.', 738), ('▁и', 619), ('▁за', 475), ('▁да', 378), ('▁во', 376), ('▁се', 365), ('▁', 341), ('▁од', 324)]   |\n",
      "| mt | [('-', 2119), ('ħ', 1807), (',', 884), ('.', 724), ('▁', 717), ('ġ', 519), ('▁l', 504), ('i', 466), (\"'\", 462), ('a', 460)]              |\n",
      "| sl | [(',', 1154), ('.', 805), ('▁je', 455), ('▁in', 443), ('▁v', 373), ('▁na', 317), ('▁za', 296), ('a', 240), ('▁se', 227), ('▁da', 214)]   |\n",
      "| sq | [('▁të', 890), (',', 807), ('▁e', 749), ('.', 641), ('▁në', 420), ('▁dhe', 416), ('▁me', 367), ('▁i', 307), ('t', 268), ('▁për', 266)]   |\n",
      "| tr | [('.', 995), (',', 806), ('▁ve', 439), ('▁bir', 265), (\"'\", 244), ('n', 202), ('▁', 190), ('m', 158), ('i', 144), ('de', 143)]           |\n",
      "| uk | [(',', 1352), ('.', 1031), ('▁', 531), ('▁в', 391), ('▁на', 307), ('▁і', 295), ('▁з', 284), ('▁не', 246), ('у', 239), ('і', 237)]        |\n"
     ]
    }
   ],
   "source": [
    "# Let's see the most frequent tokens\n",
    "most_frequent = {}\n",
    "# Sort the dictionary by values (word counts) in descending order\n",
    "for lang in list(main_dict.keys()):\n",
    "\tmost_frequent[lang] = (sorted(main_dict[lang]['token_overlap']['token_count'].items(), key=lambda x: x[1], reverse=True)[:10])\n",
    "\n",
    "print(pd.DataFrame({\"most_frequent_type\": most_frequent}).to_markdown())"
   ]
  },
  {
   "cell_type": "code",
   "execution_count": 36,
   "metadata": {},
   "outputs": [],
   "source": [
    "# Save the main dict\n",
    "with open(\"manual-annotations/multilingual-genre-annotated-test-set.json\", \"w\") as file:\n",
    "\tjson.dump(main_dict, file)"
   ]
  },
  {
   "cell_type": "markdown",
   "metadata": {},
   "source": [
    "### Cosine similarity"
   ]
  },
  {
   "cell_type": "markdown",
   "metadata": {},
   "source": [
    "Create a dictionary with all tokens from the train set, iterate through the tokens of each test set and count how many times each ocurrs. Calculate cosine similarity.\n",
    "\n",
    "Do this on label level as well to see whether this explains good performance on some of the labels for Maltese."
   ]
  },
  {
   "cell_type": "markdown",
   "metadata": {},
   "source": [
    "Cosine similarity is a metric used to measure the similarity of two vectors. Specifically, it measures the similarity in the direction or orientation of the vectors ignoring differences in their magnitude or scale. Both vectors need to be part of the same inner product space, meaning they must produce a scalar through inner product multiplication. The similarity of two vectors is measured by the cosine of the angle between them. The similarity can take values between -1 and +1. Smaller angles between vectors produce larger cosine values, indicating greater cosine similarity. \n",
    "\n",
    "Cosine similarity ignores 0-0 matches. Counting 0-0 matches in sparse data would inflate similarity scores. Another commonly used metric that ignores 0-0 matches is Jaccard Similarity."
   ]
  },
  {
   "cell_type": "code",
   "execution_count": 2,
   "metadata": {},
   "outputs": [],
   "source": [
    "def cosine_similarity(x, y):\n",
    "    \n",
    "    # Ensure length of x and y are the same\n",
    "    if len(x) != len(y) :\n",
    "        return None\n",
    "    \n",
    "    # Compute the dot product between x and y\n",
    "    dot_product = np.dot(x, y)\n",
    "    \n",
    "    # Compute the L2 norms (magnitudes) of x and y\n",
    "    magnitude_x = np.sqrt(np.sum(x**2)) \n",
    "    magnitude_y = np.sqrt(np.sum(y**2))\n",
    "    \n",
    "    # Compute the cosine similarity\n",
    "    cosine_similarity = dot_product / (magnitude_x * magnitude_y)\n",
    "    \n",
    "    return cosine_similarity"
   ]
  },
  {
   "cell_type": "code",
   "execution_count": 3,
   "metadata": {},
   "outputs": [
    {
     "data": {
      "text/plain": [
       "[('!', 430), ('!!', 23), ('!!!', 14), ('!!!!', 6), ('!!!!!', 1)]"
      ]
     },
     "execution_count": 3,
     "metadata": {},
     "output_type": "execute_result"
    }
   ],
   "source": [
    "# Import train token count\n",
    "# Save the dictionary of tokens\n",
    "with open(\"datasets/tokenized_datasets/X-GENRE-train-token-count.json\", \"r\") as train_count_file:\n",
    "\ttrain_count = json.load(train_count_file)\n",
    "\n",
    "list(train_count.items())[:5]"
   ]
  },
  {
   "cell_type": "code",
   "execution_count": 4,
   "metadata": {},
   "outputs": [
    {
     "data": {
      "text/plain": [
       "[('!', 30),\n",
       " ('!!', 1),\n",
       " ('!\"', 1),\n",
       " ('!),', 1),\n",
       " ('\"', 11),\n",
       " ('\".', 2),\n",
       " ('\"...', 1),\n",
       " ('&', 8),\n",
       " (\"'\", 3),\n",
       " (\"''\", 1)]"
      ]
     },
     "execution_count": 4,
     "metadata": {},
     "output_type": "execute_result"
    }
   ],
   "source": [
    "# Import the main dict for test sets\n",
    "with open(\"manual-annotations/multilingual-genre-annotated-test-set.json\", \"r\") as file:\n",
    "\tmain_dict = json.load(file)\n",
    "\n",
    "list(main_dict[\"sl\"][\"token_overlap\"][\"token_count\"].items())[:10]"
   ]
  },
  {
   "cell_type": "code",
   "execution_count": 6,
   "metadata": {},
   "outputs": [
    {
     "name": "stdout",
     "output_type": "stream",
     "text": [
      "Processing mt\n",
      "Number of token types for mt: 4787\n"
     ]
    },
    {
     "data": {
      "text/html": [
       "<div>\n",
       "<style scoped>\n",
       "    .dataframe tbody tr th:only-of-type {\n",
       "        vertical-align: middle;\n",
       "    }\n",
       "\n",
       "    .dataframe tbody tr th {\n",
       "        vertical-align: top;\n",
       "    }\n",
       "\n",
       "    .dataframe thead th {\n",
       "        text-align: right;\n",
       "    }\n",
       "</style>\n",
       "<table border=\"1\" class=\"dataframe\">\n",
       "  <thead>\n",
       "    <tr style=\"text-align: right;\">\n",
       "      <th></th>\n",
       "      <th>train</th>\n",
       "      <th>test</th>\n",
       "    </tr>\n",
       "  </thead>\n",
       "  <tbody>\n",
       "    <tr>\n",
       "      <th>!</th>\n",
       "      <td>430</td>\n",
       "      <td>9</td>\n",
       "    </tr>\n",
       "    <tr>\n",
       "      <th>!!</th>\n",
       "      <td>23</td>\n",
       "      <td>0</td>\n",
       "    </tr>\n",
       "    <tr>\n",
       "      <th>!!!</th>\n",
       "      <td>14</td>\n",
       "      <td>0</td>\n",
       "    </tr>\n",
       "    <tr>\n",
       "      <th>!!!!</th>\n",
       "      <td>6</td>\n",
       "      <td>0</td>\n",
       "    </tr>\n",
       "    <tr>\n",
       "      <th>!!!!!</th>\n",
       "      <td>1</td>\n",
       "      <td>0</td>\n",
       "    </tr>\n",
       "    <tr>\n",
       "      <th>!!!!!!</th>\n",
       "      <td>1</td>\n",
       "      <td>0</td>\n",
       "    </tr>\n",
       "    <tr>\n",
       "      <th>!!!!!!!</th>\n",
       "      <td>1</td>\n",
       "      <td>0</td>\n",
       "    </tr>\n",
       "    <tr>\n",
       "      <th>!\"</th>\n",
       "      <td>14</td>\n",
       "      <td>0</td>\n",
       "    </tr>\n",
       "    <tr>\n",
       "      <th>!)</th>\n",
       "      <td>10</td>\n",
       "      <td>0</td>\n",
       "    </tr>\n",
       "    <tr>\n",
       "      <th>!),</th>\n",
       "      <td>1</td>\n",
       "      <td>0</td>\n",
       "    </tr>\n",
       "  </tbody>\n",
       "</table>\n",
       "</div>"
      ],
      "text/plain": [
       "         train  test\n",
       "!          430     9\n",
       "!!          23     0\n",
       "!!!         14     0\n",
       "!!!!         6     0\n",
       "!!!!!        1     0\n",
       "!!!!!!       1     0\n",
       "!!!!!!!      1     0\n",
       "!\"          14     0\n",
       "!)          10     0\n",
       "!),          1     0"
      ]
     },
     "metadata": {},
     "output_type": "display_data"
    },
    {
     "name": "stdout",
     "output_type": "stream",
     "text": [
      "Cosine similarity for mt: 0.49192396040790515\n",
      "Processing el\n",
      "Number of token types for el: 4751\n"
     ]
    },
    {
     "data": {
      "text/html": [
       "<div>\n",
       "<style scoped>\n",
       "    .dataframe tbody tr th:only-of-type {\n",
       "        vertical-align: middle;\n",
       "    }\n",
       "\n",
       "    .dataframe tbody tr th {\n",
       "        vertical-align: top;\n",
       "    }\n",
       "\n",
       "    .dataframe thead th {\n",
       "        text-align: right;\n",
       "    }\n",
       "</style>\n",
       "<table border=\"1\" class=\"dataframe\">\n",
       "  <thead>\n",
       "    <tr style=\"text-align: right;\">\n",
       "      <th></th>\n",
       "      <th>train</th>\n",
       "      <th>test</th>\n",
       "    </tr>\n",
       "  </thead>\n",
       "  <tbody>\n",
       "    <tr>\n",
       "      <th>!</th>\n",
       "      <td>430</td>\n",
       "      <td>23</td>\n",
       "    </tr>\n",
       "    <tr>\n",
       "      <th>!!</th>\n",
       "      <td>23</td>\n",
       "      <td>2</td>\n",
       "    </tr>\n",
       "    <tr>\n",
       "      <th>!!!</th>\n",
       "      <td>14</td>\n",
       "      <td>5</td>\n",
       "    </tr>\n",
       "    <tr>\n",
       "      <th>!!!!</th>\n",
       "      <td>6</td>\n",
       "      <td>0</td>\n",
       "    </tr>\n",
       "    <tr>\n",
       "      <th>!!!!!</th>\n",
       "      <td>1</td>\n",
       "      <td>0</td>\n",
       "    </tr>\n",
       "    <tr>\n",
       "      <th>!!!!!!</th>\n",
       "      <td>1</td>\n",
       "      <td>1</td>\n",
       "    </tr>\n",
       "    <tr>\n",
       "      <th>!!!!!!!</th>\n",
       "      <td>1</td>\n",
       "      <td>0</td>\n",
       "    </tr>\n",
       "    <tr>\n",
       "      <th>!\"</th>\n",
       "      <td>14</td>\n",
       "      <td>0</td>\n",
       "    </tr>\n",
       "    <tr>\n",
       "      <th>!)</th>\n",
       "      <td>10</td>\n",
       "      <td>0</td>\n",
       "    </tr>\n",
       "    <tr>\n",
       "      <th>!),</th>\n",
       "      <td>1</td>\n",
       "      <td>0</td>\n",
       "    </tr>\n",
       "  </tbody>\n",
       "</table>\n",
       "</div>"
      ],
      "text/plain": [
       "         train  test\n",
       "!          430    23\n",
       "!!          23     2\n",
       "!!!         14     5\n",
       "!!!!         6     0\n",
       "!!!!!        1     0\n",
       "!!!!!!       1     1\n",
       "!!!!!!!      1     0\n",
       "!\"          14     0\n",
       "!)          10     0\n",
       "!),          1     0"
      ]
     },
     "metadata": {},
     "output_type": "display_data"
    },
    {
     "name": "stdout",
     "output_type": "stream",
     "text": [
      "Cosine similarity for el: 0.7069651767644073\n",
      "Processing tr\n",
      "Number of token types for tr: 6272\n"
     ]
    },
    {
     "data": {
      "text/html": [
       "<div>\n",
       "<style scoped>\n",
       "    .dataframe tbody tr th:only-of-type {\n",
       "        vertical-align: middle;\n",
       "    }\n",
       "\n",
       "    .dataframe tbody tr th {\n",
       "        vertical-align: top;\n",
       "    }\n",
       "\n",
       "    .dataframe thead th {\n",
       "        text-align: right;\n",
       "    }\n",
       "</style>\n",
       "<table border=\"1\" class=\"dataframe\">\n",
       "  <thead>\n",
       "    <tr style=\"text-align: right;\">\n",
       "      <th></th>\n",
       "      <th>train</th>\n",
       "      <th>test</th>\n",
       "    </tr>\n",
       "  </thead>\n",
       "  <tbody>\n",
       "    <tr>\n",
       "      <th>!</th>\n",
       "      <td>430</td>\n",
       "      <td>21</td>\n",
       "    </tr>\n",
       "    <tr>\n",
       "      <th>!!</th>\n",
       "      <td>23</td>\n",
       "      <td>2</td>\n",
       "    </tr>\n",
       "    <tr>\n",
       "      <th>!!!</th>\n",
       "      <td>14</td>\n",
       "      <td>1</td>\n",
       "    </tr>\n",
       "    <tr>\n",
       "      <th>!!!!</th>\n",
       "      <td>6</td>\n",
       "      <td>0</td>\n",
       "    </tr>\n",
       "    <tr>\n",
       "      <th>!!!!!</th>\n",
       "      <td>1</td>\n",
       "      <td>0</td>\n",
       "    </tr>\n",
       "    <tr>\n",
       "      <th>!!!!!!</th>\n",
       "      <td>1</td>\n",
       "      <td>0</td>\n",
       "    </tr>\n",
       "    <tr>\n",
       "      <th>!!!!!!!</th>\n",
       "      <td>1</td>\n",
       "      <td>0</td>\n",
       "    </tr>\n",
       "    <tr>\n",
       "      <th>!\"</th>\n",
       "      <td>14</td>\n",
       "      <td>2</td>\n",
       "    </tr>\n",
       "    <tr>\n",
       "      <th>!)</th>\n",
       "      <td>10</td>\n",
       "      <td>0</td>\n",
       "    </tr>\n",
       "    <tr>\n",
       "      <th>!),</th>\n",
       "      <td>1</td>\n",
       "      <td>0</td>\n",
       "    </tr>\n",
       "  </tbody>\n",
       "</table>\n",
       "</div>"
      ],
      "text/plain": [
       "         train  test\n",
       "!          430    21\n",
       "!!          23     2\n",
       "!!!         14     1\n",
       "!!!!         6     0\n",
       "!!!!!        1     0\n",
       "!!!!!!       1     0\n",
       "!!!!!!!      1     0\n",
       "!\"          14     2\n",
       "!)          10     0\n",
       "!),          1     0"
      ]
     },
     "metadata": {},
     "output_type": "display_data"
    },
    {
     "name": "stdout",
     "output_type": "stream",
     "text": [
      "Cosine similarity for tr: 0.6152024824126724\n",
      "Processing sq\n",
      "Number of token types for sq: 4891\n"
     ]
    },
    {
     "data": {
      "text/html": [
       "<div>\n",
       "<style scoped>\n",
       "    .dataframe tbody tr th:only-of-type {\n",
       "        vertical-align: middle;\n",
       "    }\n",
       "\n",
       "    .dataframe tbody tr th {\n",
       "        vertical-align: top;\n",
       "    }\n",
       "\n",
       "    .dataframe thead th {\n",
       "        text-align: right;\n",
       "    }\n",
       "</style>\n",
       "<table border=\"1\" class=\"dataframe\">\n",
       "  <thead>\n",
       "    <tr style=\"text-align: right;\">\n",
       "      <th></th>\n",
       "      <th>train</th>\n",
       "      <th>test</th>\n",
       "    </tr>\n",
       "  </thead>\n",
       "  <tbody>\n",
       "    <tr>\n",
       "      <th>!</th>\n",
       "      <td>430</td>\n",
       "      <td>29</td>\n",
       "    </tr>\n",
       "    <tr>\n",
       "      <th>!!</th>\n",
       "      <td>23</td>\n",
       "      <td>3</td>\n",
       "    </tr>\n",
       "    <tr>\n",
       "      <th>!!!</th>\n",
       "      <td>14</td>\n",
       "      <td>4</td>\n",
       "    </tr>\n",
       "    <tr>\n",
       "      <th>!!!!</th>\n",
       "      <td>6</td>\n",
       "      <td>0</td>\n",
       "    </tr>\n",
       "    <tr>\n",
       "      <th>!!!!!</th>\n",
       "      <td>1</td>\n",
       "      <td>1</td>\n",
       "    </tr>\n",
       "    <tr>\n",
       "      <th>!!!!!!</th>\n",
       "      <td>1</td>\n",
       "      <td>0</td>\n",
       "    </tr>\n",
       "    <tr>\n",
       "      <th>!!!!!!!</th>\n",
       "      <td>1</td>\n",
       "      <td>0</td>\n",
       "    </tr>\n",
       "    <tr>\n",
       "      <th>!\"</th>\n",
       "      <td>14</td>\n",
       "      <td>0</td>\n",
       "    </tr>\n",
       "    <tr>\n",
       "      <th>!)</th>\n",
       "      <td>10</td>\n",
       "      <td>0</td>\n",
       "    </tr>\n",
       "    <tr>\n",
       "      <th>!),</th>\n",
       "      <td>1</td>\n",
       "      <td>0</td>\n",
       "    </tr>\n",
       "  </tbody>\n",
       "</table>\n",
       "</div>"
      ],
      "text/plain": [
       "         train  test\n",
       "!          430    29\n",
       "!!          23     3\n",
       "!!!         14     4\n",
       "!!!!         6     0\n",
       "!!!!!        1     1\n",
       "!!!!!!       1     0\n",
       "!!!!!!!      1     0\n",
       "!\"          14     0\n",
       "!)          10     0\n",
       "!),          1     0"
      ]
     },
     "metadata": {},
     "output_type": "display_data"
    },
    {
     "name": "stdout",
     "output_type": "stream",
     "text": [
      "Cosine similarity for sq: 0.5456891066673359\n",
      "Processing is\n",
      "Number of token types for is: 4615\n"
     ]
    },
    {
     "data": {
      "text/html": [
       "<div>\n",
       "<style scoped>\n",
       "    .dataframe tbody tr th:only-of-type {\n",
       "        vertical-align: middle;\n",
       "    }\n",
       "\n",
       "    .dataframe tbody tr th {\n",
       "        vertical-align: top;\n",
       "    }\n",
       "\n",
       "    .dataframe thead th {\n",
       "        text-align: right;\n",
       "    }\n",
       "</style>\n",
       "<table border=\"1\" class=\"dataframe\">\n",
       "  <thead>\n",
       "    <tr style=\"text-align: right;\">\n",
       "      <th></th>\n",
       "      <th>train</th>\n",
       "      <th>test</th>\n",
       "    </tr>\n",
       "  </thead>\n",
       "  <tbody>\n",
       "    <tr>\n",
       "      <th>!</th>\n",
       "      <td>430</td>\n",
       "      <td>15</td>\n",
       "    </tr>\n",
       "    <tr>\n",
       "      <th>!!</th>\n",
       "      <td>23</td>\n",
       "      <td>0</td>\n",
       "    </tr>\n",
       "    <tr>\n",
       "      <th>!!!</th>\n",
       "      <td>14</td>\n",
       "      <td>2</td>\n",
       "    </tr>\n",
       "    <tr>\n",
       "      <th>!!!!</th>\n",
       "      <td>6</td>\n",
       "      <td>1</td>\n",
       "    </tr>\n",
       "    <tr>\n",
       "      <th>!!!!!</th>\n",
       "      <td>1</td>\n",
       "      <td>0</td>\n",
       "    </tr>\n",
       "    <tr>\n",
       "      <th>!!!!!!</th>\n",
       "      <td>1</td>\n",
       "      <td>0</td>\n",
       "    </tr>\n",
       "    <tr>\n",
       "      <th>!!!!!!!</th>\n",
       "      <td>1</td>\n",
       "      <td>0</td>\n",
       "    </tr>\n",
       "    <tr>\n",
       "      <th>!\"</th>\n",
       "      <td>14</td>\n",
       "      <td>1</td>\n",
       "    </tr>\n",
       "    <tr>\n",
       "      <th>!)</th>\n",
       "      <td>10</td>\n",
       "      <td>0</td>\n",
       "    </tr>\n",
       "    <tr>\n",
       "      <th>!),</th>\n",
       "      <td>1</td>\n",
       "      <td>0</td>\n",
       "    </tr>\n",
       "  </tbody>\n",
       "</table>\n",
       "</div>"
      ],
      "text/plain": [
       "         train  test\n",
       "!          430    15\n",
       "!!          23     0\n",
       "!!!         14     2\n",
       "!!!!         6     1\n",
       "!!!!!        1     0\n",
       "!!!!!!       1     0\n",
       "!!!!!!!      1     0\n",
       "!\"          14     1\n",
       "!)          10     0\n",
       "!),          1     0"
      ]
     },
     "metadata": {},
     "output_type": "display_data"
    },
    {
     "name": "stdout",
     "output_type": "stream",
     "text": [
      "Cosine similarity for is: 0.6101806148315608\n",
      "Processing uk\n",
      "Number of token types for uk: 6507\n"
     ]
    },
    {
     "data": {
      "text/html": [
       "<div>\n",
       "<style scoped>\n",
       "    .dataframe tbody tr th:only-of-type {\n",
       "        vertical-align: middle;\n",
       "    }\n",
       "\n",
       "    .dataframe tbody tr th {\n",
       "        vertical-align: top;\n",
       "    }\n",
       "\n",
       "    .dataframe thead th {\n",
       "        text-align: right;\n",
       "    }\n",
       "</style>\n",
       "<table border=\"1\" class=\"dataframe\">\n",
       "  <thead>\n",
       "    <tr style=\"text-align: right;\">\n",
       "      <th></th>\n",
       "      <th>train</th>\n",
       "      <th>test</th>\n",
       "    </tr>\n",
       "  </thead>\n",
       "  <tbody>\n",
       "    <tr>\n",
       "      <th>!</th>\n",
       "      <td>430</td>\n",
       "      <td>41</td>\n",
       "    </tr>\n",
       "    <tr>\n",
       "      <th>!!</th>\n",
       "      <td>23</td>\n",
       "      <td>1</td>\n",
       "    </tr>\n",
       "    <tr>\n",
       "      <th>!!!</th>\n",
       "      <td>14</td>\n",
       "      <td>6</td>\n",
       "    </tr>\n",
       "    <tr>\n",
       "      <th>!!!!</th>\n",
       "      <td>6</td>\n",
       "      <td>0</td>\n",
       "    </tr>\n",
       "    <tr>\n",
       "      <th>!!!!!</th>\n",
       "      <td>1</td>\n",
       "      <td>0</td>\n",
       "    </tr>\n",
       "    <tr>\n",
       "      <th>!!!!!!</th>\n",
       "      <td>1</td>\n",
       "      <td>0</td>\n",
       "    </tr>\n",
       "    <tr>\n",
       "      <th>!!!!!!!</th>\n",
       "      <td>1</td>\n",
       "      <td>0</td>\n",
       "    </tr>\n",
       "    <tr>\n",
       "      <th>!\"</th>\n",
       "      <td>14</td>\n",
       "      <td>2</td>\n",
       "    </tr>\n",
       "    <tr>\n",
       "      <th>!)</th>\n",
       "      <td>10</td>\n",
       "      <td>0</td>\n",
       "    </tr>\n",
       "    <tr>\n",
       "      <th>!),</th>\n",
       "      <td>1</td>\n",
       "      <td>0</td>\n",
       "    </tr>\n",
       "  </tbody>\n",
       "</table>\n",
       "</div>"
      ],
      "text/plain": [
       "         train  test\n",
       "!          430    41\n",
       "!!          23     1\n",
       "!!!         14     6\n",
       "!!!!         6     0\n",
       "!!!!!        1     0\n",
       "!!!!!!       1     0\n",
       "!!!!!!!      1     0\n",
       "!\"          14     2\n",
       "!)          10     0\n",
       "!),          1     0"
      ]
     },
     "metadata": {},
     "output_type": "display_data"
    },
    {
     "name": "stdout",
     "output_type": "stream",
     "text": [
      "Cosine similarity for uk: 0.6908456237440821\n",
      "Processing ca\n",
      "Number of token types for ca: 5314\n"
     ]
    },
    {
     "data": {
      "text/html": [
       "<div>\n",
       "<style scoped>\n",
       "    .dataframe tbody tr th:only-of-type {\n",
       "        vertical-align: middle;\n",
       "    }\n",
       "\n",
       "    .dataframe tbody tr th {\n",
       "        vertical-align: top;\n",
       "    }\n",
       "\n",
       "    .dataframe thead th {\n",
       "        text-align: right;\n",
       "    }\n",
       "</style>\n",
       "<table border=\"1\" class=\"dataframe\">\n",
       "  <thead>\n",
       "    <tr style=\"text-align: right;\">\n",
       "      <th></th>\n",
       "      <th>train</th>\n",
       "      <th>test</th>\n",
       "    </tr>\n",
       "  </thead>\n",
       "  <tbody>\n",
       "    <tr>\n",
       "      <th>!</th>\n",
       "      <td>430</td>\n",
       "      <td>60</td>\n",
       "    </tr>\n",
       "    <tr>\n",
       "      <th>!!</th>\n",
       "      <td>23</td>\n",
       "      <td>7</td>\n",
       "    </tr>\n",
       "    <tr>\n",
       "      <th>!!!</th>\n",
       "      <td>14</td>\n",
       "      <td>8</td>\n",
       "    </tr>\n",
       "    <tr>\n",
       "      <th>!!!!</th>\n",
       "      <td>6</td>\n",
       "      <td>0</td>\n",
       "    </tr>\n",
       "    <tr>\n",
       "      <th>!!!!!</th>\n",
       "      <td>1</td>\n",
       "      <td>0</td>\n",
       "    </tr>\n",
       "    <tr>\n",
       "      <th>!!!!!!</th>\n",
       "      <td>1</td>\n",
       "      <td>1</td>\n",
       "    </tr>\n",
       "    <tr>\n",
       "      <th>!!!!!!!</th>\n",
       "      <td>1</td>\n",
       "      <td>1</td>\n",
       "    </tr>\n",
       "    <tr>\n",
       "      <th>!\"</th>\n",
       "      <td>14</td>\n",
       "      <td>0</td>\n",
       "    </tr>\n",
       "    <tr>\n",
       "      <th>!)</th>\n",
       "      <td>10</td>\n",
       "      <td>0</td>\n",
       "    </tr>\n",
       "    <tr>\n",
       "      <th>!),</th>\n",
       "      <td>1</td>\n",
       "      <td>1</td>\n",
       "    </tr>\n",
       "  </tbody>\n",
       "</table>\n",
       "</div>"
      ],
      "text/plain": [
       "         train  test\n",
       "!          430    60\n",
       "!!          23     7\n",
       "!!!         14     8\n",
       "!!!!         6     0\n",
       "!!!!!        1     0\n",
       "!!!!!!       1     1\n",
       "!!!!!!!      1     1\n",
       "!\"          14     0\n",
       "!)          10     0\n",
       "!),          1     1"
      ]
     },
     "metadata": {},
     "output_type": "display_data"
    },
    {
     "name": "stdout",
     "output_type": "stream",
     "text": [
      "Cosine similarity for ca: 0.5290309314823628\n",
      "Processing mk\n",
      "Number of token types for mk: 5468\n"
     ]
    },
    {
     "data": {
      "text/html": [
       "<div>\n",
       "<style scoped>\n",
       "    .dataframe tbody tr th:only-of-type {\n",
       "        vertical-align: middle;\n",
       "    }\n",
       "\n",
       "    .dataframe tbody tr th {\n",
       "        vertical-align: top;\n",
       "    }\n",
       "\n",
       "    .dataframe thead th {\n",
       "        text-align: right;\n",
       "    }\n",
       "</style>\n",
       "<table border=\"1\" class=\"dataframe\">\n",
       "  <thead>\n",
       "    <tr style=\"text-align: right;\">\n",
       "      <th></th>\n",
       "      <th>train</th>\n",
       "      <th>test</th>\n",
       "    </tr>\n",
       "  </thead>\n",
       "  <tbody>\n",
       "    <tr>\n",
       "      <th>!</th>\n",
       "      <td>430</td>\n",
       "      <td>22</td>\n",
       "    </tr>\n",
       "    <tr>\n",
       "      <th>!!</th>\n",
       "      <td>23</td>\n",
       "      <td>0</td>\n",
       "    </tr>\n",
       "    <tr>\n",
       "      <th>!!!</th>\n",
       "      <td>14</td>\n",
       "      <td>1</td>\n",
       "    </tr>\n",
       "    <tr>\n",
       "      <th>!!!!</th>\n",
       "      <td>6</td>\n",
       "      <td>0</td>\n",
       "    </tr>\n",
       "    <tr>\n",
       "      <th>!!!!!</th>\n",
       "      <td>1</td>\n",
       "      <td>0</td>\n",
       "    </tr>\n",
       "    <tr>\n",
       "      <th>!!!!!!</th>\n",
       "      <td>1</td>\n",
       "      <td>0</td>\n",
       "    </tr>\n",
       "    <tr>\n",
       "      <th>!!!!!!!</th>\n",
       "      <td>1</td>\n",
       "      <td>0</td>\n",
       "    </tr>\n",
       "    <tr>\n",
       "      <th>!\"</th>\n",
       "      <td>14</td>\n",
       "      <td>3</td>\n",
       "    </tr>\n",
       "    <tr>\n",
       "      <th>!)</th>\n",
       "      <td>10</td>\n",
       "      <td>0</td>\n",
       "    </tr>\n",
       "    <tr>\n",
       "      <th>!),</th>\n",
       "      <td>1</td>\n",
       "      <td>0</td>\n",
       "    </tr>\n",
       "  </tbody>\n",
       "</table>\n",
       "</div>"
      ],
      "text/plain": [
       "         train  test\n",
       "!          430    22\n",
       "!!          23     0\n",
       "!!!         14     1\n",
       "!!!!         6     0\n",
       "!!!!!        1     0\n",
       "!!!!!!       1     0\n",
       "!!!!!!!      1     0\n",
       "!\"          14     3\n",
       "!)          10     0\n",
       "!),          1     0"
      ]
     },
     "metadata": {},
     "output_type": "display_data"
    },
    {
     "name": "stdout",
     "output_type": "stream",
     "text": [
      "Cosine similarity for mk: 0.689022808410823\n",
      "Processing hr\n",
      "Number of token types for hr: 6222\n"
     ]
    },
    {
     "data": {
      "text/html": [
       "<div>\n",
       "<style scoped>\n",
       "    .dataframe tbody tr th:only-of-type {\n",
       "        vertical-align: middle;\n",
       "    }\n",
       "\n",
       "    .dataframe tbody tr th {\n",
       "        vertical-align: top;\n",
       "    }\n",
       "\n",
       "    .dataframe thead th {\n",
       "        text-align: right;\n",
       "    }\n",
       "</style>\n",
       "<table border=\"1\" class=\"dataframe\">\n",
       "  <thead>\n",
       "    <tr style=\"text-align: right;\">\n",
       "      <th></th>\n",
       "      <th>train</th>\n",
       "      <th>test</th>\n",
       "    </tr>\n",
       "  </thead>\n",
       "  <tbody>\n",
       "    <tr>\n",
       "      <th>!</th>\n",
       "      <td>430</td>\n",
       "      <td>33</td>\n",
       "    </tr>\n",
       "    <tr>\n",
       "      <th>!!</th>\n",
       "      <td>23</td>\n",
       "      <td>1</td>\n",
       "    </tr>\n",
       "    <tr>\n",
       "      <th>!!!</th>\n",
       "      <td>14</td>\n",
       "      <td>3</td>\n",
       "    </tr>\n",
       "    <tr>\n",
       "      <th>!!!!</th>\n",
       "      <td>6</td>\n",
       "      <td>0</td>\n",
       "    </tr>\n",
       "    <tr>\n",
       "      <th>!!!!!</th>\n",
       "      <td>1</td>\n",
       "      <td>0</td>\n",
       "    </tr>\n",
       "    <tr>\n",
       "      <th>!!!!!!</th>\n",
       "      <td>1</td>\n",
       "      <td>0</td>\n",
       "    </tr>\n",
       "    <tr>\n",
       "      <th>!!!!!!!</th>\n",
       "      <td>1</td>\n",
       "      <td>0</td>\n",
       "    </tr>\n",
       "    <tr>\n",
       "      <th>!\"</th>\n",
       "      <td>14</td>\n",
       "      <td>0</td>\n",
       "    </tr>\n",
       "    <tr>\n",
       "      <th>!)</th>\n",
       "      <td>10</td>\n",
       "      <td>0</td>\n",
       "    </tr>\n",
       "    <tr>\n",
       "      <th>!),</th>\n",
       "      <td>1</td>\n",
       "      <td>0</td>\n",
       "    </tr>\n",
       "  </tbody>\n",
       "</table>\n",
       "</div>"
      ],
      "text/plain": [
       "         train  test\n",
       "!          430    33\n",
       "!!          23     1\n",
       "!!!         14     3\n",
       "!!!!         6     0\n",
       "!!!!!        1     0\n",
       "!!!!!!       1     0\n",
       "!!!!!!!      1     0\n",
       "!\"          14     0\n",
       "!)          10     0\n",
       "!),          1     0"
      ]
     },
     "metadata": {},
     "output_type": "display_data"
    },
    {
     "name": "stdout",
     "output_type": "stream",
     "text": [
      "Cosine similarity for hr: 0.5699962229590452\n",
      "Processing sl\n",
      "Number of token types for sl: 5763\n"
     ]
    },
    {
     "data": {
      "text/html": [
       "<div>\n",
       "<style scoped>\n",
       "    .dataframe tbody tr th:only-of-type {\n",
       "        vertical-align: middle;\n",
       "    }\n",
       "\n",
       "    .dataframe tbody tr th {\n",
       "        vertical-align: top;\n",
       "    }\n",
       "\n",
       "    .dataframe thead th {\n",
       "        text-align: right;\n",
       "    }\n",
       "</style>\n",
       "<table border=\"1\" class=\"dataframe\">\n",
       "  <thead>\n",
       "    <tr style=\"text-align: right;\">\n",
       "      <th></th>\n",
       "      <th>train</th>\n",
       "      <th>test</th>\n",
       "    </tr>\n",
       "  </thead>\n",
       "  <tbody>\n",
       "    <tr>\n",
       "      <th>!</th>\n",
       "      <td>430</td>\n",
       "      <td>30</td>\n",
       "    </tr>\n",
       "    <tr>\n",
       "      <th>!!</th>\n",
       "      <td>23</td>\n",
       "      <td>1</td>\n",
       "    </tr>\n",
       "    <tr>\n",
       "      <th>!!!</th>\n",
       "      <td>14</td>\n",
       "      <td>0</td>\n",
       "    </tr>\n",
       "    <tr>\n",
       "      <th>!!!!</th>\n",
       "      <td>6</td>\n",
       "      <td>0</td>\n",
       "    </tr>\n",
       "    <tr>\n",
       "      <th>!!!!!</th>\n",
       "      <td>1</td>\n",
       "      <td>0</td>\n",
       "    </tr>\n",
       "    <tr>\n",
       "      <th>!!!!!!</th>\n",
       "      <td>1</td>\n",
       "      <td>0</td>\n",
       "    </tr>\n",
       "    <tr>\n",
       "      <th>!!!!!!!</th>\n",
       "      <td>1</td>\n",
       "      <td>0</td>\n",
       "    </tr>\n",
       "    <tr>\n",
       "      <th>!\"</th>\n",
       "      <td>14</td>\n",
       "      <td>1</td>\n",
       "    </tr>\n",
       "    <tr>\n",
       "      <th>!)</th>\n",
       "      <td>10</td>\n",
       "      <td>0</td>\n",
       "    </tr>\n",
       "    <tr>\n",
       "      <th>!),</th>\n",
       "      <td>1</td>\n",
       "      <td>1</td>\n",
       "    </tr>\n",
       "  </tbody>\n",
       "</table>\n",
       "</div>"
      ],
      "text/plain": [
       "         train  test\n",
       "!          430    30\n",
       "!!          23     1\n",
       "!!!         14     0\n",
       "!!!!         6     0\n",
       "!!!!!        1     0\n",
       "!!!!!!       1     0\n",
       "!!!!!!!      1     0\n",
       "!\"          14     1\n",
       "!)          10     0\n",
       "!),          1     1"
      ]
     },
     "metadata": {},
     "output_type": "display_data"
    },
    {
     "name": "stdout",
     "output_type": "stream",
     "text": [
      "Cosine similarity for sl: 0.6335818041038892\n"
     ]
    }
   ],
   "source": [
    "cosine_sim = {}\n",
    "vector_size = {}\n",
    "\n",
    "for lang in list(main_dict.keys()):\n",
    "\tprint(f\"Processing {lang}\")\n",
    "\t# Get token count for current lang\n",
    "\tcurrent_lang_count = main_dict[lang][\"token_overlap\"][\"token_count\"]\n",
    "\n",
    "\tprint(f\"Number of token types for {lang}: {len(list(current_lang_count.keys()))}\")\n",
    "\n",
    "\t# For each test set, create a vector of token counts. Take only tokens that are present in train_df.\n",
    "\n",
    "\t# First, create a list of tokens that are present in either one or the other list\n",
    "\tintersection_keys = list(train_count.keys())\n",
    "\n",
    "\t# Then create a dictionary for 1) train df and 2) test df with counts of token types that occur in train_df\n",
    "\ttrain_intersect_dict = train_count\n",
    "\ttest_intersect_dict = {}\n",
    "\n",
    "\tfor i in intersection_keys:\n",
    "\t\ttry:\n",
    "\t\t\ttest_intersect_dict[i] = current_lang_count[i]\n",
    "\t\texcept:\n",
    "\t\t\ttest_intersect_dict[i] = 0\n",
    "\n",
    "\n",
    "\t# Create a df with intersecting keys\n",
    "\tintersect_df = pd.DataFrame({\"train\": train_intersect_dict, \"test\": test_intersect_dict})\n",
    "\n",
    "\tdisplay(intersect_df.head(10))\n",
    "\n",
    "\t# Calculate cosine similarity\n",
    "\tcurrent_cosine_sim = cosine_similarity(np.array(intersect_df[\"train\"].to_list()), np.array(intersect_df[\"test\"].to_list()))\n",
    "\n",
    "\tprint(f\"Cosine similarity for {lang}: {current_cosine_sim}\")\n",
    "\n",
    "\t# Add to the main dictionary\n",
    "\tmain_dict[lang][\"token_overlap\"][\"cosine_similarity\"] = current_cosine_sim\n",
    "\tmain_dict[lang][\"token_overlap\"][\"intersection_df\"] = intersect_df.to_dict()\n",
    "\tmain_dict[lang][\"token_overlap\"][\"intersection_vector_size\"] = len(intersection_keys)\n",
    "\n",
    "\t# Add to a dict of results\n",
    "\tcosine_sim[lang] = current_cosine_sim\n",
    "\tvector_size[lang] = len(intersection_keys)"
   ]
  },
  {
   "cell_type": "code",
   "execution_count": 34,
   "metadata": {},
   "outputs": [
    {
     "data": {
      "text/plain": [
       "[('AA', 10), ('AAN', 1), ('AAR', 1), ('AB', 1)]"
      ]
     },
     "execution_count": 34,
     "metadata": {},
     "output_type": "execute_result"
    }
   ],
   "source": [
    "# Create a list of tokens in train_df with only tokens that have at least one letter character - so, we remove tokens that consist only of punctuation or numbers\n",
    "train_count_lexical_list = [item for item in list(train_count.keys()) if any(char.isalpha() for char in item)]\n",
    "\n",
    "# Additionally, we keep only tokens that are longer than 1 character\n",
    "\n",
    "train_count_lexical = {x:train_count[x] for x in train_count_lexical_list if len(x.replace(\"▁\", \"\")) > 1}\n",
    "\n",
    "\n",
    "\n",
    "list(train_count_lexical.items())[:4]"
   ]
  },
  {
   "cell_type": "code",
   "execution_count": 35,
   "metadata": {},
   "outputs": [
    {
     "data": {
      "text/plain": [
       "25225"
      ]
     },
     "execution_count": 35,
     "metadata": {},
     "output_type": "execute_result"
    }
   ],
   "source": [
    "len(list(train_count_lexical.keys()))"
   ]
  },
  {
   "cell_type": "code",
   "execution_count": 36,
   "metadata": {},
   "outputs": [
    {
     "name": "stdout",
     "output_type": "stream",
     "text": [
      "Processing mt\n",
      "Number of token types for mt: 4787\n"
     ]
    },
    {
     "data": {
      "text/html": [
       "<div>\n",
       "<style scoped>\n",
       "    .dataframe tbody tr th:only-of-type {\n",
       "        vertical-align: middle;\n",
       "    }\n",
       "\n",
       "    .dataframe tbody tr th {\n",
       "        vertical-align: top;\n",
       "    }\n",
       "\n",
       "    .dataframe thead th {\n",
       "        text-align: right;\n",
       "    }\n",
       "</style>\n",
       "<table border=\"1\" class=\"dataframe\">\n",
       "  <thead>\n",
       "    <tr style=\"text-align: right;\">\n",
       "      <th></th>\n",
       "      <th>train</th>\n",
       "      <th>test</th>\n",
       "    </tr>\n",
       "  </thead>\n",
       "  <tbody>\n",
       "    <tr>\n",
       "      <th>AA</th>\n",
       "      <td>10</td>\n",
       "      <td>0</td>\n",
       "    </tr>\n",
       "    <tr>\n",
       "      <th>AAN</th>\n",
       "      <td>1</td>\n",
       "      <td>0</td>\n",
       "    </tr>\n",
       "    <tr>\n",
       "      <th>AAR</th>\n",
       "      <td>1</td>\n",
       "      <td>0</td>\n",
       "    </tr>\n",
       "    <tr>\n",
       "      <th>AB</th>\n",
       "      <td>1</td>\n",
       "      <td>1</td>\n",
       "    </tr>\n",
       "    <tr>\n",
       "      <th>ABILI</th>\n",
       "      <td>1</td>\n",
       "      <td>0</td>\n",
       "    </tr>\n",
       "    <tr>\n",
       "      <th>ABLE</th>\n",
       "      <td>6</td>\n",
       "      <td>0</td>\n",
       "    </tr>\n",
       "    <tr>\n",
       "      <th>AC</th>\n",
       "      <td>3</td>\n",
       "      <td>0</td>\n",
       "    </tr>\n",
       "    <tr>\n",
       "      <th>ACE</th>\n",
       "      <td>8</td>\n",
       "      <td>0</td>\n",
       "    </tr>\n",
       "    <tr>\n",
       "      <th>ACH</th>\n",
       "      <td>3</td>\n",
       "      <td>0</td>\n",
       "    </tr>\n",
       "    <tr>\n",
       "      <th>ACI</th>\n",
       "      <td>2</td>\n",
       "      <td>0</td>\n",
       "    </tr>\n",
       "  </tbody>\n",
       "</table>\n",
       "</div>"
      ],
      "text/plain": [
       "       train  test\n",
       "AA        10     0\n",
       "AAN        1     0\n",
       "AAR        1     0\n",
       "AB         1     1\n",
       "ABILI      1     0\n",
       "ABLE       6     0\n",
       "AC         3     0\n",
       "ACE        8     0\n",
       "ACH        3     0\n",
       "ACI        2     0"
      ]
     },
     "metadata": {},
     "output_type": "display_data"
    },
    {
     "name": "stdout",
     "output_type": "stream",
     "text": [
      "Cosine similarity for mt: 0.2842150848173066\n",
      "Processing el\n",
      "Number of token types for el: 4751\n"
     ]
    },
    {
     "data": {
      "text/html": [
       "<div>\n",
       "<style scoped>\n",
       "    .dataframe tbody tr th:only-of-type {\n",
       "        vertical-align: middle;\n",
       "    }\n",
       "\n",
       "    .dataframe tbody tr th {\n",
       "        vertical-align: top;\n",
       "    }\n",
       "\n",
       "    .dataframe thead th {\n",
       "        text-align: right;\n",
       "    }\n",
       "</style>\n",
       "<table border=\"1\" class=\"dataframe\">\n",
       "  <thead>\n",
       "    <tr style=\"text-align: right;\">\n",
       "      <th></th>\n",
       "      <th>train</th>\n",
       "      <th>test</th>\n",
       "    </tr>\n",
       "  </thead>\n",
       "  <tbody>\n",
       "    <tr>\n",
       "      <th>AA</th>\n",
       "      <td>10</td>\n",
       "      <td>0</td>\n",
       "    </tr>\n",
       "    <tr>\n",
       "      <th>AAN</th>\n",
       "      <td>1</td>\n",
       "      <td>0</td>\n",
       "    </tr>\n",
       "    <tr>\n",
       "      <th>AAR</th>\n",
       "      <td>1</td>\n",
       "      <td>0</td>\n",
       "    </tr>\n",
       "    <tr>\n",
       "      <th>AB</th>\n",
       "      <td>1</td>\n",
       "      <td>0</td>\n",
       "    </tr>\n",
       "    <tr>\n",
       "      <th>ABILI</th>\n",
       "      <td>1</td>\n",
       "      <td>0</td>\n",
       "    </tr>\n",
       "    <tr>\n",
       "      <th>ABLE</th>\n",
       "      <td>6</td>\n",
       "      <td>0</td>\n",
       "    </tr>\n",
       "    <tr>\n",
       "      <th>AC</th>\n",
       "      <td>3</td>\n",
       "      <td>0</td>\n",
       "    </tr>\n",
       "    <tr>\n",
       "      <th>ACE</th>\n",
       "      <td>8</td>\n",
       "      <td>0</td>\n",
       "    </tr>\n",
       "    <tr>\n",
       "      <th>ACH</th>\n",
       "      <td>3</td>\n",
       "      <td>0</td>\n",
       "    </tr>\n",
       "    <tr>\n",
       "      <th>ACI</th>\n",
       "      <td>2</td>\n",
       "      <td>0</td>\n",
       "    </tr>\n",
       "  </tbody>\n",
       "</table>\n",
       "</div>"
      ],
      "text/plain": [
       "       train  test\n",
       "AA        10     0\n",
       "AAN        1     0\n",
       "AAR        1     0\n",
       "AB         1     0\n",
       "ABILI      1     0\n",
       "ABLE       6     0\n",
       "AC         3     0\n",
       "ACE        8     0\n",
       "ACH        3     0\n",
       "ACI        2     0"
      ]
     },
     "metadata": {},
     "output_type": "display_data"
    },
    {
     "name": "stdout",
     "output_type": "stream",
     "text": [
      "Cosine similarity for el: 0.12768966885809033\n",
      "Processing tr\n",
      "Number of token types for tr: 6272\n"
     ]
    },
    {
     "data": {
      "text/html": [
       "<div>\n",
       "<style scoped>\n",
       "    .dataframe tbody tr th:only-of-type {\n",
       "        vertical-align: middle;\n",
       "    }\n",
       "\n",
       "    .dataframe tbody tr th {\n",
       "        vertical-align: top;\n",
       "    }\n",
       "\n",
       "    .dataframe thead th {\n",
       "        text-align: right;\n",
       "    }\n",
       "</style>\n",
       "<table border=\"1\" class=\"dataframe\">\n",
       "  <thead>\n",
       "    <tr style=\"text-align: right;\">\n",
       "      <th></th>\n",
       "      <th>train</th>\n",
       "      <th>test</th>\n",
       "    </tr>\n",
       "  </thead>\n",
       "  <tbody>\n",
       "    <tr>\n",
       "      <th>AA</th>\n",
       "      <td>10</td>\n",
       "      <td>0</td>\n",
       "    </tr>\n",
       "    <tr>\n",
       "      <th>AAN</th>\n",
       "      <td>1</td>\n",
       "      <td>0</td>\n",
       "    </tr>\n",
       "    <tr>\n",
       "      <th>AAR</th>\n",
       "      <td>1</td>\n",
       "      <td>0</td>\n",
       "    </tr>\n",
       "    <tr>\n",
       "      <th>AB</th>\n",
       "      <td>1</td>\n",
       "      <td>1</td>\n",
       "    </tr>\n",
       "    <tr>\n",
       "      <th>ABILI</th>\n",
       "      <td>1</td>\n",
       "      <td>0</td>\n",
       "    </tr>\n",
       "    <tr>\n",
       "      <th>ABLE</th>\n",
       "      <td>6</td>\n",
       "      <td>0</td>\n",
       "    </tr>\n",
       "    <tr>\n",
       "      <th>AC</th>\n",
       "      <td>3</td>\n",
       "      <td>0</td>\n",
       "    </tr>\n",
       "    <tr>\n",
       "      <th>ACE</th>\n",
       "      <td>8</td>\n",
       "      <td>0</td>\n",
       "    </tr>\n",
       "    <tr>\n",
       "      <th>ACH</th>\n",
       "      <td>3</td>\n",
       "      <td>0</td>\n",
       "    </tr>\n",
       "    <tr>\n",
       "      <th>ACI</th>\n",
       "      <td>2</td>\n",
       "      <td>0</td>\n",
       "    </tr>\n",
       "  </tbody>\n",
       "</table>\n",
       "</div>"
      ],
      "text/plain": [
       "       train  test\n",
       "AA        10     0\n",
       "AAN        1     0\n",
       "AAR        1     0\n",
       "AB         1     1\n",
       "ABILI      1     0\n",
       "ABLE       6     0\n",
       "AC         3     0\n",
       "ACE        8     0\n",
       "ACH        3     0\n",
       "ACI        2     0"
      ]
     },
     "metadata": {},
     "output_type": "display_data"
    },
    {
     "name": "stdout",
     "output_type": "stream",
     "text": [
      "Cosine similarity for tr: 0.07260964319933215\n",
      "Processing sq\n",
      "Number of token types for sq: 4891\n"
     ]
    },
    {
     "data": {
      "text/html": [
       "<div>\n",
       "<style scoped>\n",
       "    .dataframe tbody tr th:only-of-type {\n",
       "        vertical-align: middle;\n",
       "    }\n",
       "\n",
       "    .dataframe tbody tr th {\n",
       "        vertical-align: top;\n",
       "    }\n",
       "\n",
       "    .dataframe thead th {\n",
       "        text-align: right;\n",
       "    }\n",
       "</style>\n",
       "<table border=\"1\" class=\"dataframe\">\n",
       "  <thead>\n",
       "    <tr style=\"text-align: right;\">\n",
       "      <th></th>\n",
       "      <th>train</th>\n",
       "      <th>test</th>\n",
       "    </tr>\n",
       "  </thead>\n",
       "  <tbody>\n",
       "    <tr>\n",
       "      <th>AA</th>\n",
       "      <td>10</td>\n",
       "      <td>0</td>\n",
       "    </tr>\n",
       "    <tr>\n",
       "      <th>AAN</th>\n",
       "      <td>1</td>\n",
       "      <td>0</td>\n",
       "    </tr>\n",
       "    <tr>\n",
       "      <th>AAR</th>\n",
       "      <td>1</td>\n",
       "      <td>0</td>\n",
       "    </tr>\n",
       "    <tr>\n",
       "      <th>AB</th>\n",
       "      <td>1</td>\n",
       "      <td>0</td>\n",
       "    </tr>\n",
       "    <tr>\n",
       "      <th>ABILI</th>\n",
       "      <td>1</td>\n",
       "      <td>0</td>\n",
       "    </tr>\n",
       "    <tr>\n",
       "      <th>ABLE</th>\n",
       "      <td>6</td>\n",
       "      <td>0</td>\n",
       "    </tr>\n",
       "    <tr>\n",
       "      <th>AC</th>\n",
       "      <td>3</td>\n",
       "      <td>0</td>\n",
       "    </tr>\n",
       "    <tr>\n",
       "      <th>ACE</th>\n",
       "      <td>8</td>\n",
       "      <td>1</td>\n",
       "    </tr>\n",
       "    <tr>\n",
       "      <th>ACH</th>\n",
       "      <td>3</td>\n",
       "      <td>0</td>\n",
       "    </tr>\n",
       "    <tr>\n",
       "      <th>ACI</th>\n",
       "      <td>2</td>\n",
       "      <td>0</td>\n",
       "    </tr>\n",
       "  </tbody>\n",
       "</table>\n",
       "</div>"
      ],
      "text/plain": [
       "       train  test\n",
       "AA        10     0\n",
       "AAN        1     0\n",
       "AAR        1     0\n",
       "AB         1     0\n",
       "ABILI      1     0\n",
       "ABLE       6     0\n",
       "AC         3     0\n",
       "ACE        8     1\n",
       "ACH        3     0\n",
       "ACI        2     0"
      ]
     },
     "metadata": {},
     "output_type": "display_data"
    },
    {
     "name": "stdout",
     "output_type": "stream",
     "text": [
      "Cosine similarity for sq: 0.13639871257526284\n",
      "Processing is\n",
      "Number of token types for is: 4615\n"
     ]
    },
    {
     "data": {
      "text/html": [
       "<div>\n",
       "<style scoped>\n",
       "    .dataframe tbody tr th:only-of-type {\n",
       "        vertical-align: middle;\n",
       "    }\n",
       "\n",
       "    .dataframe tbody tr th {\n",
       "        vertical-align: top;\n",
       "    }\n",
       "\n",
       "    .dataframe thead th {\n",
       "        text-align: right;\n",
       "    }\n",
       "</style>\n",
       "<table border=\"1\" class=\"dataframe\">\n",
       "  <thead>\n",
       "    <tr style=\"text-align: right;\">\n",
       "      <th></th>\n",
       "      <th>train</th>\n",
       "      <th>test</th>\n",
       "    </tr>\n",
       "  </thead>\n",
       "  <tbody>\n",
       "    <tr>\n",
       "      <th>AA</th>\n",
       "      <td>10</td>\n",
       "      <td>0</td>\n",
       "    </tr>\n",
       "    <tr>\n",
       "      <th>AAN</th>\n",
       "      <td>1</td>\n",
       "      <td>0</td>\n",
       "    </tr>\n",
       "    <tr>\n",
       "      <th>AAR</th>\n",
       "      <td>1</td>\n",
       "      <td>0</td>\n",
       "    </tr>\n",
       "    <tr>\n",
       "      <th>AB</th>\n",
       "      <td>1</td>\n",
       "      <td>1</td>\n",
       "    </tr>\n",
       "    <tr>\n",
       "      <th>ABILI</th>\n",
       "      <td>1</td>\n",
       "      <td>0</td>\n",
       "    </tr>\n",
       "    <tr>\n",
       "      <th>ABLE</th>\n",
       "      <td>6</td>\n",
       "      <td>0</td>\n",
       "    </tr>\n",
       "    <tr>\n",
       "      <th>AC</th>\n",
       "      <td>3</td>\n",
       "      <td>0</td>\n",
       "    </tr>\n",
       "    <tr>\n",
       "      <th>ACE</th>\n",
       "      <td>8</td>\n",
       "      <td>0</td>\n",
       "    </tr>\n",
       "    <tr>\n",
       "      <th>ACH</th>\n",
       "      <td>3</td>\n",
       "      <td>0</td>\n",
       "    </tr>\n",
       "    <tr>\n",
       "      <th>ACI</th>\n",
       "      <td>2</td>\n",
       "      <td>0</td>\n",
       "    </tr>\n",
       "  </tbody>\n",
       "</table>\n",
       "</div>"
      ],
      "text/plain": [
       "       train  test\n",
       "AA        10     0\n",
       "AAN        1     0\n",
       "AAR        1     0\n",
       "AB         1     1\n",
       "ABILI      1     0\n",
       "ABLE       6     0\n",
       "AC         3     0\n",
       "ACE        8     0\n",
       "ACH        3     0\n",
       "ACI        2     0"
      ]
     },
     "metadata": {},
     "output_type": "display_data"
    },
    {
     "name": "stdout",
     "output_type": "stream",
     "text": [
      "Cosine similarity for is: 0.06621617873023707\n",
      "Processing uk\n",
      "Number of token types for uk: 6507\n"
     ]
    },
    {
     "data": {
      "text/html": [
       "<div>\n",
       "<style scoped>\n",
       "    .dataframe tbody tr th:only-of-type {\n",
       "        vertical-align: middle;\n",
       "    }\n",
       "\n",
       "    .dataframe tbody tr th {\n",
       "        vertical-align: top;\n",
       "    }\n",
       "\n",
       "    .dataframe thead th {\n",
       "        text-align: right;\n",
       "    }\n",
       "</style>\n",
       "<table border=\"1\" class=\"dataframe\">\n",
       "  <thead>\n",
       "    <tr style=\"text-align: right;\">\n",
       "      <th></th>\n",
       "      <th>train</th>\n",
       "      <th>test</th>\n",
       "    </tr>\n",
       "  </thead>\n",
       "  <tbody>\n",
       "    <tr>\n",
       "      <th>AA</th>\n",
       "      <td>10</td>\n",
       "      <td>3</td>\n",
       "    </tr>\n",
       "    <tr>\n",
       "      <th>AAN</th>\n",
       "      <td>1</td>\n",
       "      <td>0</td>\n",
       "    </tr>\n",
       "    <tr>\n",
       "      <th>AAR</th>\n",
       "      <td>1</td>\n",
       "      <td>0</td>\n",
       "    </tr>\n",
       "    <tr>\n",
       "      <th>AB</th>\n",
       "      <td>1</td>\n",
       "      <td>0</td>\n",
       "    </tr>\n",
       "    <tr>\n",
       "      <th>ABILI</th>\n",
       "      <td>1</td>\n",
       "      <td>0</td>\n",
       "    </tr>\n",
       "    <tr>\n",
       "      <th>ABLE</th>\n",
       "      <td>6</td>\n",
       "      <td>0</td>\n",
       "    </tr>\n",
       "    <tr>\n",
       "      <th>AC</th>\n",
       "      <td>3</td>\n",
       "      <td>0</td>\n",
       "    </tr>\n",
       "    <tr>\n",
       "      <th>ACE</th>\n",
       "      <td>8</td>\n",
       "      <td>0</td>\n",
       "    </tr>\n",
       "    <tr>\n",
       "      <th>ACH</th>\n",
       "      <td>3</td>\n",
       "      <td>0</td>\n",
       "    </tr>\n",
       "    <tr>\n",
       "      <th>ACI</th>\n",
       "      <td>2</td>\n",
       "      <td>0</td>\n",
       "    </tr>\n",
       "  </tbody>\n",
       "</table>\n",
       "</div>"
      ],
      "text/plain": [
       "       train  test\n",
       "AA        10     3\n",
       "AAN        1     0\n",
       "AAR        1     0\n",
       "AB         1     0\n",
       "ABILI      1     0\n",
       "ABLE       6     0\n",
       "AC         3     0\n",
       "ACE        8     0\n",
       "ACH        3     0\n",
       "ACI        2     0"
      ]
     },
     "metadata": {},
     "output_type": "display_data"
    },
    {
     "name": "stdout",
     "output_type": "stream",
     "text": [
      "Cosine similarity for uk: 0.011605931691160141\n",
      "Processing ca\n",
      "Number of token types for ca: 5314\n"
     ]
    },
    {
     "data": {
      "text/html": [
       "<div>\n",
       "<style scoped>\n",
       "    .dataframe tbody tr th:only-of-type {\n",
       "        vertical-align: middle;\n",
       "    }\n",
       "\n",
       "    .dataframe tbody tr th {\n",
       "        vertical-align: top;\n",
       "    }\n",
       "\n",
       "    .dataframe thead th {\n",
       "        text-align: right;\n",
       "    }\n",
       "</style>\n",
       "<table border=\"1\" class=\"dataframe\">\n",
       "  <thead>\n",
       "    <tr style=\"text-align: right;\">\n",
       "      <th></th>\n",
       "      <th>train</th>\n",
       "      <th>test</th>\n",
       "    </tr>\n",
       "  </thead>\n",
       "  <tbody>\n",
       "    <tr>\n",
       "      <th>AA</th>\n",
       "      <td>10</td>\n",
       "      <td>0</td>\n",
       "    </tr>\n",
       "    <tr>\n",
       "      <th>AAN</th>\n",
       "      <td>1</td>\n",
       "      <td>0</td>\n",
       "    </tr>\n",
       "    <tr>\n",
       "      <th>AAR</th>\n",
       "      <td>1</td>\n",
       "      <td>0</td>\n",
       "    </tr>\n",
       "    <tr>\n",
       "      <th>AB</th>\n",
       "      <td>1</td>\n",
       "      <td>3</td>\n",
       "    </tr>\n",
       "    <tr>\n",
       "      <th>ABILI</th>\n",
       "      <td>1</td>\n",
       "      <td>0</td>\n",
       "    </tr>\n",
       "    <tr>\n",
       "      <th>ABLE</th>\n",
       "      <td>6</td>\n",
       "      <td>0</td>\n",
       "    </tr>\n",
       "    <tr>\n",
       "      <th>AC</th>\n",
       "      <td>3</td>\n",
       "      <td>0</td>\n",
       "    </tr>\n",
       "    <tr>\n",
       "      <th>ACE</th>\n",
       "      <td>8</td>\n",
       "      <td>0</td>\n",
       "    </tr>\n",
       "    <tr>\n",
       "      <th>ACH</th>\n",
       "      <td>3</td>\n",
       "      <td>0</td>\n",
       "    </tr>\n",
       "    <tr>\n",
       "      <th>ACI</th>\n",
       "      <td>2</td>\n",
       "      <td>1</td>\n",
       "    </tr>\n",
       "  </tbody>\n",
       "</table>\n",
       "</div>"
      ],
      "text/plain": [
       "       train  test\n",
       "AA        10     0\n",
       "AAN        1     0\n",
       "AAR        1     0\n",
       "AB         1     3\n",
       "ABILI      1     0\n",
       "ABLE       6     0\n",
       "AC         3     0\n",
       "ACE        8     0\n",
       "ACH        3     0\n",
       "ACI        2     1"
      ]
     },
     "metadata": {},
     "output_type": "display_data"
    },
    {
     "name": "stdout",
     "output_type": "stream",
     "text": [
      "Cosine similarity for ca: 0.04938153951776159\n",
      "Processing mk\n",
      "Number of token types for mk: 5468\n"
     ]
    },
    {
     "data": {
      "text/html": [
       "<div>\n",
       "<style scoped>\n",
       "    .dataframe tbody tr th:only-of-type {\n",
       "        vertical-align: middle;\n",
       "    }\n",
       "\n",
       "    .dataframe tbody tr th {\n",
       "        vertical-align: top;\n",
       "    }\n",
       "\n",
       "    .dataframe thead th {\n",
       "        text-align: right;\n",
       "    }\n",
       "</style>\n",
       "<table border=\"1\" class=\"dataframe\">\n",
       "  <thead>\n",
       "    <tr style=\"text-align: right;\">\n",
       "      <th></th>\n",
       "      <th>train</th>\n",
       "      <th>test</th>\n",
       "    </tr>\n",
       "  </thead>\n",
       "  <tbody>\n",
       "    <tr>\n",
       "      <th>AA</th>\n",
       "      <td>10</td>\n",
       "      <td>0</td>\n",
       "    </tr>\n",
       "    <tr>\n",
       "      <th>AAN</th>\n",
       "      <td>1</td>\n",
       "      <td>0</td>\n",
       "    </tr>\n",
       "    <tr>\n",
       "      <th>AAR</th>\n",
       "      <td>1</td>\n",
       "      <td>0</td>\n",
       "    </tr>\n",
       "    <tr>\n",
       "      <th>AB</th>\n",
       "      <td>1</td>\n",
       "      <td>0</td>\n",
       "    </tr>\n",
       "    <tr>\n",
       "      <th>ABILI</th>\n",
       "      <td>1</td>\n",
       "      <td>0</td>\n",
       "    </tr>\n",
       "    <tr>\n",
       "      <th>ABLE</th>\n",
       "      <td>6</td>\n",
       "      <td>0</td>\n",
       "    </tr>\n",
       "    <tr>\n",
       "      <th>AC</th>\n",
       "      <td>3</td>\n",
       "      <td>0</td>\n",
       "    </tr>\n",
       "    <tr>\n",
       "      <th>ACE</th>\n",
       "      <td>8</td>\n",
       "      <td>0</td>\n",
       "    </tr>\n",
       "    <tr>\n",
       "      <th>ACH</th>\n",
       "      <td>3</td>\n",
       "      <td>0</td>\n",
       "    </tr>\n",
       "    <tr>\n",
       "      <th>ACI</th>\n",
       "      <td>2</td>\n",
       "      <td>0</td>\n",
       "    </tr>\n",
       "  </tbody>\n",
       "</table>\n",
       "</div>"
      ],
      "text/plain": [
       "       train  test\n",
       "AA        10     0\n",
       "AAN        1     0\n",
       "AAR        1     0\n",
       "AB         1     0\n",
       "ABILI      1     0\n",
       "ABLE       6     0\n",
       "AC         3     0\n",
       "ACE        8     0\n",
       "ACH        3     0\n",
       "ACI        2     0"
      ]
     },
     "metadata": {},
     "output_type": "display_data"
    },
    {
     "name": "stdout",
     "output_type": "stream",
     "text": [
      "Cosine similarity for mk: 0.22877625063792426\n",
      "Processing hr\n",
      "Number of token types for hr: 6222\n"
     ]
    },
    {
     "data": {
      "text/html": [
       "<div>\n",
       "<style scoped>\n",
       "    .dataframe tbody tr th:only-of-type {\n",
       "        vertical-align: middle;\n",
       "    }\n",
       "\n",
       "    .dataframe tbody tr th {\n",
       "        vertical-align: top;\n",
       "    }\n",
       "\n",
       "    .dataframe thead th {\n",
       "        text-align: right;\n",
       "    }\n",
       "</style>\n",
       "<table border=\"1\" class=\"dataframe\">\n",
       "  <thead>\n",
       "    <tr style=\"text-align: right;\">\n",
       "      <th></th>\n",
       "      <th>train</th>\n",
       "      <th>test</th>\n",
       "    </tr>\n",
       "  </thead>\n",
       "  <tbody>\n",
       "    <tr>\n",
       "      <th>AA</th>\n",
       "      <td>10</td>\n",
       "      <td>0</td>\n",
       "    </tr>\n",
       "    <tr>\n",
       "      <th>AAN</th>\n",
       "      <td>1</td>\n",
       "      <td>0</td>\n",
       "    </tr>\n",
       "    <tr>\n",
       "      <th>AAR</th>\n",
       "      <td>1</td>\n",
       "      <td>0</td>\n",
       "    </tr>\n",
       "    <tr>\n",
       "      <th>AB</th>\n",
       "      <td>1</td>\n",
       "      <td>0</td>\n",
       "    </tr>\n",
       "    <tr>\n",
       "      <th>ABILI</th>\n",
       "      <td>1</td>\n",
       "      <td>0</td>\n",
       "    </tr>\n",
       "    <tr>\n",
       "      <th>ABLE</th>\n",
       "      <td>6</td>\n",
       "      <td>0</td>\n",
       "    </tr>\n",
       "    <tr>\n",
       "      <th>AC</th>\n",
       "      <td>3</td>\n",
       "      <td>0</td>\n",
       "    </tr>\n",
       "    <tr>\n",
       "      <th>ACE</th>\n",
       "      <td>8</td>\n",
       "      <td>0</td>\n",
       "    </tr>\n",
       "    <tr>\n",
       "      <th>ACH</th>\n",
       "      <td>3</td>\n",
       "      <td>0</td>\n",
       "    </tr>\n",
       "    <tr>\n",
       "      <th>ACI</th>\n",
       "      <td>2</td>\n",
       "      <td>0</td>\n",
       "    </tr>\n",
       "  </tbody>\n",
       "</table>\n",
       "</div>"
      ],
      "text/plain": [
       "       train  test\n",
       "AA        10     0\n",
       "AAN        1     0\n",
       "AAR        1     0\n",
       "AB         1     0\n",
       "ABILI      1     0\n",
       "ABLE       6     0\n",
       "AC         3     0\n",
       "ACE        8     0\n",
       "ACH        3     0\n",
       "ACI        2     0"
      ]
     },
     "metadata": {},
     "output_type": "display_data"
    },
    {
     "name": "stdout",
     "output_type": "stream",
     "text": [
      "Cosine similarity for hr: 0.2076741403073573\n",
      "Processing sl\n",
      "Number of token types for sl: 5763\n"
     ]
    },
    {
     "data": {
      "text/html": [
       "<div>\n",
       "<style scoped>\n",
       "    .dataframe tbody tr th:only-of-type {\n",
       "        vertical-align: middle;\n",
       "    }\n",
       "\n",
       "    .dataframe tbody tr th {\n",
       "        vertical-align: top;\n",
       "    }\n",
       "\n",
       "    .dataframe thead th {\n",
       "        text-align: right;\n",
       "    }\n",
       "</style>\n",
       "<table border=\"1\" class=\"dataframe\">\n",
       "  <thead>\n",
       "    <tr style=\"text-align: right;\">\n",
       "      <th></th>\n",
       "      <th>train</th>\n",
       "      <th>test</th>\n",
       "    </tr>\n",
       "  </thead>\n",
       "  <tbody>\n",
       "    <tr>\n",
       "      <th>AA</th>\n",
       "      <td>10</td>\n",
       "      <td>0</td>\n",
       "    </tr>\n",
       "    <tr>\n",
       "      <th>AAN</th>\n",
       "      <td>1</td>\n",
       "      <td>0</td>\n",
       "    </tr>\n",
       "    <tr>\n",
       "      <th>AAR</th>\n",
       "      <td>1</td>\n",
       "      <td>0</td>\n",
       "    </tr>\n",
       "    <tr>\n",
       "      <th>AB</th>\n",
       "      <td>1</td>\n",
       "      <td>0</td>\n",
       "    </tr>\n",
       "    <tr>\n",
       "      <th>ABILI</th>\n",
       "      <td>1</td>\n",
       "      <td>0</td>\n",
       "    </tr>\n",
       "    <tr>\n",
       "      <th>ABLE</th>\n",
       "      <td>6</td>\n",
       "      <td>0</td>\n",
       "    </tr>\n",
       "    <tr>\n",
       "      <th>AC</th>\n",
       "      <td>3</td>\n",
       "      <td>0</td>\n",
       "    </tr>\n",
       "    <tr>\n",
       "      <th>ACE</th>\n",
       "      <td>8</td>\n",
       "      <td>0</td>\n",
       "    </tr>\n",
       "    <tr>\n",
       "      <th>ACH</th>\n",
       "      <td>3</td>\n",
       "      <td>1</td>\n",
       "    </tr>\n",
       "    <tr>\n",
       "      <th>ACI</th>\n",
       "      <td>2</td>\n",
       "      <td>0</td>\n",
       "    </tr>\n",
       "  </tbody>\n",
       "</table>\n",
       "</div>"
      ],
      "text/plain": [
       "       train  test\n",
       "AA        10     0\n",
       "AAN        1     0\n",
       "AAR        1     0\n",
       "AB         1     0\n",
       "ABILI      1     0\n",
       "ABLE       6     0\n",
       "AC         3     0\n",
       "ACE        8     0\n",
       "ACH        3     1\n",
       "ACI        2     0"
      ]
     },
     "metadata": {},
     "output_type": "display_data"
    },
    {
     "name": "stdout",
     "output_type": "stream",
     "text": [
      "Cosine similarity for sl: 0.331293659491296\n"
     ]
    }
   ],
   "source": [
    "# experiment with removing punctuation, white spaces and numbers from the token list\n",
    "\n",
    "cosine_sim = {}\n",
    "vector_size = {}\n",
    "\n",
    "for lang in list(main_dict.keys()):\n",
    "\tprint(f\"Processing {lang}\")\n",
    "\t# Get token count for current lang\n",
    "\tcurrent_lang_count = main_dict[lang][\"token_overlap\"][\"token_count\"]\n",
    "\n",
    "\tprint(f\"Number of token types for {lang}: {len(list(current_lang_count.keys()))}\")\n",
    "\n",
    "\t# For each test set, create a vector of token counts. Take only tokens that are present in train_df.\n",
    "\n",
    "\t# First, create a list of tokens that are present in either one or the other list\n",
    "\n",
    "\tintersection_keys = list(train_count_lexical.keys())\n",
    "\n",
    "\t# Then create a dictionary for 1) train df and 2) test df with counts of token types that occur in train_df\n",
    "\ttrain_intersect_dict = train_count_lexical\n",
    "\ttest_intersect_dict = {}\n",
    "\n",
    "\tfor i in intersection_keys:\n",
    "\t\ttry:\n",
    "\t\t\ttest_intersect_dict[i] = current_lang_count[i]\n",
    "\t\texcept:\n",
    "\t\t\ttest_intersect_dict[i] = 0\n",
    "\n",
    "\n",
    "\t# Create a df with intersecting keys\n",
    "\tintersect_df = pd.DataFrame({\"train\": train_intersect_dict, \"test\": test_intersect_dict})\n",
    "\n",
    "\tdisplay(intersect_df.head(10))\n",
    "\n",
    "\t# Calculate cosine similarity\n",
    "\tcurrent_cosine_sim = cosine_similarity(np.array(intersect_df[\"train\"].to_list()), np.array(intersect_df[\"test\"].to_list()))\n",
    "\n",
    "\tprint(f\"Cosine similarity for {lang}: {current_cosine_sim}\")\n",
    "\n",
    "\t# Add to the main dictionary\n",
    "\tmain_dict[lang][\"token_overlap\"][\"cosine_similarity\"] = current_cosine_sim\n",
    "\tmain_dict[lang][\"token_overlap\"][\"intersection_df\"] = intersect_df.to_dict()\n",
    "\tmain_dict[lang][\"token_overlap\"][\"intersection_vector_size\"] = len(intersection_keys)\n",
    "\n",
    "\t# Add to a dict of results\n",
    "\tcosine_sim[lang] = current_cosine_sim\n",
    "\tvector_size[lang] = len(intersection_keys)"
   ]
  },
  {
   "cell_type": "code",
   "execution_count": 9,
   "metadata": {},
   "outputs": [],
   "source": [
    "# Experiment with normalizing the values"
   ]
  },
  {
   "cell_type": "code",
   "execution_count": 13,
   "metadata": {},
   "outputs": [],
   "source": [
    "# Experiment what happens if we normalize the values using min max\n",
    "# Normalize the values using the min-max normalization\n",
    "# Min-max is a scaling technique where values are rescaled and shifted so that they range between 0 and 1 or between -1 and 1.\n",
    "\n",
    "def normalize(list):\n",
    "\tdata = np.array(list).reshape(-1, 1)\n",
    "\tscaler = MinMaxScaler()\n",
    "\tscaler.fit(data)\n",
    "\tnorm_list = scaler.transform(data)\n",
    "\n",
    "\treturn norm_list"
   ]
  },
  {
   "cell_type": "code",
   "execution_count": 14,
   "metadata": {},
   "outputs": [
    {
     "data": {
      "text/html": [
       "<div>\n",
       "<style scoped>\n",
       "    .dataframe tbody tr th:only-of-type {\n",
       "        vertical-align: middle;\n",
       "    }\n",
       "\n",
       "    .dataframe tbody tr th {\n",
       "        vertical-align: top;\n",
       "    }\n",
       "\n",
       "    .dataframe thead th {\n",
       "        text-align: right;\n",
       "    }\n",
       "</style>\n",
       "<table border=\"1\" class=\"dataframe\">\n",
       "  <thead>\n",
       "    <tr style=\"text-align: right;\">\n",
       "      <th></th>\n",
       "      <th>train</th>\n",
       "      <th>test</th>\n",
       "    </tr>\n",
       "  </thead>\n",
       "  <tbody>\n",
       "    <tr>\n",
       "      <th>!</th>\n",
       "      <td>430</td>\n",
       "      <td>41</td>\n",
       "    </tr>\n",
       "    <tr>\n",
       "      <th>!!</th>\n",
       "      <td>23</td>\n",
       "      <td>1</td>\n",
       "    </tr>\n",
       "    <tr>\n",
       "      <th>!!!</th>\n",
       "      <td>14</td>\n",
       "      <td>6</td>\n",
       "    </tr>\n",
       "    <tr>\n",
       "      <th>!!!!</th>\n",
       "      <td>6</td>\n",
       "      <td>0</td>\n",
       "    </tr>\n",
       "  </tbody>\n",
       "</table>\n",
       "</div>"
      ],
      "text/plain": [
       "      train  test\n",
       "!       430    41\n",
       "!!       23     1\n",
       "!!!      14     6\n",
       "!!!!      6     0"
      ]
     },
     "execution_count": 14,
     "metadata": {},
     "output_type": "execute_result"
    }
   ],
   "source": [
    "df = pd.DataFrame(main_dict[\"uk\"][\"token_overlap\"][\"intersection_df\"])\n",
    "df.head(4)"
   ]
  },
  {
   "cell_type": "code",
   "execution_count": null,
   "metadata": {},
   "outputs": [],
   "source": [
    "cosine_similarity(np.array(df[\"train\"].to_list()), np.array(df[\"test\"].to_list()))"
   ]
  },
  {
   "cell_type": "code",
   "execution_count": null,
   "metadata": {},
   "outputs": [],
   "source": [
    "cosine_similarity(np.array(normalize(df[\"train\"].to_list())), np.array(normalize(df[\"test\"].to_list())))"
   ]
  },
  {
   "cell_type": "code",
   "execution_count": 16,
   "metadata": {},
   "outputs": [
    {
     "data": {
      "text/plain": [
       "array([[0.03032544],\n",
       "       [0.00073964],\n",
       "       [0.00443787],\n",
       "       ...,\n",
       "       [0.        ],\n",
       "       [0.        ],\n",
       "       [0.        ]])"
      ]
     },
     "execution_count": 16,
     "metadata": {},
     "output_type": "execute_result"
    }
   ],
   "source": [
    "normalize(df[\"test\"].to_list())"
   ]
  },
  {
   "cell_type": "code",
   "execution_count": 8,
   "metadata": {},
   "outputs": [
    {
     "name": "stdout",
     "output_type": "stream",
     "text": [
      "|    |   cosine_similarity |   vector_size |\n",
      "|:---|--------------------:|--------------:|\n",
      "| el |            0.706965 |         27025 |\n",
      "| uk |            0.690846 |         27025 |\n",
      "| mk |            0.689023 |         27025 |\n",
      "| sl |            0.633582 |         27025 |\n",
      "| tr |            0.615202 |         27025 |\n",
      "| is |            0.610181 |         27025 |\n",
      "| hr |            0.569996 |         27025 |\n",
      "| sq |            0.545689 |         27025 |\n",
      "| ca |            0.529031 |         27025 |\n",
      "| mt |            0.491924 |         27025 |\n"
     ]
    }
   ],
   "source": [
    "# Show results\n",
    "cosine_sim_df = pd.DataFrame({\"cosine_similarity\": cosine_sim, \"vector_size\": vector_size}).sort_values(by=\"cosine_similarity\", ascending=False)\n",
    "print(cosine_sim_df.to_markdown())"
   ]
  },
  {
   "cell_type": "code",
   "execution_count": 11,
   "metadata": {},
   "outputs": [],
   "source": [
    "overlap_per = {}\n",
    "for lang in list(main_dict.keys()):\n",
    "\toverlap_per[lang] = main_dict[lang][\"token_overlap\"][\"overlap_percentage\"]"
   ]
  },
  {
   "cell_type": "code",
   "execution_count": 12,
   "metadata": {},
   "outputs": [
    {
     "name": "stdout",
     "output_type": "stream",
     "text": [
      "|    |   cosine_similarity |   vector_size |   overlap_percentage |\n",
      "|:---|--------------------:|--------------:|---------------------:|\n",
      "| el |            0.706965 |         27025 |             0.161428 |\n",
      "| uk |            0.690846 |         27025 |             0.156675 |\n",
      "| mk |            0.689023 |         27025 |             0.145989 |\n",
      "| sl |            0.633582 |         27025 |             0.974289 |\n",
      "| tr |            0.615202 |         27025 |             0.521502 |\n",
      "| is |            0.610181 |         27025 |             0.517575 |\n",
      "| hr |            0.569996 |         27025 |             0.821517 |\n",
      "| sq |            0.545689 |         27025 |             0.605775 |\n",
      "| ca |            0.529031 |         27025 |             0.744881 |\n",
      "| mt |            0.491924 |         27025 |             0.817085 |\n"
     ]
    }
   ],
   "source": [
    "# Show results\n",
    "cosine_sim_df = pd.DataFrame({\"cosine_similarity\": cosine_sim, \"vector_size\": vector_size, \"overlap_percentage\": overlap_per}).sort_values(by=\"cosine_similarity\", ascending=False)\n",
    "print(cosine_sim_df.to_markdown())"
   ]
  },
  {
   "cell_type": "markdown",
   "metadata": {},
   "source": [
    "# Compare token overlap on label level "
   ]
  },
  {
   "cell_type": "markdown",
   "metadata": {},
   "source": [
    "### Create label-level token counts for train dataset"
   ]
  },
  {
   "cell_type": "code",
   "execution_count": 3,
   "metadata": {},
   "outputs": [
    {
     "data": {
      "text/html": [
       "<div>\n",
       "<style scoped>\n",
       "    .dataframe tbody tr th:only-of-type {\n",
       "        vertical-align: middle;\n",
       "    }\n",
       "\n",
       "    .dataframe tbody tr th {\n",
       "        vertical-align: top;\n",
       "    }\n",
       "\n",
       "    .dataframe thead th {\n",
       "        text-align: right;\n",
       "    }\n",
       "</style>\n",
       "<table border=\"1\" class=\"dataframe\">\n",
       "  <thead>\n",
       "    <tr style=\"text-align: right;\">\n",
       "      <th></th>\n",
       "      <th>text</th>\n",
       "      <th>labels</th>\n",
       "      <th>dataset</th>\n",
       "      <th>language</th>\n",
       "      <th>tokens_train</th>\n",
       "      <th>token_ids</th>\n",
       "    </tr>\n",
       "  </thead>\n",
       "  <tbody>\n",
       "    <tr>\n",
       "      <th>0</th>\n",
       "      <td>Seeking All Things Brilliant \"I want people to...</td>\n",
       "      <td>Other</td>\n",
       "      <td>CORE</td>\n",
       "      <td>English</td>\n",
       "      <td>[▁See, king, ▁All, ▁Things, ▁Br, illian, t, ▁\"...</td>\n",
       "      <td>[6872, 6048, 3164, 119175, 13008, 162076, 18, ...</td>\n",
       "    </tr>\n",
       "    <tr>\n",
       "      <th>1</th>\n",
       "      <td>Meet Orchid du Bois I first met Hayley Mowday ...</td>\n",
       "      <td>Other</td>\n",
       "      <td>CORE</td>\n",
       "      <td>English</td>\n",
       "      <td>[▁Meet, ▁Or, ch, id, ▁du, ▁Bo, is, ▁I, ▁first,...</td>\n",
       "      <td>[72626, 3347, 206, 532, 115, 2460, 164, 87, 51...</td>\n",
       "    </tr>\n",
       "  </tbody>\n",
       "</table>\n",
       "</div>"
      ],
      "text/plain": [
       "                                                text labels dataset language  \\\n",
       "0  Seeking All Things Brilliant \"I want people to...  Other    CORE  English   \n",
       "1  Meet Orchid du Bois I first met Hayley Mowday ...  Other    CORE  English   \n",
       "\n",
       "                                        tokens_train  \\\n",
       "0  [▁See, king, ▁All, ▁Things, ▁Br, illian, t, ▁\"...   \n",
       "1  [▁Meet, ▁Or, ch, id, ▁du, ▁Bo, is, ▁I, ▁first,...   \n",
       "\n",
       "                                           token_ids  \n",
       "0  [6872, 6048, 3164, 119175, 13008, 162076, 18, ...  \n",
       "1  [72626, 3347, 206, 532, 115, 2460, 164, 87, 51...  "
      ]
     },
     "execution_count": 3,
     "metadata": {},
     "output_type": "execute_result"
    }
   ],
   "source": [
    "# Open the tokenized train df\n",
    "train_df = pd.read_json(\"datasets/tokenized_datasets/X-GENRE-train-tokenized.json\")\n",
    "train_df.head(2)"
   ]
  },
  {
   "cell_type": "code",
   "execution_count": 4,
   "metadata": {},
   "outputs": [
    {
     "data": {
      "text/plain": [
       "array(['Other', 'Information/Explanation', 'News', 'Instruction',\n",
       "       'Opinion/Argumentation', 'Forum', 'Prose/Lyrical', 'Legal',\n",
       "       'Promotion'], dtype=object)"
      ]
     },
     "execution_count": 4,
     "metadata": {},
     "output_type": "execute_result"
    }
   ],
   "source": [
    "train_df.labels.unique()"
   ]
  },
  {
   "cell_type": "code",
   "execution_count": null,
   "metadata": {},
   "outputs": [],
   "source": [
    "# Separate the train df into label-based dfs\n",
    "\n",
    "# Create lists of tokens that are label based\n",
    "label_tokens = {}\n",
    "token_count = {}\n",
    "type_count = {}\n",
    "\n",
    "for label in ['Information/Explanation', 'News', 'Instruction','Opinion/Argumentation', 'Forum', 'Prose/Lyrical', 'Legal','Promotion']:\n",
    "\tprint(f\"Processing {label}\")\n",
    "\n",
    "\tlabel_df = train_df[train_df[\"labels\"] == label]\n",
    "\tdisplay(label_df.head(3))\n",
    "\n",
    "\t# Create a list of tokens, where we take only the first 512 tokens\n",
    "\ttrain_tokens_shortened = []\n",
    "\n",
    "\tfor i in label_df[\"tokens_train\"].to_list():\n",
    "\t\ttrain_tokens_shortened.extend(i[:512])\n",
    "\n",
    "\tprint(f\"Number of all tokens: {len(train_tokens_shortened)}\")\n",
    "\n",
    "\t# Add to dictionaries\n",
    "\tlabel_tokens[label] = train_tokens_shortened\n",
    "\ttoken_count[label] = len(train_tokens_shortened)\n",
    "\ttype_count[label] = len(set(train_tokens_shortened))"
   ]
  },
  {
   "cell_type": "code",
   "execution_count": 8,
   "metadata": {},
   "outputs": [
    {
     "name": "stdout",
     "output_type": "stream",
     "text": [
      "|                         |   token_count |   type_count |\n",
      "|:------------------------|--------------:|-------------:|\n",
      "| Information/Explanation |        124130 |        14678 |\n",
      "| News                    |        136557 |        15319 |\n",
      "| Instruction             |         83750 |         8929 |\n",
      "| Opinion/Argumentation   |        103141 |        13088 |\n",
      "| Forum                   |         58900 |         8555 |\n",
      "| Prose/Lyrical           |         46860 |         5990 |\n",
      "| Legal                   |         28496 |         4425 |\n",
      "| Promotion               |         88626 |        12548 |\n"
     ]
    }
   ],
   "source": [
    "# Calculate numbers for each label\n",
    "label_results_train = pd.DataFrame({\"token_count\": token_count, \"type_count\": type_count})\n",
    "\n",
    "print(label_results_train.to_markdown())"
   ]
  },
  {
   "cell_type": "code",
   "execution_count": 9,
   "metadata": {},
   "outputs": [],
   "source": [
    "# Save the label token count\n",
    "with open(\"datasets/tokenized_datasets/X-GENRE-train-label-token-count.json\", \"w\") as train_label_count_file:\n",
    "\tjson.dump(label_tokens, train_label_count_file)"
   ]
  },
  {
   "cell_type": "markdown",
   "metadata": {},
   "source": [
    "### Create label-level token counts for test sets"
   ]
  },
  {
   "cell_type": "code",
   "execution_count": 12,
   "metadata": {},
   "outputs": [
    {
     "data": {
      "text/plain": [
       "dict_keys(['accuracy', 'micro_f1', 'macro_f1', 'dataset', 'token_overlap'])"
      ]
     },
     "execution_count": 12,
     "metadata": {},
     "output_type": "execute_result"
    }
   ],
   "source": [
    "# Import the final dataset with test sets\n",
    "with open(\"manual-annotations/multilingual-genre-annotated-test-set.json\") as main_file:\n",
    "\tmain_dict = json.load(main_file)\n",
    "\n",
    "main_dict[\"uk\"].keys()"
   ]
  },
  {
   "cell_type": "code",
   "execution_count": 13,
   "metadata": {},
   "outputs": [
    {
     "data": {
      "text/html": [
       "<div>\n",
       "<style scoped>\n",
       "    .dataframe tbody tr th:only-of-type {\n",
       "        vertical-align: middle;\n",
       "    }\n",
       "\n",
       "    .dataframe tbody tr th {\n",
       "        vertical-align: top;\n",
       "    }\n",
       "\n",
       "    .dataframe thead th {\n",
       "        text-align: right;\n",
       "    }\n",
       "</style>\n",
       "<table border=\"1\" class=\"dataframe\">\n",
       "  <thead>\n",
       "    <tr style=\"text-align: right;\">\n",
       "      <th></th>\n",
       "      <th>text_id</th>\n",
       "      <th>y_pred</th>\n",
       "      <th>text</th>\n",
       "      <th>translation</th>\n",
       "      <th>metadata</th>\n",
       "      <th>y_true</th>\n",
       "      <th>tokens</th>\n",
       "      <th>token_ids</th>\n",
       "    </tr>\n",
       "  </thead>\n",
       "  <tbody>\n",
       "    <tr>\n",
       "      <th>1</th>\n",
       "      <td>CLASSLA-web.sl.1087171</td>\n",
       "      <td>Opinion/Argumentation</td>\n",
       "      <td>Kitajsko mesto duhov\\nV Notranji Mongoliji ras...</td>\n",
       "      <td>The Chinese ghost city in Inner Mongolia is gr...</td>\n",
       "      <td>CLASSLA-web.sl.1087171', 'domain': 'mladina.si'}</td>\n",
       "      <td>News</td>\n",
       "      <td>[▁Kita, jsko, ▁mesto, ▁duhov, ▁V, ▁Notranj, i,...</td>\n",
       "      <td>[12992, 30878, 22041, 87909, 310, 240213, 14, ...</td>\n",
       "    </tr>\n",
       "    <tr>\n",
       "      <th>2</th>\n",
       "      <td>CLASSLA-web.sl.1215246</td>\n",
       "      <td>Instruction</td>\n",
       "      <td>Krompir skuhamo, olupimo in narežemo na tanke ...</td>\n",
       "      <td>Cook the potatoes, peel and cut into thin ring...</td>\n",
       "      <td>CLASSLA-web.sl.1215246', 'domain': 'emorje.com'}</td>\n",
       "      <td>Instruction</td>\n",
       "      <td>[▁Krom, pir, ▁s, kuha, mo, ,, ▁olup, imo, ▁in,...</td>\n",
       "      <td>[128458, 21738, 91, 60863, 432, 4, 37663, 2414...</td>\n",
       "    </tr>\n",
       "  </tbody>\n",
       "</table>\n",
       "</div>"
      ],
      "text/plain": [
       "                  text_id                 y_pred  \\\n",
       "1  CLASSLA-web.sl.1087171  Opinion/Argumentation   \n",
       "2  CLASSLA-web.sl.1215246            Instruction   \n",
       "\n",
       "                                                text  \\\n",
       "1  Kitajsko mesto duhov\\nV Notranji Mongoliji ras...   \n",
       "2  Krompir skuhamo, olupimo in narežemo na tanke ...   \n",
       "\n",
       "                                         translation  \\\n",
       "1  The Chinese ghost city in Inner Mongolia is gr...   \n",
       "2  Cook the potatoes, peel and cut into thin ring...   \n",
       "\n",
       "                                           metadata       y_true  \\\n",
       "1  CLASSLA-web.sl.1087171', 'domain': 'mladina.si'}         News   \n",
       "2  CLASSLA-web.sl.1215246', 'domain': 'emorje.com'}  Instruction   \n",
       "\n",
       "                                              tokens  \\\n",
       "1  [▁Kita, jsko, ▁mesto, ▁duhov, ▁V, ▁Notranj, i,...   \n",
       "2  [▁Krom, pir, ▁s, kuha, mo, ,, ▁olup, imo, ▁in,...   \n",
       "\n",
       "                                           token_ids  \n",
       "1  [12992, 30878, 22041, 87909, 310, 240213, 14, ...  \n",
       "2  [128458, 21738, 91, 60863, 432, 4, 37663, 2414...  "
      ]
     },
     "execution_count": 13,
     "metadata": {},
     "output_type": "execute_result"
    }
   ],
   "source": [
    "pd.DataFrame(main_dict[\"sl\"][\"dataset\"]).head(2)"
   ]
  },
  {
   "cell_type": "code",
   "execution_count": 14,
   "metadata": {},
   "outputs": [
    {
     "name": "stdout",
     "output_type": "stream",
     "text": [
      "Processing mt\n"
     ]
    },
    {
     "data": {
      "text/html": [
       "<div>\n",
       "<style scoped>\n",
       "    .dataframe tbody tr th:only-of-type {\n",
       "        vertical-align: middle;\n",
       "    }\n",
       "\n",
       "    .dataframe tbody tr th {\n",
       "        vertical-align: top;\n",
       "    }\n",
       "\n",
       "    .dataframe thead th {\n",
       "        text-align: right;\n",
       "    }\n",
       "</style>\n",
       "<table border=\"1\" class=\"dataframe\">\n",
       "  <thead>\n",
       "    <tr style=\"text-align: right;\">\n",
       "      <th></th>\n",
       "      <th>text_id</th>\n",
       "      <th>y_pred</th>\n",
       "      <th>text</th>\n",
       "      <th>translation</th>\n",
       "      <th>metadata</th>\n",
       "      <th>y_true</th>\n",
       "      <th>tokens</th>\n",
       "      <th>token_ids</th>\n",
       "    </tr>\n",
       "  </thead>\n",
       "  <tbody>\n",
       "    <tr>\n",
       "      <th>0</th>\n",
       "      <td>macocu.mt.402244</td>\n",
       "      <td>News</td>\n",
       "      <td>Angelo Chetcuti, se jkun qed jieħu post Bjorn ...</td>\n",
       "      <td>Angelo Chetcuti, will be replacing Bjorn Vassa...</td>\n",
       "      <td>{'text_id': 'macocu.mt.402244'}</td>\n",
       "      <td>News</td>\n",
       "      <td>[▁Angel, o, ▁Che, t, cuti, ,, ▁se, ▁j, kun, ▁q...</td>\n",
       "      <td>[26902, 31, 5024, 18, 64969, 4, 40, 1647, 6262...</td>\n",
       "    </tr>\n",
       "    <tr>\n",
       "      <th>1</th>\n",
       "      <td>macocu.mt.377203</td>\n",
       "      <td>Prose/Lyrical</td>\n",
       "      <td>Poltergeist jirreferi għal fenomeni oħra tal-m...</td>\n",
       "      <td>Poltergeist refers to other woman's phenomena,...</td>\n",
       "      <td>{'text_id': 'macocu.mt.377203'}</td>\n",
       "      <td>Opinion/Argumentation</td>\n",
       "      <td>[▁Pol, ter, geist, ▁jir, re, feri, ▁g, ħ, al, ...</td>\n",
       "      <td>[9017, 720, 178490, 52826, 107, 26926, 706, 24...</td>\n",
       "    </tr>\n",
       "  </tbody>\n",
       "</table>\n",
       "</div>"
      ],
      "text/plain": [
       "            text_id         y_pred  \\\n",
       "0  macocu.mt.402244           News   \n",
       "1  macocu.mt.377203  Prose/Lyrical   \n",
       "\n",
       "                                                text  \\\n",
       "0  Angelo Chetcuti, se jkun qed jieħu post Bjorn ...   \n",
       "1  Poltergeist jirreferi għal fenomeni oħra tal-m...   \n",
       "\n",
       "                                         translation  \\\n",
       "0  Angelo Chetcuti, will be replacing Bjorn Vassa...   \n",
       "1  Poltergeist refers to other woman's phenomena,...   \n",
       "\n",
       "                          metadata                 y_true  \\\n",
       "0  {'text_id': 'macocu.mt.402244'}                   News   \n",
       "1  {'text_id': 'macocu.mt.377203'}  Opinion/Argumentation   \n",
       "\n",
       "                                              tokens  \\\n",
       "0  [▁Angel, o, ▁Che, t, cuti, ,, ▁se, ▁j, kun, ▁q...   \n",
       "1  [▁Pol, ter, geist, ▁jir, re, feri, ▁g, ħ, al, ...   \n",
       "\n",
       "                                           token_ids  \n",
       "0  [26902, 31, 5024, 18, 64969, 4, 40, 1647, 6262...  \n",
       "1  [9017, 720, 178490, 52826, 107, 26926, 706, 24...  "
      ]
     },
     "metadata": {},
     "output_type": "display_data"
    },
    {
     "name": "stdout",
     "output_type": "stream",
     "text": [
      "Processing Information/Explanation\n",
      "Processing News\n",
      "Processing Instruction\n",
      "Processing Opinion/Argumentation\n",
      "Processing Forum\n",
      "Processing Prose/Lyrical\n",
      "Processing Legal\n",
      "Processing Promotion\n",
      "Processing el\n"
     ]
    },
    {
     "data": {
      "text/html": [
       "<div>\n",
       "<style scoped>\n",
       "    .dataframe tbody tr th:only-of-type {\n",
       "        vertical-align: middle;\n",
       "    }\n",
       "\n",
       "    .dataframe tbody tr th {\n",
       "        vertical-align: top;\n",
       "    }\n",
       "\n",
       "    .dataframe thead th {\n",
       "        text-align: right;\n",
       "    }\n",
       "</style>\n",
       "<table border=\"1\" class=\"dataframe\">\n",
       "  <thead>\n",
       "    <tr style=\"text-align: right;\">\n",
       "      <th></th>\n",
       "      <th>text_id</th>\n",
       "      <th>y_pred</th>\n",
       "      <th>text</th>\n",
       "      <th>translation</th>\n",
       "      <th>metadata</th>\n",
       "      <th>y_true</th>\n",
       "      <th>tokens</th>\n",
       "      <th>token_ids</th>\n",
       "    </tr>\n",
       "  </thead>\n",
       "  <tbody>\n",
       "    <tr>\n",
       "      <th>0</th>\n",
       "      <td>macocu.el.1525713</td>\n",
       "      <td>Instruction</td>\n",
       "      <td>Ενημέρωση του Pegasus Estiasi με τις εισερχόμε...</td>\n",
       "      <td>Update Pegasus Estiasi with Incoming Calls\\n\\n...</td>\n",
       "      <td>{'text_id': 'macocu.el.1525713'}</td>\n",
       "      <td>Instruction</td>\n",
       "      <td>[▁Ενημέρωση, ▁του, ▁Pegasus, ▁Esti, asi, ▁με, ...</td>\n",
       "      <td>[236422, 385, 241060, 60271, 1544, 558, 1713, ...</td>\n",
       "    </tr>\n",
       "    <tr>\n",
       "      <th>1</th>\n",
       "      <td>macocu.el.3525724</td>\n",
       "      <td>Forum</td>\n",
       "      <td>Η τιμή της έκδοσης 8GB/ 128GB είναι 1.299 ευρώ...</td>\n",
       "      <td>The price of 8GB/ 128GB is € 1,299, of the 12G...</td>\n",
       "      <td>{'text_id': 'macocu.el.3525724'}</td>\n",
       "      <td>Forum</td>\n",
       "      <td>[▁Η, ▁τιμή, ▁της, ▁έκδοση, ς, ▁8, GB, /, ▁128,...</td>\n",
       "      <td>[1700, 77118, 463, 110873, 235, 382, 8359, 64,...</td>\n",
       "    </tr>\n",
       "  </tbody>\n",
       "</table>\n",
       "</div>"
      ],
      "text/plain": [
       "             text_id       y_pred  \\\n",
       "0  macocu.el.1525713  Instruction   \n",
       "1  macocu.el.3525724        Forum   \n",
       "\n",
       "                                                text  \\\n",
       "0  Ενημέρωση του Pegasus Estiasi με τις εισερχόμε...   \n",
       "1  Η τιμή της έκδοσης 8GB/ 128GB είναι 1.299 ευρώ...   \n",
       "\n",
       "                                         translation  \\\n",
       "0  Update Pegasus Estiasi with Incoming Calls\\n\\n...   \n",
       "1  The price of 8GB/ 128GB is € 1,299, of the 12G...   \n",
       "\n",
       "                           metadata       y_true  \\\n",
       "0  {'text_id': 'macocu.el.1525713'}  Instruction   \n",
       "1  {'text_id': 'macocu.el.3525724'}        Forum   \n",
       "\n",
       "                                              tokens  \\\n",
       "0  [▁Ενημέρωση, ▁του, ▁Pegasus, ▁Esti, asi, ▁με, ...   \n",
       "1  [▁Η, ▁τιμή, ▁της, ▁έκδοση, ς, ▁8, GB, /, ▁128,...   \n",
       "\n",
       "                                           token_ids  \n",
       "0  [236422, 385, 241060, 60271, 1544, 558, 1713, ...  \n",
       "1  [1700, 77118, 463, 110873, 235, 382, 8359, 64,...  "
      ]
     },
     "metadata": {},
     "output_type": "display_data"
    },
    {
     "name": "stdout",
     "output_type": "stream",
     "text": [
      "Processing Information/Explanation\n",
      "Processing News\n",
      "Processing Instruction\n",
      "Processing Opinion/Argumentation\n",
      "Processing Forum\n",
      "Processing Prose/Lyrical\n",
      "Processing Legal\n",
      "Processing Promotion\n",
      "Processing tr\n"
     ]
    },
    {
     "data": {
      "text/html": [
       "<div>\n",
       "<style scoped>\n",
       "    .dataframe tbody tr th:only-of-type {\n",
       "        vertical-align: middle;\n",
       "    }\n",
       "\n",
       "    .dataframe tbody tr th {\n",
       "        vertical-align: top;\n",
       "    }\n",
       "\n",
       "    .dataframe thead th {\n",
       "        text-align: right;\n",
       "    }\n",
       "</style>\n",
       "<table border=\"1\" class=\"dataframe\">\n",
       "  <thead>\n",
       "    <tr style=\"text-align: right;\">\n",
       "      <th></th>\n",
       "      <th>text_id</th>\n",
       "      <th>y_pred</th>\n",
       "      <th>text</th>\n",
       "      <th>translation</th>\n",
       "      <th>metadata</th>\n",
       "      <th>y_true</th>\n",
       "      <th>tokens</th>\n",
       "      <th>token_ids</th>\n",
       "    </tr>\n",
       "  </thead>\n",
       "  <tbody>\n",
       "    <tr>\n",
       "      <th>0</th>\n",
       "      <td>macocu.tr.15851513</td>\n",
       "      <td>Instruction</td>\n",
       "      <td>AÖL Ders Seçimi ve Sınav Giriş Merkezi Belirle...</td>\n",
       "      <td>AÖL warned of frequent negligence and errors o...</td>\n",
       "      <td>{'text_id': 'macocu.tr.15851513'}</td>\n",
       "      <td>Instruction</td>\n",
       "      <td>[▁A, Ö, L, ▁Der, s, ▁Seçim, i, ▁ve, ▁Sınav, ▁G...</td>\n",
       "      <td>[62, 8655, 866, 1310, 7, 166134, 14, 173, 1762...</td>\n",
       "    </tr>\n",
       "    <tr>\n",
       "      <th>1</th>\n",
       "      <td>macocu.tr.12699738</td>\n",
       "      <td>Legal</td>\n",
       "      <td>Banka promosyonu ihalesinde uygulanacak kriter...</td>\n",
       "      <td>Criteria to be applied in the tender for bank ...</td>\n",
       "      <td>{'text_id': 'macocu.tr.12699738'}</td>\n",
       "      <td>Legal</td>\n",
       "      <td>[▁Banka, ▁promo, syon, u, ▁i, hale, sinde, ▁uy...</td>\n",
       "      <td>[81847, 8891, 10270, 34, 17, 50742, 19209, 633...</td>\n",
       "    </tr>\n",
       "  </tbody>\n",
       "</table>\n",
       "</div>"
      ],
      "text/plain": [
       "              text_id       y_pred  \\\n",
       "0  macocu.tr.15851513  Instruction   \n",
       "1  macocu.tr.12699738        Legal   \n",
       "\n",
       "                                                text  \\\n",
       "0  AÖL Ders Seçimi ve Sınav Giriş Merkezi Belirle...   \n",
       "1  Banka promosyonu ihalesinde uygulanacak kriter...   \n",
       "\n",
       "                                         translation  \\\n",
       "0  AÖL warned of frequent negligence and errors o...   \n",
       "1  Criteria to be applied in the tender for bank ...   \n",
       "\n",
       "                            metadata       y_true  \\\n",
       "0  {'text_id': 'macocu.tr.15851513'}  Instruction   \n",
       "1  {'text_id': 'macocu.tr.12699738'}        Legal   \n",
       "\n",
       "                                              tokens  \\\n",
       "0  [▁A, Ö, L, ▁Der, s, ▁Seçim, i, ▁ve, ▁Sınav, ▁G...   \n",
       "1  [▁Banka, ▁promo, syon, u, ▁i, hale, sinde, ▁uy...   \n",
       "\n",
       "                                           token_ids  \n",
       "0  [62, 8655, 866, 1310, 7, 166134, 14, 173, 1762...  \n",
       "1  [81847, 8891, 10270, 34, 17, 50742, 19209, 633...  "
      ]
     },
     "metadata": {},
     "output_type": "display_data"
    },
    {
     "name": "stdout",
     "output_type": "stream",
     "text": [
      "Processing Information/Explanation\n",
      "Processing News\n",
      "Processing Instruction\n",
      "Processing Opinion/Argumentation\n",
      "Processing Forum\n",
      "Processing Prose/Lyrical\n",
      "Processing Legal\n",
      "Processing Promotion\n",
      "Processing sq\n"
     ]
    },
    {
     "data": {
      "text/html": [
       "<div>\n",
       "<style scoped>\n",
       "    .dataframe tbody tr th:only-of-type {\n",
       "        vertical-align: middle;\n",
       "    }\n",
       "\n",
       "    .dataframe tbody tr th {\n",
       "        vertical-align: top;\n",
       "    }\n",
       "\n",
       "    .dataframe thead th {\n",
       "        text-align: right;\n",
       "    }\n",
       "</style>\n",
       "<table border=\"1\" class=\"dataframe\">\n",
       "  <thead>\n",
       "    <tr style=\"text-align: right;\">\n",
       "      <th></th>\n",
       "      <th>text_id</th>\n",
       "      <th>y_pred</th>\n",
       "      <th>text_length</th>\n",
       "      <th>domain</th>\n",
       "      <th>text</th>\n",
       "      <th>translation</th>\n",
       "      <th>metadata</th>\n",
       "      <th>y_true</th>\n",
       "      <th>tokens</th>\n",
       "      <th>token_ids</th>\n",
       "    </tr>\n",
       "  </thead>\n",
       "  <tbody>\n",
       "    <tr>\n",
       "      <th>0</th>\n",
       "      <td>macocu.sq.1061396</td>\n",
       "      <td>Opinion/Argumentation</td>\n",
       "      <td>341.0</td>\n",
       "      <td>fjalaejetes.org</td>\n",
       "      <td>Blog\\n\\n“Unë të kam dashur me një dashuri të p...</td>\n",
       "      <td>Blog\\n\\n\"I loved you with eternal love.\"Jer 31...</td>\n",
       "      <td>{'text_id': 'macocu.sq.1061396', 'domain': 'fj...</td>\n",
       "      <td>Opinion/Argumentation</td>\n",
       "      <td>[▁Blog, ▁“, U, në, ▁të, ▁kam, ▁dashur, ▁me, ▁n...</td>\n",
       "      <td>[5061, 52, 1062, 3208, 134, 3840, 57168, 163, ...</td>\n",
       "    </tr>\n",
       "    <tr>\n",
       "      <th>2</th>\n",
       "      <td>macocu.sq.183383</td>\n",
       "      <td>Legal</td>\n",
       "      <td>140.0</td>\n",
       "      <td>eukos.org</td>\n",
       "      <td>Liria nga keqtrajtimi\\n\\nKonventa e të Drejtav...</td>\n",
       "      <td>Freedom from mistreatment\\n\\nStudent Rights Co...</td>\n",
       "      <td>{'text_id': 'macocu.sq.183383', 'domain': 'euk...</td>\n",
       "      <td>Legal</td>\n",
       "      <td>[▁Li, ria, ▁nga, ▁keq, t, raj, timi, ▁Kon, ven...</td>\n",
       "      <td>[1261, 1651, 817, 39184, 18, 10185, 20520, 369...</td>\n",
       "    </tr>\n",
       "  </tbody>\n",
       "</table>\n",
       "</div>"
      ],
      "text/plain": [
       "             text_id                 y_pred  text_length           domain  \\\n",
       "0  macocu.sq.1061396  Opinion/Argumentation        341.0  fjalaejetes.org   \n",
       "2   macocu.sq.183383                  Legal        140.0        eukos.org   \n",
       "\n",
       "                                                text  \\\n",
       "0  Blog\\n\\n“Unë të kam dashur me një dashuri të p...   \n",
       "2  Liria nga keqtrajtimi\\n\\nKonventa e të Drejtav...   \n",
       "\n",
       "                                         translation  \\\n",
       "0  Blog\\n\\n\"I loved you with eternal love.\"Jer 31...   \n",
       "2  Freedom from mistreatment\\n\\nStudent Rights Co...   \n",
       "\n",
       "                                            metadata                 y_true  \\\n",
       "0  {'text_id': 'macocu.sq.1061396', 'domain': 'fj...  Opinion/Argumentation   \n",
       "2  {'text_id': 'macocu.sq.183383', 'domain': 'euk...                  Legal   \n",
       "\n",
       "                                              tokens  \\\n",
       "0  [▁Blog, ▁“, U, në, ▁të, ▁kam, ▁dashur, ▁me, ▁n...   \n",
       "2  [▁Li, ria, ▁nga, ▁keq, t, raj, timi, ▁Kon, ven...   \n",
       "\n",
       "                                           token_ids  \n",
       "0  [5061, 52, 1062, 3208, 134, 3840, 57168, 163, ...  \n",
       "2  [1261, 1651, 817, 39184, 18, 10185, 20520, 369...  "
      ]
     },
     "metadata": {},
     "output_type": "display_data"
    },
    {
     "name": "stdout",
     "output_type": "stream",
     "text": [
      "Processing Information/Explanation\n",
      "Processing News\n",
      "Processing Instruction\n",
      "Processing Opinion/Argumentation\n",
      "Processing Forum\n",
      "Processing Prose/Lyrical\n",
      "Processing Legal\n",
      "Processing Promotion\n",
      "Processing is\n"
     ]
    },
    {
     "data": {
      "text/html": [
       "<div>\n",
       "<style scoped>\n",
       "    .dataframe tbody tr th:only-of-type {\n",
       "        vertical-align: middle;\n",
       "    }\n",
       "\n",
       "    .dataframe tbody tr th {\n",
       "        vertical-align: top;\n",
       "    }\n",
       "\n",
       "    .dataframe thead th {\n",
       "        text-align: right;\n",
       "    }\n",
       "</style>\n",
       "<table border=\"1\" class=\"dataframe\">\n",
       "  <thead>\n",
       "    <tr style=\"text-align: right;\">\n",
       "      <th></th>\n",
       "      <th>text_id</th>\n",
       "      <th>y_pred</th>\n",
       "      <th>text</th>\n",
       "      <th>translation</th>\n",
       "      <th>metadata</th>\n",
       "      <th>y_true</th>\n",
       "      <th>tokens</th>\n",
       "      <th>token_ids</th>\n",
       "    </tr>\n",
       "  </thead>\n",
       "  <tbody>\n",
       "    <tr>\n",
       "      <th>0</th>\n",
       "      <td>macocu.is.639516</td>\n",
       "      <td>Legal</td>\n",
       "      <td>[is] Því er við hæfi að reglur verði settar in...</td>\n",
       "      <td>[IS] It is therefore appropriate that rules be...</td>\n",
       "      <td>{'text_id': 'macocu.is.639516'}</td>\n",
       "      <td>Legal</td>\n",
       "      <td>[▁[, is, ], ▁Því, ▁er, ▁við, ▁hæ, fi, ▁að, ▁re...</td>\n",
       "      <td>[378, 164, 268, 139806, 72, 1497, 33423, 1029,...</td>\n",
       "    </tr>\n",
       "    <tr>\n",
       "      <th>1</th>\n",
       "      <td>macocu.is.1301366</td>\n",
       "      <td>Instruction</td>\n",
       "      <td>Sækja um fulla aðild \\n\\nKennitala * \\n\\nNetfa...</td>\n",
       "      <td>Apply full membership\\n\\nSocial Security numbe...</td>\n",
       "      <td>{'text_id': 'macocu.is.1301366'}</td>\n",
       "      <td>Information/Explanation</td>\n",
       "      <td>[▁Sæ, kja, ▁um, ▁full, a, ▁að, ild, ▁Kenn, ita...</td>\n",
       "      <td>[71595, 28643, 286, 4393, 11, 389, 38472, 5906...</td>\n",
       "    </tr>\n",
       "  </tbody>\n",
       "</table>\n",
       "</div>"
      ],
      "text/plain": [
       "             text_id       y_pred  \\\n",
       "0   macocu.is.639516        Legal   \n",
       "1  macocu.is.1301366  Instruction   \n",
       "\n",
       "                                                text  \\\n",
       "0  [is] Því er við hæfi að reglur verði settar in...   \n",
       "1  Sækja um fulla aðild \\n\\nKennitala * \\n\\nNetfa...   \n",
       "\n",
       "                                         translation  \\\n",
       "0  [IS] It is therefore appropriate that rules be...   \n",
       "1  Apply full membership\\n\\nSocial Security numbe...   \n",
       "\n",
       "                           metadata                   y_true  \\\n",
       "0   {'text_id': 'macocu.is.639516'}                    Legal   \n",
       "1  {'text_id': 'macocu.is.1301366'}  Information/Explanation   \n",
       "\n",
       "                                              tokens  \\\n",
       "0  [▁[, is, ], ▁Því, ▁er, ▁við, ▁hæ, fi, ▁að, ▁re...   \n",
       "1  [▁Sæ, kja, ▁um, ▁full, a, ▁að, ild, ▁Kenn, ita...   \n",
       "\n",
       "                                           token_ids  \n",
       "0  [378, 164, 268, 139806, 72, 1497, 33423, 1029,...  \n",
       "1  [71595, 28643, 286, 4393, 11, 389, 38472, 5906...  "
      ]
     },
     "metadata": {},
     "output_type": "display_data"
    },
    {
     "name": "stdout",
     "output_type": "stream",
     "text": [
      "Processing Information/Explanation\n",
      "Processing News\n",
      "Processing Instruction\n",
      "Processing Opinion/Argumentation\n",
      "Processing Forum\n",
      "Processing Prose/Lyrical\n",
      "Processing Legal\n",
      "Processing Promotion\n",
      "Processing uk\n"
     ]
    },
    {
     "data": {
      "text/html": [
       "<div>\n",
       "<style scoped>\n",
       "    .dataframe tbody tr th:only-of-type {\n",
       "        vertical-align: middle;\n",
       "    }\n",
       "\n",
       "    .dataframe tbody tr th {\n",
       "        vertical-align: top;\n",
       "    }\n",
       "\n",
       "    .dataframe thead th {\n",
       "        text-align: right;\n",
       "    }\n",
       "</style>\n",
       "<table border=\"1\" class=\"dataframe\">\n",
       "  <thead>\n",
       "    <tr style=\"text-align: right;\">\n",
       "      <th></th>\n",
       "      <th>text_id</th>\n",
       "      <th>y_pred</th>\n",
       "      <th>text</th>\n",
       "      <th>translation</th>\n",
       "      <th>metadata</th>\n",
       "      <th>y_true</th>\n",
       "      <th>tokens</th>\n",
       "      <th>token_ids</th>\n",
       "    </tr>\n",
       "  </thead>\n",
       "  <tbody>\n",
       "    <tr>\n",
       "      <th>0</th>\n",
       "      <td>macocu.uk.419381</td>\n",
       "      <td>Instruction</td>\n",
       "      <td>Нестандартний підхід для виготовлення Акваріум...</td>\n",
       "      <td>A non -standard approach for making aquarium.O...</td>\n",
       "      <td>{'text_id': 'macocu.uk.419381'}</td>\n",
       "      <td>Instruction</td>\n",
       "      <td>[▁Не, стандарт, ний, ▁підхід, ▁для, ▁виготовле...</td>\n",
       "      <td>[1087, 159257, 1394, 205827, 518, 166156, 1307...</td>\n",
       "    </tr>\n",
       "    <tr>\n",
       "      <th>1</th>\n",
       "      <td>macocu.uk.16993168</td>\n",
       "      <td>Prose/Lyrical</td>\n",
       "      <td>МУЧЕНИКИ БУЧА-ІРПІНЬ \\n\\nНе снилось полянам й ...</td>\n",
       "      <td>The martyrs of Bucha-Irpin\\n\\nThe glades and t...</td>\n",
       "      <td>{'text_id': 'macocu.uk.16993168'}</td>\n",
       "      <td>Prose/Lyrical</td>\n",
       "      <td>[▁М, УЧ, ЕНИ, КИ, ▁, БУ, ЧА, -, ІР, П, ІН, Ь, ...</td>\n",
       "      <td>[1435, 87706, 78591, 38682, 6, 39932, 75333, 9...</td>\n",
       "    </tr>\n",
       "  </tbody>\n",
       "</table>\n",
       "</div>"
      ],
      "text/plain": [
       "              text_id         y_pred  \\\n",
       "0    macocu.uk.419381    Instruction   \n",
       "1  macocu.uk.16993168  Prose/Lyrical   \n",
       "\n",
       "                                                text  \\\n",
       "0  Нестандартний підхід для виготовлення Акваріум...   \n",
       "1  МУЧЕНИКИ БУЧА-ІРПІНЬ \\n\\nНе снилось полянам й ...   \n",
       "\n",
       "                                         translation  \\\n",
       "0  A non -standard approach for making aquarium.O...   \n",
       "1  The martyrs of Bucha-Irpin\\n\\nThe glades and t...   \n",
       "\n",
       "                            metadata         y_true  \\\n",
       "0    {'text_id': 'macocu.uk.419381'}    Instruction   \n",
       "1  {'text_id': 'macocu.uk.16993168'}  Prose/Lyrical   \n",
       "\n",
       "                                              tokens  \\\n",
       "0  [▁Не, стандарт, ний, ▁підхід, ▁для, ▁виготовле...   \n",
       "1  [▁М, УЧ, ЕНИ, КИ, ▁, БУ, ЧА, -, ІР, П, ІН, Ь, ...   \n",
       "\n",
       "                                           token_ids  \n",
       "0  [1087, 159257, 1394, 205827, 518, 166156, 1307...  \n",
       "1  [1435, 87706, 78591, 38682, 6, 39932, 75333, 9...  "
      ]
     },
     "metadata": {},
     "output_type": "display_data"
    },
    {
     "name": "stdout",
     "output_type": "stream",
     "text": [
      "Processing Information/Explanation\n",
      "Processing News\n",
      "Processing Instruction\n",
      "Processing Opinion/Argumentation\n",
      "Processing Forum\n",
      "Processing Prose/Lyrical\n",
      "Processing Legal\n",
      "Processing Promotion\n",
      "Processing ca\n"
     ]
    },
    {
     "data": {
      "text/html": [
       "<div>\n",
       "<style scoped>\n",
       "    .dataframe tbody tr th:only-of-type {\n",
       "        vertical-align: middle;\n",
       "    }\n",
       "\n",
       "    .dataframe tbody tr th {\n",
       "        vertical-align: top;\n",
       "    }\n",
       "\n",
       "    .dataframe thead th {\n",
       "        text-align: right;\n",
       "    }\n",
       "</style>\n",
       "<table border=\"1\" class=\"dataframe\">\n",
       "  <thead>\n",
       "    <tr style=\"text-align: right;\">\n",
       "      <th></th>\n",
       "      <th>text_id</th>\n",
       "      <th>y_pred</th>\n",
       "      <th>text</th>\n",
       "      <th>translation</th>\n",
       "      <th>metadata</th>\n",
       "      <th>y_true</th>\n",
       "      <th>tokens</th>\n",
       "      <th>token_ids</th>\n",
       "    </tr>\n",
       "  </thead>\n",
       "  <tbody>\n",
       "    <tr>\n",
       "      <th>0</th>\n",
       "      <td>macocu.ca.2248072</td>\n",
       "      <td>Opinion/Argumentation</td>\n",
       "      <td>Pàgines \\n\\nEnfeinada \\n\\nPorto uns dies una m...</td>\n",
       "      <td>Pages\\n\\nCoined\\n\\nI have been a little busy f...</td>\n",
       "      <td>{'text_id': 'macocu.ca.2248072'}</td>\n",
       "      <td>Forum</td>\n",
       "      <td>[▁P, à, gine, s, ▁En, fei, nada, ▁Porto, ▁uns,...</td>\n",
       "      <td>[436, 1298, 63023, 7, 357, 51899, 28866, 24952...</td>\n",
       "    </tr>\n",
       "    <tr>\n",
       "      <th>1</th>\n",
       "      <td>macocu.ca.756254</td>\n",
       "      <td>Information/Explanation</td>\n",
       "      <td>Info \\n\\nLa Casa nova dels Banys de Sant Vicen...</td>\n",
       "      <td>Info\\n\\nThe Casa Nova dels Banys de Sant Vicen...</td>\n",
       "      <td>{'text_id': 'macocu.ca.756254'}</td>\n",
       "      <td>Information/Explanation</td>\n",
       "      <td>[▁Info, ▁La, ▁Casa, ▁nova, ▁dels, ▁Ban, ys, ▁d...</td>\n",
       "      <td>[14048, 239, 8591, 4678, 2323, 5458, 4778, 8, ...</td>\n",
       "    </tr>\n",
       "  </tbody>\n",
       "</table>\n",
       "</div>"
      ],
      "text/plain": [
       "             text_id                   y_pred  \\\n",
       "0  macocu.ca.2248072    Opinion/Argumentation   \n",
       "1   macocu.ca.756254  Information/Explanation   \n",
       "\n",
       "                                                text  \\\n",
       "0  Pàgines \\n\\nEnfeinada \\n\\nPorto uns dies una m...   \n",
       "1  Info \\n\\nLa Casa nova dels Banys de Sant Vicen...   \n",
       "\n",
       "                                         translation  \\\n",
       "0  Pages\\n\\nCoined\\n\\nI have been a little busy f...   \n",
       "1  Info\\n\\nThe Casa Nova dels Banys de Sant Vicen...   \n",
       "\n",
       "                           metadata                   y_true  \\\n",
       "0  {'text_id': 'macocu.ca.2248072'}                    Forum   \n",
       "1   {'text_id': 'macocu.ca.756254'}  Information/Explanation   \n",
       "\n",
       "                                              tokens  \\\n",
       "0  [▁P, à, gine, s, ▁En, fei, nada, ▁Porto, ▁uns,...   \n",
       "1  [▁Info, ▁La, ▁Casa, ▁nova, ▁dels, ▁Ban, ys, ▁d...   \n",
       "\n",
       "                                           token_ids  \n",
       "0  [436, 1298, 63023, 7, 357, 51899, 28866, 24952...  \n",
       "1  [14048, 239, 8591, 4678, 2323, 5458, 4778, 8, ...  "
      ]
     },
     "metadata": {},
     "output_type": "display_data"
    },
    {
     "name": "stdout",
     "output_type": "stream",
     "text": [
      "Processing Information/Explanation\n",
      "Processing News\n",
      "Processing Instruction\n",
      "Processing Opinion/Argumentation\n",
      "Processing Forum\n",
      "Processing Prose/Lyrical\n",
      "Processing Legal\n",
      "Processing Promotion\n",
      "Processing mk\n"
     ]
    },
    {
     "data": {
      "text/html": [
       "<div>\n",
       "<style scoped>\n",
       "    .dataframe tbody tr th:only-of-type {\n",
       "        vertical-align: middle;\n",
       "    }\n",
       "\n",
       "    .dataframe tbody tr th {\n",
       "        vertical-align: top;\n",
       "    }\n",
       "\n",
       "    .dataframe thead th {\n",
       "        text-align: right;\n",
       "    }\n",
       "</style>\n",
       "<table border=\"1\" class=\"dataframe\">\n",
       "  <thead>\n",
       "    <tr style=\"text-align: right;\">\n",
       "      <th></th>\n",
       "      <th>text_id</th>\n",
       "      <th>y_pred</th>\n",
       "      <th>text</th>\n",
       "      <th>translation</th>\n",
       "      <th>metadata</th>\n",
       "      <th>y_true</th>\n",
       "      <th>tokens</th>\n",
       "      <th>token_ids</th>\n",
       "    </tr>\n",
       "  </thead>\n",
       "  <tbody>\n",
       "    <tr>\n",
       "      <th>0</th>\n",
       "      <td>CLASSLA-web.mk.1000486</td>\n",
       "      <td>Forum</td>\n",
       "      <td>Екшули, TCL ги прави смартфоновите, а TCL е см...</td>\n",
       "      <td>Ekshui, TCL makes smartphones, and TCL is hous...</td>\n",
       "      <td>CLASSLA-web.mk.1000486', 'domain': 'forum.carc...</td>\n",
       "      <td>Forum</td>\n",
       "      <td>[▁Ек, шу, ли, ,, ▁T, CL, ▁ги, ▁прави, ▁смартфо...</td>\n",
       "      <td>[75430, 12213, 546, 4, 384, 37486, 1670, 10416...</td>\n",
       "    </tr>\n",
       "    <tr>\n",
       "      <th>1</th>\n",
       "      <td>CLASSLA-web.mk.1009071</td>\n",
       "      <td>News</td>\n",
       "      <td>Red Valentino прогнозира бура од принтови за с...</td>\n",
       "      <td>Red Valentino predicts a storm of prints for n...</td>\n",
       "      <td>CLASSLA-web.mk.1009071', 'domain': 'fashionel....</td>\n",
       "      <td>News</td>\n",
       "      <td>[▁Red, ▁Valentino, ▁прогноз, ира, ▁бур, а, ▁од...</td>\n",
       "      <td>[6096, 166361, 45404, 6790, 21623, 59, 338, 44...</td>\n",
       "    </tr>\n",
       "  </tbody>\n",
       "</table>\n",
       "</div>"
      ],
      "text/plain": [
       "                  text_id y_pred  \\\n",
       "0  CLASSLA-web.mk.1000486  Forum   \n",
       "1  CLASSLA-web.mk.1009071   News   \n",
       "\n",
       "                                                text  \\\n",
       "0  Екшули, TCL ги прави смартфоновите, а TCL е см...   \n",
       "1  Red Valentino прогнозира бура од принтови за с...   \n",
       "\n",
       "                                         translation  \\\n",
       "0  Ekshui, TCL makes smartphones, and TCL is hous...   \n",
       "1  Red Valentino predicts a storm of prints for n...   \n",
       "\n",
       "                                            metadata y_true  \\\n",
       "0  CLASSLA-web.mk.1000486', 'domain': 'forum.carc...  Forum   \n",
       "1  CLASSLA-web.mk.1009071', 'domain': 'fashionel....   News   \n",
       "\n",
       "                                              tokens  \\\n",
       "0  [▁Ек, шу, ли, ,, ▁T, CL, ▁ги, ▁прави, ▁смартфо...   \n",
       "1  [▁Red, ▁Valentino, ▁прогноз, ира, ▁бур, а, ▁од...   \n",
       "\n",
       "                                           token_ids  \n",
       "0  [75430, 12213, 546, 4, 384, 37486, 1670, 10416...  \n",
       "1  [6096, 166361, 45404, 6790, 21623, 59, 338, 44...  "
      ]
     },
     "metadata": {},
     "output_type": "display_data"
    },
    {
     "name": "stdout",
     "output_type": "stream",
     "text": [
      "Processing Information/Explanation\n",
      "Processing News\n",
      "Processing Instruction\n",
      "Processing Opinion/Argumentation\n",
      "Processing Forum\n",
      "Processing Prose/Lyrical\n",
      "Processing Legal\n",
      "Processing Promotion\n",
      "Processing hr\n"
     ]
    },
    {
     "data": {
      "text/html": [
       "<div>\n",
       "<style scoped>\n",
       "    .dataframe tbody tr th:only-of-type {\n",
       "        vertical-align: middle;\n",
       "    }\n",
       "\n",
       "    .dataframe tbody tr th {\n",
       "        vertical-align: top;\n",
       "    }\n",
       "\n",
       "    .dataframe thead th {\n",
       "        text-align: right;\n",
       "    }\n",
       "</style>\n",
       "<table border=\"1\" class=\"dataframe\">\n",
       "  <thead>\n",
       "    <tr style=\"text-align: right;\">\n",
       "      <th></th>\n",
       "      <th>text_id</th>\n",
       "      <th>y_pred</th>\n",
       "      <th>text</th>\n",
       "      <th>translation</th>\n",
       "      <th>metadata</th>\n",
       "      <th>y_true</th>\n",
       "      <th>tokens</th>\n",
       "      <th>token_ids</th>\n",
       "    </tr>\n",
       "  </thead>\n",
       "  <tbody>\n",
       "    <tr>\n",
       "      <th>0</th>\n",
       "      <td>CLASSLA-web.hr.1033815</td>\n",
       "      <td>Promotion</td>\n",
       "      <td>O proizvodu\\nColor Transformer, za pametno i j...</td>\n",
       "      <td>About the Color Transformer product, for smart...</td>\n",
       "      <td>CLASSLA-web.hr.1033815', 'domain': 'hairshop.hr'}</td>\n",
       "      <td>Promotion</td>\n",
       "      <td>[▁O, ▁proizvod, u, ▁Color, ▁Trans, former, ,, ...</td>\n",
       "      <td>[180, 43170, 34, 51193, 11062, 82772, 4, 80, 6...</td>\n",
       "    </tr>\n",
       "    <tr>\n",
       "      <th>2</th>\n",
       "      <td>CLASSLA-web.hr.1119579</td>\n",
       "      <td>Promotion</td>\n",
       "      <td>Sunčano selo / Sunny village\\nNa obroncima Bil...</td>\n",
       "      <td>Sunshine / Sunny Village on the slopes of Bilo...</td>\n",
       "      <td>CLASSLA-web.hr.1119579', 'domain': 'vikendi.com'}</td>\n",
       "      <td>Promotion</td>\n",
       "      <td>[▁Sun, čan, o, ▁se, lo, ▁/, ▁Sunny, ▁village, ...</td>\n",
       "      <td>[7550, 17129, 31, 40, 365, 248, 151197, 54427,...</td>\n",
       "    </tr>\n",
       "  </tbody>\n",
       "</table>\n",
       "</div>"
      ],
      "text/plain": [
       "                  text_id     y_pred  \\\n",
       "0  CLASSLA-web.hr.1033815  Promotion   \n",
       "2  CLASSLA-web.hr.1119579  Promotion   \n",
       "\n",
       "                                                text  \\\n",
       "0  O proizvodu\\nColor Transformer, za pametno i j...   \n",
       "2  Sunčano selo / Sunny village\\nNa obroncima Bil...   \n",
       "\n",
       "                                         translation  \\\n",
       "0  About the Color Transformer product, for smart...   \n",
       "2  Sunshine / Sunny Village on the slopes of Bilo...   \n",
       "\n",
       "                                            metadata     y_true  \\\n",
       "0  CLASSLA-web.hr.1033815', 'domain': 'hairshop.hr'}  Promotion   \n",
       "2  CLASSLA-web.hr.1119579', 'domain': 'vikendi.com'}  Promotion   \n",
       "\n",
       "                                              tokens  \\\n",
       "0  [▁O, ▁proizvod, u, ▁Color, ▁Trans, former, ,, ...   \n",
       "2  [▁Sun, čan, o, ▁se, lo, ▁/, ▁Sunny, ▁village, ...   \n",
       "\n",
       "                                           token_ids  \n",
       "0  [180, 43170, 34, 51193, 11062, 82772, 4, 80, 6...  \n",
       "2  [7550, 17129, 31, 40, 365, 248, 151197, 54427,...  "
      ]
     },
     "metadata": {},
     "output_type": "display_data"
    },
    {
     "name": "stdout",
     "output_type": "stream",
     "text": [
      "Processing Information/Explanation\n",
      "Processing News\n",
      "Processing Instruction\n",
      "Processing Opinion/Argumentation\n",
      "Processing Forum\n",
      "Processing Prose/Lyrical\n",
      "Processing Legal\n",
      "Processing Promotion\n",
      "Processing sl\n"
     ]
    },
    {
     "data": {
      "text/html": [
       "<div>\n",
       "<style scoped>\n",
       "    .dataframe tbody tr th:only-of-type {\n",
       "        vertical-align: middle;\n",
       "    }\n",
       "\n",
       "    .dataframe tbody tr th {\n",
       "        vertical-align: top;\n",
       "    }\n",
       "\n",
       "    .dataframe thead th {\n",
       "        text-align: right;\n",
       "    }\n",
       "</style>\n",
       "<table border=\"1\" class=\"dataframe\">\n",
       "  <thead>\n",
       "    <tr style=\"text-align: right;\">\n",
       "      <th></th>\n",
       "      <th>text_id</th>\n",
       "      <th>y_pred</th>\n",
       "      <th>text</th>\n",
       "      <th>translation</th>\n",
       "      <th>metadata</th>\n",
       "      <th>y_true</th>\n",
       "      <th>tokens</th>\n",
       "      <th>token_ids</th>\n",
       "    </tr>\n",
       "  </thead>\n",
       "  <tbody>\n",
       "    <tr>\n",
       "      <th>1</th>\n",
       "      <td>CLASSLA-web.sl.1087171</td>\n",
       "      <td>Opinion/Argumentation</td>\n",
       "      <td>Kitajsko mesto duhov\\nV Notranji Mongoliji ras...</td>\n",
       "      <td>The Chinese ghost city in Inner Mongolia is gr...</td>\n",
       "      <td>CLASSLA-web.sl.1087171', 'domain': 'mladina.si'}</td>\n",
       "      <td>News</td>\n",
       "      <td>[▁Kita, jsko, ▁mesto, ▁duhov, ▁V, ▁Notranj, i,...</td>\n",
       "      <td>[12992, 30878, 22041, 87909, 310, 240213, 14, ...</td>\n",
       "    </tr>\n",
       "    <tr>\n",
       "      <th>2</th>\n",
       "      <td>CLASSLA-web.sl.1215246</td>\n",
       "      <td>Instruction</td>\n",
       "      <td>Krompir skuhamo, olupimo in narežemo na tanke ...</td>\n",
       "      <td>Cook the potatoes, peel and cut into thin ring...</td>\n",
       "      <td>CLASSLA-web.sl.1215246', 'domain': 'emorje.com'}</td>\n",
       "      <td>Instruction</td>\n",
       "      <td>[▁Krom, pir, ▁s, kuha, mo, ,, ▁olup, imo, ▁in,...</td>\n",
       "      <td>[128458, 21738, 91, 60863, 432, 4, 37663, 2414...</td>\n",
       "    </tr>\n",
       "  </tbody>\n",
       "</table>\n",
       "</div>"
      ],
      "text/plain": [
       "                  text_id                 y_pred  \\\n",
       "1  CLASSLA-web.sl.1087171  Opinion/Argumentation   \n",
       "2  CLASSLA-web.sl.1215246            Instruction   \n",
       "\n",
       "                                                text  \\\n",
       "1  Kitajsko mesto duhov\\nV Notranji Mongoliji ras...   \n",
       "2  Krompir skuhamo, olupimo in narežemo na tanke ...   \n",
       "\n",
       "                                         translation  \\\n",
       "1  The Chinese ghost city in Inner Mongolia is gr...   \n",
       "2  Cook the potatoes, peel and cut into thin ring...   \n",
       "\n",
       "                                           metadata       y_true  \\\n",
       "1  CLASSLA-web.sl.1087171', 'domain': 'mladina.si'}         News   \n",
       "2  CLASSLA-web.sl.1215246', 'domain': 'emorje.com'}  Instruction   \n",
       "\n",
       "                                              tokens  \\\n",
       "1  [▁Kita, jsko, ▁mesto, ▁duhov, ▁V, ▁Notranj, i,...   \n",
       "2  [▁Krom, pir, ▁s, kuha, mo, ,, ▁olup, imo, ▁in,...   \n",
       "\n",
       "                                           token_ids  \n",
       "1  [12992, 30878, 22041, 87909, 310, 240213, 14, ...  \n",
       "2  [128458, 21738, 91, 60863, 432, 4, 37663, 2414...  "
      ]
     },
     "metadata": {},
     "output_type": "display_data"
    },
    {
     "name": "stdout",
     "output_type": "stream",
     "text": [
      "Processing Information/Explanation\n",
      "Processing News\n",
      "Processing Instruction\n",
      "Processing Opinion/Argumentation\n",
      "Processing Forum\n",
      "Processing Prose/Lyrical\n",
      "Processing Legal\n",
      "Processing Promotion\n"
     ]
    }
   ],
   "source": [
    "# Do the same as with the dataset, but on every language\n",
    "lang_results = {}\n",
    "\n",
    "for lang in list(main_dict.keys()):\n",
    "\tprint(f\"Processing {lang}\")\n",
    "\n",
    "\tlabel_token_dict = {}\n",
    "\n",
    "\t# Current df\n",
    "\tdf = pd.DataFrame(main_dict[lang][\"dataset\"])\n",
    "\tdisplay(df.head(2))\n",
    "\n",
    "\tfor label in ['Information/Explanation', 'News', 'Instruction','Opinion/Argumentation', 'Forum', 'Prose/Lyrical', 'Legal','Promotion']:\n",
    "\t\tprint(f\"Processing {label}\")\n",
    "\n",
    "\t\tlabel_df = df[df[\"y_true\"] == label]\n",
    "\n",
    "\t\t# Create a list of tokens\n",
    "\t\ttoken_list = []\n",
    "\n",
    "\t\tfor i in label_df[\"tokens\"].to_list():\n",
    "\t\t\ttoken_list.extend(i)\n",
    "\n",
    "\t\t# Add to dictionary\n",
    "\t\tlabel_token_dict[label] = token_list\n",
    "\n",
    "\t# Add to main dict\n",
    "\tmain_dict[lang][\"token_overlap\"][\"label_level_token_lists\"] = label_token_dict\n"
   ]
  },
  {
   "cell_type": "code",
   "execution_count": 15,
   "metadata": {},
   "outputs": [],
   "source": [
    "# Save the extended json dict\n",
    "with open(\"manual-annotations/multilingual-genre-annotated-test-set.json\", \"w\") as file:\n",
    "\tjson.dump(main_dict, file)"
   ]
  },
  {
   "cell_type": "markdown",
   "metadata": {},
   "source": [
    "## Calculate overlap on label level"
   ]
  },
  {
   "cell_type": "code",
   "execution_count": 19,
   "metadata": {},
   "outputs": [
    {
     "data": {
      "text/plain": [
       "dict_keys(['Information/Explanation', 'News', 'Instruction', 'Opinion/Argumentation', 'Forum', 'Prose/Lyrical', 'Legal', 'Promotion'])"
      ]
     },
     "execution_count": 19,
     "metadata": {},
     "output_type": "execute_result"
    }
   ],
   "source": [
    "# Open label-based train token count\n",
    "with open(\"datasets/tokenized_datasets/X-GENRE-train-label-token-count.json\", \"r\") as train_label_count_file:\n",
    "\tlabel_token_count_train = json.load(train_label_count_file)\n",
    "\n",
    "label_token_count_train.keys()"
   ]
  },
  {
   "cell_type": "code",
   "execution_count": null,
   "metadata": {},
   "outputs": [],
   "source": [
    "# Import the main dict for test sets\n",
    "with open(\"manual-annotations/multilingual-genre-annotated-test-set.json\", \"r\") as file:\n",
    "\tmain_dict = json.load(file)\n",
    "\n",
    "main_dict[\"sl\"][\"token_overlap\"][\"label_level_token_lists\"]"
   ]
  },
  {
   "cell_type": "code",
   "execution_count": 18,
   "metadata": {},
   "outputs": [
    {
     "name": "stdout",
     "output_type": "stream",
     "text": [
      "mt\n",
      "Information/Explanation\n"
     ]
    },
    {
     "name": "stderr",
     "output_type": "stream",
     "text": [
      "100%|██████████| 6656/6656 [00:03<00:00, 2037.47it/s]\n"
     ]
    },
    {
     "name": "stdout",
     "output_type": "stream",
     "text": [
      "Percentage of overlap: 0.7145432692307692\n",
      "News\n"
     ]
    },
    {
     "name": "stderr",
     "output_type": "stream",
     "text": [
      "100%|██████████| 6978/6978 [00:03<00:00, 2046.50it/s]\n"
     ]
    },
    {
     "name": "stdout",
     "output_type": "stream",
     "text": [
      "Percentage of overlap: 0.7123817712811693\n",
      "Instruction\n"
     ]
    },
    {
     "name": "stderr",
     "output_type": "stream",
     "text": [
      "100%|██████████| 9288/9288 [00:03<00:00, 2881.30it/s]\n"
     ]
    },
    {
     "name": "stdout",
     "output_type": "stream",
     "text": [
      "Percentage of overlap: 0.6194013781223083\n",
      "Opinion/Argumentation\n"
     ]
    },
    {
     "name": "stderr",
     "output_type": "stream",
     "text": [
      "100%|██████████| 4096/4096 [00:01<00:00, 2549.66it/s]\n"
     ]
    },
    {
     "name": "stdout",
     "output_type": "stream",
     "text": [
      "Percentage of overlap: 0.68212890625\n",
      "Forum\n"
     ]
    },
    {
     "name": "stderr",
     "output_type": "stream",
     "text": [
      "100%|██████████| 512/512 [00:00<00:00, 3719.44it/s]\n"
     ]
    },
    {
     "name": "stdout",
     "output_type": "stream",
     "text": [
      "Percentage of overlap: 0.583984375\n",
      "Prose/Lyrical\n"
     ]
    },
    {
     "name": "stderr",
     "output_type": "stream",
     "text": [
      "100%|██████████| 512/512 [00:00<00:00, 4707.33it/s]\n"
     ]
    },
    {
     "name": "stdout",
     "output_type": "stream",
     "text": [
      "Percentage of overlap: 0.591796875\n",
      "Legal\n"
     ]
    },
    {
     "name": "stderr",
     "output_type": "stream",
     "text": [
      "100%|██████████| 5120/5120 [00:00<00:00, 10036.83it/s]\n"
     ]
    },
    {
     "name": "stdout",
     "output_type": "stream",
     "text": [
      "Percentage of overlap: 0.6763671875\n",
      "Promotion\n"
     ]
    },
    {
     "name": "stderr",
     "output_type": "stream",
     "text": [
      "100%|██████████| 5878/5878 [00:01<00:00, 3103.47it/s]\n"
     ]
    },
    {
     "name": "stdout",
     "output_type": "stream",
     "text": [
      "Percentage of overlap: 0.6578768288533514\n",
      "el\n",
      "Information/Explanation\n"
     ]
    },
    {
     "name": "stderr",
     "output_type": "stream",
     "text": [
      "100%|██████████| 5608/5608 [00:06<00:00, 907.70it/s] \n"
     ]
    },
    {
     "name": "stdout",
     "output_type": "stream",
     "text": [
      "Percentage of overlap: 0.13908701854493577\n",
      "News\n"
     ]
    },
    {
     "name": "stderr",
     "output_type": "stream",
     "text": [
      "100%|██████████| 3501/3501 [00:03<00:00, 943.57it/s] \n"
     ]
    },
    {
     "name": "stdout",
     "output_type": "stream",
     "text": [
      "Percentage of overlap: 0.1162524992859183\n",
      "Instruction\n"
     ]
    },
    {
     "name": "stderr",
     "output_type": "stream",
     "text": [
      "100%|██████████| 2971/2971 [00:01<00:00, 1662.94it/s]\n"
     ]
    },
    {
     "name": "stdout",
     "output_type": "stream",
     "text": [
      "Percentage of overlap: 0.16122517670817904\n",
      "Opinion/Argumentation\n"
     ]
    },
    {
     "name": "stderr",
     "output_type": "stream",
     "text": [
      "100%|██████████| 5607/5607 [00:04<00:00, 1240.54it/s]\n"
     ]
    },
    {
     "name": "stdout",
     "output_type": "stream",
     "text": [
      "Percentage of overlap: 0.11699661137863382\n",
      "Forum\n"
     ]
    },
    {
     "name": "stderr",
     "output_type": "stream",
     "text": [
      "100%|██████████| 5137/5137 [00:02<00:00, 2315.90it/s]\n"
     ]
    },
    {
     "name": "stdout",
     "output_type": "stream",
     "text": [
      "Percentage of overlap: 0.17033287911232242\n",
      "Prose/Lyrical\n"
     ]
    },
    {
     "name": "stderr",
     "output_type": "stream",
     "text": [
      "100%|██████████| 2872/2872 [00:01<00:00, 2827.42it/s]\n"
     ]
    },
    {
     "name": "stdout",
     "output_type": "stream",
     "text": [
      "Percentage of overlap: 0.14589136490250698\n",
      "Legal\n"
     ]
    },
    {
     "name": "stderr",
     "output_type": "stream",
     "text": [
      "100%|██████████| 3368/3368 [00:00<00:00, 4736.99it/s]\n"
     ]
    },
    {
     "name": "stdout",
     "output_type": "stream",
     "text": [
      "Percentage of overlap: 0.1395486935866983\n",
      "Promotion\n"
     ]
    },
    {
     "name": "stderr",
     "output_type": "stream",
     "text": [
      "100%|██████████| 2176/2176 [00:01<00:00, 1570.86it/s]\n"
     ]
    },
    {
     "name": "stdout",
     "output_type": "stream",
     "text": [
      "Percentage of overlap: 0.15900735294117652\n",
      "tr\n",
      "Information/Explanation\n"
     ]
    },
    {
     "name": "stderr",
     "output_type": "stream",
     "text": [
      "100%|██████████| 2289/2289 [00:01<00:00, 1411.61it/s]\n"
     ]
    },
    {
     "name": "stdout",
     "output_type": "stream",
     "text": [
      "Percentage of overlap: 0.47924858016601135\n",
      "News\n"
     ]
    },
    {
     "name": "stderr",
     "output_type": "stream",
     "text": [
      "100%|██████████| 3342/3342 [00:02<00:00, 1423.06it/s]\n"
     ]
    },
    {
     "name": "stdout",
     "output_type": "stream",
     "text": [
      "Percentage of overlap: 0.44105326152004787\n",
      "Instruction\n"
     ]
    },
    {
     "name": "stderr",
     "output_type": "stream",
     "text": [
      "100%|██████████| 4049/4049 [00:01<00:00, 2115.87it/s]\n"
     ]
    },
    {
     "name": "stdout",
     "output_type": "stream",
     "text": [
      "Percentage of overlap: 0.38281057051123735\n",
      "Opinion/Argumentation\n"
     ]
    },
    {
     "name": "stderr",
     "output_type": "stream",
     "text": [
      "100%|██████████| 5613/5613 [00:03<00:00, 1833.53it/s]\n"
     ]
    },
    {
     "name": "stdout",
     "output_type": "stream",
     "text": [
      "Percentage of overlap: 0.4332798859789774\n",
      "Forum\n"
     ]
    },
    {
     "name": "stderr",
     "output_type": "stream",
     "text": [
      "100%|██████████| 3219/3219 [00:01<00:00, 3051.48it/s]\n"
     ]
    },
    {
     "name": "stdout",
     "output_type": "stream",
     "text": [
      "Percentage of overlap: 0.44330537433985706\n",
      "Prose/Lyrical\n"
     ]
    },
    {
     "name": "stderr",
     "output_type": "stream",
     "text": [
      "100%|██████████| 3764/3764 [00:00<00:00, 3882.97it/s]\n"
     ]
    },
    {
     "name": "stdout",
     "output_type": "stream",
     "text": [
      "Percentage of overlap: 0.41339001062699254\n",
      "Legal\n"
     ]
    },
    {
     "name": "stderr",
     "output_type": "stream",
     "text": [
      "100%|██████████| 3677/3677 [00:00<00:00, 5758.01it/s]\n"
     ]
    },
    {
     "name": "stdout",
     "output_type": "stream",
     "text": [
      "Percentage of overlap: 0.3146586891487626\n",
      "Promotion\n"
     ]
    },
    {
     "name": "stderr",
     "output_type": "stream",
     "text": [
      "100%|██████████| 3625/3625 [00:01<00:00, 2183.09it/s]\n"
     ]
    },
    {
     "name": "stdout",
     "output_type": "stream",
     "text": [
      "Percentage of overlap: 0.39420689655172414\n",
      "sq\n",
      "Information/Explanation\n"
     ]
    },
    {
     "name": "stderr",
     "output_type": "stream",
     "text": [
      "100%|██████████| 5196/5196 [00:03<00:00, 1361.00it/s]\n"
     ]
    },
    {
     "name": "stdout",
     "output_type": "stream",
     "text": [
      "Percentage of overlap: 0.4844110854503464\n",
      "News\n"
     ]
    },
    {
     "name": "stderr",
     "output_type": "stream",
     "text": [
      "100%|██████████| 2415/2415 [00:01<00:00, 1400.32it/s]\n"
     ]
    },
    {
     "name": "stdout",
     "output_type": "stream",
     "text": [
      "Percentage of overlap: 0.4650103519668737\n",
      "Instruction\n"
     ]
    },
    {
     "name": "stderr",
     "output_type": "stream",
     "text": [
      "100%|██████████| 3204/3204 [00:01<00:00, 2169.89it/s]\n"
     ]
    },
    {
     "name": "stdout",
     "output_type": "stream",
     "text": [
      "Percentage of overlap: 0.4297752808988764\n",
      "Opinion/Argumentation\n"
     ]
    },
    {
     "name": "stderr",
     "output_type": "stream",
     "text": [
      "100%|██████████| 4440/4440 [00:02<00:00, 1882.93it/s]\n"
     ]
    },
    {
     "name": "stdout",
     "output_type": "stream",
     "text": [
      "Percentage of overlap: 0.4747747747747748\n",
      "Forum\n"
     ]
    },
    {
     "name": "stderr",
     "output_type": "stream",
     "text": [
      "100%|██████████| 3509/3509 [00:00<00:00, 3555.70it/s]\n"
     ]
    },
    {
     "name": "stdout",
     "output_type": "stream",
     "text": [
      "Percentage of overlap: 0.5950413223140496\n",
      "Prose/Lyrical\n"
     ]
    },
    {
     "name": "stderr",
     "output_type": "stream",
     "text": [
      "100%|██████████| 3393/3393 [00:00<00:00, 4236.06it/s]\n"
     ]
    },
    {
     "name": "stdout",
     "output_type": "stream",
     "text": [
      "Percentage of overlap: 0.49277925139994105\n",
      "Legal\n"
     ]
    },
    {
     "name": "stderr",
     "output_type": "stream",
     "text": [
      "100%|██████████| 2817/2817 [00:00<00:00, 6103.46it/s]\n"
     ]
    },
    {
     "name": "stdout",
     "output_type": "stream",
     "text": [
      "Percentage of overlap: 0.37841675541356057\n",
      "Promotion\n"
     ]
    },
    {
     "name": "stderr",
     "output_type": "stream",
     "text": [
      "100%|██████████| 1795/1795 [00:00<00:00, 2553.77it/s]\n"
     ]
    },
    {
     "name": "stdout",
     "output_type": "stream",
     "text": [
      "Percentage of overlap: 0.5337047353760446\n",
      "is\n",
      "Information/Explanation\n"
     ]
    },
    {
     "name": "stderr",
     "output_type": "stream",
     "text": [
      "100%|██████████| 2151/2151 [00:01<00:00, 1357.65it/s]\n"
     ]
    },
    {
     "name": "stdout",
     "output_type": "stream",
     "text": [
      "Percentage of overlap: 0.45560204556020456\n",
      "News\n"
     ]
    },
    {
     "name": "stderr",
     "output_type": "stream",
     "text": [
      "100%|██████████| 4149/4149 [00:03<00:00, 1272.20it/s]\n"
     ]
    },
    {
     "name": "stdout",
     "output_type": "stream",
     "text": [
      "Percentage of overlap: 0.4196191853458665\n",
      "Instruction\n"
     ]
    },
    {
     "name": "stderr",
     "output_type": "stream",
     "text": [
      "100%|██████████| 3915/3915 [00:01<00:00, 1982.39it/s]\n"
     ]
    },
    {
     "name": "stdout",
     "output_type": "stream",
     "text": [
      "Percentage of overlap: 0.383397190293742\n",
      "Opinion/Argumentation\n"
     ]
    },
    {
     "name": "stderr",
     "output_type": "stream",
     "text": [
      "100%|██████████| 4970/4970 [00:02<00:00, 1715.09it/s]\n"
     ]
    },
    {
     "name": "stdout",
     "output_type": "stream",
     "text": [
      "Percentage of overlap: 0.4191146881287726\n",
      "Forum\n"
     ]
    },
    {
     "name": "stderr",
     "output_type": "stream",
     "text": [
      "100%|██████████| 2769/2769 [00:00<00:00, 2918.99it/s]\n"
     ]
    },
    {
     "name": "stdout",
     "output_type": "stream",
     "text": [
      "Percentage of overlap: 0.40195016251354276\n",
      "Prose/Lyrical\n"
     ]
    },
    {
     "name": "stderr",
     "output_type": "stream",
     "text": [
      "100%|██████████| 4649/4649 [00:01<00:00, 3567.51it/s]\n"
     ]
    },
    {
     "name": "stdout",
     "output_type": "stream",
     "text": [
      "Percentage of overlap: 0.37491933749193374\n",
      "Legal\n"
     ]
    },
    {
     "name": "stderr",
     "output_type": "stream",
     "text": [
      "100%|██████████| 4005/4005 [00:00<00:00, 6007.83it/s]\n"
     ]
    },
    {
     "name": "stdout",
     "output_type": "stream",
     "text": [
      "Percentage of overlap: 0.3468164794007491\n",
      "Promotion\n"
     ]
    },
    {
     "name": "stderr",
     "output_type": "stream",
     "text": [
      "100%|██████████| 3036/3036 [00:01<00:00, 2110.08it/s]\n"
     ]
    },
    {
     "name": "stdout",
     "output_type": "stream",
     "text": [
      "Percentage of overlap: 0.43346508563899866\n",
      "uk\n",
      "Information/Explanation\n"
     ]
    },
    {
     "name": "stderr",
     "output_type": "stream",
     "text": [
      "100%|██████████| 4352/4352 [00:04<00:00, 931.01it/s] \n"
     ]
    },
    {
     "name": "stdout",
     "output_type": "stream",
     "text": [
      "Percentage of overlap: 0.13304227941176472\n",
      "News\n"
     ]
    },
    {
     "name": "stderr",
     "output_type": "stream",
     "text": [
      "100%|██████████| 3386/3386 [00:03<00:00, 971.51it/s] \n"
     ]
    },
    {
     "name": "stdout",
     "output_type": "stream",
     "text": [
      "Percentage of overlap: 0.13112817483756645\n",
      "Instruction\n"
     ]
    },
    {
     "name": "stderr",
     "output_type": "stream",
     "text": [
      "100%|██████████| 4411/4411 [00:02<00:00, 1589.06it/s]\n"
     ]
    },
    {
     "name": "stdout",
     "output_type": "stream",
     "text": [
      "Percentage of overlap: 0.11902063024257536\n",
      "Opinion/Argumentation\n"
     ]
    },
    {
     "name": "stderr",
     "output_type": "stream",
     "text": [
      "100%|██████████| 5386/5386 [00:04<00:00, 1303.95it/s]\n"
     ]
    },
    {
     "name": "stdout",
     "output_type": "stream",
     "text": [
      "Percentage of overlap: 0.14611956925362046\n",
      "Forum\n"
     ]
    },
    {
     "name": "stderr",
     "output_type": "stream",
     "text": [
      "100%|██████████| 3528/3528 [00:01<00:00, 2338.17it/s]\n"
     ]
    },
    {
     "name": "stdout",
     "output_type": "stream",
     "text": [
      "Percentage of overlap: 0.16638321995464855\n",
      "Prose/Lyrical\n"
     ]
    },
    {
     "name": "stderr",
     "output_type": "stream",
     "text": [
      "100%|██████████| 4282/4282 [00:01<00:00, 2941.81it/s]\n"
     ]
    },
    {
     "name": "stdout",
     "output_type": "stream",
     "text": [
      "Percentage of overlap: 0.16184026156001863\n",
      "Legal\n"
     ]
    },
    {
     "name": "stderr",
     "output_type": "stream",
     "text": [
      "100%|██████████| 3484/3484 [00:00<00:00, 5085.64it/s]\n"
     ]
    },
    {
     "name": "stdout",
     "output_type": "stream",
     "text": [
      "Percentage of overlap: 0.1702066590126292\n",
      "Promotion\n"
     ]
    },
    {
     "name": "stderr",
     "output_type": "stream",
     "text": [
      "100%|██████████| 2848/2848 [00:01<00:00, 1586.98it/s]\n"
     ]
    },
    {
     "name": "stdout",
     "output_type": "stream",
     "text": [
      "Percentage of overlap: 0.1629213483146067\n",
      "ca\n",
      "Information/Explanation\n"
     ]
    },
    {
     "name": "stderr",
     "output_type": "stream",
     "text": [
      "100%|██████████| 4017/4017 [00:02<00:00, 1694.22it/s]\n"
     ]
    },
    {
     "name": "stdout",
     "output_type": "stream",
     "text": [
      "Percentage of overlap: 0.6069205875031118\n",
      "News\n"
     ]
    },
    {
     "name": "stderr",
     "output_type": "stream",
     "text": [
      "100%|██████████| 2612/2612 [00:01<00:00, 1775.23it/s]\n"
     ]
    },
    {
     "name": "stdout",
     "output_type": "stream",
     "text": [
      "Percentage of overlap: 0.6125574272588055\n",
      "Instruction\n"
     ]
    },
    {
     "name": "stderr",
     "output_type": "stream",
     "text": [
      "100%|██████████| 2133/2133 [00:00<00:00, 2979.27it/s]\n"
     ]
    },
    {
     "name": "stdout",
     "output_type": "stream",
     "text": [
      "Percentage of overlap: 0.6207219878105954\n",
      "Opinion/Argumentation\n"
     ]
    },
    {
     "name": "stderr",
     "output_type": "stream",
     "text": [
      "100%|██████████| 3368/3368 [00:01<00:00, 2657.55it/s]\n"
     ]
    },
    {
     "name": "stdout",
     "output_type": "stream",
     "text": [
      "Percentage of overlap: 0.6339073634204275\n",
      "Forum\n"
     ]
    },
    {
     "name": "stderr",
     "output_type": "stream",
     "text": [
      "100%|██████████| 3755/3755 [00:00<00:00, 4183.81it/s]\n"
     ]
    },
    {
     "name": "stdout",
     "output_type": "stream",
     "text": [
      "Percentage of overlap: 0.6399467376830892\n",
      "Prose/Lyrical\n"
     ]
    },
    {
     "name": "stderr",
     "output_type": "stream",
     "text": [
      "100%|██████████| 4092/4092 [00:00<00:00, 4936.87it/s]\n"
     ]
    },
    {
     "name": "stdout",
     "output_type": "stream",
     "text": [
      "Percentage of overlap: 0.5916422287390029\n",
      "Legal\n"
     ]
    },
    {
     "name": "stderr",
     "output_type": "stream",
     "text": [
      "100%|██████████| 3336/3336 [00:00<00:00, 7248.70it/s]\n"
     ]
    },
    {
     "name": "stdout",
     "output_type": "stream",
     "text": [
      "Percentage of overlap: 0.4787170263788969\n",
      "Promotion\n"
     ]
    },
    {
     "name": "stderr",
     "output_type": "stream",
     "text": [
      "100%|██████████| 4231/4231 [00:01<00:00, 3027.25it/s]\n"
     ]
    },
    {
     "name": "stdout",
     "output_type": "stream",
     "text": [
      "Percentage of overlap: 0.616875443157646\n",
      "mk\n",
      "Information/Explanation\n"
     ]
    },
    {
     "name": "stderr",
     "output_type": "stream",
     "text": [
      "100%|██████████| 3324/3324 [00:03<00:00, 939.12it/s] \n"
     ]
    },
    {
     "name": "stdout",
     "output_type": "stream",
     "text": [
      "Percentage of overlap: 0.16817087845968715\n",
      "News\n"
     ]
    },
    {
     "name": "stderr",
     "output_type": "stream",
     "text": [
      "100%|██████████| 3778/3778 [00:04<00:00, 941.74it/s]\n"
     ]
    },
    {
     "name": "stdout",
     "output_type": "stream",
     "text": [
      "Percentage of overlap: 0.10534674430915825\n",
      "Instruction\n"
     ]
    },
    {
     "name": "stderr",
     "output_type": "stream",
     "text": [
      "100%|██████████| 3271/3271 [00:02<00:00, 1618.28it/s]\n"
     ]
    },
    {
     "name": "stdout",
     "output_type": "stream",
     "text": [
      "Percentage of overlap: 0.1213696117395292\n",
      "Opinion/Argumentation\n"
     ]
    },
    {
     "name": "stderr",
     "output_type": "stream",
     "text": [
      "100%|██████████| 3007/3007 [00:02<00:00, 1295.36it/s]\n"
     ]
    },
    {
     "name": "stdout",
     "output_type": "stream",
     "text": [
      "Percentage of overlap: 0.12337878284003989\n",
      "Forum\n"
     ]
    },
    {
     "name": "stderr",
     "output_type": "stream",
     "text": [
      "100%|██████████| 4072/4072 [00:01<00:00, 2288.53it/s]\n"
     ]
    },
    {
     "name": "stdout",
     "output_type": "stream",
     "text": [
      "Percentage of overlap: 0.15446954813359526\n",
      "Prose/Lyrical\n"
     ]
    },
    {
     "name": "stderr",
     "output_type": "stream",
     "text": [
      "100%|██████████| 3892/3892 [00:01<00:00, 2860.47it/s]\n"
     ]
    },
    {
     "name": "stdout",
     "output_type": "stream",
     "text": [
      "Percentage of overlap: 0.1500513874614594\n",
      "Legal\n"
     ]
    },
    {
     "name": "stderr",
     "output_type": "stream",
     "text": [
      "100%|██████████| 3412/3412 [00:00<00:00, 4725.52it/s]\n"
     ]
    },
    {
     "name": "stdout",
     "output_type": "stream",
     "text": [
      "Percentage of overlap: 0.11371629542790151\n",
      "Promotion\n"
     ]
    },
    {
     "name": "stderr",
     "output_type": "stream",
     "text": [
      "100%|██████████| 2883/2883 [00:01<00:00, 1501.35it/s]\n"
     ]
    },
    {
     "name": "stdout",
     "output_type": "stream",
     "text": [
      "Percentage of overlap: 0.13146028442594515\n",
      "hr\n",
      "Information/Explanation\n"
     ]
    },
    {
     "name": "stderr",
     "output_type": "stream",
     "text": [
      "100%|██████████| 4027/4027 [00:02<00:00, 1887.75it/s]\n"
     ]
    },
    {
     "name": "stdout",
     "output_type": "stream",
     "text": [
      "Percentage of overlap: 0.7047429848522473\n",
      "News\n"
     ]
    },
    {
     "name": "stderr",
     "output_type": "stream",
     "text": [
      "100%|██████████| 3237/3237 [00:01<00:00, 1955.14it/s]\n"
     ]
    },
    {
     "name": "stdout",
     "output_type": "stream",
     "text": [
      "Percentage of overlap: 0.7194933580475749\n",
      "Instruction\n"
     ]
    },
    {
     "name": "stderr",
     "output_type": "stream",
     "text": [
      "100%|██████████| 1701/1701 [00:00<00:00, 2705.21it/s]\n"
     ]
    },
    {
     "name": "stdout",
     "output_type": "stream",
     "text": [
      "Percentage of overlap: 0.6202233980011758\n",
      "Opinion/Argumentation\n"
     ]
    },
    {
     "name": "stderr",
     "output_type": "stream",
     "text": [
      "100%|██████████| 3427/3427 [00:01<00:00, 2353.35it/s]\n"
     ]
    },
    {
     "name": "stdout",
     "output_type": "stream",
     "text": [
      "Percentage of overlap: 0.6807703530784943\n",
      "Forum\n"
     ]
    },
    {
     "name": "stderr",
     "output_type": "stream",
     "text": [
      "100%|██████████| 3811/3811 [00:01<00:00, 3549.18it/s]\n"
     ]
    },
    {
     "name": "stdout",
     "output_type": "stream",
     "text": [
      "Percentage of overlap: 0.6452374704801889\n",
      "Prose/Lyrical\n"
     ]
    },
    {
     "name": "stderr",
     "output_type": "stream",
     "text": [
      "100%|██████████| 2651/2651 [00:00<00:00, 4353.90it/s]\n"
     ]
    },
    {
     "name": "stdout",
     "output_type": "stream",
     "text": [
      "Percentage of overlap: 0.5620520558279894\n",
      "Legal\n"
     ]
    },
    {
     "name": "stderr",
     "output_type": "stream",
     "text": [
      "100%|██████████| 3490/3490 [00:00<00:00, 7708.46it/s]\n"
     ]
    },
    {
     "name": "stdout",
     "output_type": "stream",
     "text": [
      "Percentage of overlap: 0.5272206303724929\n",
      "Promotion\n"
     ]
    },
    {
     "name": "stderr",
     "output_type": "stream",
     "text": [
      "100%|██████████| 4202/4202 [00:01<00:00, 3649.87it/s]\n"
     ]
    },
    {
     "name": "stdout",
     "output_type": "stream",
     "text": [
      "Percentage of overlap: 0.6972870061875298\n",
      "sl\n",
      "Information/Explanation\n"
     ]
    },
    {
     "name": "stderr",
     "output_type": "stream",
     "text": [
      "100%|██████████| 3446/3446 [00:01<00:00, 2598.65it/s]\n"
     ]
    },
    {
     "name": "stdout",
     "output_type": "stream",
     "text": [
      "Percentage of overlap: 0.8682530470110272\n",
      "News\n"
     ]
    },
    {
     "name": "stderr",
     "output_type": "stream",
     "text": [
      "100%|██████████| 3452/3452 [00:01<00:00, 2437.77it/s]\n"
     ]
    },
    {
     "name": "stdout",
     "output_type": "stream",
     "text": [
      "Percentage of overlap: 0.9122247972190035\n",
      "Instruction\n"
     ]
    },
    {
     "name": "stderr",
     "output_type": "stream",
     "text": [
      "100%|██████████| 3395/3395 [00:01<00:00, 3087.92it/s]\n"
     ]
    },
    {
     "name": "stdout",
     "output_type": "stream",
     "text": [
      "Percentage of overlap: 0.7705449189985273\n",
      "Opinion/Argumentation\n"
     ]
    },
    {
     "name": "stderr",
     "output_type": "stream",
     "text": [
      "100%|██████████| 2471/2471 [00:00<00:00, 2986.05it/s]\n"
     ]
    },
    {
     "name": "stdout",
     "output_type": "stream",
     "text": [
      "Percentage of overlap: 0.8887090246863618\n",
      "Forum\n"
     ]
    },
    {
     "name": "stderr",
     "output_type": "stream",
     "text": [
      "100%|██████████| 3970/3970 [00:01<00:00, 3760.73it/s]\n"
     ]
    },
    {
     "name": "stdout",
     "output_type": "stream",
     "text": [
      "Percentage of overlap: 0.801007556675063\n",
      "Prose/Lyrical\n"
     ]
    },
    {
     "name": "stderr",
     "output_type": "stream",
     "text": [
      "100%|██████████| 2909/2909 [00:00<00:00, 5512.87it/s]\n"
     ]
    },
    {
     "name": "stdout",
     "output_type": "stream",
     "text": [
      "Percentage of overlap: 0.6995531110347198\n",
      "Legal\n"
     ]
    },
    {
     "name": "stderr",
     "output_type": "stream",
     "text": [
      "100%|██████████| 3446/3446 [00:00<00:00, 11590.15it/s]\n"
     ]
    },
    {
     "name": "stdout",
     "output_type": "stream",
     "text": [
      "Percentage of overlap: 0.7556587347649448\n",
      "Promotion\n"
     ]
    },
    {
     "name": "stderr",
     "output_type": "stream",
     "text": [
      "100%|██████████| 3203/3203 [00:00<00:00, 6488.16it/s]"
     ]
    },
    {
     "name": "stdout",
     "output_type": "stream",
     "text": [
      "Percentage of overlap: 0.8741804558226662\n"
     ]
    },
    {
     "name": "stderr",
     "output_type": "stream",
     "text": [
      "\n"
     ]
    }
   ],
   "source": [
    "# Improved code to calculate token overlap - we can simply calculate which tokens do not overlap - meaning that they occur only in one of the dataset, and calculate the percentage overlap based on that\n",
    "token_overlap_label_results = {}\n",
    "results = {}\n",
    "\n",
    "# Loop through the datasets and labels and calculate token overlap\n",
    "for lang in list(main_dict.keys()):\n",
    "\tprint(lang)\n",
    "\t# Create a dict for labels\n",
    "\tlabel_overlap = {}\n",
    "\tlabel_overlap_tokens = {}\n",
    "\n",
    "\t# loop through labels\n",
    "\tfor label in ['Information/Explanation', 'News', 'Instruction','Opinion/Argumentation', 'Forum', 'Prose/Lyrical', 'Legal','Promotion']:\n",
    "\t\tprint(label)\n",
    "\t\ttoken_list_test = main_dict[lang][\"token_overlap\"][\"label_level_token_lists\"][label]\n",
    "\n",
    "\t\ttoken_list_train = label_token_count_train[label]\n",
    "\n",
    "\t\t# See how many tokens do not overlap\n",
    "\t\tno_overlap_counter = 0\n",
    "\n",
    "\t\t# Save tokens that overlap for further inspection\n",
    "\t\toverlap_token_list = []\n",
    "\n",
    "\t\t# We calculate overlap by counting how many tokens do not appear in both sets\n",
    "\t\tfor token in tqdm(token_list_test):\n",
    "\t\t\tif token not in token_list_train:\n",
    "\t\t\t\tno_overlap_counter += 1\n",
    "\t\t\telse:\n",
    "\t\t\t\toverlap_token_list.append(token)\n",
    "\n",
    "\t\t# Out of all tokens in test set, how many do not overlap with train set?\n",
    "\t\tno_overlap_per = no_overlap_counter/len(token_list_test)\n",
    "\n",
    "\t\t# Calculate percentage of overlap based on that\n",
    "\t\toverlap_per = 1-no_overlap_per\n",
    "\n",
    "\t\tprint(f\"Percentage of overlap: {overlap_per}\")\n",
    "\n",
    "\t\tlabel_overlap[label] = overlap_per\n",
    "\t\tlabel_overlap_tokens[label] = overlap_token_list\n",
    "\n",
    "\t\t# Add to the results\n",
    "\t\tresults[f\"{lang}-{label}\"] = overlap_per\n",
    "\n",
    "\t# Add the list of all tokens to the dictionary\n",
    "\tmain_dict[lang][\"token_overlap\"][\"label_overlap_percentage\"] = label_overlap\n",
    "\tmain_dict[lang][\"token_overlap\"][\"label_overlap_token_list\"] = label_overlap_tokens"
   ]
  },
  {
   "cell_type": "code",
   "execution_count": 21,
   "metadata": {},
   "outputs": [
    {
     "data": {
      "text/plain": [
       "{'mt-Information/Explanation': 0.7145432692307692,\n",
       " 'mt-News': 0.7123817712811693,\n",
       " 'mt-Instruction': 0.6194013781223083,\n",
       " 'mt-Opinion/Argumentation': 0.68212890625,\n",
       " 'mt-Forum': 0.583984375,\n",
       " 'mt-Prose/Lyrical': 0.591796875,\n",
       " 'mt-Legal': 0.6763671875,\n",
       " 'mt-Promotion': 0.6578768288533514,\n",
       " 'el-Information/Explanation': 0.13908701854493577,\n",
       " 'el-News': 0.1162524992859183,\n",
       " 'el-Instruction': 0.16122517670817904,\n",
       " 'el-Opinion/Argumentation': 0.11699661137863382,\n",
       " 'el-Forum': 0.17033287911232242,\n",
       " 'el-Prose/Lyrical': 0.14589136490250698,\n",
       " 'el-Legal': 0.1395486935866983,\n",
       " 'el-Promotion': 0.15900735294117652,\n",
       " 'tr-Information/Explanation': 0.47924858016601135,\n",
       " 'tr-News': 0.44105326152004787,\n",
       " 'tr-Instruction': 0.38281057051123735,\n",
       " 'tr-Opinion/Argumentation': 0.4332798859789774,\n",
       " 'tr-Forum': 0.44330537433985706,\n",
       " 'tr-Prose/Lyrical': 0.41339001062699254,\n",
       " 'tr-Legal': 0.3146586891487626,\n",
       " 'tr-Promotion': 0.39420689655172414,\n",
       " 'sq-Information/Explanation': 0.4844110854503464,\n",
       " 'sq-News': 0.4650103519668737,\n",
       " 'sq-Instruction': 0.4297752808988764,\n",
       " 'sq-Opinion/Argumentation': 0.4747747747747748,\n",
       " 'sq-Forum': 0.5950413223140496,\n",
       " 'sq-Prose/Lyrical': 0.49277925139994105,\n",
       " 'sq-Legal': 0.37841675541356057,\n",
       " 'sq-Promotion': 0.5337047353760446,\n",
       " 'is-Information/Explanation': 0.45560204556020456,\n",
       " 'is-News': 0.4196191853458665,\n",
       " 'is-Instruction': 0.383397190293742,\n",
       " 'is-Opinion/Argumentation': 0.4191146881287726,\n",
       " 'is-Forum': 0.40195016251354276,\n",
       " 'is-Prose/Lyrical': 0.37491933749193374,\n",
       " 'is-Legal': 0.3468164794007491,\n",
       " 'is-Promotion': 0.43346508563899866,\n",
       " 'uk-Information/Explanation': 0.13304227941176472,\n",
       " 'uk-News': 0.13112817483756645,\n",
       " 'uk-Instruction': 0.11902063024257536,\n",
       " 'uk-Opinion/Argumentation': 0.14611956925362046,\n",
       " 'uk-Forum': 0.16638321995464855,\n",
       " 'uk-Prose/Lyrical': 0.16184026156001863,\n",
       " 'uk-Legal': 0.1702066590126292,\n",
       " 'uk-Promotion': 0.1629213483146067,\n",
       " 'ca-Information/Explanation': 0.6069205875031118,\n",
       " 'ca-News': 0.6125574272588055,\n",
       " 'ca-Instruction': 0.6207219878105954,\n",
       " 'ca-Opinion/Argumentation': 0.6339073634204275,\n",
       " 'ca-Forum': 0.6399467376830892,\n",
       " 'ca-Prose/Lyrical': 0.5916422287390029,\n",
       " 'ca-Legal': 0.4787170263788969,\n",
       " 'ca-Promotion': 0.616875443157646,\n",
       " 'mk-Information/Explanation': 0.16817087845968715,\n",
       " 'mk-News': 0.10534674430915825,\n",
       " 'mk-Instruction': 0.1213696117395292,\n",
       " 'mk-Opinion/Argumentation': 0.12337878284003989,\n",
       " 'mk-Forum': 0.15446954813359526,\n",
       " 'mk-Prose/Lyrical': 0.1500513874614594,\n",
       " 'mk-Legal': 0.11371629542790151,\n",
       " 'mk-Promotion': 0.13146028442594515,\n",
       " 'hr-Information/Explanation': 0.7047429848522473,\n",
       " 'hr-News': 0.7194933580475749,\n",
       " 'hr-Instruction': 0.6202233980011758,\n",
       " 'hr-Opinion/Argumentation': 0.6807703530784943,\n",
       " 'hr-Forum': 0.6452374704801889,\n",
       " 'hr-Prose/Lyrical': 0.5620520558279894,\n",
       " 'hr-Legal': 0.5272206303724929,\n",
       " 'hr-Promotion': 0.6972870061875298,\n",
       " 'sl-Information/Explanation': 0.8682530470110272,\n",
       " 'sl-News': 0.9122247972190035,\n",
       " 'sl-Instruction': 0.7705449189985273,\n",
       " 'sl-Opinion/Argumentation': 0.8887090246863618,\n",
       " 'sl-Forum': 0.801007556675063,\n",
       " 'sl-Prose/Lyrical': 0.6995531110347198,\n",
       " 'sl-Legal': 0.7556587347649448,\n",
       " 'sl-Promotion': 0.8741804558226662}"
      ]
     },
     "execution_count": 21,
     "metadata": {},
     "output_type": "execute_result"
    }
   ],
   "source": [
    "results"
   ]
  },
  {
   "cell_type": "code",
   "execution_count": 22,
   "metadata": {},
   "outputs": [
    {
     "data": {
      "text/html": [
       "<div>\n",
       "<style scoped>\n",
       "    .dataframe tbody tr th:only-of-type {\n",
       "        vertical-align: middle;\n",
       "    }\n",
       "\n",
       "    .dataframe tbody tr th {\n",
       "        vertical-align: top;\n",
       "    }\n",
       "\n",
       "    .dataframe thead th {\n",
       "        text-align: right;\n",
       "    }\n",
       "</style>\n",
       "<table border=\"1\" class=\"dataframe\">\n",
       "  <thead>\n",
       "    <tr style=\"text-align: right;\">\n",
       "      <th></th>\n",
       "      <th>label</th>\n",
       "      <th>overlap</th>\n",
       "    </tr>\n",
       "  </thead>\n",
       "  <tbody>\n",
       "    <tr>\n",
       "      <th>0</th>\n",
       "      <td>mt-Information/Explanation</td>\n",
       "      <td>0.714543</td>\n",
       "    </tr>\n",
       "    <tr>\n",
       "      <th>1</th>\n",
       "      <td>mt-News</td>\n",
       "      <td>0.712382</td>\n",
       "    </tr>\n",
       "    <tr>\n",
       "      <th>2</th>\n",
       "      <td>mt-Instruction</td>\n",
       "      <td>0.619401</td>\n",
       "    </tr>\n",
       "    <tr>\n",
       "      <th>3</th>\n",
       "      <td>mt-Opinion/Argumentation</td>\n",
       "      <td>0.682129</td>\n",
       "    </tr>\n",
       "    <tr>\n",
       "      <th>4</th>\n",
       "      <td>mt-Forum</td>\n",
       "      <td>0.583984</td>\n",
       "    </tr>\n",
       "    <tr>\n",
       "      <th>...</th>\n",
       "      <td>...</td>\n",
       "      <td>...</td>\n",
       "    </tr>\n",
       "    <tr>\n",
       "      <th>75</th>\n",
       "      <td>sl-Opinion/Argumentation</td>\n",
       "      <td>0.888709</td>\n",
       "    </tr>\n",
       "    <tr>\n",
       "      <th>76</th>\n",
       "      <td>sl-Forum</td>\n",
       "      <td>0.801008</td>\n",
       "    </tr>\n",
       "    <tr>\n",
       "      <th>77</th>\n",
       "      <td>sl-Prose/Lyrical</td>\n",
       "      <td>0.699553</td>\n",
       "    </tr>\n",
       "    <tr>\n",
       "      <th>78</th>\n",
       "      <td>sl-Legal</td>\n",
       "      <td>0.755659</td>\n",
       "    </tr>\n",
       "    <tr>\n",
       "      <th>79</th>\n",
       "      <td>sl-Promotion</td>\n",
       "      <td>0.874180</td>\n",
       "    </tr>\n",
       "  </tbody>\n",
       "</table>\n",
       "<p>80 rows × 2 columns</p>\n",
       "</div>"
      ],
      "text/plain": [
       "                         label   overlap\n",
       "0   mt-Information/Explanation  0.714543\n",
       "1                      mt-News  0.712382\n",
       "2               mt-Instruction  0.619401\n",
       "3     mt-Opinion/Argumentation  0.682129\n",
       "4                     mt-Forum  0.583984\n",
       "..                         ...       ...\n",
       "75    sl-Opinion/Argumentation  0.888709\n",
       "76                    sl-Forum  0.801008\n",
       "77            sl-Prose/Lyrical  0.699553\n",
       "78                    sl-Legal  0.755659\n",
       "79                sl-Promotion  0.874180\n",
       "\n",
       "[80 rows x 2 columns]"
      ]
     },
     "execution_count": 22,
     "metadata": {},
     "output_type": "execute_result"
    }
   ],
   "source": [
    "# Inspect the results\n",
    "overlap_df = pd.DataFrame({\"label\": list(results.keys()), \"overlap\": list(results.values())})\n",
    "overlap_df"
   ]
  },
  {
   "cell_type": "code",
   "execution_count": 35,
   "metadata": {},
   "outputs": [],
   "source": [
    "# Save the label-level-overlap\n",
    "with open(\"datasets/label-level-token-overlap.csv\", \"w\") as file:\n",
    "\toverlap_df.to_csv(file)"
   ]
  },
  {
   "cell_type": "code",
   "execution_count": 23,
   "metadata": {},
   "outputs": [],
   "source": [
    "# Save the extended json dict\n",
    "with open(\"manual-annotations/multilingual-genre-annotated-test-set.json\", \"w\") as file:\n",
    "\tjson.dump(main_dict, file)"
   ]
  },
  {
   "cell_type": "markdown",
   "metadata": {},
   "source": [
    "# Calculate token overlap with transliterated texts"
   ]
  },
  {
   "cell_type": "markdown",
   "metadata": {},
   "source": [
    "For languages which are in non-Latin script, let's experiment also with transliteration to see what is the effect on the results."
   ]
  },
  {
   "cell_type": "markdown",
   "metadata": {},
   "source": [
    "## Prepare transliterated and normalized versions"
   ]
  },
  {
   "cell_type": "code",
   "execution_count": 10,
   "metadata": {},
   "outputs": [
    {
     "data": {
      "text/plain": [
       "dict_keys(['mt', 'el', 'tr', 'sq', 'is', 'uk', 'ca', 'mk', 'hr', 'sl'])"
      ]
     },
     "execution_count": 10,
     "metadata": {},
     "output_type": "execute_result"
    }
   ],
   "source": [
    "# Import the final dataset with test sets\n",
    "with open(\"manual-annotations/multilingual-genre-annotated-test-set.json\") as main_file:\n",
    "\tmain_dict = json.load(main_file)\n",
    "\n",
    "main_dict.keys()"
   ]
  },
  {
   "cell_type": "code",
   "execution_count": 25,
   "metadata": {},
   "outputs": [
    {
     "data": {
      "text/plain": [
       "dict_keys(['overlap_percentage', 'token_list', 'overlap_token_list', 'token_count', 'cosine_similarity', 'intersection_df', 'intersection_vector_size', 'label_level_token_lists'])"
      ]
     },
     "execution_count": 25,
     "metadata": {},
     "output_type": "execute_result"
    }
   ],
   "source": [
    "main_dict[\"sl\"][\"token_overlap\"].keys()"
   ]
  },
  {
   "cell_type": "code",
   "execution_count": 21,
   "metadata": {},
   "outputs": [],
   "source": [
    "# Transliterate the Cyrillic scripts, using the cyrtranslit library: https://github.com/opendatakosovo/cyrillic-transliteration"
   ]
  },
  {
   "cell_type": "code",
   "execution_count": 26,
   "metadata": {},
   "outputs": [
    {
     "data": {
      "text/html": [
       "<div>\n",
       "<style scoped>\n",
       "    .dataframe tbody tr th:only-of-type {\n",
       "        vertical-align: middle;\n",
       "    }\n",
       "\n",
       "    .dataframe tbody tr th {\n",
       "        vertical-align: top;\n",
       "    }\n",
       "\n",
       "    .dataframe thead th {\n",
       "        text-align: right;\n",
       "    }\n",
       "</style>\n",
       "<table border=\"1\" class=\"dataframe\">\n",
       "  <thead>\n",
       "    <tr style=\"text-align: right;\">\n",
       "      <th></th>\n",
       "      <th>text_id</th>\n",
       "      <th>y_pred</th>\n",
       "      <th>text</th>\n",
       "      <th>translation</th>\n",
       "      <th>metadata</th>\n",
       "      <th>y_true</th>\n",
       "      <th>tokens</th>\n",
       "      <th>token_ids</th>\n",
       "    </tr>\n",
       "  </thead>\n",
       "  <tbody>\n",
       "    <tr>\n",
       "      <th>0</th>\n",
       "      <td>macocu.uk.419381</td>\n",
       "      <td>Instruction</td>\n",
       "      <td>Нестандартний підхід для виготовлення Акваріум...</td>\n",
       "      <td>A non -standard approach for making aquarium.O...</td>\n",
       "      <td>{'text_id': 'macocu.uk.419381'}</td>\n",
       "      <td>Instruction</td>\n",
       "      <td>[▁Не, стандарт, ний, ▁підхід, ▁для, ▁виготовле...</td>\n",
       "      <td>[1087, 159257, 1394, 205827, 518, 166156, 1307...</td>\n",
       "    </tr>\n",
       "    <tr>\n",
       "      <th>1</th>\n",
       "      <td>macocu.uk.16993168</td>\n",
       "      <td>Prose/Lyrical</td>\n",
       "      <td>МУЧЕНИКИ БУЧА-ІРПІНЬ \\n\\nНе снилось полянам й ...</td>\n",
       "      <td>The martyrs of Bucha-Irpin\\n\\nThe glades and t...</td>\n",
       "      <td>{'text_id': 'macocu.uk.16993168'}</td>\n",
       "      <td>Prose/Lyrical</td>\n",
       "      <td>[▁М, УЧ, ЕНИ, КИ, ▁, БУ, ЧА, -, ІР, П, ІН, Ь, ...</td>\n",
       "      <td>[1435, 87706, 78591, 38682, 6, 39932, 75333, 9...</td>\n",
       "    </tr>\n",
       "  </tbody>\n",
       "</table>\n",
       "</div>"
      ],
      "text/plain": [
       "              text_id         y_pred  \\\n",
       "0    macocu.uk.419381    Instruction   \n",
       "1  macocu.uk.16993168  Prose/Lyrical   \n",
       "\n",
       "                                                text  \\\n",
       "0  Нестандартний підхід для виготовлення Акваріум...   \n",
       "1  МУЧЕНИКИ БУЧА-ІРПІНЬ \\n\\nНе снилось полянам й ...   \n",
       "\n",
       "                                         translation  \\\n",
       "0  A non -standard approach for making aquarium.O...   \n",
       "1  The martyrs of Bucha-Irpin\\n\\nThe glades and t...   \n",
       "\n",
       "                            metadata         y_true  \\\n",
       "0    {'text_id': 'macocu.uk.419381'}    Instruction   \n",
       "1  {'text_id': 'macocu.uk.16993168'}  Prose/Lyrical   \n",
       "\n",
       "                                              tokens  \\\n",
       "0  [▁Не, стандарт, ний, ▁підхід, ▁для, ▁виготовле...   \n",
       "1  [▁М, УЧ, ЕНИ, КИ, ▁, БУ, ЧА, -, ІР, П, ІН, Ь, ...   \n",
       "\n",
       "                                           token_ids  \n",
       "0  [1087, 159257, 1394, 205827, 518, 166156, 1307...  \n",
       "1  [1435, 87706, 78591, 38682, 6, 39932, 75333, 9...  "
      ]
     },
     "metadata": {},
     "output_type": "display_data"
    },
    {
     "data": {
      "text/html": [
       "<div>\n",
       "<style scoped>\n",
       "    .dataframe tbody tr th:only-of-type {\n",
       "        vertical-align: middle;\n",
       "    }\n",
       "\n",
       "    .dataframe tbody tr th {\n",
       "        vertical-align: top;\n",
       "    }\n",
       "\n",
       "    .dataframe thead th {\n",
       "        text-align: right;\n",
       "    }\n",
       "</style>\n",
       "<table border=\"1\" class=\"dataframe\">\n",
       "  <thead>\n",
       "    <tr style=\"text-align: right;\">\n",
       "      <th></th>\n",
       "      <th>text_id</th>\n",
       "      <th>y_pred</th>\n",
       "      <th>text</th>\n",
       "      <th>translation</th>\n",
       "      <th>metadata</th>\n",
       "      <th>y_true</th>\n",
       "      <th>tokens</th>\n",
       "      <th>token_ids</th>\n",
       "      <th>text_latin</th>\n",
       "    </tr>\n",
       "  </thead>\n",
       "  <tbody>\n",
       "    <tr>\n",
       "      <th>0</th>\n",
       "      <td>macocu.uk.419381</td>\n",
       "      <td>Instruction</td>\n",
       "      <td>Нестандартний підхід для виготовлення Акваріум...</td>\n",
       "      <td>A non -standard approach for making aquarium.O...</td>\n",
       "      <td>{'text_id': 'macocu.uk.419381'}</td>\n",
       "      <td>Instruction</td>\n",
       "      <td>[▁Не, стандарт, ний, ▁підхід, ▁для, ▁виготовле...</td>\n",
       "      <td>[1087, 159257, 1394, 205827, 518, 166156, 1307...</td>\n",
       "      <td>Nestandartnyj pidxid dlja vyhotovlennja Akvari...</td>\n",
       "    </tr>\n",
       "    <tr>\n",
       "      <th>1</th>\n",
       "      <td>macocu.uk.16993168</td>\n",
       "      <td>Prose/Lyrical</td>\n",
       "      <td>МУЧЕНИКИ БУЧА-ІРПІНЬ \\n\\nНе снилось полянам й ...</td>\n",
       "      <td>The martyrs of Bucha-Irpin\\n\\nThe glades and t...</td>\n",
       "      <td>{'text_id': 'macocu.uk.16993168'}</td>\n",
       "      <td>Prose/Lyrical</td>\n",
       "      <td>[▁М, УЧ, ЕНИ, КИ, ▁, БУ, ЧА, -, ІР, П, ІН, Ь, ...</td>\n",
       "      <td>[1435, 87706, 78591, 38682, 6, 39932, 75333, 9...</td>\n",
       "      <td>MUČENYKY BUČA-IRPIN' \\n\\nNe snylos' poljanam j...</td>\n",
       "    </tr>\n",
       "  </tbody>\n",
       "</table>\n",
       "</div>"
      ],
      "text/plain": [
       "              text_id         y_pred  \\\n",
       "0    macocu.uk.419381    Instruction   \n",
       "1  macocu.uk.16993168  Prose/Lyrical   \n",
       "\n",
       "                                                text  \\\n",
       "0  Нестандартний підхід для виготовлення Акваріум...   \n",
       "1  МУЧЕНИКИ БУЧА-ІРПІНЬ \\n\\nНе снилось полянам й ...   \n",
       "\n",
       "                                         translation  \\\n",
       "0  A non -standard approach for making aquarium.O...   \n",
       "1  The martyrs of Bucha-Irpin\\n\\nThe glades and t...   \n",
       "\n",
       "                            metadata         y_true  \\\n",
       "0    {'text_id': 'macocu.uk.419381'}    Instruction   \n",
       "1  {'text_id': 'macocu.uk.16993168'}  Prose/Lyrical   \n",
       "\n",
       "                                              tokens  \\\n",
       "0  [▁Не, стандарт, ний, ▁підхід, ▁для, ▁виготовле...   \n",
       "1  [▁М, УЧ, ЕНИ, КИ, ▁, БУ, ЧА, -, ІР, П, ІН, Ь, ...   \n",
       "\n",
       "                                           token_ids  \\\n",
       "0  [1087, 159257, 1394, 205827, 518, 166156, 1307...   \n",
       "1  [1435, 87706, 78591, 38682, 6, 39932, 75333, 9...   \n",
       "\n",
       "                                          text_latin  \n",
       "0  Nestandartnyj pidxid dlja vyhotovlennja Akvari...  \n",
       "1  MUČENYKY BUČA-IRPIN' \\n\\nNe snylos' poljanam j...  "
      ]
     },
     "metadata": {},
     "output_type": "display_data"
    },
    {
     "data": {
      "text/html": [
       "<div>\n",
       "<style scoped>\n",
       "    .dataframe tbody tr th:only-of-type {\n",
       "        vertical-align: middle;\n",
       "    }\n",
       "\n",
       "    .dataframe tbody tr th {\n",
       "        vertical-align: top;\n",
       "    }\n",
       "\n",
       "    .dataframe thead th {\n",
       "        text-align: right;\n",
       "    }\n",
       "</style>\n",
       "<table border=\"1\" class=\"dataframe\">\n",
       "  <thead>\n",
       "    <tr style=\"text-align: right;\">\n",
       "      <th></th>\n",
       "      <th>text_id</th>\n",
       "      <th>y_pred</th>\n",
       "      <th>text</th>\n",
       "      <th>translation</th>\n",
       "      <th>metadata</th>\n",
       "      <th>y_true</th>\n",
       "      <th>tokens</th>\n",
       "      <th>token_ids</th>\n",
       "    </tr>\n",
       "  </thead>\n",
       "  <tbody>\n",
       "    <tr>\n",
       "      <th>0</th>\n",
       "      <td>CLASSLA-web.mk.1000486</td>\n",
       "      <td>Forum</td>\n",
       "      <td>Екшули, TCL ги прави смартфоновите, а TCL е см...</td>\n",
       "      <td>Ekshui, TCL makes smartphones, and TCL is hous...</td>\n",
       "      <td>CLASSLA-web.mk.1000486', 'domain': 'forum.carc...</td>\n",
       "      <td>Forum</td>\n",
       "      <td>[▁Ек, шу, ли, ,, ▁T, CL, ▁ги, ▁прави, ▁смартфо...</td>\n",
       "      <td>[75430, 12213, 546, 4, 384, 37486, 1670, 10416...</td>\n",
       "    </tr>\n",
       "    <tr>\n",
       "      <th>1</th>\n",
       "      <td>CLASSLA-web.mk.1009071</td>\n",
       "      <td>News</td>\n",
       "      <td>Red Valentino прогнозира бура од принтови за с...</td>\n",
       "      <td>Red Valentino predicts a storm of prints for n...</td>\n",
       "      <td>CLASSLA-web.mk.1009071', 'domain': 'fashionel....</td>\n",
       "      <td>News</td>\n",
       "      <td>[▁Red, ▁Valentino, ▁прогноз, ира, ▁бур, а, ▁од...</td>\n",
       "      <td>[6096, 166361, 45404, 6790, 21623, 59, 338, 44...</td>\n",
       "    </tr>\n",
       "  </tbody>\n",
       "</table>\n",
       "</div>"
      ],
      "text/plain": [
       "                  text_id y_pred  \\\n",
       "0  CLASSLA-web.mk.1000486  Forum   \n",
       "1  CLASSLA-web.mk.1009071   News   \n",
       "\n",
       "                                                text  \\\n",
       "0  Екшули, TCL ги прави смартфоновите, а TCL е см...   \n",
       "1  Red Valentino прогнозира бура од принтови за с...   \n",
       "\n",
       "                                         translation  \\\n",
       "0  Ekshui, TCL makes smartphones, and TCL is hous...   \n",
       "1  Red Valentino predicts a storm of prints for n...   \n",
       "\n",
       "                                            metadata y_true  \\\n",
       "0  CLASSLA-web.mk.1000486', 'domain': 'forum.carc...  Forum   \n",
       "1  CLASSLA-web.mk.1009071', 'domain': 'fashionel....   News   \n",
       "\n",
       "                                              tokens  \\\n",
       "0  [▁Ек, шу, ли, ,, ▁T, CL, ▁ги, ▁прави, ▁смартфо...   \n",
       "1  [▁Red, ▁Valentino, ▁прогноз, ира, ▁бур, а, ▁од...   \n",
       "\n",
       "                                           token_ids  \n",
       "0  [75430, 12213, 546, 4, 384, 37486, 1670, 10416...  \n",
       "1  [6096, 166361, 45404, 6790, 21623, 59, 338, 44...  "
      ]
     },
     "metadata": {},
     "output_type": "display_data"
    },
    {
     "data": {
      "text/html": [
       "<div>\n",
       "<style scoped>\n",
       "    .dataframe tbody tr th:only-of-type {\n",
       "        vertical-align: middle;\n",
       "    }\n",
       "\n",
       "    .dataframe tbody tr th {\n",
       "        vertical-align: top;\n",
       "    }\n",
       "\n",
       "    .dataframe thead th {\n",
       "        text-align: right;\n",
       "    }\n",
       "</style>\n",
       "<table border=\"1\" class=\"dataframe\">\n",
       "  <thead>\n",
       "    <tr style=\"text-align: right;\">\n",
       "      <th></th>\n",
       "      <th>text_id</th>\n",
       "      <th>y_pred</th>\n",
       "      <th>text</th>\n",
       "      <th>translation</th>\n",
       "      <th>metadata</th>\n",
       "      <th>y_true</th>\n",
       "      <th>tokens</th>\n",
       "      <th>token_ids</th>\n",
       "      <th>text_latin</th>\n",
       "    </tr>\n",
       "  </thead>\n",
       "  <tbody>\n",
       "    <tr>\n",
       "      <th>0</th>\n",
       "      <td>CLASSLA-web.mk.1000486</td>\n",
       "      <td>Forum</td>\n",
       "      <td>Екшули, TCL ги прави смартфоновите, а TCL е см...</td>\n",
       "      <td>Ekshui, TCL makes smartphones, and TCL is hous...</td>\n",
       "      <td>CLASSLA-web.mk.1000486', 'domain': 'forum.carc...</td>\n",
       "      <td>Forum</td>\n",
       "      <td>[▁Ек, шу, ли, ,, ▁T, CL, ▁ги, ▁прави, ▁смартфо...</td>\n",
       "      <td>[75430, 12213, 546, 4, 384, 37486, 1670, 10416...</td>\n",
       "      <td>Ekšuli, TCL gi pravi smartfonovite, a TCL e sm...</td>\n",
       "    </tr>\n",
       "    <tr>\n",
       "      <th>1</th>\n",
       "      <td>CLASSLA-web.mk.1009071</td>\n",
       "      <td>News</td>\n",
       "      <td>Red Valentino прогнозира бура од принтови за с...</td>\n",
       "      <td>Red Valentino predicts a storm of prints for n...</td>\n",
       "      <td>CLASSLA-web.mk.1009071', 'domain': 'fashionel....</td>\n",
       "      <td>News</td>\n",
       "      <td>[▁Red, ▁Valentino, ▁прогноз, ира, ▁бур, а, ▁од...</td>\n",
       "      <td>[6096, 166361, 45404, 6790, 21623, 59, 338, 44...</td>\n",
       "      <td>Red Valentino prognozira bura od printovi za s...</td>\n",
       "    </tr>\n",
       "  </tbody>\n",
       "</table>\n",
       "</div>"
      ],
      "text/plain": [
       "                  text_id y_pred  \\\n",
       "0  CLASSLA-web.mk.1000486  Forum   \n",
       "1  CLASSLA-web.mk.1009071   News   \n",
       "\n",
       "                                                text  \\\n",
       "0  Екшули, TCL ги прави смартфоновите, а TCL е см...   \n",
       "1  Red Valentino прогнозира бура од принтови за с...   \n",
       "\n",
       "                                         translation  \\\n",
       "0  Ekshui, TCL makes smartphones, and TCL is hous...   \n",
       "1  Red Valentino predicts a storm of prints for n...   \n",
       "\n",
       "                                            metadata y_true  \\\n",
       "0  CLASSLA-web.mk.1000486', 'domain': 'forum.carc...  Forum   \n",
       "1  CLASSLA-web.mk.1009071', 'domain': 'fashionel....   News   \n",
       "\n",
       "                                              tokens  \\\n",
       "0  [▁Ек, шу, ли, ,, ▁T, CL, ▁ги, ▁прави, ▁смартфо...   \n",
       "1  [▁Red, ▁Valentino, ▁прогноз, ира, ▁бур, а, ▁од...   \n",
       "\n",
       "                                           token_ids  \\\n",
       "0  [75430, 12213, 546, 4, 384, 37486, 1670, 10416...   \n",
       "1  [6096, 166361, 45404, 6790, 21623, 59, 338, 44...   \n",
       "\n",
       "                                          text_latin  \n",
       "0  Ekšuli, TCL gi pravi smartfonovite, a TCL e sm...  \n",
       "1  Red Valentino prognozira bura od printovi za s...  "
      ]
     },
     "metadata": {},
     "output_type": "display_data"
    }
   ],
   "source": [
    "def transliterate(text, lang):\n",
    "\timport cyrtranslit\n",
    "\ttransl_dict = {\"uk\": \"ua\", \"bg\": \"bg\", \"cnr\": \"me\", \"mk\": \"mk\"}\n",
    "\tif lang == \"sr\":\n",
    "\t\ttransl_text = cyrtranslit.to_latin(text)\n",
    "\telse:\n",
    "\t\ttransl_text = cyrtranslit.to_latin(text, transl_dict[lang])\n",
    "\treturn transl_text\n",
    "\n",
    "for lang in list(main_dict.keys()):\n",
    "\tif lang in [\"uk\", \"mk\"]:\n",
    "\t\t# Open the df\n",
    "\t\tdf = pd.DataFrame(main_dict[lang][\"dataset\"])\n",
    "\t\tdisplay(df.head(2))\n",
    "\t\t# Transliterate and save text to new column\n",
    "\t\tdf[\"text_latin\"] = [transliterate(x, lang) for x in df[\"text\"].to_list()]\n",
    "\t\tdisplay(df.head(2))\n",
    "\n",
    "\t\t# Save the df\n",
    "\t\tmain_dict[lang][\"dataset\"] = df.to_dict()"
   ]
  },
  {
   "cell_type": "code",
   "execution_count": null,
   "metadata": {},
   "outputs": [],
   "source": [
    "with pd.option_context('display.max_colwidth', 200):\n",
    "\tdisplay(pd.DataFrame(main_dict[\"uk\"][\"dataset\"])[[\"text\", \"text_latin\"]].head(3))"
   ]
  },
  {
   "cell_type": "code",
   "execution_count": null,
   "metadata": {},
   "outputs": [],
   "source": [
    "with pd.option_context('display.max_colwidth', 200):\n",
    "\tdisplay(pd.DataFrame(main_dict[\"el\"][\"dataset\"])[[\"text\", \"text_latin\"]].head(3))"
   ]
  },
  {
   "cell_type": "code",
   "execution_count": 27,
   "metadata": {},
   "outputs": [
    {
     "data": {
      "text/html": [
       "<div>\n",
       "<style scoped>\n",
       "    .dataframe tbody tr th:only-of-type {\n",
       "        vertical-align: middle;\n",
       "    }\n",
       "\n",
       "    .dataframe tbody tr th {\n",
       "        vertical-align: top;\n",
       "    }\n",
       "\n",
       "    .dataframe thead th {\n",
       "        text-align: right;\n",
       "    }\n",
       "</style>\n",
       "<table border=\"1\" class=\"dataframe\">\n",
       "  <thead>\n",
       "    <tr style=\"text-align: right;\">\n",
       "      <th></th>\n",
       "      <th>text_id</th>\n",
       "      <th>y_pred</th>\n",
       "      <th>text</th>\n",
       "      <th>translation</th>\n",
       "      <th>metadata</th>\n",
       "      <th>y_true</th>\n",
       "      <th>tokens</th>\n",
       "      <th>token_ids</th>\n",
       "    </tr>\n",
       "  </thead>\n",
       "  <tbody>\n",
       "    <tr>\n",
       "      <th>0</th>\n",
       "      <td>macocu.el.1525713</td>\n",
       "      <td>Instruction</td>\n",
       "      <td>Ενημέρωση του Pegasus Estiasi με τις εισερχόμε...</td>\n",
       "      <td>Update Pegasus Estiasi with Incoming Calls\\n\\n...</td>\n",
       "      <td>{'text_id': 'macocu.el.1525713'}</td>\n",
       "      <td>Instruction</td>\n",
       "      <td>[▁Ενημέρωση, ▁του, ▁Pegasus, ▁Esti, asi, ▁με, ...</td>\n",
       "      <td>[236422, 385, 241060, 60271, 1544, 558, 1713, ...</td>\n",
       "    </tr>\n",
       "    <tr>\n",
       "      <th>1</th>\n",
       "      <td>macocu.el.3525724</td>\n",
       "      <td>Forum</td>\n",
       "      <td>Η τιμή της έκδοσης 8GB/ 128GB είναι 1.299 ευρώ...</td>\n",
       "      <td>The price of 8GB/ 128GB is € 1,299, of the 12G...</td>\n",
       "      <td>{'text_id': 'macocu.el.3525724'}</td>\n",
       "      <td>Forum</td>\n",
       "      <td>[▁Η, ▁τιμή, ▁της, ▁έκδοση, ς, ▁8, GB, /, ▁128,...</td>\n",
       "      <td>[1700, 77118, 463, 110873, 235, 382, 8359, 64,...</td>\n",
       "    </tr>\n",
       "  </tbody>\n",
       "</table>\n",
       "</div>"
      ],
      "text/plain": [
       "             text_id       y_pred  \\\n",
       "0  macocu.el.1525713  Instruction   \n",
       "1  macocu.el.3525724        Forum   \n",
       "\n",
       "                                                text  \\\n",
       "0  Ενημέρωση του Pegasus Estiasi με τις εισερχόμε...   \n",
       "1  Η τιμή της έκδοσης 8GB/ 128GB είναι 1.299 ευρώ...   \n",
       "\n",
       "                                         translation  \\\n",
       "0  Update Pegasus Estiasi with Incoming Calls\\n\\n...   \n",
       "1  The price of 8GB/ 128GB is € 1,299, of the 12G...   \n",
       "\n",
       "                           metadata       y_true  \\\n",
       "0  {'text_id': 'macocu.el.1525713'}  Instruction   \n",
       "1  {'text_id': 'macocu.el.3525724'}        Forum   \n",
       "\n",
       "                                              tokens  \\\n",
       "0  [▁Ενημέρωση, ▁του, ▁Pegasus, ▁Esti, asi, ▁με, ...   \n",
       "1  [▁Η, ▁τιμή, ▁της, ▁έκδοση, ς, ▁8, GB, /, ▁128,...   \n",
       "\n",
       "                                           token_ids  \n",
       "0  [236422, 385, 241060, 60271, 1544, 558, 1713, ...  \n",
       "1  [1700, 77118, 463, 110873, 235, 382, 8359, 64,...  "
      ]
     },
     "metadata": {},
     "output_type": "display_data"
    },
    {
     "data": {
      "text/html": [
       "<div>\n",
       "<style scoped>\n",
       "    .dataframe tbody tr th:only-of-type {\n",
       "        vertical-align: middle;\n",
       "    }\n",
       "\n",
       "    .dataframe tbody tr th {\n",
       "        vertical-align: top;\n",
       "    }\n",
       "\n",
       "    .dataframe thead th {\n",
       "        text-align: right;\n",
       "    }\n",
       "</style>\n",
       "<table border=\"1\" class=\"dataframe\">\n",
       "  <thead>\n",
       "    <tr style=\"text-align: right;\">\n",
       "      <th></th>\n",
       "      <th>text_id</th>\n",
       "      <th>y_pred</th>\n",
       "      <th>text</th>\n",
       "      <th>translation</th>\n",
       "      <th>metadata</th>\n",
       "      <th>y_true</th>\n",
       "      <th>tokens</th>\n",
       "      <th>token_ids</th>\n",
       "      <th>text_latin</th>\n",
       "    </tr>\n",
       "  </thead>\n",
       "  <tbody>\n",
       "    <tr>\n",
       "      <th>0</th>\n",
       "      <td>macocu.el.1525713</td>\n",
       "      <td>Instruction</td>\n",
       "      <td>Ενημέρωση του Pegasus Estiasi με τις εισερχόμε...</td>\n",
       "      <td>Update Pegasus Estiasi with Incoming Calls\\n\\n...</td>\n",
       "      <td>{'text_id': 'macocu.el.1525713'}</td>\n",
       "      <td>Instruction</td>\n",
       "      <td>[▁Ενημέρωση, ▁του, ▁Pegasus, ▁Esti, asi, ▁με, ...</td>\n",
       "      <td>[236422, 385, 241060, 60271, 1544, 558, 1713, ...</td>\n",
       "      <td>Enimerosi toy Pegasus Estiasi me tis eiserchom...</td>\n",
       "    </tr>\n",
       "    <tr>\n",
       "      <th>1</th>\n",
       "      <td>macocu.el.3525724</td>\n",
       "      <td>Forum</td>\n",
       "      <td>Η τιμή της έκδοσης 8GB/ 128GB είναι 1.299 ευρώ...</td>\n",
       "      <td>The price of 8GB/ 128GB is € 1,299, of the 12G...</td>\n",
       "      <td>{'text_id': 'macocu.el.3525724'}</td>\n",
       "      <td>Forum</td>\n",
       "      <td>[▁Η, ▁τιμή, ▁της, ▁έκδοση, ς, ▁8, GB, /, ▁128,...</td>\n",
       "      <td>[1700, 77118, 463, 110873, 235, 382, 8359, 64,...</td>\n",
       "      <td>i timi tis ekdosis 8GB/ 128GB einai 1.299 euro...</td>\n",
       "    </tr>\n",
       "  </tbody>\n",
       "</table>\n",
       "</div>"
      ],
      "text/plain": [
       "             text_id       y_pred  \\\n",
       "0  macocu.el.1525713  Instruction   \n",
       "1  macocu.el.3525724        Forum   \n",
       "\n",
       "                                                text  \\\n",
       "0  Ενημέρωση του Pegasus Estiasi με τις εισερχόμε...   \n",
       "1  Η τιμή της έκδοσης 8GB/ 128GB είναι 1.299 ευρώ...   \n",
       "\n",
       "                                         translation  \\\n",
       "0  Update Pegasus Estiasi with Incoming Calls\\n\\n...   \n",
       "1  The price of 8GB/ 128GB is € 1,299, of the 12G...   \n",
       "\n",
       "                           metadata       y_true  \\\n",
       "0  {'text_id': 'macocu.el.1525713'}  Instruction   \n",
       "1  {'text_id': 'macocu.el.3525724'}        Forum   \n",
       "\n",
       "                                              tokens  \\\n",
       "0  [▁Ενημέρωση, ▁του, ▁Pegasus, ▁Esti, asi, ▁με, ...   \n",
       "1  [▁Η, ▁τιμή, ▁της, ▁έκδοση, ς, ▁8, GB, /, ▁128,...   \n",
       "\n",
       "                                           token_ids  \\\n",
       "0  [236422, 385, 241060, 60271, 1544, 558, 1713, ...   \n",
       "1  [1700, 77118, 463, 110873, 235, 382, 8359, 64,...   \n",
       "\n",
       "                                          text_latin  \n",
       "0  Enimerosi toy Pegasus Estiasi me tis eiserchom...  \n",
       "1  i timi tis ekdosis 8GB/ 128GB einai 1.299 euro...  "
      ]
     },
     "metadata": {},
     "output_type": "display_data"
    }
   ],
   "source": [
    "# Transliterate greek script to Latin, using the transliterate library: https://pypi.org/project/transliterate/\n",
    "def transliterate_greek(text):\n",
    "\tfrom transliterate import translit, get_available_language_codes\n",
    "\ttransl_text = translit(u\"{}\".format(text), 'el', reversed=True)\n",
    "\treturn transl_text\n",
    "\n",
    "for lang in list(main_dict.keys()):\n",
    "\tif lang == \"el\":\n",
    "\t\t# Open the df\n",
    "\t\tdf = pd.DataFrame(main_dict[lang][\"dataset\"])\n",
    "\t\tdisplay(df.head(2))\n",
    "\t\t# Transliterate and save text to new column\n",
    "\t\tdf[\"text_latin\"] = [transliterate_greek(x) for x in df[\"text\"].to_list()]\n",
    "\t\tdisplay(df.head(2))\n",
    "\n",
    "\t\t# Save the df\n",
    "\t\tmain_dict[lang][\"dataset\"] = df.to_dict()"
   ]
  },
  {
   "cell_type": "code",
   "execution_count": 28,
   "metadata": {},
   "outputs": [
    {
     "data": {
      "text/html": [
       "<div>\n",
       "<style scoped>\n",
       "    .dataframe tbody tr th:only-of-type {\n",
       "        vertical-align: middle;\n",
       "    }\n",
       "\n",
       "    .dataframe tbody tr th {\n",
       "        vertical-align: top;\n",
       "    }\n",
       "\n",
       "    .dataframe thead th {\n",
       "        text-align: right;\n",
       "    }\n",
       "</style>\n",
       "<table border=\"1\" class=\"dataframe\">\n",
       "  <thead>\n",
       "    <tr style=\"text-align: right;\">\n",
       "      <th></th>\n",
       "      <th>text_id</th>\n",
       "      <th>y_pred</th>\n",
       "      <th>text</th>\n",
       "      <th>translation</th>\n",
       "      <th>metadata</th>\n",
       "      <th>y_true</th>\n",
       "      <th>tokens</th>\n",
       "      <th>token_ids</th>\n",
       "      <th>text_norm</th>\n",
       "    </tr>\n",
       "  </thead>\n",
       "  <tbody>\n",
       "    <tr>\n",
       "      <th>0</th>\n",
       "      <td>macocu.mt.402244</td>\n",
       "      <td>News</td>\n",
       "      <td>Angelo Chetcuti, se jkun qed jieħu post Bjorn ...</td>\n",
       "      <td>Angelo Chetcuti, will be replacing Bjorn Vassa...</td>\n",
       "      <td>{'text_id': 'macocu.mt.402244'}</td>\n",
       "      <td>News</td>\n",
       "      <td>[▁Angel, o, ▁Che, t, cuti, ,, ▁se, ▁j, kun, ▁q...</td>\n",
       "      <td>[26902, 31, 5024, 18, 64969, 4, 40, 1647, 6262...</td>\n",
       "      <td>angelo chetcuti, se jkun qed jiehu post bjorn ...</td>\n",
       "    </tr>\n",
       "    <tr>\n",
       "      <th>1</th>\n",
       "      <td>macocu.mt.377203</td>\n",
       "      <td>Prose/Lyrical</td>\n",
       "      <td>Poltergeist jirreferi għal fenomeni oħra tal-m...</td>\n",
       "      <td>Poltergeist refers to other woman's phenomena,...</td>\n",
       "      <td>{'text_id': 'macocu.mt.377203'}</td>\n",
       "      <td>Opinion/Argumentation</td>\n",
       "      <td>[▁Pol, ter, geist, ▁jir, re, feri, ▁g, ħ, al, ...</td>\n",
       "      <td>[9017, 720, 178490, 52826, 107, 26926, 706, 24...</td>\n",
       "      <td>poltergeist jirreferi ghal fenomeni ohra tal-m...</td>\n",
       "    </tr>\n",
       "  </tbody>\n",
       "</table>\n",
       "</div>"
      ],
      "text/plain": [
       "            text_id         y_pred  \\\n",
       "0  macocu.mt.402244           News   \n",
       "1  macocu.mt.377203  Prose/Lyrical   \n",
       "\n",
       "                                                text  \\\n",
       "0  Angelo Chetcuti, se jkun qed jieħu post Bjorn ...   \n",
       "1  Poltergeist jirreferi għal fenomeni oħra tal-m...   \n",
       "\n",
       "                                         translation  \\\n",
       "0  Angelo Chetcuti, will be replacing Bjorn Vassa...   \n",
       "1  Poltergeist refers to other woman's phenomena,...   \n",
       "\n",
       "                          metadata                 y_true  \\\n",
       "0  {'text_id': 'macocu.mt.402244'}                   News   \n",
       "1  {'text_id': 'macocu.mt.377203'}  Opinion/Argumentation   \n",
       "\n",
       "                                              tokens  \\\n",
       "0  [▁Angel, o, ▁Che, t, cuti, ,, ▁se, ▁j, kun, ▁q...   \n",
       "1  [▁Pol, ter, geist, ▁jir, re, feri, ▁g, ħ, al, ...   \n",
       "\n",
       "                                           token_ids  \\\n",
       "0  [26902, 31, 5024, 18, 64969, 4, 40, 1647, 6262...   \n",
       "1  [9017, 720, 178490, 52826, 107, 26926, 706, 24...   \n",
       "\n",
       "                                           text_norm  \n",
       "0  angelo chetcuti, se jkun qed jiehu post bjorn ...  \n",
       "1  poltergeist jirreferi ghal fenomeni ohra tal-m...  "
      ]
     },
     "metadata": {},
     "output_type": "display_data"
    },
    {
     "data": {
      "text/html": [
       "<div>\n",
       "<style scoped>\n",
       "    .dataframe tbody tr th:only-of-type {\n",
       "        vertical-align: middle;\n",
       "    }\n",
       "\n",
       "    .dataframe tbody tr th {\n",
       "        vertical-align: top;\n",
       "    }\n",
       "\n",
       "    .dataframe thead th {\n",
       "        text-align: right;\n",
       "    }\n",
       "</style>\n",
       "<table border=\"1\" class=\"dataframe\">\n",
       "  <thead>\n",
       "    <tr style=\"text-align: right;\">\n",
       "      <th></th>\n",
       "      <th>text_id</th>\n",
       "      <th>y_pred</th>\n",
       "      <th>text</th>\n",
       "      <th>translation</th>\n",
       "      <th>metadata</th>\n",
       "      <th>y_true</th>\n",
       "      <th>tokens</th>\n",
       "      <th>token_ids</th>\n",
       "      <th>text_latin</th>\n",
       "      <th>text_norm</th>\n",
       "    </tr>\n",
       "  </thead>\n",
       "  <tbody>\n",
       "    <tr>\n",
       "      <th>0</th>\n",
       "      <td>macocu.el.1525713</td>\n",
       "      <td>Instruction</td>\n",
       "      <td>Ενημέρωση του Pegasus Estiasi με τις εισερχόμε...</td>\n",
       "      <td>Update Pegasus Estiasi with Incoming Calls\\n\\n...</td>\n",
       "      <td>{'text_id': 'macocu.el.1525713'}</td>\n",
       "      <td>Instruction</td>\n",
       "      <td>[▁Ενημέρωση, ▁του, ▁Pegasus, ▁Esti, asi, ▁με, ...</td>\n",
       "      <td>[236422, 385, 241060, 60271, 1544, 558, 1713, ...</td>\n",
       "      <td>Enimerosi toy Pegasus Estiasi me tis eiserchom...</td>\n",
       "      <td>enemerose tou pegasus estiasi me tis eiserkhom...</td>\n",
       "    </tr>\n",
       "    <tr>\n",
       "      <th>1</th>\n",
       "      <td>macocu.el.3525724</td>\n",
       "      <td>Forum</td>\n",
       "      <td>Η τιμή της έκδοσης 8GB/ 128GB είναι 1.299 ευρώ...</td>\n",
       "      <td>The price of 8GB/ 128GB is € 1,299, of the 12G...</td>\n",
       "      <td>{'text_id': 'macocu.el.3525724'}</td>\n",
       "      <td>Forum</td>\n",
       "      <td>[▁Η, ▁τιμή, ▁της, ▁έκδοση, ς, ▁8, GB, /, ▁128,...</td>\n",
       "      <td>[1700, 77118, 463, 110873, 235, 382, 8359, 64,...</td>\n",
       "      <td>i timi tis ekdosis 8GB/ 128GB einai 1.299 euro...</td>\n",
       "      <td>e time tes ekdoses 8gb/ 128gb einai 1.299 euro...</td>\n",
       "    </tr>\n",
       "  </tbody>\n",
       "</table>\n",
       "</div>"
      ],
      "text/plain": [
       "             text_id       y_pred  \\\n",
       "0  macocu.el.1525713  Instruction   \n",
       "1  macocu.el.3525724        Forum   \n",
       "\n",
       "                                                text  \\\n",
       "0  Ενημέρωση του Pegasus Estiasi με τις εισερχόμε...   \n",
       "1  Η τιμή της έκδοσης 8GB/ 128GB είναι 1.299 ευρώ...   \n",
       "\n",
       "                                         translation  \\\n",
       "0  Update Pegasus Estiasi with Incoming Calls\\n\\n...   \n",
       "1  The price of 8GB/ 128GB is € 1,299, of the 12G...   \n",
       "\n",
       "                           metadata       y_true  \\\n",
       "0  {'text_id': 'macocu.el.1525713'}  Instruction   \n",
       "1  {'text_id': 'macocu.el.3525724'}        Forum   \n",
       "\n",
       "                                              tokens  \\\n",
       "0  [▁Ενημέρωση, ▁του, ▁Pegasus, ▁Esti, asi, ▁με, ...   \n",
       "1  [▁Η, ▁τιμή, ▁της, ▁έκδοση, ς, ▁8, GB, /, ▁128,...   \n",
       "\n",
       "                                           token_ids  \\\n",
       "0  [236422, 385, 241060, 60271, 1544, 558, 1713, ...   \n",
       "1  [1700, 77118, 463, 110873, 235, 382, 8359, 64,...   \n",
       "\n",
       "                                          text_latin  \\\n",
       "0  Enimerosi toy Pegasus Estiasi me tis eiserchom...   \n",
       "1  i timi tis ekdosis 8GB/ 128GB einai 1.299 euro...   \n",
       "\n",
       "                                           text_norm  \n",
       "0  enemerose tou pegasus estiasi me tis eiserkhom...  \n",
       "1  e time tes ekdoses 8gb/ 128gb einai 1.299 euro...  "
      ]
     },
     "metadata": {},
     "output_type": "display_data"
    },
    {
     "data": {
      "text/html": [
       "<div>\n",
       "<style scoped>\n",
       "    .dataframe tbody tr th:only-of-type {\n",
       "        vertical-align: middle;\n",
       "    }\n",
       "\n",
       "    .dataframe tbody tr th {\n",
       "        vertical-align: top;\n",
       "    }\n",
       "\n",
       "    .dataframe thead th {\n",
       "        text-align: right;\n",
       "    }\n",
       "</style>\n",
       "<table border=\"1\" class=\"dataframe\">\n",
       "  <thead>\n",
       "    <tr style=\"text-align: right;\">\n",
       "      <th></th>\n",
       "      <th>text_id</th>\n",
       "      <th>y_pred</th>\n",
       "      <th>text</th>\n",
       "      <th>translation</th>\n",
       "      <th>metadata</th>\n",
       "      <th>y_true</th>\n",
       "      <th>tokens</th>\n",
       "      <th>token_ids</th>\n",
       "      <th>text_norm</th>\n",
       "    </tr>\n",
       "  </thead>\n",
       "  <tbody>\n",
       "    <tr>\n",
       "      <th>0</th>\n",
       "      <td>macocu.tr.15851513</td>\n",
       "      <td>Instruction</td>\n",
       "      <td>AÖL Ders Seçimi ve Sınav Giriş Merkezi Belirle...</td>\n",
       "      <td>AÖL warned of frequent negligence and errors o...</td>\n",
       "      <td>{'text_id': 'macocu.tr.15851513'}</td>\n",
       "      <td>Instruction</td>\n",
       "      <td>[▁A, Ö, L, ▁Der, s, ▁Seçim, i, ▁ve, ▁Sınav, ▁G...</td>\n",
       "      <td>[62, 8655, 866, 1310, 7, 166134, 14, 173, 1762...</td>\n",
       "      <td>aol ders secimi ve sinav giris merkezi belirle...</td>\n",
       "    </tr>\n",
       "    <tr>\n",
       "      <th>1</th>\n",
       "      <td>macocu.tr.12699738</td>\n",
       "      <td>Legal</td>\n",
       "      <td>Banka promosyonu ihalesinde uygulanacak kriter...</td>\n",
       "      <td>Criteria to be applied in the tender for bank ...</td>\n",
       "      <td>{'text_id': 'macocu.tr.12699738'}</td>\n",
       "      <td>Legal</td>\n",
       "      <td>[▁Banka, ▁promo, syon, u, ▁i, hale, sinde, ▁uy...</td>\n",
       "      <td>[81847, 8891, 10270, 34, 17, 50742, 19209, 633...</td>\n",
       "      <td>banka promosyonu ihalesinde uygulanacak kriter...</td>\n",
       "    </tr>\n",
       "  </tbody>\n",
       "</table>\n",
       "</div>"
      ],
      "text/plain": [
       "              text_id       y_pred  \\\n",
       "0  macocu.tr.15851513  Instruction   \n",
       "1  macocu.tr.12699738        Legal   \n",
       "\n",
       "                                                text  \\\n",
       "0  AÖL Ders Seçimi ve Sınav Giriş Merkezi Belirle...   \n",
       "1  Banka promosyonu ihalesinde uygulanacak kriter...   \n",
       "\n",
       "                                         translation  \\\n",
       "0  AÖL warned of frequent negligence and errors o...   \n",
       "1  Criteria to be applied in the tender for bank ...   \n",
       "\n",
       "                            metadata       y_true  \\\n",
       "0  {'text_id': 'macocu.tr.15851513'}  Instruction   \n",
       "1  {'text_id': 'macocu.tr.12699738'}        Legal   \n",
       "\n",
       "                                              tokens  \\\n",
       "0  [▁A, Ö, L, ▁Der, s, ▁Seçim, i, ▁ve, ▁Sınav, ▁G...   \n",
       "1  [▁Banka, ▁promo, syon, u, ▁i, hale, sinde, ▁uy...   \n",
       "\n",
       "                                           token_ids  \\\n",
       "0  [62, 8655, 866, 1310, 7, 166134, 14, 173, 1762...   \n",
       "1  [81847, 8891, 10270, 34, 17, 50742, 19209, 633...   \n",
       "\n",
       "                                           text_norm  \n",
       "0  aol ders secimi ve sinav giris merkezi belirle...  \n",
       "1  banka promosyonu ihalesinde uygulanacak kriter...  "
      ]
     },
     "metadata": {},
     "output_type": "display_data"
    },
    {
     "data": {
      "text/html": [
       "<div>\n",
       "<style scoped>\n",
       "    .dataframe tbody tr th:only-of-type {\n",
       "        vertical-align: middle;\n",
       "    }\n",
       "\n",
       "    .dataframe tbody tr th {\n",
       "        vertical-align: top;\n",
       "    }\n",
       "\n",
       "    .dataframe thead th {\n",
       "        text-align: right;\n",
       "    }\n",
       "</style>\n",
       "<table border=\"1\" class=\"dataframe\">\n",
       "  <thead>\n",
       "    <tr style=\"text-align: right;\">\n",
       "      <th></th>\n",
       "      <th>text_id</th>\n",
       "      <th>y_pred</th>\n",
       "      <th>text_length</th>\n",
       "      <th>domain</th>\n",
       "      <th>text</th>\n",
       "      <th>translation</th>\n",
       "      <th>metadata</th>\n",
       "      <th>y_true</th>\n",
       "      <th>tokens</th>\n",
       "      <th>token_ids</th>\n",
       "      <th>text_norm</th>\n",
       "    </tr>\n",
       "  </thead>\n",
       "  <tbody>\n",
       "    <tr>\n",
       "      <th>0</th>\n",
       "      <td>macocu.sq.1061396</td>\n",
       "      <td>Opinion/Argumentation</td>\n",
       "      <td>341.0</td>\n",
       "      <td>fjalaejetes.org</td>\n",
       "      <td>Blog\\n\\n“Unë të kam dashur me një dashuri të p...</td>\n",
       "      <td>Blog\\n\\n\"I loved you with eternal love.\"Jer 31...</td>\n",
       "      <td>{'text_id': 'macocu.sq.1061396', 'domain': 'fj...</td>\n",
       "      <td>Opinion/Argumentation</td>\n",
       "      <td>[▁Blog, ▁“, U, në, ▁të, ▁kam, ▁dashur, ▁me, ▁n...</td>\n",
       "      <td>[5061, 52, 1062, 3208, 134, 3840, 57168, 163, ...</td>\n",
       "      <td>blog\\n\\n\"une te kam dashur me nje dashuri te p...</td>\n",
       "    </tr>\n",
       "    <tr>\n",
       "      <th>2</th>\n",
       "      <td>macocu.sq.183383</td>\n",
       "      <td>Legal</td>\n",
       "      <td>140.0</td>\n",
       "      <td>eukos.org</td>\n",
       "      <td>Liria nga keqtrajtimi\\n\\nKonventa e të Drejtav...</td>\n",
       "      <td>Freedom from mistreatment\\n\\nStudent Rights Co...</td>\n",
       "      <td>{'text_id': 'macocu.sq.183383', 'domain': 'euk...</td>\n",
       "      <td>Legal</td>\n",
       "      <td>[▁Li, ria, ▁nga, ▁keq, t, raj, timi, ▁Kon, ven...</td>\n",
       "      <td>[1261, 1651, 817, 39184, 18, 10185, 20520, 369...</td>\n",
       "      <td>liria nga keqtrajtimi\\n\\nkonventa e te drejtav...</td>\n",
       "    </tr>\n",
       "  </tbody>\n",
       "</table>\n",
       "</div>"
      ],
      "text/plain": [
       "             text_id                 y_pred  text_length           domain  \\\n",
       "0  macocu.sq.1061396  Opinion/Argumentation        341.0  fjalaejetes.org   \n",
       "2   macocu.sq.183383                  Legal        140.0        eukos.org   \n",
       "\n",
       "                                                text  \\\n",
       "0  Blog\\n\\n“Unë të kam dashur me një dashuri të p...   \n",
       "2  Liria nga keqtrajtimi\\n\\nKonventa e të Drejtav...   \n",
       "\n",
       "                                         translation  \\\n",
       "0  Blog\\n\\n\"I loved you with eternal love.\"Jer 31...   \n",
       "2  Freedom from mistreatment\\n\\nStudent Rights Co...   \n",
       "\n",
       "                                            metadata                 y_true  \\\n",
       "0  {'text_id': 'macocu.sq.1061396', 'domain': 'fj...  Opinion/Argumentation   \n",
       "2  {'text_id': 'macocu.sq.183383', 'domain': 'euk...                  Legal   \n",
       "\n",
       "                                              tokens  \\\n",
       "0  [▁Blog, ▁“, U, në, ▁të, ▁kam, ▁dashur, ▁me, ▁n...   \n",
       "2  [▁Li, ria, ▁nga, ▁keq, t, raj, timi, ▁Kon, ven...   \n",
       "\n",
       "                                           token_ids  \\\n",
       "0  [5061, 52, 1062, 3208, 134, 3840, 57168, 163, ...   \n",
       "2  [1261, 1651, 817, 39184, 18, 10185, 20520, 369...   \n",
       "\n",
       "                                           text_norm  \n",
       "0  blog\\n\\n\"une te kam dashur me nje dashuri te p...  \n",
       "2  liria nga keqtrajtimi\\n\\nkonventa e te drejtav...  "
      ]
     },
     "metadata": {},
     "output_type": "display_data"
    },
    {
     "data": {
      "text/html": [
       "<div>\n",
       "<style scoped>\n",
       "    .dataframe tbody tr th:only-of-type {\n",
       "        vertical-align: middle;\n",
       "    }\n",
       "\n",
       "    .dataframe tbody tr th {\n",
       "        vertical-align: top;\n",
       "    }\n",
       "\n",
       "    .dataframe thead th {\n",
       "        text-align: right;\n",
       "    }\n",
       "</style>\n",
       "<table border=\"1\" class=\"dataframe\">\n",
       "  <thead>\n",
       "    <tr style=\"text-align: right;\">\n",
       "      <th></th>\n",
       "      <th>text_id</th>\n",
       "      <th>y_pred</th>\n",
       "      <th>text</th>\n",
       "      <th>translation</th>\n",
       "      <th>metadata</th>\n",
       "      <th>y_true</th>\n",
       "      <th>tokens</th>\n",
       "      <th>token_ids</th>\n",
       "      <th>text_norm</th>\n",
       "    </tr>\n",
       "  </thead>\n",
       "  <tbody>\n",
       "    <tr>\n",
       "      <th>0</th>\n",
       "      <td>macocu.is.639516</td>\n",
       "      <td>Legal</td>\n",
       "      <td>[is] Því er við hæfi að reglur verði settar in...</td>\n",
       "      <td>[IS] It is therefore appropriate that rules be...</td>\n",
       "      <td>{'text_id': 'macocu.is.639516'}</td>\n",
       "      <td>Legal</td>\n",
       "      <td>[▁[, is, ], ▁Því, ▁er, ▁við, ▁hæ, fi, ▁að, ▁re...</td>\n",
       "      <td>[378, 164, 268, 139806, 72, 1497, 33423, 1029,...</td>\n",
       "      <td>[is] thvi er vid haefi ad reglur verdi settar ...</td>\n",
       "    </tr>\n",
       "    <tr>\n",
       "      <th>1</th>\n",
       "      <td>macocu.is.1301366</td>\n",
       "      <td>Instruction</td>\n",
       "      <td>Sækja um fulla aðild \\n\\nKennitala * \\n\\nNetfa...</td>\n",
       "      <td>Apply full membership\\n\\nSocial Security numbe...</td>\n",
       "      <td>{'text_id': 'macocu.is.1301366'}</td>\n",
       "      <td>Information/Explanation</td>\n",
       "      <td>[▁Sæ, kja, ▁um, ▁full, a, ▁að, ild, ▁Kenn, ita...</td>\n",
       "      <td>[71595, 28643, 286, 4393, 11, 389, 38472, 5906...</td>\n",
       "      <td>saekja um fulla adild \\n\\nkennitala * \\n\\nnetf...</td>\n",
       "    </tr>\n",
       "  </tbody>\n",
       "</table>\n",
       "</div>"
      ],
      "text/plain": [
       "             text_id       y_pred  \\\n",
       "0   macocu.is.639516        Legal   \n",
       "1  macocu.is.1301366  Instruction   \n",
       "\n",
       "                                                text  \\\n",
       "0  [is] Því er við hæfi að reglur verði settar in...   \n",
       "1  Sækja um fulla aðild \\n\\nKennitala * \\n\\nNetfa...   \n",
       "\n",
       "                                         translation  \\\n",
       "0  [IS] It is therefore appropriate that rules be...   \n",
       "1  Apply full membership\\n\\nSocial Security numbe...   \n",
       "\n",
       "                           metadata                   y_true  \\\n",
       "0   {'text_id': 'macocu.is.639516'}                    Legal   \n",
       "1  {'text_id': 'macocu.is.1301366'}  Information/Explanation   \n",
       "\n",
       "                                              tokens  \\\n",
       "0  [▁[, is, ], ▁Því, ▁er, ▁við, ▁hæ, fi, ▁að, ▁re...   \n",
       "1  [▁Sæ, kja, ▁um, ▁full, a, ▁að, ild, ▁Kenn, ita...   \n",
       "\n",
       "                                           token_ids  \\\n",
       "0  [378, 164, 268, 139806, 72, 1497, 33423, 1029,...   \n",
       "1  [71595, 28643, 286, 4393, 11, 389, 38472, 5906...   \n",
       "\n",
       "                                           text_norm  \n",
       "0  [is] thvi er vid haefi ad reglur verdi settar ...  \n",
       "1  saekja um fulla adild \\n\\nkennitala * \\n\\nnetf...  "
      ]
     },
     "metadata": {},
     "output_type": "display_data"
    },
    {
     "data": {
      "text/html": [
       "<div>\n",
       "<style scoped>\n",
       "    .dataframe tbody tr th:only-of-type {\n",
       "        vertical-align: middle;\n",
       "    }\n",
       "\n",
       "    .dataframe tbody tr th {\n",
       "        vertical-align: top;\n",
       "    }\n",
       "\n",
       "    .dataframe thead th {\n",
       "        text-align: right;\n",
       "    }\n",
       "</style>\n",
       "<table border=\"1\" class=\"dataframe\">\n",
       "  <thead>\n",
       "    <tr style=\"text-align: right;\">\n",
       "      <th></th>\n",
       "      <th>text_id</th>\n",
       "      <th>y_pred</th>\n",
       "      <th>text</th>\n",
       "      <th>translation</th>\n",
       "      <th>metadata</th>\n",
       "      <th>y_true</th>\n",
       "      <th>tokens</th>\n",
       "      <th>token_ids</th>\n",
       "      <th>text_latin</th>\n",
       "      <th>text_norm</th>\n",
       "    </tr>\n",
       "  </thead>\n",
       "  <tbody>\n",
       "    <tr>\n",
       "      <th>0</th>\n",
       "      <td>macocu.uk.419381</td>\n",
       "      <td>Instruction</td>\n",
       "      <td>Нестандартний підхід для виготовлення Акваріум...</td>\n",
       "      <td>A non -standard approach for making aquarium.O...</td>\n",
       "      <td>{'text_id': 'macocu.uk.419381'}</td>\n",
       "      <td>Instruction</td>\n",
       "      <td>[▁Не, стандарт, ний, ▁підхід, ▁для, ▁виготовле...</td>\n",
       "      <td>[1087, 159257, 1394, 205827, 518, 166156, 1307...</td>\n",
       "      <td>Nestandartnyj pidxid dlja vyhotovlennja Akvari...</td>\n",
       "      <td>nestandartnii pidkhid dlia vigotovlennia akvar...</td>\n",
       "    </tr>\n",
       "    <tr>\n",
       "      <th>1</th>\n",
       "      <td>macocu.uk.16993168</td>\n",
       "      <td>Prose/Lyrical</td>\n",
       "      <td>МУЧЕНИКИ БУЧА-ІРПІНЬ \\n\\nНе снилось полянам й ...</td>\n",
       "      <td>The martyrs of Bucha-Irpin\\n\\nThe glades and t...</td>\n",
       "      <td>{'text_id': 'macocu.uk.16993168'}</td>\n",
       "      <td>Prose/Lyrical</td>\n",
       "      <td>[▁М, УЧ, ЕНИ, КИ, ▁, БУ, ЧА, -, ІР, П, ІН, Ь, ...</td>\n",
       "      <td>[1435, 87706, 78591, 38682, 6, 39932, 75333, 9...</td>\n",
       "      <td>MUČENYKY BUČA-IRPIN' \\n\\nNe snylos' poljanam j...</td>\n",
       "      <td>mucheniki bucha-irpin' \\n\\nne snilos' polianam...</td>\n",
       "    </tr>\n",
       "  </tbody>\n",
       "</table>\n",
       "</div>"
      ],
      "text/plain": [
       "              text_id         y_pred  \\\n",
       "0    macocu.uk.419381    Instruction   \n",
       "1  macocu.uk.16993168  Prose/Lyrical   \n",
       "\n",
       "                                                text  \\\n",
       "0  Нестандартний підхід для виготовлення Акваріум...   \n",
       "1  МУЧЕНИКИ БУЧА-ІРПІНЬ \\n\\nНе снилось полянам й ...   \n",
       "\n",
       "                                         translation  \\\n",
       "0  A non -standard approach for making aquarium.O...   \n",
       "1  The martyrs of Bucha-Irpin\\n\\nThe glades and t...   \n",
       "\n",
       "                            metadata         y_true  \\\n",
       "0    {'text_id': 'macocu.uk.419381'}    Instruction   \n",
       "1  {'text_id': 'macocu.uk.16993168'}  Prose/Lyrical   \n",
       "\n",
       "                                              tokens  \\\n",
       "0  [▁Не, стандарт, ний, ▁підхід, ▁для, ▁виготовле...   \n",
       "1  [▁М, УЧ, ЕНИ, КИ, ▁, БУ, ЧА, -, ІР, П, ІН, Ь, ...   \n",
       "\n",
       "                                           token_ids  \\\n",
       "0  [1087, 159257, 1394, 205827, 518, 166156, 1307...   \n",
       "1  [1435, 87706, 78591, 38682, 6, 39932, 75333, 9...   \n",
       "\n",
       "                                          text_latin  \\\n",
       "0  Nestandartnyj pidxid dlja vyhotovlennja Akvari...   \n",
       "1  MUČENYKY BUČA-IRPIN' \\n\\nNe snylos' poljanam j...   \n",
       "\n",
       "                                           text_norm  \n",
       "0  nestandartnii pidkhid dlia vigotovlennia akvar...  \n",
       "1  mucheniki bucha-irpin' \\n\\nne snilos' polianam...  "
      ]
     },
     "metadata": {},
     "output_type": "display_data"
    },
    {
     "data": {
      "text/html": [
       "<div>\n",
       "<style scoped>\n",
       "    .dataframe tbody tr th:only-of-type {\n",
       "        vertical-align: middle;\n",
       "    }\n",
       "\n",
       "    .dataframe tbody tr th {\n",
       "        vertical-align: top;\n",
       "    }\n",
       "\n",
       "    .dataframe thead th {\n",
       "        text-align: right;\n",
       "    }\n",
       "</style>\n",
       "<table border=\"1\" class=\"dataframe\">\n",
       "  <thead>\n",
       "    <tr style=\"text-align: right;\">\n",
       "      <th></th>\n",
       "      <th>text_id</th>\n",
       "      <th>y_pred</th>\n",
       "      <th>text</th>\n",
       "      <th>translation</th>\n",
       "      <th>metadata</th>\n",
       "      <th>y_true</th>\n",
       "      <th>tokens</th>\n",
       "      <th>token_ids</th>\n",
       "      <th>text_norm</th>\n",
       "    </tr>\n",
       "  </thead>\n",
       "  <tbody>\n",
       "    <tr>\n",
       "      <th>0</th>\n",
       "      <td>macocu.ca.2248072</td>\n",
       "      <td>Opinion/Argumentation</td>\n",
       "      <td>Pàgines \\n\\nEnfeinada \\n\\nPorto uns dies una m...</td>\n",
       "      <td>Pages\\n\\nCoined\\n\\nI have been a little busy f...</td>\n",
       "      <td>{'text_id': 'macocu.ca.2248072'}</td>\n",
       "      <td>Forum</td>\n",
       "      <td>[▁P, à, gine, s, ▁En, fei, nada, ▁Porto, ▁uns,...</td>\n",
       "      <td>[436, 1298, 63023, 7, 357, 51899, 28866, 24952...</td>\n",
       "      <td>pagines \\n\\nenfeinada \\n\\nporto uns dies una m...</td>\n",
       "    </tr>\n",
       "    <tr>\n",
       "      <th>1</th>\n",
       "      <td>macocu.ca.756254</td>\n",
       "      <td>Information/Explanation</td>\n",
       "      <td>Info \\n\\nLa Casa nova dels Banys de Sant Vicen...</td>\n",
       "      <td>Info\\n\\nThe Casa Nova dels Banys de Sant Vicen...</td>\n",
       "      <td>{'text_id': 'macocu.ca.756254'}</td>\n",
       "      <td>Information/Explanation</td>\n",
       "      <td>[▁Info, ▁La, ▁Casa, ▁nova, ▁dels, ▁Ban, ys, ▁d...</td>\n",
       "      <td>[14048, 239, 8591, 4678, 2323, 5458, 4778, 8, ...</td>\n",
       "      <td>info \\n\\nla casa nova dels banys de sant vicen...</td>\n",
       "    </tr>\n",
       "  </tbody>\n",
       "</table>\n",
       "</div>"
      ],
      "text/plain": [
       "             text_id                   y_pred  \\\n",
       "0  macocu.ca.2248072    Opinion/Argumentation   \n",
       "1   macocu.ca.756254  Information/Explanation   \n",
       "\n",
       "                                                text  \\\n",
       "0  Pàgines \\n\\nEnfeinada \\n\\nPorto uns dies una m...   \n",
       "1  Info \\n\\nLa Casa nova dels Banys de Sant Vicen...   \n",
       "\n",
       "                                         translation  \\\n",
       "0  Pages\\n\\nCoined\\n\\nI have been a little busy f...   \n",
       "1  Info\\n\\nThe Casa Nova dels Banys de Sant Vicen...   \n",
       "\n",
       "                           metadata                   y_true  \\\n",
       "0  {'text_id': 'macocu.ca.2248072'}                    Forum   \n",
       "1   {'text_id': 'macocu.ca.756254'}  Information/Explanation   \n",
       "\n",
       "                                              tokens  \\\n",
       "0  [▁P, à, gine, s, ▁En, fei, nada, ▁Porto, ▁uns,...   \n",
       "1  [▁Info, ▁La, ▁Casa, ▁nova, ▁dels, ▁Ban, ys, ▁d...   \n",
       "\n",
       "                                           token_ids  \\\n",
       "0  [436, 1298, 63023, 7, 357, 51899, 28866, 24952...   \n",
       "1  [14048, 239, 8591, 4678, 2323, 5458, 4778, 8, ...   \n",
       "\n",
       "                                           text_norm  \n",
       "0  pagines \\n\\nenfeinada \\n\\nporto uns dies una m...  \n",
       "1  info \\n\\nla casa nova dels banys de sant vicen...  "
      ]
     },
     "metadata": {},
     "output_type": "display_data"
    },
    {
     "data": {
      "text/html": [
       "<div>\n",
       "<style scoped>\n",
       "    .dataframe tbody tr th:only-of-type {\n",
       "        vertical-align: middle;\n",
       "    }\n",
       "\n",
       "    .dataframe tbody tr th {\n",
       "        vertical-align: top;\n",
       "    }\n",
       "\n",
       "    .dataframe thead th {\n",
       "        text-align: right;\n",
       "    }\n",
       "</style>\n",
       "<table border=\"1\" class=\"dataframe\">\n",
       "  <thead>\n",
       "    <tr style=\"text-align: right;\">\n",
       "      <th></th>\n",
       "      <th>text_id</th>\n",
       "      <th>y_pred</th>\n",
       "      <th>text</th>\n",
       "      <th>translation</th>\n",
       "      <th>metadata</th>\n",
       "      <th>y_true</th>\n",
       "      <th>tokens</th>\n",
       "      <th>token_ids</th>\n",
       "      <th>text_latin</th>\n",
       "      <th>text_norm</th>\n",
       "    </tr>\n",
       "  </thead>\n",
       "  <tbody>\n",
       "    <tr>\n",
       "      <th>0</th>\n",
       "      <td>CLASSLA-web.mk.1000486</td>\n",
       "      <td>Forum</td>\n",
       "      <td>Екшули, TCL ги прави смартфоновите, а TCL е см...</td>\n",
       "      <td>Ekshui, TCL makes smartphones, and TCL is hous...</td>\n",
       "      <td>CLASSLA-web.mk.1000486', 'domain': 'forum.carc...</td>\n",
       "      <td>Forum</td>\n",
       "      <td>[▁Ек, шу, ли, ,, ▁T, CL, ▁ги, ▁прави, ▁смартфо...</td>\n",
       "      <td>[75430, 12213, 546, 4, 384, 37486, 1670, 10416...</td>\n",
       "      <td>Ekšuli, TCL gi pravi smartfonovite, a TCL e sm...</td>\n",
       "      <td>ekshuli, tcl gi pravi smartfonovite, a tcl e s...</td>\n",
       "    </tr>\n",
       "    <tr>\n",
       "      <th>1</th>\n",
       "      <td>CLASSLA-web.mk.1009071</td>\n",
       "      <td>News</td>\n",
       "      <td>Red Valentino прогнозира бура од принтови за с...</td>\n",
       "      <td>Red Valentino predicts a storm of prints for n...</td>\n",
       "      <td>CLASSLA-web.mk.1009071', 'domain': 'fashionel....</td>\n",
       "      <td>News</td>\n",
       "      <td>[▁Red, ▁Valentino, ▁прогноз, ира, ▁бур, а, ▁од...</td>\n",
       "      <td>[6096, 166361, 45404, 6790, 21623, 59, 338, 44...</td>\n",
       "      <td>Red Valentino prognozira bura od printovi za s...</td>\n",
       "      <td>red valentino prognozira bura od printovi za s...</td>\n",
       "    </tr>\n",
       "  </tbody>\n",
       "</table>\n",
       "</div>"
      ],
      "text/plain": [
       "                  text_id y_pred  \\\n",
       "0  CLASSLA-web.mk.1000486  Forum   \n",
       "1  CLASSLA-web.mk.1009071   News   \n",
       "\n",
       "                                                text  \\\n",
       "0  Екшули, TCL ги прави смартфоновите, а TCL е см...   \n",
       "1  Red Valentino прогнозира бура од принтови за с...   \n",
       "\n",
       "                                         translation  \\\n",
       "0  Ekshui, TCL makes smartphones, and TCL is hous...   \n",
       "1  Red Valentino predicts a storm of prints for n...   \n",
       "\n",
       "                                            metadata y_true  \\\n",
       "0  CLASSLA-web.mk.1000486', 'domain': 'forum.carc...  Forum   \n",
       "1  CLASSLA-web.mk.1009071', 'domain': 'fashionel....   News   \n",
       "\n",
       "                                              tokens  \\\n",
       "0  [▁Ек, шу, ли, ,, ▁T, CL, ▁ги, ▁прави, ▁смартфо...   \n",
       "1  [▁Red, ▁Valentino, ▁прогноз, ира, ▁бур, а, ▁од...   \n",
       "\n",
       "                                           token_ids  \\\n",
       "0  [75430, 12213, 546, 4, 384, 37486, 1670, 10416...   \n",
       "1  [6096, 166361, 45404, 6790, 21623, 59, 338, 44...   \n",
       "\n",
       "                                          text_latin  \\\n",
       "0  Ekšuli, TCL gi pravi smartfonovite, a TCL e sm...   \n",
       "1  Red Valentino prognozira bura od printovi za s...   \n",
       "\n",
       "                                           text_norm  \n",
       "0  ekshuli, tcl gi pravi smartfonovite, a tcl e s...  \n",
       "1  red valentino prognozira bura od printovi za s...  "
      ]
     },
     "metadata": {},
     "output_type": "display_data"
    },
    {
     "data": {
      "text/html": [
       "<div>\n",
       "<style scoped>\n",
       "    .dataframe tbody tr th:only-of-type {\n",
       "        vertical-align: middle;\n",
       "    }\n",
       "\n",
       "    .dataframe tbody tr th {\n",
       "        vertical-align: top;\n",
       "    }\n",
       "\n",
       "    .dataframe thead th {\n",
       "        text-align: right;\n",
       "    }\n",
       "</style>\n",
       "<table border=\"1\" class=\"dataframe\">\n",
       "  <thead>\n",
       "    <tr style=\"text-align: right;\">\n",
       "      <th></th>\n",
       "      <th>text_id</th>\n",
       "      <th>y_pred</th>\n",
       "      <th>text</th>\n",
       "      <th>translation</th>\n",
       "      <th>metadata</th>\n",
       "      <th>y_true</th>\n",
       "      <th>tokens</th>\n",
       "      <th>token_ids</th>\n",
       "      <th>text_norm</th>\n",
       "    </tr>\n",
       "  </thead>\n",
       "  <tbody>\n",
       "    <tr>\n",
       "      <th>0</th>\n",
       "      <td>CLASSLA-web.hr.1033815</td>\n",
       "      <td>Promotion</td>\n",
       "      <td>O proizvodu\\nColor Transformer, za pametno i j...</td>\n",
       "      <td>About the Color Transformer product, for smart...</td>\n",
       "      <td>CLASSLA-web.hr.1033815', 'domain': 'hairshop.hr'}</td>\n",
       "      <td>Promotion</td>\n",
       "      <td>[▁O, ▁proizvod, u, ▁Color, ▁Trans, former, ,, ...</td>\n",
       "      <td>[180, 43170, 34, 51193, 11062, 82772, 4, 80, 6...</td>\n",
       "      <td>o proizvodu\\ncolor transformer, za pametno i j...</td>\n",
       "    </tr>\n",
       "    <tr>\n",
       "      <th>2</th>\n",
       "      <td>CLASSLA-web.hr.1119579</td>\n",
       "      <td>Promotion</td>\n",
       "      <td>Sunčano selo / Sunny village\\nNa obroncima Bil...</td>\n",
       "      <td>Sunshine / Sunny Village on the slopes of Bilo...</td>\n",
       "      <td>CLASSLA-web.hr.1119579', 'domain': 'vikendi.com'}</td>\n",
       "      <td>Promotion</td>\n",
       "      <td>[▁Sun, čan, o, ▁se, lo, ▁/, ▁Sunny, ▁village, ...</td>\n",
       "      <td>[7550, 17129, 31, 40, 365, 248, 151197, 54427,...</td>\n",
       "      <td>suncano selo / sunny village\\nna obroncima bil...</td>\n",
       "    </tr>\n",
       "  </tbody>\n",
       "</table>\n",
       "</div>"
      ],
      "text/plain": [
       "                  text_id     y_pred  \\\n",
       "0  CLASSLA-web.hr.1033815  Promotion   \n",
       "2  CLASSLA-web.hr.1119579  Promotion   \n",
       "\n",
       "                                                text  \\\n",
       "0  O proizvodu\\nColor Transformer, za pametno i j...   \n",
       "2  Sunčano selo / Sunny village\\nNa obroncima Bil...   \n",
       "\n",
       "                                         translation  \\\n",
       "0  About the Color Transformer product, for smart...   \n",
       "2  Sunshine / Sunny Village on the slopes of Bilo...   \n",
       "\n",
       "                                            metadata     y_true  \\\n",
       "0  CLASSLA-web.hr.1033815', 'domain': 'hairshop.hr'}  Promotion   \n",
       "2  CLASSLA-web.hr.1119579', 'domain': 'vikendi.com'}  Promotion   \n",
       "\n",
       "                                              tokens  \\\n",
       "0  [▁O, ▁proizvod, u, ▁Color, ▁Trans, former, ,, ...   \n",
       "2  [▁Sun, čan, o, ▁se, lo, ▁/, ▁Sunny, ▁village, ...   \n",
       "\n",
       "                                           token_ids  \\\n",
       "0  [180, 43170, 34, 51193, 11062, 82772, 4, 80, 6...   \n",
       "2  [7550, 17129, 31, 40, 365, 248, 151197, 54427,...   \n",
       "\n",
       "                                           text_norm  \n",
       "0  o proizvodu\\ncolor transformer, za pametno i j...  \n",
       "2  suncano selo / sunny village\\nna obroncima bil...  "
      ]
     },
     "metadata": {},
     "output_type": "display_data"
    },
    {
     "data": {
      "text/html": [
       "<div>\n",
       "<style scoped>\n",
       "    .dataframe tbody tr th:only-of-type {\n",
       "        vertical-align: middle;\n",
       "    }\n",
       "\n",
       "    .dataframe tbody tr th {\n",
       "        vertical-align: top;\n",
       "    }\n",
       "\n",
       "    .dataframe thead th {\n",
       "        text-align: right;\n",
       "    }\n",
       "</style>\n",
       "<table border=\"1\" class=\"dataframe\">\n",
       "  <thead>\n",
       "    <tr style=\"text-align: right;\">\n",
       "      <th></th>\n",
       "      <th>text_id</th>\n",
       "      <th>y_pred</th>\n",
       "      <th>text</th>\n",
       "      <th>translation</th>\n",
       "      <th>metadata</th>\n",
       "      <th>y_true</th>\n",
       "      <th>tokens</th>\n",
       "      <th>token_ids</th>\n",
       "      <th>text_norm</th>\n",
       "    </tr>\n",
       "  </thead>\n",
       "  <tbody>\n",
       "    <tr>\n",
       "      <th>1</th>\n",
       "      <td>CLASSLA-web.sl.1087171</td>\n",
       "      <td>Opinion/Argumentation</td>\n",
       "      <td>Kitajsko mesto duhov\\nV Notranji Mongoliji ras...</td>\n",
       "      <td>The Chinese ghost city in Inner Mongolia is gr...</td>\n",
       "      <td>CLASSLA-web.sl.1087171', 'domain': 'mladina.si'}</td>\n",
       "      <td>News</td>\n",
       "      <td>[▁Kita, jsko, ▁mesto, ▁duhov, ▁V, ▁Notranj, i,...</td>\n",
       "      <td>[12992, 30878, 22041, 87909, 310, 240213, 14, ...</td>\n",
       "      <td>kitajsko mesto duhov\\nv notranji mongoliji ras...</td>\n",
       "    </tr>\n",
       "    <tr>\n",
       "      <th>2</th>\n",
       "      <td>CLASSLA-web.sl.1215246</td>\n",
       "      <td>Instruction</td>\n",
       "      <td>Krompir skuhamo, olupimo in narežemo na tanke ...</td>\n",
       "      <td>Cook the potatoes, peel and cut into thin ring...</td>\n",
       "      <td>CLASSLA-web.sl.1215246', 'domain': 'emorje.com'}</td>\n",
       "      <td>Instruction</td>\n",
       "      <td>[▁Krom, pir, ▁s, kuha, mo, ,, ▁olup, imo, ▁in,...</td>\n",
       "      <td>[128458, 21738, 91, 60863, 432, 4, 37663, 2414...</td>\n",
       "      <td>krompir skuhamo, olupimo in narezemo na tanke ...</td>\n",
       "    </tr>\n",
       "  </tbody>\n",
       "</table>\n",
       "</div>"
      ],
      "text/plain": [
       "                  text_id                 y_pred  \\\n",
       "1  CLASSLA-web.sl.1087171  Opinion/Argumentation   \n",
       "2  CLASSLA-web.sl.1215246            Instruction   \n",
       "\n",
       "                                                text  \\\n",
       "1  Kitajsko mesto duhov\\nV Notranji Mongoliji ras...   \n",
       "2  Krompir skuhamo, olupimo in narežemo na tanke ...   \n",
       "\n",
       "                                         translation  \\\n",
       "1  The Chinese ghost city in Inner Mongolia is gr...   \n",
       "2  Cook the potatoes, peel and cut into thin ring...   \n",
       "\n",
       "                                           metadata       y_true  \\\n",
       "1  CLASSLA-web.sl.1087171', 'domain': 'mladina.si'}         News   \n",
       "2  CLASSLA-web.sl.1215246', 'domain': 'emorje.com'}  Instruction   \n",
       "\n",
       "                                              tokens  \\\n",
       "1  [▁Kita, jsko, ▁mesto, ▁duhov, ▁V, ▁Notranj, i,...   \n",
       "2  [▁Krom, pir, ▁s, kuha, mo, ,, ▁olup, imo, ▁in,...   \n",
       "\n",
       "                                           token_ids  \\\n",
       "1  [12992, 30878, 22041, 87909, 310, 240213, 14, ...   \n",
       "2  [128458, 21738, 91, 60863, 432, 4, 37663, 2414...   \n",
       "\n",
       "                                           text_norm  \n",
       "1  kitajsko mesto duhov\\nv notranji mongoliji ras...  \n",
       "2  krompir skuhamo, olupimo in narezemo na tanke ...  "
      ]
     },
     "metadata": {},
     "output_type": "display_data"
    }
   ],
   "source": [
    "# Furthermore, let's also \"normalize\" the characters in all the languages to get rid of special characters, using the unidecode library: https://pypi.org/project/Unidecode/, and also lowercase all characters\n",
    "\n",
    "def normalize(text):\n",
    "\t# First, make the text lowercase\n",
    "\ttext = text.lower()\n",
    "\tfrom unidecode import unidecode\n",
    "\tnorm_text = unidecode(u\"{}\".format(text))\n",
    "\treturn norm_text\n",
    "\n",
    "for lang in list(main_dict.keys()):\n",
    "\t# Open the df\n",
    "\tdf = pd.DataFrame(main_dict[lang][\"dataset\"])\n",
    "\n",
    "\tif \"lang\" in [\"uk\", \"mk\", \"el\"]:\n",
    "\t\t# Take the transliterated text, normalize and save text to new column\n",
    "\t\tdf[\"text_norm\"] = [normalize(x) for x in df[\"text_latin\"].to_list()]\n",
    "\t\tdisplay(df.head(2))\n",
    "\telse:\n",
    "\t\t# Normalize and save text to new column\n",
    "\t\tdf[\"text_norm\"] = [normalize(x) for x in df[\"text\"].to_list()]\n",
    "\t\tdisplay(df.head(2))\n",
    "\t# Save the df\n",
    "\tmain_dict[lang][\"dataset\"] = df.to_dict()"
   ]
  },
  {
   "cell_type": "code",
   "execution_count": 29,
   "metadata": {},
   "outputs": [],
   "source": [
    "# Save the main dict\n",
    "with open(\"manual-annotations/multilingual-genre-annotated-test-set.json\", \"w\") as file:\n",
    "\tjson.dump(main_dict, file)"
   ]
  },
  {
   "cell_type": "code",
   "execution_count": 12,
   "metadata": {},
   "outputs": [
    {
     "data": {
      "text/html": [
       "<div>\n",
       "<style scoped>\n",
       "    .dataframe tbody tr th:only-of-type {\n",
       "        vertical-align: middle;\n",
       "    }\n",
       "\n",
       "    .dataframe tbody tr th {\n",
       "        vertical-align: top;\n",
       "    }\n",
       "\n",
       "    .dataframe thead th {\n",
       "        text-align: right;\n",
       "    }\n",
       "</style>\n",
       "<table border=\"1\" class=\"dataframe\">\n",
       "  <thead>\n",
       "    <tr style=\"text-align: right;\">\n",
       "      <th></th>\n",
       "      <th>text</th>\n",
       "      <th>labels</th>\n",
       "      <th>dataset</th>\n",
       "      <th>language</th>\n",
       "      <th>tokens_train</th>\n",
       "      <th>token_ids</th>\n",
       "      <th>text_norm</th>\n",
       "      <th>tokens_train_norm</th>\n",
       "    </tr>\n",
       "  </thead>\n",
       "  <tbody>\n",
       "    <tr>\n",
       "      <th>0</th>\n",
       "      <td>Seeking All Things Brilliant \"I want people to...</td>\n",
       "      <td>Other</td>\n",
       "      <td>CORE</td>\n",
       "      <td>English</td>\n",
       "      <td>[▁See, king, ▁All, ▁Things, ▁Br, illian, t, ▁\"...</td>\n",
       "      <td>[6872, 6048, 3164, 119175, 13008, 162076, 18, ...</td>\n",
       "      <td>seeking all things brilliant \"i want people to...</td>\n",
       "      <td>[▁seeking, ▁all, ▁things, ▁brilliant, ▁\", i, ▁...</td>\n",
       "    </tr>\n",
       "    <tr>\n",
       "      <th>1</th>\n",
       "      <td>Meet Orchid du Bois I first met Hayley Mowday ...</td>\n",
       "      <td>Other</td>\n",
       "      <td>CORE</td>\n",
       "      <td>English</td>\n",
       "      <td>[▁Meet, ▁Or, ch, id, ▁du, ▁Bo, is, ▁I, ▁first,...</td>\n",
       "      <td>[72626, 3347, 206, 532, 115, 2460, 164, 87, 51...</td>\n",
       "      <td>meet orchid du bois i first met hayley mowday ...</td>\n",
       "      <td>[▁meet, ▁or, ch, id, ▁du, ▁bois, ▁i, ▁first, ▁...</td>\n",
       "    </tr>\n",
       "  </tbody>\n",
       "</table>\n",
       "</div>"
      ],
      "text/plain": [
       "                                                text labels dataset language  \\\n",
       "0  Seeking All Things Brilliant \"I want people to...  Other    CORE  English   \n",
       "1  Meet Orchid du Bois I first met Hayley Mowday ...  Other    CORE  English   \n",
       "\n",
       "                                        tokens_train  \\\n",
       "0  [▁See, king, ▁All, ▁Things, ▁Br, illian, t, ▁\"...   \n",
       "1  [▁Meet, ▁Or, ch, id, ▁du, ▁Bo, is, ▁I, ▁first,...   \n",
       "\n",
       "                                           token_ids  \\\n",
       "0  [6872, 6048, 3164, 119175, 13008, 162076, 18, ...   \n",
       "1  [72626, 3347, 206, 532, 115, 2460, 164, 87, 51...   \n",
       "\n",
       "                                           text_norm  \\\n",
       "0  seeking all things brilliant \"i want people to...   \n",
       "1  meet orchid du bois i first met hayley mowday ...   \n",
       "\n",
       "                                   tokens_train_norm  \n",
       "0  [▁seeking, ▁all, ▁things, ▁brilliant, ▁\", i, ▁...  \n",
       "1  [▁meet, ▁or, ch, id, ▁du, ▁bois, ▁i, ▁first, ▁...  "
      ]
     },
     "execution_count": 12,
     "metadata": {},
     "output_type": "execute_result"
    }
   ],
   "source": [
    "# Open and normalize also the training dataset\n",
    "# Open the tokenized df\n",
    "train_df = pd.read_json(\"datasets/tokenized_datasets/X-GENRE-train-tokenized.json\")\n",
    "train_df.head(2)\n"
   ]
  },
  {
   "cell_type": "code",
   "execution_count": 34,
   "metadata": {},
   "outputs": [
    {
     "data": {
      "text/html": [
       "<div>\n",
       "<style scoped>\n",
       "    .dataframe tbody tr th:only-of-type {\n",
       "        vertical-align: middle;\n",
       "    }\n",
       "\n",
       "    .dataframe tbody tr th {\n",
       "        vertical-align: top;\n",
       "    }\n",
       "\n",
       "    .dataframe thead th {\n",
       "        text-align: right;\n",
       "    }\n",
       "</style>\n",
       "<table border=\"1\" class=\"dataframe\">\n",
       "  <thead>\n",
       "    <tr style=\"text-align: right;\">\n",
       "      <th></th>\n",
       "      <th>text</th>\n",
       "      <th>labels</th>\n",
       "      <th>dataset</th>\n",
       "      <th>language</th>\n",
       "      <th>tokens_train</th>\n",
       "      <th>token_ids</th>\n",
       "      <th>text_norm</th>\n",
       "    </tr>\n",
       "  </thead>\n",
       "  <tbody>\n",
       "    <tr>\n",
       "      <th>0</th>\n",
       "      <td>Seeking All Things Brilliant \"I want people to...</td>\n",
       "      <td>Other</td>\n",
       "      <td>CORE</td>\n",
       "      <td>English</td>\n",
       "      <td>[▁See, king, ▁All, ▁Things, ▁Br, illian, t, ▁\"...</td>\n",
       "      <td>[6872, 6048, 3164, 119175, 13008, 162076, 18, ...</td>\n",
       "      <td>seeking all things brilliant \"i want people to...</td>\n",
       "    </tr>\n",
       "    <tr>\n",
       "      <th>1</th>\n",
       "      <td>Meet Orchid du Bois I first met Hayley Mowday ...</td>\n",
       "      <td>Other</td>\n",
       "      <td>CORE</td>\n",
       "      <td>English</td>\n",
       "      <td>[▁Meet, ▁Or, ch, id, ▁du, ▁Bo, is, ▁I, ▁first,...</td>\n",
       "      <td>[72626, 3347, 206, 532, 115, 2460, 164, 87, 51...</td>\n",
       "      <td>meet orchid du bois i first met hayley mowday ...</td>\n",
       "    </tr>\n",
       "  </tbody>\n",
       "</table>\n",
       "</div>"
      ],
      "text/plain": [
       "                                                text labels dataset language  \\\n",
       "0  Seeking All Things Brilliant \"I want people to...  Other    CORE  English   \n",
       "1  Meet Orchid du Bois I first met Hayley Mowday ...  Other    CORE  English   \n",
       "\n",
       "                                        tokens_train  \\\n",
       "0  [▁See, king, ▁All, ▁Things, ▁Br, illian, t, ▁\"...   \n",
       "1  [▁Meet, ▁Or, ch, id, ▁du, ▁Bo, is, ▁I, ▁first,...   \n",
       "\n",
       "                                           token_ids  \\\n",
       "0  [6872, 6048, 3164, 119175, 13008, 162076, 18, ...   \n",
       "1  [72626, 3347, 206, 532, 115, 2460, 164, 87, 51...   \n",
       "\n",
       "                                           text_norm  \n",
       "0  seeking all things brilliant \"i want people to...  \n",
       "1  meet orchid du bois i first met hayley mowday ...  "
      ]
     },
     "metadata": {},
     "output_type": "display_data"
    }
   ],
   "source": [
    "# \"normalize\" the characters to get rid of special characters, using the unidecode library: https://pypi.org/project/Unidecode/, and also lowercase all characters\n",
    "\n",
    "def normalize(text):\n",
    "\t# First, make the text lowercase\n",
    "\ttext = text.lower()\n",
    "\tfrom unidecode import unidecode\n",
    "\tnorm_text = unidecode(u\"{}\".format(text))\n",
    "\treturn norm_text\n",
    "\n",
    "# Normalize and save text to new column\n",
    "train_df[\"text_norm\"] = [normalize(x) for x in train_df[\"text\"].to_list()]\n",
    "display(train_df.head(2))\n",
    "\n",
    "# Save the noramalized version\n",
    "train_df.to_json(\"datasets/tokenized_datasets/X-GENRE-train-tokenized.json\")"
   ]
  },
  {
   "cell_type": "code",
   "execution_count": 37,
   "metadata": {},
   "outputs": [
    {
     "data": {
      "text/html": [
       "<div>\n",
       "<style scoped>\n",
       "    .dataframe tbody tr th:only-of-type {\n",
       "        vertical-align: middle;\n",
       "    }\n",
       "\n",
       "    .dataframe tbody tr th {\n",
       "        vertical-align: top;\n",
       "    }\n",
       "\n",
       "    .dataframe thead th {\n",
       "        text-align: right;\n",
       "    }\n",
       "</style>\n",
       "<table border=\"1\" class=\"dataframe\">\n",
       "  <thead>\n",
       "    <tr style=\"text-align: right;\">\n",
       "      <th></th>\n",
       "      <th>text</th>\n",
       "      <th>labels</th>\n",
       "      <th>dataset</th>\n",
       "      <th>language</th>\n",
       "      <th>tokens_train</th>\n",
       "      <th>token_ids</th>\n",
       "      <th>text_norm</th>\n",
       "    </tr>\n",
       "  </thead>\n",
       "  <tbody>\n",
       "    <tr>\n",
       "      <th>1140</th>\n",
       "      <td>SPREJEM GASILSKEGA VOZILA GVM-1 &lt;p/&gt; V soboto,...</td>\n",
       "      <td>News</td>\n",
       "      <td>GINCO</td>\n",
       "      <td>Slovenian</td>\n",
       "      <td>[▁S, PRE, JEM, ▁GA, SIL, SK, EGA, ▁V, OZ, ILA,...</td>\n",
       "      <td>[159, 94632, 164923, 23749, 68785, 10762, 5037...</td>\n",
       "      <td>sprejem gasilskega vozila gvm-1 &lt;p/&gt; v soboto,...</td>\n",
       "    </tr>\n",
       "    <tr>\n",
       "      <th>1141</th>\n",
       "      <td>Dodano k projektu: Simple Shop Poročilo kreira...</td>\n",
       "      <td>Forum</td>\n",
       "      <td>GINCO</td>\n",
       "      <td>Slovenian</td>\n",
       "      <td>[▁Doda, no, ▁k, ▁projektu, :, ▁Simple, ▁Shop, ...</td>\n",
       "      <td>[66987, 157, 472, 13181, 12, 60552, 24211, 663...</td>\n",
       "      <td>dodano k projektu: simple shop porocilo kreira...</td>\n",
       "    </tr>\n",
       "  </tbody>\n",
       "</table>\n",
       "</div>"
      ],
      "text/plain": [
       "                                                   text labels dataset  \\\n",
       "1140  SPREJEM GASILSKEGA VOZILA GVM-1 <p/> V soboto,...   News   GINCO   \n",
       "1141  Dodano k projektu: Simple Shop Poročilo kreira...  Forum   GINCO   \n",
       "\n",
       "       language                                       tokens_train  \\\n",
       "1140  Slovenian  [▁S, PRE, JEM, ▁GA, SIL, SK, EGA, ▁V, OZ, ILA,...   \n",
       "1141  Slovenian  [▁Doda, no, ▁k, ▁projektu, :, ▁Simple, ▁Shop, ...   \n",
       "\n",
       "                                              token_ids  \\\n",
       "1140  [159, 94632, 164923, 23749, 68785, 10762, 5037...   \n",
       "1141  [66987, 157, 472, 13181, 12, 60552, 24211, 663...   \n",
       "\n",
       "                                              text_norm  \n",
       "1140  sprejem gasilskega vozila gvm-1 <p/> v soboto,...  \n",
       "1141  dodano k projektu: simple shop porocilo kreira...  "
      ]
     },
     "execution_count": 37,
     "metadata": {},
     "output_type": "execute_result"
    }
   ],
   "source": [
    "train_df[train_df[\"language\"] == \"Slovenian\"].tail(2)"
   ]
  },
  {
   "cell_type": "markdown",
   "metadata": {},
   "source": [
    "## Overlap on dataset level"
   ]
  },
  {
   "cell_type": "markdown",
   "metadata": {},
   "source": [
    "First, tokenize the training data"
   ]
  },
  {
   "cell_type": "code",
   "execution_count": 13,
   "metadata": {},
   "outputs": [
    {
     "data": {
      "text/html": [
       "<div>\n",
       "<style scoped>\n",
       "    .dataframe tbody tr th:only-of-type {\n",
       "        vertical-align: middle;\n",
       "    }\n",
       "\n",
       "    .dataframe tbody tr th {\n",
       "        vertical-align: top;\n",
       "    }\n",
       "\n",
       "    .dataframe thead th {\n",
       "        text-align: right;\n",
       "    }\n",
       "</style>\n",
       "<table border=\"1\" class=\"dataframe\">\n",
       "  <thead>\n",
       "    <tr style=\"text-align: right;\">\n",
       "      <th></th>\n",
       "      <th>text</th>\n",
       "      <th>labels</th>\n",
       "      <th>dataset</th>\n",
       "      <th>language</th>\n",
       "      <th>tokens_train</th>\n",
       "      <th>token_ids</th>\n",
       "      <th>text_norm</th>\n",
       "      <th>tokens_train_norm</th>\n",
       "    </tr>\n",
       "  </thead>\n",
       "  <tbody>\n",
       "    <tr>\n",
       "      <th>0</th>\n",
       "      <td>Seeking All Things Brilliant \"I want people to...</td>\n",
       "      <td>Other</td>\n",
       "      <td>CORE</td>\n",
       "      <td>English</td>\n",
       "      <td>[▁See, king, ▁All, ▁Things, ▁Br, illian, t, ▁\"...</td>\n",
       "      <td>[6872, 6048, 3164, 119175, 13008, 162076, 18, ...</td>\n",
       "      <td>seeking all things brilliant \"i want people to...</td>\n",
       "      <td>[▁seeking, ▁all, ▁things, ▁brilliant, ▁\", i, ▁...</td>\n",
       "    </tr>\n",
       "    <tr>\n",
       "      <th>1</th>\n",
       "      <td>Meet Orchid du Bois I first met Hayley Mowday ...</td>\n",
       "      <td>Other</td>\n",
       "      <td>CORE</td>\n",
       "      <td>English</td>\n",
       "      <td>[▁Meet, ▁Or, ch, id, ▁du, ▁Bo, is, ▁I, ▁first,...</td>\n",
       "      <td>[72626, 3347, 206, 532, 115, 2460, 164, 87, 51...</td>\n",
       "      <td>meet orchid du bois i first met hayley mowday ...</td>\n",
       "      <td>[▁meet, ▁or, ch, id, ▁du, ▁bois, ▁i, ▁first, ▁...</td>\n",
       "    </tr>\n",
       "  </tbody>\n",
       "</table>\n",
       "</div>"
      ],
      "text/plain": [
       "                                                text labels dataset language  \\\n",
       "0  Seeking All Things Brilliant \"I want people to...  Other    CORE  English   \n",
       "1  Meet Orchid du Bois I first met Hayley Mowday ...  Other    CORE  English   \n",
       "\n",
       "                                        tokens_train  \\\n",
       "0  [▁See, king, ▁All, ▁Things, ▁Br, illian, t, ▁\"...   \n",
       "1  [▁Meet, ▁Or, ch, id, ▁du, ▁Bo, is, ▁I, ▁first,...   \n",
       "\n",
       "                                           token_ids  \\\n",
       "0  [6872, 6048, 3164, 119175, 13008, 162076, 18, ...   \n",
       "1  [72626, 3347, 206, 532, 115, 2460, 164, 87, 51...   \n",
       "\n",
       "                                           text_norm  \\\n",
       "0  seeking all things brilliant \"i want people to...   \n",
       "1  meet orchid du bois i first met hayley mowday ...   \n",
       "\n",
       "                                   tokens_train_norm  \n",
       "0  [▁seeking, ▁all, ▁things, ▁brilliant, ▁\", i, ▁...  \n",
       "1  [▁meet, ▁or, ch, id, ▁du, ▁bois, ▁i, ▁first, ▁...  "
      ]
     },
     "metadata": {},
     "output_type": "display_data"
    }
   ],
   "source": [
    "# To open as Pandas DataFrame:\n",
    "train_df = pd.read_json(\"datasets/tokenized_datasets/X-GENRE-train-tokenized.json\")\n",
    "\n",
    "display(train_df.head(2))"
   ]
  },
  {
   "cell_type": "code",
   "execution_count": 4,
   "metadata": {},
   "outputs": [
    {
     "name": "stderr",
     "output_type": "stream",
     "text": [
      "  0%|          | 0/1772 [00:00<?, ?it/s]Token indices sequence length is longer than the specified maximum sequence length for this model (1810 > 512). Running this sequence through the model will result in indexing errors\n",
      "100%|██████████| 1772/1772 [00:09<00:00, 189.67it/s]\n"
     ]
    }
   ],
   "source": [
    "tokenizer = AutoTokenizer.from_pretrained(\"xlm-roberta-base\")\n",
    "\n",
    "# Tokenize the train dataset\n",
    "tokens_train = []\n",
    "token_list_train_norm = []\n",
    "\n",
    "for text in tqdm(train_df[\"text_norm\"].to_list()):\n",
    "\tencoded_text = tokenizer(text)\n",
    "\t# Take all tokens_train, except the beginning (<s>) and end (</s>) token\n",
    "\tcurrent_tokens_train = tokenizer.convert_ids_to_tokens(encoded_text.input_ids)[1:-1]\n",
    "\t# Shorten the list to 512, as tokens after that were not observed by the classifier\n",
    "\tcurrent_tokens_train = current_tokens_train[:512]\n",
    "\ttokens_train.append(current_tokens_train)\n",
    "\ttoken_list_train_norm.extend(current_tokens_train)\n",
    "\n",
    "train_df[\"tokens_train_norm\"] = tokens_train\n",
    "\n",
    "train_df.head(3)\n",
    "\n",
    "# Save the tokenized version\n",
    "train_df.to_json(\"datasets/tokenized_datasets/X-GENRE-train-tokenized.json\")"
   ]
  },
  {
   "cell_type": "code",
   "execution_count": 17,
   "metadata": {},
   "outputs": [
    {
     "data": {
      "text/plain": [
       "702133"
      ]
     },
     "execution_count": 17,
     "metadata": {},
     "output_type": "execute_result"
    }
   ],
   "source": [
    "# Create a token list of all tokens in train\n",
    "train_df = pd.read_json(\"datasets/tokenized_datasets/X-GENRE-train-tokenized.json\")\n",
    "\n",
    "token_list_train_norm = []\n",
    "\n",
    "for i in train_df[\"tokens_train_norm\"].to_list():\n",
    "\ttoken_list_train_norm.extend(i)\n",
    "\n",
    "len(token_list_train_norm)\n"
   ]
  },
  {
   "cell_type": "markdown",
   "metadata": {},
   "source": [
    "Tokenize also the test sets"
   ]
  },
  {
   "cell_type": "code",
   "execution_count": 18,
   "metadata": {},
   "outputs": [
    {
     "data": {
      "text/plain": [
       "dict_keys(['mt', 'el', 'tr', 'sq', 'is', 'uk', 'ca', 'mk', 'hr', 'sl'])"
      ]
     },
     "execution_count": 18,
     "metadata": {},
     "output_type": "execute_result"
    }
   ],
   "source": [
    "# Import the final dataset with test sets\n",
    "with open(\"manual-annotations/multilingual-genre-annotated-test-set.json\") as main_file:\n",
    "\tmain_dict = json.load(main_file)\n",
    "\n",
    "main_dict.keys()"
   ]
  },
  {
   "cell_type": "code",
   "execution_count": 19,
   "metadata": {},
   "outputs": [
    {
     "name": "stdout",
     "output_type": "stream",
     "text": [
      "Tokenizing text.\n"
     ]
    },
    {
     "name": "stderr",
     "output_type": "stream",
     "text": [
      "  0%|          | 0/80 [00:00<?, ?it/s]Token indices sequence length is longer than the specified maximum sequence length for this model (685 > 512). Running this sequence through the model will result in indexing errors\n",
      "100%|██████████| 80/80 [00:00<00:00, 394.94it/s]\n"
     ]
    },
    {
     "name": "stdout",
     "output_type": "stream",
     "text": [
      "Calculating overlap.\n"
     ]
    },
    {
     "name": "stderr",
     "output_type": "stream",
     "text": [
      "100%|██████████| 38674/38674 [00:50<00:00, 764.90it/s] \n"
     ]
    },
    {
     "name": "stdout",
     "output_type": "stream",
     "text": [
      "Number of tokens that overlap: 35146\n",
      "Number of different tokens that overlap: 3691\n",
      "Percentage of overlap: 0.908775921807933\n",
      "Tokenizing text.\n"
     ]
    },
    {
     "name": "stderr",
     "output_type": "stream",
     "text": [
      "  0%|          | 0/80 [00:00<?, ?it/s]Token indices sequence length is longer than the specified maximum sequence length for this model (547 > 512). Running this sequence through the model will result in indexing errors\n",
      "100%|██████████| 80/80 [00:00<00:00, 574.33it/s]\n"
     ]
    },
    {
     "name": "stdout",
     "output_type": "stream",
     "text": [
      "Calculating overlap.\n"
     ]
    },
    {
     "name": "stderr",
     "output_type": "stream",
     "text": [
      "100%|██████████| 32652/32652 [00:52<00:00, 621.16it/s]\n"
     ]
    },
    {
     "name": "stdout",
     "output_type": "stream",
     "text": [
      "Number of tokens that overlap: 29231\n",
      "Number of different tokens that overlap: 2567\n",
      "Percentage of overlap: 0.8952284699252726\n",
      "Tokenizing text.\n"
     ]
    },
    {
     "name": "stderr",
     "output_type": "stream",
     "text": [
      "  0%|          | 0/80 [00:00<?, ?it/s]Token indices sequence length is longer than the specified maximum sequence length for this model (645 > 512). Running this sequence through the model will result in indexing errors\n",
      "100%|██████████| 80/80 [00:00<00:00, 529.31it/s]\n"
     ]
    },
    {
     "name": "stdout",
     "output_type": "stream",
     "text": [
      "Calculating overlap.\n"
     ]
    },
    {
     "name": "stderr",
     "output_type": "stream",
     "text": [
      "100%|██████████| 31002/31002 [01:20<00:00, 386.69it/s]\n"
     ]
    },
    {
     "name": "stdout",
     "output_type": "stream",
     "text": [
      "Number of tokens that overlap: 22623\n",
      "Number of different tokens that overlap: 2468\n",
      "Percentage of overlap: 0.7297271143797175\n",
      "Tokenizing text.\n"
     ]
    },
    {
     "name": "stderr",
     "output_type": "stream",
     "text": [
      "  0%|          | 0/80 [00:00<?, ?it/s]Token indices sequence length is longer than the specified maximum sequence length for this model (546 > 512). Running this sequence through the model will result in indexing errors\n",
      "100%|██████████| 80/80 [00:00<00:00, 722.58it/s]\n"
     ]
    },
    {
     "name": "stdout",
     "output_type": "stream",
     "text": [
      "Calculating overlap.\n"
     ]
    },
    {
     "name": "stderr",
     "output_type": "stream",
     "text": [
      "100%|██████████| 27150/27150 [00:57<00:00, 468.12it/s]\n"
     ]
    },
    {
     "name": "stdout",
     "output_type": "stream",
     "text": [
      "Number of tokens that overlap: 21175\n",
      "Number of different tokens that overlap: 2597\n",
      "Percentage of overlap: 0.7799263351749539\n",
      "Tokenizing text.\n"
     ]
    },
    {
     "name": "stderr",
     "output_type": "stream",
     "text": [
      "  0%|          | 0/80 [00:00<?, ?it/s]Token indices sequence length is longer than the specified maximum sequence length for this model (1006 > 512). Running this sequence through the model will result in indexing errors\n",
      "100%|██████████| 80/80 [00:00<00:00, 614.11it/s]\n"
     ]
    },
    {
     "name": "stdout",
     "output_type": "stream",
     "text": [
      "Calculating overlap.\n"
     ]
    },
    {
     "name": "stderr",
     "output_type": "stream",
     "text": [
      "100%|██████████| 30388/30388 [01:00<00:00, 504.24it/s]\n"
     ]
    },
    {
     "name": "stdout",
     "output_type": "stream",
     "text": [
      "Number of tokens that overlap: 24586\n",
      "Number of different tokens that overlap: 2447\n",
      "Percentage of overlap: 0.8090693694879558\n",
      "Tokenizing text.\n"
     ]
    },
    {
     "name": "stderr",
     "output_type": "stream",
     "text": [
      "  0%|          | 0/80 [00:00<?, ?it/s]Token indices sequence length is longer than the specified maximum sequence length for this model (1336 > 512). Running this sequence through the model will result in indexing errors\n",
      "100%|██████████| 80/80 [00:00<00:00, 466.77it/s]\n"
     ]
    },
    {
     "name": "stdout",
     "output_type": "stream",
     "text": [
      "Calculating overlap.\n"
     ]
    },
    {
     "name": "stderr",
     "output_type": "stream",
     "text": [
      "100%|██████████| 35538/35538 [00:55<00:00, 643.77it/s]\n"
     ]
    },
    {
     "name": "stdout",
     "output_type": "stream",
     "text": [
      "Number of tokens that overlap: 31991\n",
      "Number of different tokens that overlap: 2957\n",
      "Percentage of overlap: 0.9001913444763352\n",
      "Tokenizing text.\n"
     ]
    },
    {
     "name": "stderr",
     "output_type": "stream",
     "text": [
      "  0%|          | 0/80 [00:00<?, ?it/s]Token indices sequence length is longer than the specified maximum sequence length for this model (575 > 512). Running this sequence through the model will result in indexing errors\n",
      "100%|██████████| 80/80 [00:00<00:00, 678.99it/s]\n"
     ]
    },
    {
     "name": "stdout",
     "output_type": "stream",
     "text": [
      "Calculating overlap.\n"
     ]
    },
    {
     "name": "stderr",
     "output_type": "stream",
     "text": [
      "100%|██████████| 27492/27492 [00:48<00:00, 571.35it/s]\n"
     ]
    },
    {
     "name": "stdout",
     "output_type": "stream",
     "text": [
      "Number of tokens that overlap: 22290\n",
      "Number of different tokens that overlap: 2666\n",
      "Percentage of overlap: 0.8107813182016587\n",
      "Tokenizing text.\n"
     ]
    },
    {
     "name": "stderr",
     "output_type": "stream",
     "text": [
      "  0%|          | 0/80 [00:00<?, ?it/s]Token indices sequence length is longer than the specified maximum sequence length for this model (948 > 512). Running this sequence through the model will result in indexing errors\n",
      "100%|██████████| 80/80 [00:00<00:00, 710.61it/s]\n"
     ]
    },
    {
     "name": "stdout",
     "output_type": "stream",
     "text": [
      "Calculating overlap.\n"
     ]
    },
    {
     "name": "stderr",
     "output_type": "stream",
     "text": [
      "100%|██████████| 30608/30608 [00:48<00:00, 633.56it/s]\n"
     ]
    },
    {
     "name": "stdout",
     "output_type": "stream",
     "text": [
      "Number of tokens that overlap: 27704\n",
      "Number of different tokens that overlap: 3293\n",
      "Percentage of overlap: 0.9051228437009932\n",
      "Tokenizing text.\n"
     ]
    },
    {
     "name": "stderr",
     "output_type": "stream",
     "text": [
      "  0%|          | 0/80 [00:00<?, ?it/s]Token indices sequence length is longer than the specified maximum sequence length for this model (522 > 512). Running this sequence through the model will result in indexing errors\n",
      "100%|██████████| 80/80 [00:00<00:00, 714.09it/s]\n"
     ]
    },
    {
     "name": "stdout",
     "output_type": "stream",
     "text": [
      "Calculating overlap.\n"
     ]
    },
    {
     "name": "stderr",
     "output_type": "stream",
     "text": [
      "100%|██████████| 26993/26993 [00:49<00:00, 540.49it/s]\n"
     ]
    },
    {
     "name": "stdout",
     "output_type": "stream",
     "text": [
      "Number of tokens that overlap: 23588\n",
      "Number of different tokens that overlap: 3917\n",
      "Percentage of overlap: 0.8738561849368355\n",
      "Tokenizing text.\n"
     ]
    },
    {
     "name": "stderr",
     "output_type": "stream",
     "text": [
      "  0%|          | 0/80 [00:00<?, ?it/s]Token indices sequence length is longer than the specified maximum sequence length for this model (829 > 512). Running this sequence through the model will result in indexing errors\n",
      "100%|██████████| 80/80 [00:00<00:00, 700.43it/s]\n"
     ]
    },
    {
     "name": "stdout",
     "output_type": "stream",
     "text": [
      "Calculating overlap.\n"
     ]
    },
    {
     "name": "stderr",
     "output_type": "stream",
     "text": [
      "100%|██████████| 26760/26760 [00:34<00:00, 774.76it/s]"
     ]
    },
    {
     "name": "stdout",
     "output_type": "stream",
     "text": [
      "Number of tokens that overlap: 26320\n",
      "Number of different tokens that overlap: 4485\n",
      "Percentage of overlap: 0.9835575485799701\n"
     ]
    },
    {
     "name": "stderr",
     "output_type": "stream",
     "text": [
      "\n"
     ]
    }
   ],
   "source": [
    "# Code with which the test sets were tokenized\n",
    "\n",
    "# Define an array of token overlap\n",
    "token_overlap_results = {}\n",
    "\n",
    "# Loop through the datasets and calculate token overlap\n",
    "for lang in list(main_dict.keys()):\n",
    "\tdf = pd.DataFrame(main_dict[lang][\"dataset\"])\n",
    "\n",
    "\ttokenizer = AutoTokenizer.from_pretrained(\"xlm-roberta-base\")\n",
    "\n",
    "\ttokens = []\n",
    "\ttoken_list = []\n",
    "\n",
    "\tprint(\"Tokenizing text.\")\n",
    "\n",
    "\tfor text in tqdm(df[\"text_norm\"].to_list()):\n",
    "\t\tencoded_text = tokenizer(text)\n",
    "\t\t# Take all tokens, except the beginning (<s>) and end (</s>) token\n",
    "\t\tcurrent_tokens = tokenizer.convert_ids_to_tokens(encoded_text.input_ids)[1:-1]\n",
    "\t\t# Shorten the list to 512, as tokens after that were not observed by the classifier\n",
    "\t\tcurrent_tokens = current_tokens[:512]\n",
    "\t\ttokens.append(current_tokens)\n",
    "\t\ttoken_list.extend(current_tokens)\n",
    "\n",
    "\tdf[\"tokens_norm\"] = tokens\n",
    "\n",
    "\t# Update the dataset in the dictionary\n",
    "\tmain_dict[lang][\"dataset\"] = df.to_dict()\n",
    "\n",
    "\t# See how many tokens do not overlap\n",
    "\tno_overlap_counter = 0\n",
    "\n",
    "\tprint(\"Calculating overlap.\")\n",
    "\n",
    "\t# Save tokens that overlap for further inspection\n",
    "\toverlap_token_list = []\n",
    "\n",
    "\t# We calculate overlap by counting how many tokens do not appear in both sets\n",
    "\tfor token in tqdm(token_list):\n",
    "\t\tif token not in token_list_train_norm:\n",
    "\t\t\tno_overlap_counter += 1\n",
    "\t\telse:\n",
    "\t\t\toverlap_token_list.append(token)\n",
    "\n",
    "\t# Out of all tokens in test set, how many do not overlap with train set?\n",
    "\tno_overlap_per = no_overlap_counter/len(token_list)\n",
    "\n",
    "\t# Calculate percentage of overlap based on that\n",
    "\toverlap_per = 1-no_overlap_per\n",
    "\n",
    "\tprint(f\"Number of tokens that overlap: {len(overlap_token_list)}\")\n",
    "\tprint(f\"Number of different tokens that overlap: {len(set(overlap_token_list))}\")\n",
    "\tprint(f\"Percentage of overlap: {overlap_per}\")\n",
    "\n",
    "\t# Add the list of all tokens to the dictionary\n",
    "\tmain_dict[lang][\"token_overlap\"][\"overlap_percentage_norm\"] = overlap_per\n",
    "\tmain_dict[lang][\"token_overlap\"][\"overlap_token_list_norm\"] = overlap_token_list\n",
    "\n",
    "\t# Add to the results\n",
    "\ttoken_overlap_results[lang] = {\"percentage\": overlap_per, \"overlap_list_size\": len(overlap_token_list), \"overlap_set_size\": len(set(overlap_token_list))}\n",
    "\n",
    "\n",
    "# Inspect the results\n",
    "overlap_df = pd.DataFrame(token_overlap_results)"
   ]
  },
  {
   "cell_type": "code",
   "execution_count": 20,
   "metadata": {},
   "outputs": [
    {
     "data": {
      "text/html": [
       "<div>\n",
       "<style scoped>\n",
       "    .dataframe tbody tr th:only-of-type {\n",
       "        vertical-align: middle;\n",
       "    }\n",
       "\n",
       "    .dataframe tbody tr th {\n",
       "        vertical-align: top;\n",
       "    }\n",
       "\n",
       "    .dataframe thead th {\n",
       "        text-align: right;\n",
       "    }\n",
       "</style>\n",
       "<table border=\"1\" class=\"dataframe\">\n",
       "  <thead>\n",
       "    <tr style=\"text-align: right;\">\n",
       "      <th></th>\n",
       "      <th>percentage</th>\n",
       "      <th>overlap_list_size</th>\n",
       "      <th>overlap_set_size</th>\n",
       "    </tr>\n",
       "  </thead>\n",
       "  <tbody>\n",
       "    <tr>\n",
       "      <th>mt</th>\n",
       "      <td>0.908776</td>\n",
       "      <td>35146.0</td>\n",
       "      <td>3691.0</td>\n",
       "    </tr>\n",
       "    <tr>\n",
       "      <th>el</th>\n",
       "      <td>0.895228</td>\n",
       "      <td>29231.0</td>\n",
       "      <td>2567.0</td>\n",
       "    </tr>\n",
       "    <tr>\n",
       "      <th>tr</th>\n",
       "      <td>0.729727</td>\n",
       "      <td>22623.0</td>\n",
       "      <td>2468.0</td>\n",
       "    </tr>\n",
       "    <tr>\n",
       "      <th>sq</th>\n",
       "      <td>0.779926</td>\n",
       "      <td>21175.0</td>\n",
       "      <td>2597.0</td>\n",
       "    </tr>\n",
       "    <tr>\n",
       "      <th>is</th>\n",
       "      <td>0.809069</td>\n",
       "      <td>24586.0</td>\n",
       "      <td>2447.0</td>\n",
       "    </tr>\n",
       "    <tr>\n",
       "      <th>uk</th>\n",
       "      <td>0.900191</td>\n",
       "      <td>31991.0</td>\n",
       "      <td>2957.0</td>\n",
       "    </tr>\n",
       "    <tr>\n",
       "      <th>ca</th>\n",
       "      <td>0.810781</td>\n",
       "      <td>22290.0</td>\n",
       "      <td>2666.0</td>\n",
       "    </tr>\n",
       "    <tr>\n",
       "      <th>mk</th>\n",
       "      <td>0.905123</td>\n",
       "      <td>27704.0</td>\n",
       "      <td>3293.0</td>\n",
       "    </tr>\n",
       "    <tr>\n",
       "      <th>hr</th>\n",
       "      <td>0.873856</td>\n",
       "      <td>23588.0</td>\n",
       "      <td>3917.0</td>\n",
       "    </tr>\n",
       "    <tr>\n",
       "      <th>sl</th>\n",
       "      <td>0.983558</td>\n",
       "      <td>26320.0</td>\n",
       "      <td>4485.0</td>\n",
       "    </tr>\n",
       "  </tbody>\n",
       "</table>\n",
       "</div>"
      ],
      "text/plain": [
       "    percentage  overlap_list_size  overlap_set_size\n",
       "mt    0.908776            35146.0            3691.0\n",
       "el    0.895228            29231.0            2567.0\n",
       "tr    0.729727            22623.0            2468.0\n",
       "sq    0.779926            21175.0            2597.0\n",
       "is    0.809069            24586.0            2447.0\n",
       "uk    0.900191            31991.0            2957.0\n",
       "ca    0.810781            22290.0            2666.0\n",
       "mk    0.905123            27704.0            3293.0\n",
       "hr    0.873856            23588.0            3917.0\n",
       "sl    0.983558            26320.0            4485.0"
      ]
     },
     "execution_count": 20,
     "metadata": {},
     "output_type": "execute_result"
    }
   ],
   "source": [
    "overlap_df.transpose()"
   ]
  },
  {
   "cell_type": "code",
   "execution_count": 21,
   "metadata": {},
   "outputs": [
    {
     "name": "stdout",
     "output_type": "stream",
     "text": [
      "|    |   percentage |   overlap_list_size |   overlap_set_size |\n",
      "|:---|-------------:|--------------------:|-------------------:|\n",
      "| sl |     0.983558 |               26320 |               4485 |\n",
      "| mt |     0.908776 |               35146 |               3691 |\n",
      "| mk |     0.905123 |               27704 |               3293 |\n",
      "| uk |     0.900191 |               31991 |               2957 |\n",
      "| el |     0.895228 |               29231 |               2567 |\n",
      "| hr |     0.873856 |               23588 |               3917 |\n",
      "| ca |     0.810781 |               22290 |               2666 |\n",
      "| is |     0.809069 |               24586 |               2447 |\n",
      "| sq |     0.779926 |               21175 |               2597 |\n",
      "| tr |     0.729727 |               22623 |               2468 |\n"
     ]
    }
   ],
   "source": [
    "print(overlap_df.transpose().sort_values(by=\"percentage\", ascending=False).to_markdown())"
   ]
  },
  {
   "cell_type": "code",
   "execution_count": 22,
   "metadata": {},
   "outputs": [],
   "source": [
    "# Save the extended json dict\n",
    "with open(\"manual-annotations/multilingual-genre-annotated-test-set.json\", \"w\") as file:\n",
    "\tjson.dump(main_dict, file)"
   ]
  },
  {
   "cell_type": "markdown",
   "metadata": {},
   "source": [
    "## Label level"
   ]
  },
  {
   "cell_type": "code",
   "execution_count": 2,
   "metadata": {},
   "outputs": [
    {
     "data": {
      "text/html": [
       "<div>\n",
       "<style scoped>\n",
       "    .dataframe tbody tr th:only-of-type {\n",
       "        vertical-align: middle;\n",
       "    }\n",
       "\n",
       "    .dataframe tbody tr th {\n",
       "        vertical-align: top;\n",
       "    }\n",
       "\n",
       "    .dataframe thead th {\n",
       "        text-align: right;\n",
       "    }\n",
       "</style>\n",
       "<table border=\"1\" class=\"dataframe\">\n",
       "  <thead>\n",
       "    <tr style=\"text-align: right;\">\n",
       "      <th></th>\n",
       "      <th>text</th>\n",
       "      <th>labels</th>\n",
       "      <th>dataset</th>\n",
       "      <th>language</th>\n",
       "      <th>tokens_train</th>\n",
       "      <th>token_ids</th>\n",
       "      <th>text_norm</th>\n",
       "      <th>tokens_train_norm</th>\n",
       "    </tr>\n",
       "  </thead>\n",
       "  <tbody>\n",
       "    <tr>\n",
       "      <th>0</th>\n",
       "      <td>Seeking All Things Brilliant \"I want people to...</td>\n",
       "      <td>Other</td>\n",
       "      <td>CORE</td>\n",
       "      <td>English</td>\n",
       "      <td>[▁See, king, ▁All, ▁Things, ▁Br, illian, t, ▁\"...</td>\n",
       "      <td>[6872, 6048, 3164, 119175, 13008, 162076, 18, ...</td>\n",
       "      <td>seeking all things brilliant \"i want people to...</td>\n",
       "      <td>[▁seeking, ▁all, ▁things, ▁brilliant, ▁\", i, ▁...</td>\n",
       "    </tr>\n",
       "    <tr>\n",
       "      <th>1</th>\n",
       "      <td>Meet Orchid du Bois I first met Hayley Mowday ...</td>\n",
       "      <td>Other</td>\n",
       "      <td>CORE</td>\n",
       "      <td>English</td>\n",
       "      <td>[▁Meet, ▁Or, ch, id, ▁du, ▁Bo, is, ▁I, ▁first,...</td>\n",
       "      <td>[72626, 3347, 206, 532, 115, 2460, 164, 87, 51...</td>\n",
       "      <td>meet orchid du bois i first met hayley mowday ...</td>\n",
       "      <td>[▁meet, ▁or, ch, id, ▁du, ▁bois, ▁i, ▁first, ▁...</td>\n",
       "    </tr>\n",
       "  </tbody>\n",
       "</table>\n",
       "</div>"
      ],
      "text/plain": [
       "                                                text labels dataset language  \\\n",
       "0  Seeking All Things Brilliant \"I want people to...  Other    CORE  English   \n",
       "1  Meet Orchid du Bois I first met Hayley Mowday ...  Other    CORE  English   \n",
       "\n",
       "                                        tokens_train  \\\n",
       "0  [▁See, king, ▁All, ▁Things, ▁Br, illian, t, ▁\"...   \n",
       "1  [▁Meet, ▁Or, ch, id, ▁du, ▁Bo, is, ▁I, ▁first,...   \n",
       "\n",
       "                                           token_ids  \\\n",
       "0  [6872, 6048, 3164, 119175, 13008, 162076, 18, ...   \n",
       "1  [72626, 3347, 206, 532, 115, 2460, 164, 87, 51...   \n",
       "\n",
       "                                           text_norm  \\\n",
       "0  seeking all things brilliant \"i want people to...   \n",
       "1  meet orchid du bois i first met hayley mowday ...   \n",
       "\n",
       "                                   tokens_train_norm  \n",
       "0  [▁seeking, ▁all, ▁things, ▁brilliant, ▁\", i, ▁...  \n",
       "1  [▁meet, ▁or, ch, id, ▁du, ▁bois, ▁i, ▁first, ▁...  "
      ]
     },
     "execution_count": 2,
     "metadata": {},
     "output_type": "execute_result"
    }
   ],
   "source": [
    "# Open the tokenized train df\n",
    "train_df = pd.read_json(\"datasets/tokenized_datasets/X-GENRE-train-tokenized.json\")\n",
    "train_df.head(2)"
   ]
  },
  {
   "cell_type": "code",
   "execution_count": null,
   "metadata": {},
   "outputs": [],
   "source": [
    "# Separate the train df into label-based dfs\n",
    "\n",
    "# Create lists of tokens that are label based\n",
    "label_tokens = {}\n",
    "token_count = {}\n",
    "type_count = {}\n",
    "\n",
    "for label in ['Information/Explanation', 'News', 'Instruction','Opinion/Argumentation', 'Forum', 'Prose/Lyrical', 'Legal','Promotion']:\n",
    "\tprint(f\"Processing {label}\")\n",
    "\n",
    "\tlabel_df = train_df[train_df[\"labels\"] == label]\n",
    "\tdisplay(label_df.head(3))\n",
    "\n",
    "\t# Create a list of tokens\n",
    "\ttrain_tokens_norm = []\n",
    "\n",
    "\tfor i in label_df[\"tokens_train_norm\"].to_list():\n",
    "\t\ttrain_tokens_norm.extend(i)\n",
    "\n",
    "\tprint(f\"Number of all tokens: {len(train_tokens_norm)}\")\n",
    "\n",
    "\t# Add to dictionaries\n",
    "\tlabel_tokens[label] = train_tokens_norm\n",
    "\ttoken_count[label] = len(train_tokens_norm)\n",
    "\ttype_count[label] = len(set(train_tokens_norm))"
   ]
  },
  {
   "cell_type": "code",
   "execution_count": 4,
   "metadata": {},
   "outputs": [
    {
     "name": "stdout",
     "output_type": "stream",
     "text": [
      "|                         |   token_count |   type_count |\n",
      "|:------------------------|--------------:|-------------:|\n",
      "| Information/Explanation |        124518 |        11708 |\n",
      "| News                    |        138026 |        11961 |\n",
      "| Instruction             |         83634 |         7220 |\n",
      "| Opinion/Argumentation   |        103447 |        10672 |\n",
      "| Forum                   |         58952 |         7187 |\n",
      "| Prose/Lyrical           |         46921 |         5119 |\n",
      "| Legal                   |         28497 |         3707 |\n",
      "| Promotion               |         88989 |         9768 |\n"
     ]
    }
   ],
   "source": [
    "# Calculate numbers for each label\n",
    "label_results_train_norm = pd.DataFrame({\"token_count\": token_count, \"type_count\": type_count})\n",
    "\n",
    "print(label_results_train_norm.to_markdown())"
   ]
  },
  {
   "cell_type": "code",
   "execution_count": 5,
   "metadata": {},
   "outputs": [],
   "source": [
    "# Save the label token count\n",
    "with open(\"datasets/tokenized_datasets/X-GENRE-train-label-token-count-normalized-text.json\", \"w\") as train_label_count_file:\n",
    "\tjson.dump(label_tokens, train_label_count_file)"
   ]
  },
  {
   "cell_type": "code",
   "execution_count": 6,
   "metadata": {},
   "outputs": [],
   "source": [
    "# Import the main dict for test sets\n",
    "with open(\"manual-annotations/multilingual-genre-annotated-test-set.json\", \"r\") as file:\n",
    "\tmain_dict = json.load(file)"
   ]
  },
  {
   "cell_type": "code",
   "execution_count": 7,
   "metadata": {},
   "outputs": [
    {
     "data": {
      "text/html": [
       "<div>\n",
       "<style scoped>\n",
       "    .dataframe tbody tr th:only-of-type {\n",
       "        vertical-align: middle;\n",
       "    }\n",
       "\n",
       "    .dataframe tbody tr th {\n",
       "        vertical-align: top;\n",
       "    }\n",
       "\n",
       "    .dataframe thead th {\n",
       "        text-align: right;\n",
       "    }\n",
       "</style>\n",
       "<table border=\"1\" class=\"dataframe\">\n",
       "  <thead>\n",
       "    <tr style=\"text-align: right;\">\n",
       "      <th></th>\n",
       "      <th>text_id</th>\n",
       "      <th>y_pred</th>\n",
       "      <th>text</th>\n",
       "      <th>translation</th>\n",
       "      <th>metadata</th>\n",
       "      <th>y_true</th>\n",
       "      <th>tokens</th>\n",
       "      <th>token_ids</th>\n",
       "      <th>text_norm</th>\n",
       "      <th>tokens_norm</th>\n",
       "    </tr>\n",
       "  </thead>\n",
       "  <tbody>\n",
       "    <tr>\n",
       "      <th>0</th>\n",
       "      <td>macocu.mt.402244</td>\n",
       "      <td>News</td>\n",
       "      <td>Angelo Chetcuti, se jkun qed jieħu post Bjorn ...</td>\n",
       "      <td>Angelo Chetcuti, will be replacing Bjorn Vassa...</td>\n",
       "      <td>{'text_id': 'macocu.mt.402244'}</td>\n",
       "      <td>News</td>\n",
       "      <td>[▁Angel, o, ▁Che, t, cuti, ,, ▁se, ▁j, kun, ▁q...</td>\n",
       "      <td>[26902, 31, 5024, 18, 64969, 4, 40, 1647, 6262...</td>\n",
       "      <td>angelo chetcuti, se jkun qed jiehu post bjorn ...</td>\n",
       "      <td>[▁angel, o, ▁che, t, cuti, ,, ▁se, ▁j, kun, ▁q...</td>\n",
       "    </tr>\n",
       "    <tr>\n",
       "      <th>1</th>\n",
       "      <td>macocu.mt.377203</td>\n",
       "      <td>Prose/Lyrical</td>\n",
       "      <td>Poltergeist jirreferi għal fenomeni oħra tal-m...</td>\n",
       "      <td>Poltergeist refers to other woman's phenomena,...</td>\n",
       "      <td>{'text_id': 'macocu.mt.377203'}</td>\n",
       "      <td>Opinion/Argumentation</td>\n",
       "      <td>[▁Pol, ter, geist, ▁jir, re, feri, ▁g, ħ, al, ...</td>\n",
       "      <td>[9017, 720, 178490, 52826, 107, 26926, 706, 24...</td>\n",
       "      <td>poltergeist jirreferi ghal fenomeni ohra tal-m...</td>\n",
       "      <td>[▁pol, ter, geist, ▁jir, re, feri, ▁, ghal, ▁f...</td>\n",
       "    </tr>\n",
       "  </tbody>\n",
       "</table>\n",
       "</div>"
      ],
      "text/plain": [
       "            text_id         y_pred  \\\n",
       "0  macocu.mt.402244           News   \n",
       "1  macocu.mt.377203  Prose/Lyrical   \n",
       "\n",
       "                                                text  \\\n",
       "0  Angelo Chetcuti, se jkun qed jieħu post Bjorn ...   \n",
       "1  Poltergeist jirreferi għal fenomeni oħra tal-m...   \n",
       "\n",
       "                                         translation  \\\n",
       "0  Angelo Chetcuti, will be replacing Bjorn Vassa...   \n",
       "1  Poltergeist refers to other woman's phenomena,...   \n",
       "\n",
       "                          metadata                 y_true  \\\n",
       "0  {'text_id': 'macocu.mt.402244'}                   News   \n",
       "1  {'text_id': 'macocu.mt.377203'}  Opinion/Argumentation   \n",
       "\n",
       "                                              tokens  \\\n",
       "0  [▁Angel, o, ▁Che, t, cuti, ,, ▁se, ▁j, kun, ▁q...   \n",
       "1  [▁Pol, ter, geist, ▁jir, re, feri, ▁g, ħ, al, ...   \n",
       "\n",
       "                                           token_ids  \\\n",
       "0  [26902, 31, 5024, 18, 64969, 4, 40, 1647, 6262...   \n",
       "1  [9017, 720, 178490, 52826, 107, 26926, 706, 24...   \n",
       "\n",
       "                                           text_norm  \\\n",
       "0  angelo chetcuti, se jkun qed jiehu post bjorn ...   \n",
       "1  poltergeist jirreferi ghal fenomeni ohra tal-m...   \n",
       "\n",
       "                                         tokens_norm  \n",
       "0  [▁angel, o, ▁che, t, cuti, ,, ▁se, ▁j, kun, ▁q...  \n",
       "1  [▁pol, ter, geist, ▁jir, re, feri, ▁, ghal, ▁f...  "
      ]
     },
     "execution_count": 7,
     "metadata": {},
     "output_type": "execute_result"
    }
   ],
   "source": [
    "pd.DataFrame(main_dict[\"mt\"][\"dataset\"]).head(2)"
   ]
  },
  {
   "cell_type": "code",
   "execution_count": null,
   "metadata": {},
   "outputs": [],
   "source": [
    "# Do the same as with the dataset, but on every language\n",
    "lang_results = {}\n",
    "\n",
    "for lang in list(main_dict.keys()):\n",
    "\tprint(f\"Processing {lang}\")\n",
    "\n",
    "\tlabel_token_dict = {}\n",
    "\n",
    "\t# Current df\n",
    "\tdf = pd.DataFrame(main_dict[lang][\"dataset\"])\n",
    "\tdisplay(df.head(2))\n",
    "\n",
    "\tfor label in ['Information/Explanation', 'News', 'Instruction','Opinion/Argumentation', 'Forum', 'Prose/Lyrical', 'Legal','Promotion']:\n",
    "\t\tprint(f\"Processing {label}\")\n",
    "\n",
    "\t\tlabel_df = df[df[\"y_true\"] == label]\n",
    "\n",
    "\t\t# Create a list of tokens\n",
    "\t\ttoken_list = []\n",
    "\n",
    "\t\tfor i in label_df[\"tokens_norm\"].to_list():\n",
    "\t\t\ttoken_list.extend(i)\n",
    "\n",
    "\t\t# Add to dictionary\n",
    "\t\tlabel_token_dict[label] = token_list\n",
    "\n",
    "\t# Add to main dict\n",
    "\tmain_dict[lang][\"token_overlap\"][\"label_level_token_lists_norm\"] = label_token_dict"
   ]
  },
  {
   "cell_type": "code",
   "execution_count": 13,
   "metadata": {},
   "outputs": [
    {
     "name": "stdout",
     "output_type": "stream",
     "text": [
      "mt\n",
      "Information/Explanation\n"
     ]
    },
    {
     "name": "stderr",
     "output_type": "stream",
     "text": [
      "100%|██████████| 6654/6654 [00:02<00:00, 2741.43it/s]\n"
     ]
    },
    {
     "name": "stdout",
     "output_type": "stream",
     "text": [
      "Percentage of overlap: 0.7790802524797115\n",
      "News\n"
     ]
    },
    {
     "name": "stderr",
     "output_type": "stream",
     "text": [
      "100%|██████████| 6855/6855 [00:02<00:00, 2507.08it/s]\n"
     ]
    },
    {
     "name": "stdout",
     "output_type": "stream",
     "text": [
      "Percentage of overlap: 0.8023340627279358\n",
      "Instruction\n"
     ]
    },
    {
     "name": "stderr",
     "output_type": "stream",
     "text": [
      "100%|██████████| 9087/9087 [00:02<00:00, 3212.65it/s]\n"
     ]
    },
    {
     "name": "stdout",
     "output_type": "stream",
     "text": [
      "Percentage of overlap: 0.6831737647188292\n",
      "Opinion/Argumentation\n"
     ]
    },
    {
     "name": "stderr",
     "output_type": "stream",
     "text": [
      "100%|██████████| 4086/4086 [00:01<00:00, 3073.65it/s]\n"
     ]
    },
    {
     "name": "stdout",
     "output_type": "stream",
     "text": [
      "Percentage of overlap: 0.7689672050905532\n",
      "Forum\n"
     ]
    },
    {
     "name": "stderr",
     "output_type": "stream",
     "text": [
      "100%|██████████| 512/512 [00:00<00:00, 3976.61it/s]\n"
     ]
    },
    {
     "name": "stdout",
     "output_type": "stream",
     "text": [
      "Percentage of overlap: 0.66796875\n",
      "Prose/Lyrical\n"
     ]
    },
    {
     "name": "stderr",
     "output_type": "stream",
     "text": [
      "100%|██████████| 512/512 [00:00<00:00, 5692.75it/s]\n"
     ]
    },
    {
     "name": "stdout",
     "output_type": "stream",
     "text": [
      "Percentage of overlap: 0.68359375\n",
      "Legal\n"
     ]
    },
    {
     "name": "stderr",
     "output_type": "stream",
     "text": [
      "100%|██████████| 5120/5120 [00:00<00:00, 11317.78it/s]\n"
     ]
    },
    {
     "name": "stdout",
     "output_type": "stream",
     "text": [
      "Percentage of overlap: 0.719921875\n",
      "Promotion\n"
     ]
    },
    {
     "name": "stderr",
     "output_type": "stream",
     "text": [
      "100%|██████████| 5848/5848 [00:01<00:00, 3506.84it/s]\n"
     ]
    },
    {
     "name": "stdout",
     "output_type": "stream",
     "text": [
      "Percentage of overlap: 0.7187072503419973\n",
      "el\n",
      "Information/Explanation\n"
     ]
    },
    {
     "name": "stderr",
     "output_type": "stream",
     "text": [
      "100%|██████████| 5863/5863 [00:02<00:00, 2448.11it/s]\n"
     ]
    },
    {
     "name": "stdout",
     "output_type": "stream",
     "text": [
      "Percentage of overlap: 0.7734947978850417\n",
      "News\n"
     ]
    },
    {
     "name": "stderr",
     "output_type": "stream",
     "text": [
      "100%|██████████| 3876/3876 [00:01<00:00, 2157.01it/s]\n"
     ]
    },
    {
     "name": "stdout",
     "output_type": "stream",
     "text": [
      "Percentage of overlap: 0.7590299277605779\n",
      "Instruction\n"
     ]
    },
    {
     "name": "stderr",
     "output_type": "stream",
     "text": [
      "100%|██████████| 3105/3105 [00:01<00:00, 2820.88it/s]\n"
     ]
    },
    {
     "name": "stdout",
     "output_type": "stream",
     "text": [
      "Percentage of overlap: 0.6099838969404187\n",
      "Opinion/Argumentation\n"
     ]
    },
    {
     "name": "stderr",
     "output_type": "stream",
     "text": [
      "100%|██████████| 5836/5836 [00:02<00:00, 2701.23it/s]\n"
     ]
    },
    {
     "name": "stdout",
     "output_type": "stream",
     "text": [
      "Percentage of overlap: 0.7217272104180945\n",
      "Forum\n"
     ]
    },
    {
     "name": "stderr",
     "output_type": "stream",
     "text": [
      "100%|██████████| 5235/5235 [00:01<00:00, 3930.83it/s]\n"
     ]
    },
    {
     "name": "stdout",
     "output_type": "stream",
     "text": [
      "Percentage of overlap: 0.6286532951289399\n",
      "Prose/Lyrical\n"
     ]
    },
    {
     "name": "stderr",
     "output_type": "stream",
     "text": [
      "100%|██████████| 2834/2834 [00:00<00:00, 4855.35it/s]\n"
     ]
    },
    {
     "name": "stdout",
     "output_type": "stream",
     "text": [
      "Percentage of overlap: 0.5938602681721947\n",
      "Legal\n"
     ]
    },
    {
     "name": "stderr",
     "output_type": "stream",
     "text": [
      "100%|██████████| 3546/3546 [00:00<00:00, 6913.78it/s]\n"
     ]
    },
    {
     "name": "stdout",
     "output_type": "stream",
     "text": [
      "Percentage of overlap: 0.4873096446700508\n",
      "Promotion\n"
     ]
    },
    {
     "name": "stderr",
     "output_type": "stream",
     "text": [
      "100%|██████████| 2357/2357 [00:00<00:00, 2954.69it/s]\n"
     ]
    },
    {
     "name": "stdout",
     "output_type": "stream",
     "text": [
      "Percentage of overlap: 0.6601612218922359\n",
      "tr\n",
      "Information/Explanation\n"
     ]
    },
    {
     "name": "stderr",
     "output_type": "stream",
     "text": [
      "100%|██████████| 2523/2523 [00:01<00:00, 2054.57it/s]\n"
     ]
    },
    {
     "name": "stdout",
     "output_type": "stream",
     "text": [
      "Percentage of overlap: 0.6500198176773682\n",
      "News\n"
     ]
    },
    {
     "name": "stderr",
     "output_type": "stream",
     "text": [
      "100%|██████████| 3820/3820 [00:02<00:00, 1715.76it/s]\n"
     ]
    },
    {
     "name": "stdout",
     "output_type": "stream",
     "text": [
      "Percentage of overlap: 0.6403141361256545\n",
      "Instruction\n"
     ]
    },
    {
     "name": "stderr",
     "output_type": "stream",
     "text": [
      "100%|██████████| 4174/4174 [00:01<00:00, 2536.26it/s]\n"
     ]
    },
    {
     "name": "stdout",
     "output_type": "stream",
     "text": [
      "Percentage of overlap: 0.5206037374221371\n",
      "Opinion/Argumentation\n"
     ]
    },
    {
     "name": "stderr",
     "output_type": "stream",
     "text": [
      "100%|██████████| 5694/5694 [00:02<00:00, 2261.88it/s]\n"
     ]
    },
    {
     "name": "stdout",
     "output_type": "stream",
     "text": [
      "Percentage of overlap: 0.597646645591851\n",
      "Forum\n"
     ]
    },
    {
     "name": "stderr",
     "output_type": "stream",
     "text": [
      "100%|██████████| 3326/3326 [00:00<00:00, 3528.79it/s]\n"
     ]
    },
    {
     "name": "stdout",
     "output_type": "stream",
     "text": [
      "Percentage of overlap: 0.5817799158147925\n",
      "Prose/Lyrical\n"
     ]
    },
    {
     "name": "stderr",
     "output_type": "stream",
     "text": [
      "100%|██████████| 3795/3795 [00:00<00:00, 4573.34it/s]\n"
     ]
    },
    {
     "name": "stdout",
     "output_type": "stream",
     "text": [
      "Percentage of overlap: 0.5465085638998682\n",
      "Legal\n"
     ]
    },
    {
     "name": "stderr",
     "output_type": "stream",
     "text": [
      "100%|██████████| 3879/3879 [00:00<00:00, 6329.25it/s]\n"
     ]
    },
    {
     "name": "stdout",
     "output_type": "stream",
     "text": [
      "Percentage of overlap: 0.3967517401392111\n",
      "Promotion\n"
     ]
    },
    {
     "name": "stderr",
     "output_type": "stream",
     "text": [
      "100%|██████████| 3791/3791 [00:01<00:00, 2618.03it/s]\n"
     ]
    },
    {
     "name": "stdout",
     "output_type": "stream",
     "text": [
      "Percentage of overlap: 0.5560538116591929\n",
      "sq\n",
      "Information/Explanation\n"
     ]
    },
    {
     "name": "stderr",
     "output_type": "stream",
     "text": [
      "100%|██████████| 5286/5286 [00:02<00:00, 2396.77it/s]\n"
     ]
    },
    {
     "name": "stdout",
     "output_type": "stream",
     "text": [
      "Percentage of overlap: 0.6912599318955732\n",
      "News\n"
     ]
    },
    {
     "name": "stderr",
     "output_type": "stream",
     "text": [
      "100%|██████████| 2480/2480 [00:01<00:00, 1942.27it/s]\n"
     ]
    },
    {
     "name": "stdout",
     "output_type": "stream",
     "text": [
      "Percentage of overlap: 0.669758064516129\n",
      "Instruction\n"
     ]
    },
    {
     "name": "stderr",
     "output_type": "stream",
     "text": [
      "100%|██████████| 3291/3291 [00:01<00:00, 2728.31it/s]\n"
     ]
    },
    {
     "name": "stdout",
     "output_type": "stream",
     "text": [
      "Percentage of overlap: 0.6004254026131874\n",
      "Opinion/Argumentation\n"
     ]
    },
    {
     "name": "stderr",
     "output_type": "stream",
     "text": [
      "100%|██████████| 4475/4475 [00:01<00:00, 2758.52it/s]\n"
     ]
    },
    {
     "name": "stdout",
     "output_type": "stream",
     "text": [
      "Percentage of overlap: 0.6782122905027933\n",
      "Forum\n"
     ]
    },
    {
     "name": "stderr",
     "output_type": "stream",
     "text": [
      "100%|██████████| 3499/3499 [00:00<00:00, 3928.41it/s]\n"
     ]
    },
    {
     "name": "stdout",
     "output_type": "stream",
     "text": [
      "Percentage of overlap: 0.6356101743355245\n",
      "Prose/Lyrical\n"
     ]
    },
    {
     "name": "stderr",
     "output_type": "stream",
     "text": [
      "100%|██████████| 3376/3376 [00:00<00:00, 5162.15it/s]\n"
     ]
    },
    {
     "name": "stdout",
     "output_type": "stream",
     "text": [
      "Percentage of overlap: 0.613744075829384\n",
      "Legal\n"
     ]
    },
    {
     "name": "stderr",
     "output_type": "stream",
     "text": [
      "100%|██████████| 2918/2918 [00:00<00:00, 7582.79it/s]\n"
     ]
    },
    {
     "name": "stdout",
     "output_type": "stream",
     "text": [
      "Percentage of overlap: 0.521932830705963\n",
      "Promotion\n"
     ]
    },
    {
     "name": "stderr",
     "output_type": "stream",
     "text": [
      "100%|██████████| 1825/1825 [00:00<00:00, 3219.46it/s]\n"
     ]
    },
    {
     "name": "stdout",
     "output_type": "stream",
     "text": [
      "Percentage of overlap: 0.6597260273972603\n",
      "is\n",
      "Information/Explanation\n"
     ]
    },
    {
     "name": "stderr",
     "output_type": "stream",
     "text": [
      "100%|██████████| 2260/2260 [00:01<00:00, 2240.22it/s]\n"
     ]
    },
    {
     "name": "stdout",
     "output_type": "stream",
     "text": [
      "Percentage of overlap: 0.6884955752212389\n",
      "News\n"
     ]
    },
    {
     "name": "stderr",
     "output_type": "stream",
     "text": [
      "100%|██████████| 4358/4358 [00:02<00:00, 1802.14it/s]\n"
     ]
    },
    {
     "name": "stdout",
     "output_type": "stream",
     "text": [
      "Percentage of overlap: 0.6792106470858192\n",
      "Instruction\n"
     ]
    },
    {
     "name": "stderr",
     "output_type": "stream",
     "text": [
      "100%|██████████| 3922/3922 [00:01<00:00, 2760.00it/s]\n"
     ]
    },
    {
     "name": "stdout",
     "output_type": "stream",
     "text": [
      "Percentage of overlap: 0.6361550229474757\n",
      "Opinion/Argumentation\n"
     ]
    },
    {
     "name": "stderr",
     "output_type": "stream",
     "text": [
      "100%|██████████| 5022/5022 [00:01<00:00, 2576.61it/s]\n"
     ]
    },
    {
     "name": "stdout",
     "output_type": "stream",
     "text": [
      "Percentage of overlap: 0.6744324970131421\n",
      "Forum\n"
     ]
    },
    {
     "name": "stderr",
     "output_type": "stream",
     "text": [
      "100%|██████████| 2865/2865 [00:00<00:00, 3912.44it/s]\n"
     ]
    },
    {
     "name": "stdout",
     "output_type": "stream",
     "text": [
      "Percentage of overlap: 0.6293193717277488\n",
      "Prose/Lyrical\n"
     ]
    },
    {
     "name": "stderr",
     "output_type": "stream",
     "text": [
      "100%|██████████| 4666/4666 [00:01<00:00, 4566.21it/s]\n"
     ]
    },
    {
     "name": "stdout",
     "output_type": "stream",
     "text": [
      "Percentage of overlap: 0.5653664809258465\n",
      "Legal\n"
     ]
    },
    {
     "name": "stderr",
     "output_type": "stream",
     "text": [
      "100%|██████████| 4070/4070 [00:00<00:00, 7138.44it/s]\n"
     ]
    },
    {
     "name": "stdout",
     "output_type": "stream",
     "text": [
      "Percentage of overlap: 0.4933660933660934\n",
      "Promotion\n"
     ]
    },
    {
     "name": "stderr",
     "output_type": "stream",
     "text": [
      "100%|██████████| 3225/3225 [00:01<00:00, 2794.56it/s]\n"
     ]
    },
    {
     "name": "stdout",
     "output_type": "stream",
     "text": [
      "Percentage of overlap: 0.6353488372093024\n",
      "uk\n",
      "Information/Explanation\n"
     ]
    },
    {
     "name": "stderr",
     "output_type": "stream",
     "text": [
      "100%|██████████| 4662/4662 [00:01<00:00, 2746.29it/s]\n"
     ]
    },
    {
     "name": "stdout",
     "output_type": "stream",
     "text": [
      "Percentage of overlap: 0.7696267696267696\n",
      "News\n"
     ]
    },
    {
     "name": "stderr",
     "output_type": "stream",
     "text": [
      "100%|██████████| 4115/4115 [00:01<00:00, 2360.18it/s]\n"
     ]
    },
    {
     "name": "stdout",
     "output_type": "stream",
     "text": [
      "Percentage of overlap: 0.7905224787363305\n",
      "Instruction\n"
     ]
    },
    {
     "name": "stderr",
     "output_type": "stream",
     "text": [
      "100%|██████████| 4814/4814 [00:01<00:00, 3000.26it/s]\n"
     ]
    },
    {
     "name": "stdout",
     "output_type": "stream",
     "text": [
      "Percentage of overlap: 0.6884088076443706\n",
      "Opinion/Argumentation\n"
     ]
    },
    {
     "name": "stderr",
     "output_type": "stream",
     "text": [
      "100%|██████████| 5790/5790 [00:01<00:00, 2944.51it/s]\n"
     ]
    },
    {
     "name": "stdout",
     "output_type": "stream",
     "text": [
      "Percentage of overlap: 0.7816925734024179\n",
      "Forum\n"
     ]
    },
    {
     "name": "stderr",
     "output_type": "stream",
     "text": [
      "100%|██████████| 4007/4007 [00:00<00:00, 4039.49it/s]\n"
     ]
    },
    {
     "name": "stdout",
     "output_type": "stream",
     "text": [
      "Percentage of overlap: 0.7117544297479411\n",
      "Prose/Lyrical\n"
     ]
    },
    {
     "name": "stderr",
     "output_type": "stream",
     "text": [
      "100%|██████████| 4481/4481 [00:00<00:00, 5241.08it/s]\n"
     ]
    },
    {
     "name": "stdout",
     "output_type": "stream",
     "text": [
      "Percentage of overlap: 0.6407051997322026\n",
      "Legal\n"
     ]
    },
    {
     "name": "stderr",
     "output_type": "stream",
     "text": [
      "100%|██████████| 4309/4309 [00:00<00:00, 8003.77it/s]\n"
     ]
    },
    {
     "name": "stdout",
     "output_type": "stream",
     "text": [
      "Percentage of overlap: 0.5866790438616849\n",
      "Promotion\n"
     ]
    },
    {
     "name": "stderr",
     "output_type": "stream",
     "text": [
      "100%|██████████| 3360/3360 [00:00<00:00, 3530.99it/s]\n"
     ]
    },
    {
     "name": "stdout",
     "output_type": "stream",
     "text": [
      "Percentage of overlap: 0.70625\n",
      "ca\n",
      "Information/Explanation\n"
     ]
    },
    {
     "name": "stderr",
     "output_type": "stream",
     "text": [
      "100%|██████████| 3997/3997 [00:01<00:00, 2739.61it/s]\n"
     ]
    },
    {
     "name": "stdout",
     "output_type": "stream",
     "text": [
      "Percentage of overlap: 0.7257943457593194\n",
      "News\n"
     ]
    },
    {
     "name": "stderr",
     "output_type": "stream",
     "text": [
      "100%|██████████| 2627/2627 [00:01<00:00, 2308.43it/s]\n"
     ]
    },
    {
     "name": "stdout",
     "output_type": "stream",
     "text": [
      "Percentage of overlap: 0.7141225732775028\n",
      "Instruction\n"
     ]
    },
    {
     "name": "stderr",
     "output_type": "stream",
     "text": [
      "100%|██████████| 2135/2135 [00:00<00:00, 3478.78it/s]\n"
     ]
    },
    {
     "name": "stdout",
     "output_type": "stream",
     "text": [
      "Percentage of overlap: 0.674473067915691\n",
      "Opinion/Argumentation\n"
     ]
    },
    {
     "name": "stderr",
     "output_type": "stream",
     "text": [
      "100%|██████████| 3370/3370 [00:01<00:00, 3177.52it/s]\n"
     ]
    },
    {
     "name": "stdout",
     "output_type": "stream",
     "text": [
      "Percentage of overlap: 0.7115727002967359\n",
      "Forum\n"
     ]
    },
    {
     "name": "stderr",
     "output_type": "stream",
     "text": [
      "100%|██████████| 3753/3753 [00:00<00:00, 4692.42it/s]\n"
     ]
    },
    {
     "name": "stdout",
     "output_type": "stream",
     "text": [
      "Percentage of overlap: 0.6930455635491607\n",
      "Prose/Lyrical\n"
     ]
    },
    {
     "name": "stderr",
     "output_type": "stream",
     "text": [
      "100%|██████████| 4059/4059 [00:00<00:00, 5903.18it/s]\n"
     ]
    },
    {
     "name": "stdout",
     "output_type": "stream",
     "text": [
      "Percentage of overlap: 0.6661739344666173\n",
      "Legal\n"
     ]
    },
    {
     "name": "stderr",
     "output_type": "stream",
     "text": [
      "100%|██████████| 3315/3315 [00:00<00:00, 8332.07it/s]\n"
     ]
    },
    {
     "name": "stdout",
     "output_type": "stream",
     "text": [
      "Percentage of overlap: 0.5562594268476622\n",
      "Promotion\n"
     ]
    },
    {
     "name": "stderr",
     "output_type": "stream",
     "text": [
      "100%|██████████| 4236/4236 [00:01<00:00, 3444.30it/s]\n"
     ]
    },
    {
     "name": "stdout",
     "output_type": "stream",
     "text": [
      "Percentage of overlap: 0.67233238904627\n",
      "mk\n",
      "Information/Explanation\n"
     ]
    },
    {
     "name": "stderr",
     "output_type": "stream",
     "text": [
      "100%|██████████| 3779/3779 [00:01<00:00, 2867.75it/s]\n"
     ]
    },
    {
     "name": "stdout",
     "output_type": "stream",
     "text": [
      "Percentage of overlap: 0.7898915056893359\n",
      "News\n"
     ]
    },
    {
     "name": "stderr",
     "output_type": "stream",
     "text": [
      "100%|██████████| 4299/4299 [00:01<00:00, 2390.74it/s]\n"
     ]
    },
    {
     "name": "stdout",
     "output_type": "stream",
     "text": [
      "Percentage of overlap: 0.8053035589672017\n",
      "Instruction\n"
     ]
    },
    {
     "name": "stderr",
     "output_type": "stream",
     "text": [
      "100%|██████████| 3695/3695 [00:01<00:00, 3063.65it/s]\n"
     ]
    },
    {
     "name": "stdout",
     "output_type": "stream",
     "text": [
      "Percentage of overlap: 0.691745602165088\n",
      "Opinion/Argumentation\n"
     ]
    },
    {
     "name": "stderr",
     "output_type": "stream",
     "text": [
      "100%|██████████| 3205/3205 [00:01<00:00, 2841.11it/s]\n"
     ]
    },
    {
     "name": "stdout",
     "output_type": "stream",
     "text": [
      "Percentage of overlap: 0.778783151326053\n",
      "Forum\n"
     ]
    },
    {
     "name": "stderr",
     "output_type": "stream",
     "text": [
      "100%|██████████| 4204/4204 [00:00<00:00, 4241.89it/s]\n"
     ]
    },
    {
     "name": "stdout",
     "output_type": "stream",
     "text": [
      "Percentage of overlap: 0.7514272121788772\n",
      "Prose/Lyrical\n"
     ]
    },
    {
     "name": "stderr",
     "output_type": "stream",
     "text": [
      "100%|██████████| 4111/4111 [00:00<00:00, 5622.35it/s]\n"
     ]
    },
    {
     "name": "stdout",
     "output_type": "stream",
     "text": [
      "Percentage of overlap: 0.6801264899051326\n",
      "Legal\n"
     ]
    },
    {
     "name": "stderr",
     "output_type": "stream",
     "text": [
      "100%|██████████| 3904/3904 [00:00<00:00, 8844.28it/s]\n"
     ]
    },
    {
     "name": "stdout",
     "output_type": "stream",
     "text": [
      "Percentage of overlap: 0.6116803278688525\n",
      "Promotion\n"
     ]
    },
    {
     "name": "stderr",
     "output_type": "stream",
     "text": [
      "100%|██████████| 3411/3411 [00:00<00:00, 4367.32it/s]\n"
     ]
    },
    {
     "name": "stdout",
     "output_type": "stream",
     "text": [
      "Percentage of overlap: 0.7692758721782469\n",
      "hr\n",
      "Information/Explanation\n"
     ]
    },
    {
     "name": "stderr",
     "output_type": "stream",
     "text": [
      "100%|██████████| 4073/4073 [00:01<00:00, 2801.76it/s]\n"
     ]
    },
    {
     "name": "stdout",
     "output_type": "stream",
     "text": [
      "Percentage of overlap: 0.7795236926098699\n",
      "News\n"
     ]
    },
    {
     "name": "stderr",
     "output_type": "stream",
     "text": [
      "100%|██████████| 3353/3353 [00:01<00:00, 2289.79it/s]\n"
     ]
    },
    {
     "name": "stdout",
     "output_type": "stream",
     "text": [
      "Percentage of overlap: 0.7948106173575902\n",
      "Instruction\n"
     ]
    },
    {
     "name": "stderr",
     "output_type": "stream",
     "text": [
      "100%|██████████| 1744/1744 [00:00<00:00, 2952.26it/s]\n"
     ]
    },
    {
     "name": "stdout",
     "output_type": "stream",
     "text": [
      "Percentage of overlap: 0.6771788990825688\n",
      "Opinion/Argumentation\n"
     ]
    },
    {
     "name": "stderr",
     "output_type": "stream",
     "text": [
      "100%|██████████| 3502/3502 [00:01<00:00, 2769.39it/s]\n"
     ]
    },
    {
     "name": "stdout",
     "output_type": "stream",
     "text": [
      "Percentage of overlap: 0.7569960022844089\n",
      "Forum\n"
     ]
    },
    {
     "name": "stderr",
     "output_type": "stream",
     "text": [
      "100%|██████████| 3824/3824 [00:00<00:00, 3911.68it/s]\n"
     ]
    },
    {
     "name": "stdout",
     "output_type": "stream",
     "text": [
      "Percentage of overlap: 0.7086820083682008\n",
      "Prose/Lyrical\n"
     ]
    },
    {
     "name": "stderr",
     "output_type": "stream",
     "text": [
      "100%|██████████| 2637/2637 [00:00<00:00, 5171.00it/s]\n"
     ]
    },
    {
     "name": "stdout",
     "output_type": "stream",
     "text": [
      "Percentage of overlap: 0.6344330678801668\n",
      "Legal\n"
     ]
    },
    {
     "name": "stderr",
     "output_type": "stream",
     "text": [
      "100%|██████████| 3544/3544 [00:00<00:00, 8610.70it/s]\n"
     ]
    },
    {
     "name": "stdout",
     "output_type": "stream",
     "text": [
      "Percentage of overlap: 0.583803611738149\n",
      "Promotion\n"
     ]
    },
    {
     "name": "stderr",
     "output_type": "stream",
     "text": [
      "100%|██████████| 4316/4316 [00:00<00:00, 4586.24it/s]\n"
     ]
    },
    {
     "name": "stdout",
     "output_type": "stream",
     "text": [
      "Percentage of overlap: 0.7669138090824837\n",
      "sl\n",
      "Information/Explanation\n"
     ]
    },
    {
     "name": "stderr",
     "output_type": "stream",
     "text": [
      "100%|██████████| 3535/3535 [00:00<00:00, 3928.21it/s]\n"
     ]
    },
    {
     "name": "stdout",
     "output_type": "stream",
     "text": [
      "Percentage of overlap: 0.9125884016973126\n",
      "News\n"
     ]
    },
    {
     "name": "stderr",
     "output_type": "stream",
     "text": [
      "100%|██████████| 3484/3484 [00:01<00:00, 2930.73it/s]\n"
     ]
    },
    {
     "name": "stdout",
     "output_type": "stream",
     "text": [
      "Percentage of overlap: 0.9357060849598163\n",
      "Instruction\n"
     ]
    },
    {
     "name": "stderr",
     "output_type": "stream",
     "text": [
      "100%|██████████| 3433/3433 [00:01<00:00, 3426.07it/s]\n"
     ]
    },
    {
     "name": "stdout",
     "output_type": "stream",
     "text": [
      "Percentage of overlap: 0.8065831634139237\n",
      "Opinion/Argumentation\n"
     ]
    },
    {
     "name": "stderr",
     "output_type": "stream",
     "text": [
      "100%|██████████| 2498/2498 [00:00<00:00, 3508.63it/s]\n"
     ]
    },
    {
     "name": "stdout",
     "output_type": "stream",
     "text": [
      "Percentage of overlap: 0.923138510808647\n",
      "Forum\n"
     ]
    },
    {
     "name": "stderr",
     "output_type": "stream",
     "text": [
      "100%|██████████| 4006/4006 [00:00<00:00, 4210.42it/s]\n"
     ]
    },
    {
     "name": "stdout",
     "output_type": "stream",
     "text": [
      "Percentage of overlap: 0.8419870194707938\n",
      "Prose/Lyrical\n"
     ]
    },
    {
     "name": "stderr",
     "output_type": "stream",
     "text": [
      "100%|██████████| 2943/2943 [00:00<00:00, 6398.45it/s]\n"
     ]
    },
    {
     "name": "stdout",
     "output_type": "stream",
     "text": [
      "Percentage of overlap: 0.7410805300713558\n",
      "Legal\n"
     ]
    },
    {
     "name": "stderr",
     "output_type": "stream",
     "text": [
      "100%|██████████| 3563/3563 [00:00<00:00, 13023.67it/s]\n"
     ]
    },
    {
     "name": "stdout",
     "output_type": "stream",
     "text": [
      "Percentage of overlap: 0.8004490597810834\n",
      "Promotion\n"
     ]
    },
    {
     "name": "stderr",
     "output_type": "stream",
     "text": [
      "100%|██████████| 3298/3298 [00:00<00:00, 8642.27it/s]"
     ]
    },
    {
     "name": "stdout",
     "output_type": "stream",
     "text": [
      "Percentage of overlap: 0.9129775621588841\n"
     ]
    },
    {
     "name": "stderr",
     "output_type": "stream",
     "text": [
      "\n"
     ]
    }
   ],
   "source": [
    "# Improved code to calculate token overlap - we can simply calculate which tokens do not overlap - meaning that they occur only in one of the dataset, and calculate the percentage overlap based on that\n",
    "token_overlap_label_results = {}\n",
    "results = {}\n",
    "\n",
    "# Loop through the datasets and labels and calculate token overlap\n",
    "for lang in list(main_dict.keys()):\n",
    "\tprint(lang)\n",
    "\t# Create a dict for labels\n",
    "\tlabel_overlap = {}\n",
    "\tlabel_overlap_tokens = {}\n",
    "\n",
    "\t# loop through labels\n",
    "\tfor label in ['Information/Explanation', 'News', 'Instruction','Opinion/Argumentation', 'Forum', 'Prose/Lyrical', 'Legal','Promotion']:\n",
    "\t\tprint(label)\n",
    "\t\ttoken_list_test = main_dict[lang][\"token_overlap\"][\"label_level_token_lists_norm\"][label]\n",
    "\n",
    "\t\ttoken_list_train = label_tokens[label]\n",
    "\n",
    "\t\t# See how many tokens do not overlap\n",
    "\t\tno_overlap_counter = 0\n",
    "\n",
    "\t\t# Save tokens that overlap for further inspection\n",
    "\t\toverlap_token_list = []\n",
    "\n",
    "\t\t# We calculate overlap by counting how many tokens do not appear in both sets\n",
    "\t\tfor token in tqdm(token_list_test):\n",
    "\t\t\tif token not in token_list_train:\n",
    "\t\t\t\tno_overlap_counter += 1\n",
    "\t\t\telse:\n",
    "\t\t\t\toverlap_token_list.append(token)\n",
    "\n",
    "\t\t# Out of all tokens in test set, how many do not overlap with train set?\n",
    "\t\tno_overlap_per = no_overlap_counter/len(token_list_test)\n",
    "\n",
    "\t\t# Calculate percentage of overlap based on that\n",
    "\t\toverlap_per = 1-no_overlap_per\n",
    "\n",
    "\t\tprint(f\"Percentage of overlap: {overlap_per}\")\n",
    "\n",
    "\t\tlabel_overlap[label] = overlap_per\n",
    "\t\tlabel_overlap_tokens[label] = overlap_token_list\n",
    "\n",
    "\t\t# Add to the results\n",
    "\t\tresults[f\"{lang}-{label}\"] = overlap_per\n",
    "\n",
    "\t# Add the list of all tokens to the dictionary\n",
    "\tmain_dict[lang][\"token_overlap\"][\"label_overlap_percentage_norm\"] = label_overlap\n",
    "\tmain_dict[lang][\"token_overlap\"][\"label_overlap_token_list_norm\"] = label_overlap_tokens"
   ]
  },
  {
   "cell_type": "code",
   "execution_count": 14,
   "metadata": {},
   "outputs": [
    {
     "data": {
      "text/plain": [
       "{'mt-Information/Explanation': 0.7790802524797115,\n",
       " 'mt-News': 0.8023340627279358,\n",
       " 'mt-Instruction': 0.6831737647188292,\n",
       " 'mt-Opinion/Argumentation': 0.7689672050905532,\n",
       " 'mt-Forum': 0.66796875,\n",
       " 'mt-Prose/Lyrical': 0.68359375,\n",
       " 'mt-Legal': 0.719921875,\n",
       " 'mt-Promotion': 0.7187072503419973,\n",
       " 'el-Information/Explanation': 0.7734947978850417,\n",
       " 'el-News': 0.7590299277605779,\n",
       " 'el-Instruction': 0.6099838969404187,\n",
       " 'el-Opinion/Argumentation': 0.7217272104180945,\n",
       " 'el-Forum': 0.6286532951289399,\n",
       " 'el-Prose/Lyrical': 0.5938602681721947,\n",
       " 'el-Legal': 0.4873096446700508,\n",
       " 'el-Promotion': 0.6601612218922359,\n",
       " 'tr-Information/Explanation': 0.6500198176773682,\n",
       " 'tr-News': 0.6403141361256545,\n",
       " 'tr-Instruction': 0.5206037374221371,\n",
       " 'tr-Opinion/Argumentation': 0.597646645591851,\n",
       " 'tr-Forum': 0.5817799158147925,\n",
       " 'tr-Prose/Lyrical': 0.5465085638998682,\n",
       " 'tr-Legal': 0.3967517401392111,\n",
       " 'tr-Promotion': 0.5560538116591929,\n",
       " 'sq-Information/Explanation': 0.6912599318955732,\n",
       " 'sq-News': 0.669758064516129,\n",
       " 'sq-Instruction': 0.6004254026131874,\n",
       " 'sq-Opinion/Argumentation': 0.6782122905027933,\n",
       " 'sq-Forum': 0.6356101743355245,\n",
       " 'sq-Prose/Lyrical': 0.613744075829384,\n",
       " 'sq-Legal': 0.521932830705963,\n",
       " 'sq-Promotion': 0.6597260273972603,\n",
       " 'is-Information/Explanation': 0.6884955752212389,\n",
       " 'is-News': 0.6792106470858192,\n",
       " 'is-Instruction': 0.6361550229474757,\n",
       " 'is-Opinion/Argumentation': 0.6744324970131421,\n",
       " 'is-Forum': 0.6293193717277488,\n",
       " 'is-Prose/Lyrical': 0.5653664809258465,\n",
       " 'is-Legal': 0.4933660933660934,\n",
       " 'is-Promotion': 0.6353488372093024,\n",
       " 'uk-Information/Explanation': 0.7696267696267696,\n",
       " 'uk-News': 0.7905224787363305,\n",
       " 'uk-Instruction': 0.6884088076443706,\n",
       " 'uk-Opinion/Argumentation': 0.7816925734024179,\n",
       " 'uk-Forum': 0.7117544297479411,\n",
       " 'uk-Prose/Lyrical': 0.6407051997322026,\n",
       " 'uk-Legal': 0.5866790438616849,\n",
       " 'uk-Promotion': 0.70625,\n",
       " 'ca-Information/Explanation': 0.7257943457593194,\n",
       " 'ca-News': 0.7141225732775028,\n",
       " 'ca-Instruction': 0.674473067915691,\n",
       " 'ca-Opinion/Argumentation': 0.7115727002967359,\n",
       " 'ca-Forum': 0.6930455635491607,\n",
       " 'ca-Prose/Lyrical': 0.6661739344666173,\n",
       " 'ca-Legal': 0.5562594268476622,\n",
       " 'ca-Promotion': 0.67233238904627,\n",
       " 'mk-Information/Explanation': 0.7898915056893359,\n",
       " 'mk-News': 0.8053035589672017,\n",
       " 'mk-Instruction': 0.691745602165088,\n",
       " 'mk-Opinion/Argumentation': 0.778783151326053,\n",
       " 'mk-Forum': 0.7514272121788772,\n",
       " 'mk-Prose/Lyrical': 0.6801264899051326,\n",
       " 'mk-Legal': 0.6116803278688525,\n",
       " 'mk-Promotion': 0.7692758721782469,\n",
       " 'hr-Information/Explanation': 0.7795236926098699,\n",
       " 'hr-News': 0.7948106173575902,\n",
       " 'hr-Instruction': 0.6771788990825688,\n",
       " 'hr-Opinion/Argumentation': 0.7569960022844089,\n",
       " 'hr-Forum': 0.7086820083682008,\n",
       " 'hr-Prose/Lyrical': 0.6344330678801668,\n",
       " 'hr-Legal': 0.583803611738149,\n",
       " 'hr-Promotion': 0.7669138090824837,\n",
       " 'sl-Information/Explanation': 0.9125884016973126,\n",
       " 'sl-News': 0.9357060849598163,\n",
       " 'sl-Instruction': 0.8065831634139237,\n",
       " 'sl-Opinion/Argumentation': 0.923138510808647,\n",
       " 'sl-Forum': 0.8419870194707938,\n",
       " 'sl-Prose/Lyrical': 0.7410805300713558,\n",
       " 'sl-Legal': 0.8004490597810834,\n",
       " 'sl-Promotion': 0.9129775621588841}"
      ]
     },
     "execution_count": 14,
     "metadata": {},
     "output_type": "execute_result"
    }
   ],
   "source": [
    "results"
   ]
  },
  {
   "cell_type": "code",
   "execution_count": 15,
   "metadata": {},
   "outputs": [
    {
     "data": {
      "text/html": [
       "<div>\n",
       "<style scoped>\n",
       "    .dataframe tbody tr th:only-of-type {\n",
       "        vertical-align: middle;\n",
       "    }\n",
       "\n",
       "    .dataframe tbody tr th {\n",
       "        vertical-align: top;\n",
       "    }\n",
       "\n",
       "    .dataframe thead th {\n",
       "        text-align: right;\n",
       "    }\n",
       "</style>\n",
       "<table border=\"1\" class=\"dataframe\">\n",
       "  <thead>\n",
       "    <tr style=\"text-align: right;\">\n",
       "      <th></th>\n",
       "      <th>label</th>\n",
       "      <th>overlap</th>\n",
       "    </tr>\n",
       "  </thead>\n",
       "  <tbody>\n",
       "    <tr>\n",
       "      <th>0</th>\n",
       "      <td>mt-Information/Explanation</td>\n",
       "      <td>0.779080</td>\n",
       "    </tr>\n",
       "    <tr>\n",
       "      <th>1</th>\n",
       "      <td>mt-News</td>\n",
       "      <td>0.802334</td>\n",
       "    </tr>\n",
       "    <tr>\n",
       "      <th>2</th>\n",
       "      <td>mt-Instruction</td>\n",
       "      <td>0.683174</td>\n",
       "    </tr>\n",
       "    <tr>\n",
       "      <th>3</th>\n",
       "      <td>mt-Opinion/Argumentation</td>\n",
       "      <td>0.768967</td>\n",
       "    </tr>\n",
       "    <tr>\n",
       "      <th>4</th>\n",
       "      <td>mt-Forum</td>\n",
       "      <td>0.667969</td>\n",
       "    </tr>\n",
       "    <tr>\n",
       "      <th>...</th>\n",
       "      <td>...</td>\n",
       "      <td>...</td>\n",
       "    </tr>\n",
       "    <tr>\n",
       "      <th>75</th>\n",
       "      <td>sl-Opinion/Argumentation</td>\n",
       "      <td>0.923139</td>\n",
       "    </tr>\n",
       "    <tr>\n",
       "      <th>76</th>\n",
       "      <td>sl-Forum</td>\n",
       "      <td>0.841987</td>\n",
       "    </tr>\n",
       "    <tr>\n",
       "      <th>77</th>\n",
       "      <td>sl-Prose/Lyrical</td>\n",
       "      <td>0.741081</td>\n",
       "    </tr>\n",
       "    <tr>\n",
       "      <th>78</th>\n",
       "      <td>sl-Legal</td>\n",
       "      <td>0.800449</td>\n",
       "    </tr>\n",
       "    <tr>\n",
       "      <th>79</th>\n",
       "      <td>sl-Promotion</td>\n",
       "      <td>0.912978</td>\n",
       "    </tr>\n",
       "  </tbody>\n",
       "</table>\n",
       "<p>80 rows × 2 columns</p>\n",
       "</div>"
      ],
      "text/plain": [
       "                         label   overlap\n",
       "0   mt-Information/Explanation  0.779080\n",
       "1                      mt-News  0.802334\n",
       "2               mt-Instruction  0.683174\n",
       "3     mt-Opinion/Argumentation  0.768967\n",
       "4                     mt-Forum  0.667969\n",
       "..                         ...       ...\n",
       "75    sl-Opinion/Argumentation  0.923139\n",
       "76                    sl-Forum  0.841987\n",
       "77            sl-Prose/Lyrical  0.741081\n",
       "78                    sl-Legal  0.800449\n",
       "79                sl-Promotion  0.912978\n",
       "\n",
       "[80 rows x 2 columns]"
      ]
     },
     "execution_count": 15,
     "metadata": {},
     "output_type": "execute_result"
    }
   ],
   "source": [
    "# Inspect the results\n",
    "overlap_df = pd.DataFrame({\"label\": list(results.keys()), \"overlap\": list(results.values())})\n",
    "overlap_df"
   ]
  },
  {
   "cell_type": "code",
   "execution_count": 16,
   "metadata": {},
   "outputs": [],
   "source": [
    "# Save the label-level-overlap\n",
    "with open(\"datasets/label-level-token-overlap-normalized.csv\", \"w\") as file:\n",
    "\toverlap_df.to_csv(file)"
   ]
  },
  {
   "cell_type": "code",
   "execution_count": 17,
   "metadata": {},
   "outputs": [],
   "source": [
    "# Save the extended json dict\n",
    "with open(\"manual-annotations/multilingual-genre-annotated-test-set.json\", \"w\") as file:\n",
    "\tjson.dump(main_dict, file)"
   ]
  }
 ],
 "metadata": {
  "kernelspec": {
   "display_name": "crosslingual_venv",
   "language": "python",
   "name": "python3"
  },
  "language_info": {
   "codemirror_mode": {
    "name": "ipython",
    "version": 3
   },
   "file_extension": ".py",
   "mimetype": "text/x-python",
   "name": "python",
   "nbconvert_exporter": "python",
   "pygments_lexer": "ipython3",
   "version": "3.8.10"
  }
 },
 "nbformat": 4,
 "nbformat_minor": 2
}
