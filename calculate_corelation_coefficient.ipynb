{
 "cells": [
  {
   "cell_type": "markdown",
   "metadata": {},
   "source": [
    "Theory from https://machinelearningmastery.com/how-to-use-correlation-to-understand-the-relationship-between-variables/"
   ]
  },
  {
   "cell_type": "code",
   "execution_count": 1,
   "metadata": {},
   "outputs": [
    {
     "name": "stdout",
     "output_type": "stream",
     "text": [
      "env: CUDA_DEVICE_ORDER=PCI_BUS_ID\n",
      "env: CUDA_VISIBLE_DEVICES=1\n"
     ]
    }
   ],
   "source": [
    "# Define the gpu  on the gpu machine\n",
    "%env CUDA_DEVICE_ORDER=PCI_BUS_ID\n",
    "%env CUDA_VISIBLE_DEVICES=1\n",
    "\n",
    "from matplotlib import pyplot\n",
    "import numpy as np\n",
    "import json\n",
    "from sklearn.preprocessing import MinMaxScaler\n",
    "import pandas as pd\n",
    "from evaluation import testing\n",
    "import json\n",
    "from scipy.stats import pearsonr\n",
    "from scipy.stats import spearmanr\n",
    "# Import Pyplot to plot the numbers\n",
    "import matplotlib.pyplot as plt"
   ]
  },
  {
   "cell_type": "code",
   "execution_count": 2,
   "metadata": {},
   "outputs": [
    {
     "data": {
      "text/plain": [
       "dict_keys(['mt', 'el', 'tr', 'sq', 'is', 'uk', 'ca', 'mk', 'hr', 'sl'])"
      ]
     },
     "execution_count": 2,
     "metadata": {},
     "output_type": "execute_result"
    }
   ],
   "source": [
    "# Import the final dataset with test sets\n",
    "with open(\"manual-annotations/multilingual-genre-annotated-test-set.json\") as main_file:\n",
    "\tmain_dict = json.load(main_file)\n",
    "\n",
    "main_dict.keys()"
   ]
  },
  {
   "cell_type": "code",
   "execution_count": 3,
   "metadata": {},
   "outputs": [
    {
     "data": {
      "text/plain": [
       "[0.4884076443296833,\n",
       " 0.8435600870783095,\n",
       " 0.8990631100925218,\n",
       " 0.8540726817042608,\n",
       " 0.7953382509303561,\n",
       " 0.9483272575377839,\n",
       " 0.8271009954845262,\n",
       " 0.9226380344801398,\n",
       " 0.882915766854554,\n",
       " 0.935625159154571]"
      ]
     },
     "execution_count": 3,
     "metadata": {},
     "output_type": "execute_result"
    }
   ],
   "source": [
    "# Get an array of macro F1 values\n",
    "macro_F1 = [main_dict[x][\"macro_f1\"] for x in list(main_dict.keys())]\n",
    "macro_F1"
   ]
  },
  {
   "cell_type": "code",
   "execution_count": 4,
   "metadata": {},
   "outputs": [
    {
     "data": {
      "text/plain": [
       "dict_keys(['accuracy', 'micro_f1', 'macro_f1', 'label_scores', 'dataset', 'token_overlap'])"
      ]
     },
     "execution_count": 4,
     "metadata": {},
     "output_type": "execute_result"
    }
   ],
   "source": [
    "main_dict[\"sl\"].keys()"
   ]
  },
  {
   "cell_type": "markdown",
   "metadata": {},
   "source": [
    "label scores"
   ]
  },
  {
   "cell_type": "code",
   "execution_count": 4,
   "metadata": {},
   "outputs": [
    {
     "data": {
      "text/plain": [
       "{'mt': {'News': 0.6923076923076923,\n",
       "  'Opinion/Argumentation': 0.33333333333333326,\n",
       "  'Instruction': 0.6896551724137931,\n",
       "  'Information/Explanation': 0.5217391304347826,\n",
       "  'Promotion': 0.8181818181818182,\n",
       "  'Forum': 0.18181818181818182,\n",
       "  'Prose/Lyrical': 0.18181818181818182},\n",
       " 'el': {'Instruction': 0.7058823529411764,\n",
       "  'Forum': 0.9523809523809523,\n",
       "  'Opinion/Argumentation': 0.8695652173913044,\n",
       "  'Prose/Lyrical': 1.0,\n",
       "  'Legal': 1.0,\n",
       "  'Promotion': 0.625,\n",
       "  'News': 0.9,\n",
       "  'Information/Explanation': 0.6956521739130435},\n",
       " 'tr': {'Instruction': 0.9,\n",
       "  'Legal': 1.0,\n",
       "  'Opinion/Argumentation': 0.8181818181818182,\n",
       "  'Forum': 0.888888888888889,\n",
       "  'News': 0.9523809523809523,\n",
       "  'Information/Explanation': 0.8235294117647058,\n",
       "  'Prose/Lyrical': 0.9523809523809523,\n",
       "  'Promotion': 0.8571428571428572},\n",
       " 'sq': {'Opinion/Argumentation': 0.6666666666666666,\n",
       "  'Legal': 0.9473684210526316,\n",
       "  'News': 0.888888888888889,\n",
       "  'Prose/Lyrical': 0.8571428571428572,\n",
       "  'Forum': 0.7777777777777777,\n",
       "  'Information/Explanation': 0.8,\n",
       "  'Promotion': 0.9473684210526316,\n",
       "  'Instruction': 0.9473684210526316},\n",
       " 'is': {'Information/Explanation': 0.5,\n",
       "  'Opinion/Argumentation': 0.8181818181818182,\n",
       "  'Forum': 0.9473684210526316,\n",
       "  'Prose/Lyrical': 1.0,\n",
       "  'Instruction': 0.7777777777777777,\n",
       "  'Legal': 0.8421052631578948,\n",
       "  'Promotion': 0.75,\n",
       "  'News': 0.7272727272727272},\n",
       " 'uk': {'Instruction': 0.9523809523809523,\n",
       "  'Prose/Lyrical': 1.0,\n",
       "  'Forum': 0.9473684210526316,\n",
       "  'Promotion': 0.7777777777777777,\n",
       "  'Legal': 1.0,\n",
       "  'Opinion/Argumentation': 0.9090909090909091,\n",
       "  'News': 1.0,\n",
       "  'Information/Explanation': 1.0},\n",
       " 'ca': {'Forum': 0.8421052631578948,\n",
       "  'Information/Explanation': 0.7200000000000001,\n",
       "  'Instruction': 0.7499999999999999,\n",
       "  'Legal': 0.9473684210526316,\n",
       "  'Prose/Lyrical': 0.9090909090909091,\n",
       "  'Opinion/Argumentation': 0.8421052631578948,\n",
       "  'News': 0.8235294117647058,\n",
       "  'Promotion': 0.7826086956521738},\n",
       " 'mk': {'Forum': 1.0,\n",
       "  'News': 0.9090909090909091,\n",
       "  'Instruction': 1.0,\n",
       "  'Promotion': 0.9523809523809523,\n",
       "  'Prose/Lyrical': 0.9523809523809523,\n",
       "  'Opinion/Argumentation': 0.7777777777777777,\n",
       "  'Legal': 0.9473684210526316,\n",
       "  'Information/Explanation': 0.8421052631578948},\n",
       " 'hr': {'Promotion': 0.8695652173913044,\n",
       "  'Information/Explanation': 0.9523809523809523,\n",
       "  'Prose/Lyrical': 0.8571428571428572,\n",
       "  'Forum': 0.9090909090909091,\n",
       "  'Opinion/Argumentation': 0.7777777777777777,\n",
       "  'Legal': 1.0,\n",
       "  'News': 0.9473684210526316,\n",
       "  'Instruction': 0.7499999999999999},\n",
       " 'sl': {'News': 0.9,\n",
       "  'Instruction': 1.0,\n",
       "  'Opinion/Argumentation': 0.8235294117647058,\n",
       "  'Promotion': 1.0,\n",
       "  'Legal': 0.9523809523809523,\n",
       "  'Information/Explanation': 0.9,\n",
       "  'Prose/Lyrical': 0.9090909090909091,\n",
       "  'Forum': 1.0}}"
      ]
     },
     "execution_count": 4,
     "metadata": {},
     "output_type": "execute_result"
    }
   ],
   "source": [
    "# Extract label-level F1 scores\n",
    "label_scores = {}\n",
    "\n",
    "for lang in list(main_dict.keys()):\n",
    "\tlabel_scores[lang] = main_dict[lang][\"label_scores\"]\n",
    "\n",
    "label_scores"
   ]
  },
  {
   "cell_type": "code",
   "execution_count": 5,
   "metadata": {},
   "outputs": [
    {
     "data": {
      "text/html": [
       "<div>\n",
       "<style scoped>\n",
       "    .dataframe tbody tr th:only-of-type {\n",
       "        vertical-align: middle;\n",
       "    }\n",
       "\n",
       "    .dataframe tbody tr th {\n",
       "        vertical-align: top;\n",
       "    }\n",
       "\n",
       "    .dataframe thead th {\n",
       "        text-align: right;\n",
       "    }\n",
       "</style>\n",
       "<table border=\"1\" class=\"dataframe\">\n",
       "  <thead>\n",
       "    <tr style=\"text-align: right;\">\n",
       "      <th></th>\n",
       "      <th>mt</th>\n",
       "      <th>el</th>\n",
       "      <th>tr</th>\n",
       "      <th>sq</th>\n",
       "      <th>is</th>\n",
       "      <th>uk</th>\n",
       "      <th>ca</th>\n",
       "      <th>mk</th>\n",
       "      <th>hr</th>\n",
       "      <th>sl</th>\n",
       "    </tr>\n",
       "  </thead>\n",
       "  <tbody>\n",
       "    <tr>\n",
       "      <th>News</th>\n",
       "      <td>0.692308</td>\n",
       "      <td>0.900000</td>\n",
       "      <td>0.952381</td>\n",
       "      <td>0.888889</td>\n",
       "      <td>0.727273</td>\n",
       "      <td>1.000000</td>\n",
       "      <td>0.823529</td>\n",
       "      <td>0.909091</td>\n",
       "      <td>0.947368</td>\n",
       "      <td>0.900000</td>\n",
       "    </tr>\n",
       "    <tr>\n",
       "      <th>Opinion/Argumentation</th>\n",
       "      <td>0.333333</td>\n",
       "      <td>0.869565</td>\n",
       "      <td>0.818182</td>\n",
       "      <td>0.666667</td>\n",
       "      <td>0.818182</td>\n",
       "      <td>0.909091</td>\n",
       "      <td>0.842105</td>\n",
       "      <td>0.777778</td>\n",
       "      <td>0.777778</td>\n",
       "      <td>0.823529</td>\n",
       "    </tr>\n",
       "    <tr>\n",
       "      <th>Instruction</th>\n",
       "      <td>0.689655</td>\n",
       "      <td>0.705882</td>\n",
       "      <td>0.900000</td>\n",
       "      <td>0.947368</td>\n",
       "      <td>0.777778</td>\n",
       "      <td>0.952381</td>\n",
       "      <td>0.750000</td>\n",
       "      <td>1.000000</td>\n",
       "      <td>0.750000</td>\n",
       "      <td>1.000000</td>\n",
       "    </tr>\n",
       "    <tr>\n",
       "      <th>Information/Explanation</th>\n",
       "      <td>0.521739</td>\n",
       "      <td>0.695652</td>\n",
       "      <td>0.823529</td>\n",
       "      <td>0.800000</td>\n",
       "      <td>0.500000</td>\n",
       "      <td>1.000000</td>\n",
       "      <td>0.720000</td>\n",
       "      <td>0.842105</td>\n",
       "      <td>0.952381</td>\n",
       "      <td>0.900000</td>\n",
       "    </tr>\n",
       "    <tr>\n",
       "      <th>Promotion</th>\n",
       "      <td>0.818182</td>\n",
       "      <td>0.625000</td>\n",
       "      <td>0.857143</td>\n",
       "      <td>0.947368</td>\n",
       "      <td>0.750000</td>\n",
       "      <td>0.777778</td>\n",
       "      <td>0.782609</td>\n",
       "      <td>0.952381</td>\n",
       "      <td>0.869565</td>\n",
       "      <td>1.000000</td>\n",
       "    </tr>\n",
       "    <tr>\n",
       "      <th>Forum</th>\n",
       "      <td>0.181818</td>\n",
       "      <td>0.952381</td>\n",
       "      <td>0.888889</td>\n",
       "      <td>0.777778</td>\n",
       "      <td>0.947368</td>\n",
       "      <td>0.947368</td>\n",
       "      <td>0.842105</td>\n",
       "      <td>1.000000</td>\n",
       "      <td>0.909091</td>\n",
       "      <td>1.000000</td>\n",
       "    </tr>\n",
       "    <tr>\n",
       "      <th>Prose/Lyrical</th>\n",
       "      <td>0.181818</td>\n",
       "      <td>1.000000</td>\n",
       "      <td>0.952381</td>\n",
       "      <td>0.857143</td>\n",
       "      <td>1.000000</td>\n",
       "      <td>1.000000</td>\n",
       "      <td>0.909091</td>\n",
       "      <td>0.952381</td>\n",
       "      <td>0.857143</td>\n",
       "      <td>0.909091</td>\n",
       "    </tr>\n",
       "    <tr>\n",
       "      <th>Legal</th>\n",
       "      <td>NaN</td>\n",
       "      <td>1.000000</td>\n",
       "      <td>1.000000</td>\n",
       "      <td>0.947368</td>\n",
       "      <td>0.842105</td>\n",
       "      <td>1.000000</td>\n",
       "      <td>0.947368</td>\n",
       "      <td>0.947368</td>\n",
       "      <td>1.000000</td>\n",
       "      <td>0.952381</td>\n",
       "    </tr>\n",
       "    <tr>\n",
       "      <th>Macro F1</th>\n",
       "      <td>0.488408</td>\n",
       "      <td>0.843560</td>\n",
       "      <td>0.899063</td>\n",
       "      <td>0.854073</td>\n",
       "      <td>0.795338</td>\n",
       "      <td>0.948327</td>\n",
       "      <td>0.827101</td>\n",
       "      <td>0.922638</td>\n",
       "      <td>0.882916</td>\n",
       "      <td>0.935625</td>\n",
       "    </tr>\n",
       "  </tbody>\n",
       "</table>\n",
       "</div>"
      ],
      "text/plain": [
       "                               mt        el        tr        sq        is  \\\n",
       "News                     0.692308  0.900000  0.952381  0.888889  0.727273   \n",
       "Opinion/Argumentation    0.333333  0.869565  0.818182  0.666667  0.818182   \n",
       "Instruction              0.689655  0.705882  0.900000  0.947368  0.777778   \n",
       "Information/Explanation  0.521739  0.695652  0.823529  0.800000  0.500000   \n",
       "Promotion                0.818182  0.625000  0.857143  0.947368  0.750000   \n",
       "Forum                    0.181818  0.952381  0.888889  0.777778  0.947368   \n",
       "Prose/Lyrical            0.181818  1.000000  0.952381  0.857143  1.000000   \n",
       "Legal                         NaN  1.000000  1.000000  0.947368  0.842105   \n",
       "Macro F1                 0.488408  0.843560  0.899063  0.854073  0.795338   \n",
       "\n",
       "                               uk        ca        mk        hr        sl  \n",
       "News                     1.000000  0.823529  0.909091  0.947368  0.900000  \n",
       "Opinion/Argumentation    0.909091  0.842105  0.777778  0.777778  0.823529  \n",
       "Instruction              0.952381  0.750000  1.000000  0.750000  1.000000  \n",
       "Information/Explanation  1.000000  0.720000  0.842105  0.952381  0.900000  \n",
       "Promotion                0.777778  0.782609  0.952381  0.869565  1.000000  \n",
       "Forum                    0.947368  0.842105  1.000000  0.909091  1.000000  \n",
       "Prose/Lyrical            1.000000  0.909091  0.952381  0.857143  0.909091  \n",
       "Legal                    1.000000  0.947368  0.947368  1.000000  0.952381  \n",
       "Macro F1                 0.948327  0.827101  0.922638  0.882916  0.935625  "
      ]
     },
     "execution_count": 5,
     "metadata": {},
     "output_type": "execute_result"
    }
   ],
   "source": [
    "# Get label-level scores\n",
    "label_scores_df = pd.DataFrame(label_scores)\n",
    "\n",
    "# Add a row with the dataset's macro F1\n",
    "label_scores_df = pd.concat((label_scores_df,pd.DataFrame({\"Macro F1\": macro_F1}, index=list(main_dict.keys())).transpose()))\n",
    "\n",
    "label_scores_df"
   ]
  },
  {
   "cell_type": "code",
   "execution_count": 62,
   "metadata": {},
   "outputs": [
    {
     "data": {
      "text/html": [
       "<div>\n",
       "<style scoped>\n",
       "    .dataframe tbody tr th:only-of-type {\n",
       "        vertical-align: middle;\n",
       "    }\n",
       "\n",
       "    .dataframe tbody tr th {\n",
       "        vertical-align: top;\n",
       "    }\n",
       "\n",
       "    .dataframe thead th {\n",
       "        text-align: right;\n",
       "    }\n",
       "</style>\n",
       "<table border=\"1\" class=\"dataframe\">\n",
       "  <thead>\n",
       "    <tr style=\"text-align: right;\">\n",
       "      <th></th>\n",
       "      <th>mt</th>\n",
       "      <th>el</th>\n",
       "      <th>tr</th>\n",
       "      <th>sq</th>\n",
       "      <th>is</th>\n",
       "      <th>uk</th>\n",
       "      <th>ca</th>\n",
       "      <th>mk</th>\n",
       "      <th>hr</th>\n",
       "      <th>sl</th>\n",
       "      <th>average</th>\n",
       "      <th>average-wth-mt</th>\n",
       "    </tr>\n",
       "  </thead>\n",
       "  <tbody>\n",
       "    <tr>\n",
       "      <th>News</th>\n",
       "      <td>0.69</td>\n",
       "      <td>0.90</td>\n",
       "      <td>0.95</td>\n",
       "      <td>0.89</td>\n",
       "      <td>0.73</td>\n",
       "      <td>1.00</td>\n",
       "      <td>0.82</td>\n",
       "      <td>0.91</td>\n",
       "      <td>0.95</td>\n",
       "      <td>0.90</td>\n",
       "      <td>0.87</td>\n",
       "      <td>0.89</td>\n",
       "    </tr>\n",
       "    <tr>\n",
       "      <th>Opinion/Argumentation</th>\n",
       "      <td>0.33</td>\n",
       "      <td>0.87</td>\n",
       "      <td>0.82</td>\n",
       "      <td>0.67</td>\n",
       "      <td>0.82</td>\n",
       "      <td>0.91</td>\n",
       "      <td>0.84</td>\n",
       "      <td>0.78</td>\n",
       "      <td>0.78</td>\n",
       "      <td>0.82</td>\n",
       "      <td>0.76</td>\n",
       "      <td>0.81</td>\n",
       "    </tr>\n",
       "    <tr>\n",
       "      <th>Instruction</th>\n",
       "      <td>0.69</td>\n",
       "      <td>0.71</td>\n",
       "      <td>0.90</td>\n",
       "      <td>0.95</td>\n",
       "      <td>0.78</td>\n",
       "      <td>0.95</td>\n",
       "      <td>0.75</td>\n",
       "      <td>1.00</td>\n",
       "      <td>0.75</td>\n",
       "      <td>1.00</td>\n",
       "      <td>0.85</td>\n",
       "      <td>0.86</td>\n",
       "    </tr>\n",
       "    <tr>\n",
       "      <th>Information/Explanation</th>\n",
       "      <td>0.52</td>\n",
       "      <td>0.70</td>\n",
       "      <td>0.82</td>\n",
       "      <td>0.80</td>\n",
       "      <td>0.50</td>\n",
       "      <td>1.00</td>\n",
       "      <td>0.72</td>\n",
       "      <td>0.84</td>\n",
       "      <td>0.95</td>\n",
       "      <td>0.90</td>\n",
       "      <td>0.78</td>\n",
       "      <td>0.80</td>\n",
       "    </tr>\n",
       "    <tr>\n",
       "      <th>Promotion</th>\n",
       "      <td>0.82</td>\n",
       "      <td>0.62</td>\n",
       "      <td>0.86</td>\n",
       "      <td>0.95</td>\n",
       "      <td>0.75</td>\n",
       "      <td>0.78</td>\n",
       "      <td>0.78</td>\n",
       "      <td>0.95</td>\n",
       "      <td>0.87</td>\n",
       "      <td>1.00</td>\n",
       "      <td>0.84</td>\n",
       "      <td>0.84</td>\n",
       "    </tr>\n",
       "    <tr>\n",
       "      <th>Forum</th>\n",
       "      <td>0.18</td>\n",
       "      <td>0.95</td>\n",
       "      <td>0.89</td>\n",
       "      <td>0.78</td>\n",
       "      <td>0.95</td>\n",
       "      <td>0.95</td>\n",
       "      <td>0.84</td>\n",
       "      <td>1.00</td>\n",
       "      <td>0.91</td>\n",
       "      <td>1.00</td>\n",
       "      <td>0.84</td>\n",
       "      <td>0.91</td>\n",
       "    </tr>\n",
       "    <tr>\n",
       "      <th>Prose/Lyrical</th>\n",
       "      <td>0.18</td>\n",
       "      <td>1.00</td>\n",
       "      <td>0.95</td>\n",
       "      <td>0.86</td>\n",
       "      <td>1.00</td>\n",
       "      <td>1.00</td>\n",
       "      <td>0.91</td>\n",
       "      <td>0.95</td>\n",
       "      <td>0.86</td>\n",
       "      <td>0.91</td>\n",
       "      <td>0.86</td>\n",
       "      <td>0.93</td>\n",
       "    </tr>\n",
       "    <tr>\n",
       "      <th>Legal</th>\n",
       "      <td>NaN</td>\n",
       "      <td>1.00</td>\n",
       "      <td>1.00</td>\n",
       "      <td>0.95</td>\n",
       "      <td>0.84</td>\n",
       "      <td>1.00</td>\n",
       "      <td>0.95</td>\n",
       "      <td>0.95</td>\n",
       "      <td>1.00</td>\n",
       "      <td>0.95</td>\n",
       "      <td>0.96</td>\n",
       "      <td>0.96</td>\n",
       "    </tr>\n",
       "    <tr>\n",
       "      <th>Macro F1</th>\n",
       "      <td>0.49</td>\n",
       "      <td>0.84</td>\n",
       "      <td>0.90</td>\n",
       "      <td>0.85</td>\n",
       "      <td>0.80</td>\n",
       "      <td>0.95</td>\n",
       "      <td>0.83</td>\n",
       "      <td>0.92</td>\n",
       "      <td>0.88</td>\n",
       "      <td>0.94</td>\n",
       "      <td>0.84</td>\n",
       "      <td>0.87</td>\n",
       "    </tr>\n",
       "  </tbody>\n",
       "</table>\n",
       "</div>"
      ],
      "text/plain": [
       "                           mt    el    tr    sq    is    uk    ca    mk    hr  \\\n",
       "News                     0.69  0.90  0.95  0.89  0.73  1.00  0.82  0.91  0.95   \n",
       "Opinion/Argumentation    0.33  0.87  0.82  0.67  0.82  0.91  0.84  0.78  0.78   \n",
       "Instruction              0.69  0.71  0.90  0.95  0.78  0.95  0.75  1.00  0.75   \n",
       "Information/Explanation  0.52  0.70  0.82  0.80  0.50  1.00  0.72  0.84  0.95   \n",
       "Promotion                0.82  0.62  0.86  0.95  0.75  0.78  0.78  0.95  0.87   \n",
       "Forum                    0.18  0.95  0.89  0.78  0.95  0.95  0.84  1.00  0.91   \n",
       "Prose/Lyrical            0.18  1.00  0.95  0.86  1.00  1.00  0.91  0.95  0.86   \n",
       "Legal                     NaN  1.00  1.00  0.95  0.84  1.00  0.95  0.95  1.00   \n",
       "Macro F1                 0.49  0.84  0.90  0.85  0.80  0.95  0.83  0.92  0.88   \n",
       "\n",
       "                           sl  average  average-wth-mt  \n",
       "News                     0.90     0.87            0.89  \n",
       "Opinion/Argumentation    0.82     0.76            0.81  \n",
       "Instruction              1.00     0.85            0.86  \n",
       "Information/Explanation  0.90     0.78            0.80  \n",
       "Promotion                1.00     0.84            0.84  \n",
       "Forum                    1.00     0.84            0.91  \n",
       "Prose/Lyrical            0.91     0.86            0.93  \n",
       "Legal                    0.95     0.96            0.96  \n",
       "Macro F1                 0.94     0.84            0.87  "
      ]
     },
     "execution_count": 62,
     "metadata": {},
     "output_type": "execute_result"
    }
   ],
   "source": [
    "# Add a column which averages the resuls in each row\n",
    "\n",
    "label_scores_df[\"average\"] = label_scores_df.mean(axis=1)\n",
    "\n",
    "# add average without Maltese\n",
    "label_scores_df[\"average-wth-mt\"] = label_scores_df.iloc[:, 1:].mean(axis=1)\n",
    "\n",
    "label_scores_df.round(2)"
   ]
  },
  {
   "cell_type": "code",
   "execution_count": 63,
   "metadata": {},
   "outputs": [
    {
     "name": "stdout",
     "output_type": "stream",
     "text": [
      "|                         |     mt |   el |   tr |   sq |   is |   uk |   ca |   mk |   hr |   sl |   average |   average-wth-mt |\n",
      "|:------------------------|-------:|-----:|-----:|-----:|-----:|-----:|-----:|-----:|-----:|-----:|----------:|-----------------:|\n",
      "| News                    |   0.69 | 0.9  | 0.95 | 0.89 | 0.73 | 1    | 0.82 | 0.91 | 0.95 | 0.9  |      0.87 |             0.89 |\n",
      "| Opinion/Argumentation   |   0.33 | 0.87 | 0.82 | 0.67 | 0.82 | 0.91 | 0.84 | 0.78 | 0.78 | 0.82 |      0.76 |             0.81 |\n",
      "| Instruction             |   0.69 | 0.71 | 0.9  | 0.95 | 0.78 | 0.95 | 0.75 | 1    | 0.75 | 1    |      0.85 |             0.86 |\n",
      "| Information/Explanation |   0.52 | 0.7  | 0.82 | 0.8  | 0.5  | 1    | 0.72 | 0.84 | 0.95 | 0.9  |      0.78 |             0.8  |\n",
      "| Promotion               |   0.82 | 0.62 | 0.86 | 0.95 | 0.75 | 0.78 | 0.78 | 0.95 | 0.87 | 1    |      0.84 |             0.84 |\n",
      "| Forum                   |   0.18 | 0.95 | 0.89 | 0.78 | 0.95 | 0.95 | 0.84 | 1    | 0.91 | 1    |      0.84 |             0.91 |\n",
      "| Prose/Lyrical           |   0.18 | 1    | 0.95 | 0.86 | 1    | 1    | 0.91 | 0.95 | 0.86 | 0.91 |      0.86 |             0.93 |\n",
      "| Legal                   | nan    | 1    | 1    | 0.95 | 0.84 | 1    | 0.95 | 0.95 | 1    | 0.95 |      0.96 |             0.96 |\n",
      "| Macro F1                |   0.49 | 0.84 | 0.9  | 0.85 | 0.8  | 0.95 | 0.83 | 0.92 | 0.88 | 0.94 |      0.84 |             0.87 |\n"
     ]
    }
   ],
   "source": [
    "# Round values in label scores to two decimal places\n",
    "print(label_scores_df.round(2).to_markdown())"
   ]
  },
  {
   "cell_type": "code",
   "execution_count": 6,
   "metadata": {},
   "outputs": [],
   "source": [
    "# Define relevant functions\n",
    "\n",
    "def plot(x, y, x_name, y_name, labels):\n",
    "\t\"\"\"\n",
    "\tArgs: x and y are lists of values, extracted from the main_dict in such order: \"[main_dict[x][value] for x in list(main_dict.keys())]\". Labels are usually the keys of main_dict - languages of test sets.\n",
    "\t\"\"\"\n",
    "\tpyplot.scatter(x, y)\n",
    "\n",
    "\t# Add labels for each dot\n",
    "\tfor i, label in enumerate(labels):\n",
    "\t\tpyplot.text(x[i], y[i], label)\n",
    "\n",
    "\n",
    "\t# Set labels and title\n",
    "\tpyplot.xlabel(f'{x_name}')\n",
    "\tpyplot.ylabel(f'{y_name}')\n",
    "\t#pyplot.title(f'Correlation of {x_name} and {y_name}.')\n",
    "\n",
    "\tpyplot.show()\n",
    "\n",
    "from scipy.stats import pearsonr\n",
    "from scipy.stats import spearmanr\n",
    "\n",
    "# calculate Pearson's correlation\n",
    "def pearson(x, y):\n",
    "\tcorr, p = pearsonr(x, y)\n",
    "\tprint('Pearsons correlation: %.3f' % corr)\n",
    "\tprint(f\"p-value: {p}\")\n",
    "\n",
    "\n",
    "# calculate spearman's correlation\n",
    "def spearman(x, y):\n",
    "\tcorr, p = spearmanr(x, y)\n",
    "\tprint('Spearmans correlation: %.3f' % corr)\n",
    "\tprint(f\"p-value: {p}\")\n",
    "\n",
    "# Function that combines all of the above\n",
    "def analyse(x, y, labels, x_name=\"x\", y_name=\"y\"):\n",
    "\tplot(x, y, x_name, y_name, labels)\n",
    "\tpearson(x, y)\n",
    "\tspearman(x, y)"
   ]
  },
  {
   "cell_type": "markdown",
   "metadata": {},
   "source": [
    "## Pearson Correlation"
   ]
  },
  {
   "cell_type": "markdown",
   "metadata": {},
   "source": [
    "At the core of many statistical analyses is the concept of linear relationships between variables. This is a relationship that is consistently additive across the two data samples.\n",
    "\n",
    "This relationship can be summarized between two variables, called the covariance. It is calculated as the average of the product between the values from each sample, where the values have been centred (by subtracting their respective means).\n",
    "\n",
    "The calculation of the sample covariance is as follows:\n",
    "\n",
    "cov(X, Y) = (sum (x - mean(X)) * (y - mean(Y)) ) * 1/(n-1)\n",
    "\n",
    "A problem with covariance as a statistical tool alone is that it is challenging to interpret. This leads us to Pearson’s correlation coefficient next."
   ]
  },
  {
   "cell_type": "markdown",
   "metadata": {},
   "source": [
    "Named after Karl Pearson, The Pearson correlation coefficient can be used to summarize the strength of the linear relationship between two data samples.\n",
    "\n",
    "Pearson’s correlation coefficient is calculated by dividing the covariance of the two variables by the product of their respective standard deviations. It is the normalization of the covariance between the two variables to give an interpretable score.\n",
    "\n",
    "Pearson's correlation coefficient = covariance(X, Y) / (stdv(X) * stdv(Y))\n",
    "The use of mean and standard deviation in the calculation suggests the need for the two data samples to have a Gaussian or Gaussian-like distribution.\n",
    "\n",
    "The result of the calculation, the correlation coefficient can be interpreted to understand the relationship.\n",
    "\n",
    "The coefficient returns a value between -1 and 1, symbolizing the full spectrum of correlation: from a complete negative correlation to a total positive correlation. A value of 0 means no correlation. The value must be interpreted, where often a value below -0.5 or above 0.5 indicates a notable correlation, and values below those values suggests a less notable correlation.\n",
    "\n",
    "Pearson’s correlation coefficient can be used to evaluate the relationship between more than two variables.\n",
    "\n",
    "This can be done by calculating a matrix of the relationships between each pair of variables in the dataset. The result is a symmetric matrix called a correlation matrix with a value of 1.0 along the diagonal as each column always perfectly correlates with itself."
   ]
  },
  {
   "cell_type": "code",
   "execution_count": 3,
   "metadata": {},
   "outputs": [],
   "source": [
    "from scipy.stats import pearsonr\n",
    "\n",
    "# calculate Pearson's correlation\n",
    "def pearson(macro_F1, factor):\n",
    "\tcorr, p = pearsonr(macro_F1, factor)\n",
    "\tprint('Pearsons correlation: %.3f' % corr)\n",
    "\tprint(f\"p-value: {p}\")"
   ]
  },
  {
   "cell_type": "markdown",
   "metadata": {},
   "source": [
    "## Spearman's Correlation"
   ]
  },
  {
   "cell_type": "markdown",
   "metadata": {},
   "source": [
    "While many data relationships can be linear, some may be nonlinear. These nonlinear relationships are stronger or weaker across the distribution of the variables. Further, the two variables being considered may have a non-Gaussian distribution.\n",
    "\n",
    "Named after Charles Spearman, Spearman’s correlation coefficient can be used to summarize the strength between the two data samples. This test of relationship can also be used if there is a linear relationship between the variables but will have slightly less power (e.g. may result in lower coefficient scores).\n",
    "\n",
    "As with the Pearson correlation coefficient, the scores are between -1 and 1 for perfectly negatively correlated variables and perfectly positively correlated respectively.\n",
    "\n",
    "Instead of directly working with the data samples, it operates on the relative ranks of data values. This is a common approach used in non-parametric statistics, e.g. statistical methods where we do not assume a distribution of the data such as Gaussian.\n",
    "\n",
    "Spearman's correlation coefficient = covariance(rank(X), rank(Y)) / (stdv(rank(X)) * stdv(rank(Y)))\n",
    "A linear relationship between the variables is not assumed, although a monotonic relationship is assumed. This is a mathematical name for an increasing or decreasing relationship between the two variables.\n",
    "\n",
    "If you are unsure of the distribution and possible relationships between two variables, the Spearman correlation coefficient is a good tool to use.\n",
    "\n",
    "As with the Pearson’s correlation coefficient, the coefficient can be calculated pair-wise for each variable in a dataset to give a correlation matrix for review."
   ]
  },
  {
   "cell_type": "code",
   "execution_count": 4,
   "metadata": {},
   "outputs": [],
   "source": [
    "from scipy.stats import spearmanr\n",
    "\n",
    "# calculate spearman's correlation\n",
    "def spearman(macro_F1, factor):\n",
    "\tcorr, p = spearmanr(macro_F1, factor)\n",
    "\tprint('Spearmans correlation: %.3f' % corr)\n",
    "\tprint(f\"p-value: {p}\")"
   ]
  },
  {
   "cell_type": "markdown",
   "metadata": {},
   "source": [
    "## Sizes in pretraining data"
   ]
  },
  {
   "cell_type": "code",
   "execution_count": 9,
   "metadata": {},
   "outputs": [],
   "source": [
    "# Add information on sizes in XLM-RoBERTa training set - for specific language and combined with very closely related language. Sizes are in M of tokens.\n",
    "sizes = {\n",
    "\t\"mt\": 0,\n",
    "\t\"el\": 4285, \n",
    "\t\"tr\": 2736,\n",
    "\t\"sq\": 918,\n",
    "\t\"is\": 505,\n",
    "\t\"uk\": 6500,\n",
    "\t\"ca\": 1752,\n",
    "\t\"mk\": 449,\n",
    "\t\"hr\": 3297 + 14 + 843, #added Bosnian, Serbian (in that order), \n",
    "\t\"sl\": 1669,}\n",
    "\n",
    "sizes_with_related = {\n",
    "\t\"mt\": 0 + 2869, # Central Semitic Arabic languages (Afro-Asiatic language family): Maltese, Arabic\n",
    "\t\"el\": 4285, # is a separate branch of Indo-European language family and has no direct descendants that could be added\n",
    "\t\"tr\": 2736 + 783,\n",
    "\t\"sq\": 918, # is a separate branch of Indo-European language family and has no direct descendants that could be added\n",
    "\t\"is\": 505 + 7823 + 8494 + 778, # North Germanic languages: Icelandic, Danish, Norwegian, Swedish\n",
    "\t\"uk\": 6500 + 362 + 23408, # East Slavic: Ukrainian, Belarusian, Russian\n",
    "\t\"ca\": 1752 + 9374 + 495 + 8405, # Ibero-Romance: Catalan, Spanish, Galician, Portuguese\n",
    "\t\"mk\": 449 + 5487, # Eastern South Slavic: Macedonian, Bulgarian \n",
    "\t\"hr\": 3297 + 1669 + 14 + 843, # Western South Slavic languages: Croatian, Slovenian, Bosnian, Serbian (in that order)\n",
    "\t\"sl\": 1669 + 3297 + 14 + 843 # Western South Slavic languages: Slovenian, Croatian, Bosnian, Serbian (in that order)\n",
    "\t}"
   ]
  },
  {
   "cell_type": "code",
   "execution_count": 10,
   "metadata": {},
   "outputs": [],
   "source": [
    "# Sizes in GB, from https://aclanthology.org/2020.acl-main.747.pdf\n",
    "\n",
    "sizes_mb = {\n",
    "\t\"mt\": 0,\n",
    "\t\"el\": 46.9,\n",
    "\t\"tr\": 20.9,\n",
    "\t\"sq\": 5.4,\n",
    "\t\"is\": 3.2,\n",
    "\t\"uk\": 84.6,\n",
    "\t\"ca\": 10.1,\n",
    "\t\"mk\": 4.8,\n",
    "\t\"hr\": 20.5 +0.1 + 9.1, #added Bosnian, Serbian (in that order), \n",
    "\t\"sl\": 10.3,\n",
    "\t}\n",
    "\n",
    "sizes_mb_with_related = {\n",
    "\t\"mt\": 0 + 28.0, # Central Semitic Arabic languages (Afro-Asiatic language family): Maltese, Arabic\n",
    "\t\"el\": 46.9, # is a separate branch of Indo-European language family and has no direct descendants that could be added\n",
    "\t\"tr\": 20.9 + 6.5, # Southern Turkic (Turkic language family): Turkish, Azerbaijani\n",
    "\t\"sq\": 5.4, # is a separate branch of Indo-European language family and has no direct descendants that could be added\n",
    "\t\"is\": 3.2 + 45.6 + 49.0 + 12.1, # North Germanic languages: Icelandic, Danish, Norwegian, Swedish\n",
    "\t\"uk\": 84.6 + 4.3 + 278.0, #East Slavic: Ukrainian, Belarusian, Russian\n",
    "\t\"ca\": 10.1 + 53.3 + 2.9 + 49.1, # Ibero-Romance: Catalan, Spanish, Galician, Portuguese\n",
    "\t\"mk\": 4.8 + 57.5, # Eastern South Slavic: Macedonian, Bulgarian\n",
    "\t\"hr\": 20.5 + 0.1 + 9.1 + 10.3, # Western South Slavic languages: Croatian, Bosnian, Serbian, Slovenian (in that order)\n",
    "\t\"sl\": 10.3 + 20.5 + 0.1 + 9.1 # Western South Slavic languages: Slovenian, Croatian, Bosnian, Serbian (in that order)\n",
    "\t}"
   ]
  },
  {
   "cell_type": "code",
   "execution_count": 11,
   "metadata": {},
   "outputs": [
    {
     "data": {
      "text/plain": [
       "[28.0, 46.9, 27.4, 5.4, 109.9, 366.9, 115.4, 62.3, 40.0, 40.0]"
      ]
     },
     "execution_count": 11,
     "metadata": {},
     "output_type": "execute_result"
    }
   ],
   "source": [
    "sizes_list = list(sizes.values())\n",
    "sizes_related_list = list(sizes_with_related.values())\n",
    "sizes_mb_list = list(sizes_mb.values())\n",
    "sizes_mb_related_list = list(sizes_mb_with_related.values())\n",
    "\n",
    "sizes_mb_related_list"
   ]
  },
  {
   "cell_type": "markdown",
   "metadata": {},
   "source": [
    "In the paper, we report correlation only for sizes in GB, and do not normalize the values (see `old_code/calculate_corelation_coefficient-old-data.ipynb` on how you can normalize them)."
   ]
  },
  {
   "cell_type": "code",
   "execution_count": null,
   "metadata": {},
   "outputs": [
    {
     "name": "stdout",
     "output_type": "stream",
     "text": [
      "Pearsons correlation: 0.414\n",
      "p-value: 0.23427547869351117\n",
      "Spearmans correlation: 0.588\n",
      "p-value: 0.07387770688865801\n",
      "\n",
      "\n",
      "Pearsons correlation: 0.288\n",
      "p-value: 0.41972254729183944\n",
      "Spearmans correlation: 0.122\n",
      "p-value: 0.7379379712336098\n",
      "\n",
      "\n"
     ]
    }
   ],
   "source": [
    "# Calculate correlation\n",
    "for i in [sizes_mb_list, sizes_mb_related_list]:\n",
    "\t\tpearson(macro_F1, i)\n",
    "\t\tspearman(macro_F1, i)\n",
    "\t\tprint(\"\\n\")"
   ]
  },
  {
   "cell_type": "code",
   "execution_count": null,
   "metadata": {},
   "outputs": [
    {
     "data": {
      "image/png": "[encoded data removed]",
      "text/plain": [
       "<Figure size 640x480 with 1 Axes>"
      ]
     },
     "metadata": {},
     "output_type": "display_data"
    },
    {
     "name": "stdout",
     "output_type": "stream",
     "text": [
      "Pearsons correlation: 0.414\n",
      "p-value: 0.23427547869351117\n",
      "Spearmans correlation: 0.588\n",
      "p-value: 0.07387770688865801\n"
     ]
    }
   ],
   "source": [
    "# Get results for sizes_mb and sizes_mb_related\n",
    "labels = list(main_dict.keys())\n",
    "\n",
    "analyse(macro_F1, sizes_mb_list, labels, x_name=\"Macro F1\", y_name=\"Size in pretraining data (in GB)\")"
   ]
  },
  {
   "cell_type": "code",
   "execution_count": null,
   "metadata": {},
   "outputs": [
    {
     "data": {
      "image/png": "[encoded data removed]",
      "text/plain": [
       "<Figure size 640x480 with 1 Axes>"
      ]
     },
     "metadata": {},
     "output_type": "display_data"
    },
    {
     "name": "stdout",
     "output_type": "stream",
     "text": [
      "Pearsons correlation: 0.288\n",
      "p-value: 0.41972254729183944\n",
      "Spearmans correlation: 0.122\n",
      "p-value: 0.7379379712336098\n"
     ]
    }
   ],
   "source": [
    "analyse(macro_F1, sizes_mb_related_list, labels, x_name=\"Macro F1\", y_name=\"Size in pretraining data with related langs (in GB)\")"
   ]
  },
  {
   "cell_type": "markdown",
   "metadata": {},
   "source": [
    "# Correlation of token overlap and macro F1 scores"
   ]
  },
  {
   "cell_type": "markdown",
   "metadata": {},
   "source": [
    "## Dataset-level"
   ]
  },
  {
   "cell_type": "code",
   "execution_count": 18,
   "metadata": {},
   "outputs": [
    {
     "data": {
      "text/plain": [
       "dict_keys(['overlap_percentage', 'token_list', 'overlap_token_list', 'label_level_token_lists', 'label_overlap_percentage', 'label_overlap_token_list'])"
      ]
     },
     "execution_count": 18,
     "metadata": {},
     "output_type": "execute_result"
    }
   ],
   "source": [
    "main_dict[\"sl\"]['token_overlap'].keys()"
   ]
  },
  {
   "cell_type": "code",
   "execution_count": 19,
   "metadata": {},
   "outputs": [
    {
     "data": {
      "text/plain": [
       "[0.8022969403804493,\n",
       " 0.1614276568501921,\n",
       " 0.5208719382770122,\n",
       " 0.6038502030380508,\n",
       " 0.5130030019900833,\n",
       " 0.15665821179454664,\n",
       " 0.7448446122567529,\n",
       " 0.14598936285683273,\n",
       " 0.8215173660815189,\n",
       " 0.9742887570363609]"
      ]
     },
     "execution_count": 19,
     "metadata": {},
     "output_type": "execute_result"
    }
   ],
   "source": [
    "# Get an array of token overlap in percentages\n",
    "overlap = [main_dict[x]['token_overlap']['overlap_percentage'] for x in list(main_dict.keys())]\n",
    "overlap"
   ]
  },
  {
   "cell_type": "code",
   "execution_count": 20,
   "metadata": {},
   "outputs": [
    {
     "data": {
      "image/png": "[encoded data removed]",
      "text/plain": [
       "<Figure size 640x480 with 1 Axes>"
      ]
     },
     "metadata": {},
     "output_type": "display_data"
    },
    {
     "name": "stdout",
     "output_type": "stream",
     "text": [
      "Pearsons correlation: -0.319\n",
      "p-value: 0.3695442984343605\n",
      "Spearmans correlation: -0.200\n",
      "p-value: 0.5795840000000001\n"
     ]
    }
   ],
   "source": [
    "# Analyse the correlation\n",
    "labels = list(main_dict.keys())\n",
    "analyse(overlap, macro_F1, labels, x_name=\"Token Overlap (%)\", y_name=\"Macro F1\")"
   ]
  },
  {
   "cell_type": "markdown",
   "metadata": {},
   "source": [
    "## Label-level"
   ]
  },
  {
   "cell_type": "code",
   "execution_count": 22,
   "metadata": {},
   "outputs": [
    {
     "data": {
      "text/html": [
       "<div>\n",
       "<style scoped>\n",
       "    .dataframe tbody tr th:only-of-type {\n",
       "        vertical-align: middle;\n",
       "    }\n",
       "\n",
       "    .dataframe tbody tr th {\n",
       "        vertical-align: top;\n",
       "    }\n",
       "\n",
       "    .dataframe thead th {\n",
       "        text-align: right;\n",
       "    }\n",
       "</style>\n",
       "<table border=\"1\" class=\"dataframe\">\n",
       "  <thead>\n",
       "    <tr style=\"text-align: right;\">\n",
       "      <th></th>\n",
       "      <th>mt</th>\n",
       "      <th>el</th>\n",
       "      <th>tr</th>\n",
       "      <th>sq</th>\n",
       "      <th>is</th>\n",
       "      <th>uk</th>\n",
       "      <th>ca</th>\n",
       "      <th>mk</th>\n",
       "      <th>hr</th>\n",
       "      <th>sl</th>\n",
       "    </tr>\n",
       "  </thead>\n",
       "  <tbody>\n",
       "    <tr>\n",
       "      <th>News</th>\n",
       "      <td>0.692308</td>\n",
       "      <td>0.900000</td>\n",
       "      <td>0.952381</td>\n",
       "      <td>0.888889</td>\n",
       "      <td>0.727273</td>\n",
       "      <td>1.000000</td>\n",
       "      <td>0.823529</td>\n",
       "      <td>0.909091</td>\n",
       "      <td>0.947368</td>\n",
       "      <td>0.900000</td>\n",
       "    </tr>\n",
       "    <tr>\n",
       "      <th>Opinion/Argumentation</th>\n",
       "      <td>0.333333</td>\n",
       "      <td>0.869565</td>\n",
       "      <td>0.818182</td>\n",
       "      <td>0.666667</td>\n",
       "      <td>0.818182</td>\n",
       "      <td>0.909091</td>\n",
       "      <td>0.842105</td>\n",
       "      <td>0.777778</td>\n",
       "      <td>0.777778</td>\n",
       "      <td>0.823529</td>\n",
       "    </tr>\n",
       "    <tr>\n",
       "      <th>Instruction</th>\n",
       "      <td>0.689655</td>\n",
       "      <td>0.705882</td>\n",
       "      <td>0.900000</td>\n",
       "      <td>0.947368</td>\n",
       "      <td>0.777778</td>\n",
       "      <td>0.952381</td>\n",
       "      <td>0.750000</td>\n",
       "      <td>1.000000</td>\n",
       "      <td>0.750000</td>\n",
       "      <td>1.000000</td>\n",
       "    </tr>\n",
       "    <tr>\n",
       "      <th>Information/Explanation</th>\n",
       "      <td>0.521739</td>\n",
       "      <td>0.695652</td>\n",
       "      <td>0.823529</td>\n",
       "      <td>0.800000</td>\n",
       "      <td>0.500000</td>\n",
       "      <td>1.000000</td>\n",
       "      <td>0.720000</td>\n",
       "      <td>0.842105</td>\n",
       "      <td>0.952381</td>\n",
       "      <td>0.900000</td>\n",
       "    </tr>\n",
       "    <tr>\n",
       "      <th>Promotion</th>\n",
       "      <td>0.818182</td>\n",
       "      <td>0.625000</td>\n",
       "      <td>0.857143</td>\n",
       "      <td>0.947368</td>\n",
       "      <td>0.750000</td>\n",
       "      <td>0.777778</td>\n",
       "      <td>0.782609</td>\n",
       "      <td>0.952381</td>\n",
       "      <td>0.869565</td>\n",
       "      <td>1.000000</td>\n",
       "    </tr>\n",
       "    <tr>\n",
       "      <th>Forum</th>\n",
       "      <td>0.181818</td>\n",
       "      <td>0.952381</td>\n",
       "      <td>0.888889</td>\n",
       "      <td>0.777778</td>\n",
       "      <td>0.947368</td>\n",
       "      <td>0.947368</td>\n",
       "      <td>0.842105</td>\n",
       "      <td>1.000000</td>\n",
       "      <td>0.909091</td>\n",
       "      <td>1.000000</td>\n",
       "    </tr>\n",
       "    <tr>\n",
       "      <th>Prose/Lyrical</th>\n",
       "      <td>0.181818</td>\n",
       "      <td>1.000000</td>\n",
       "      <td>0.952381</td>\n",
       "      <td>0.857143</td>\n",
       "      <td>1.000000</td>\n",
       "      <td>1.000000</td>\n",
       "      <td>0.909091</td>\n",
       "      <td>0.952381</td>\n",
       "      <td>0.857143</td>\n",
       "      <td>0.909091</td>\n",
       "    </tr>\n",
       "    <tr>\n",
       "      <th>Legal</th>\n",
       "      <td>NaN</td>\n",
       "      <td>1.000000</td>\n",
       "      <td>1.000000</td>\n",
       "      <td>0.947368</td>\n",
       "      <td>0.842105</td>\n",
       "      <td>1.000000</td>\n",
       "      <td>0.947368</td>\n",
       "      <td>0.947368</td>\n",
       "      <td>1.000000</td>\n",
       "      <td>0.952381</td>\n",
       "    </tr>\n",
       "  </tbody>\n",
       "</table>\n",
       "</div>"
      ],
      "text/plain": [
       "                               mt        el        tr        sq        is  \\\n",
       "News                     0.692308  0.900000  0.952381  0.888889  0.727273   \n",
       "Opinion/Argumentation    0.333333  0.869565  0.818182  0.666667  0.818182   \n",
       "Instruction              0.689655  0.705882  0.900000  0.947368  0.777778   \n",
       "Information/Explanation  0.521739  0.695652  0.823529  0.800000  0.500000   \n",
       "Promotion                0.818182  0.625000  0.857143  0.947368  0.750000   \n",
       "Forum                    0.181818  0.952381  0.888889  0.777778  0.947368   \n",
       "Prose/Lyrical            0.181818  1.000000  0.952381  0.857143  1.000000   \n",
       "Legal                         NaN  1.000000  1.000000  0.947368  0.842105   \n",
       "\n",
       "                               uk        ca        mk        hr        sl  \n",
       "News                     1.000000  0.823529  0.909091  0.947368  0.900000  \n",
       "Opinion/Argumentation    0.909091  0.842105  0.777778  0.777778  0.823529  \n",
       "Instruction              0.952381  0.750000  1.000000  0.750000  1.000000  \n",
       "Information/Explanation  1.000000  0.720000  0.842105  0.952381  0.900000  \n",
       "Promotion                0.777778  0.782609  0.952381  0.869565  1.000000  \n",
       "Forum                    0.947368  0.842105  1.000000  0.909091  1.000000  \n",
       "Prose/Lyrical            1.000000  0.909091  0.952381  0.857143  0.909091  \n",
       "Legal                    1.000000  0.947368  0.947368  1.000000  0.952381  "
      ]
     },
     "execution_count": 22,
     "metadata": {},
     "output_type": "execute_result"
    }
   ],
   "source": [
    "# Get label-level scores\n",
    "label_scores = pd.read_json(\"label-level-scores.json\")\n",
    "\n",
    "label_scores"
   ]
  },
  {
   "cell_type": "code",
   "execution_count": 23,
   "metadata": {},
   "outputs": [],
   "source": [
    "label_scores_dict = label_scores.to_dict()"
   ]
  },
  {
   "cell_type": "code",
   "execution_count": 24,
   "metadata": {},
   "outputs": [
    {
     "data": {
      "text/plain": [
       "{'mt-News': 0.6923076923076921,\n",
       " 'mt-Opinion/Argumentation': 0.33333333333333304,\n",
       " 'mt-Instruction': 0.689655172413793,\n",
       " 'mt-Information/Explanation': 0.521739130434782,\n",
       " 'mt-Promotion': 0.818181818181818,\n",
       " 'mt-Forum': 0.18181818181818102,\n",
       " 'mt-Prose/Lyrical': 0.18181818181818102,\n",
       " 'mt-Legal': nan,\n",
       " 'el-News': 0.9,\n",
       " 'el-Opinion/Argumentation': 0.8695652173913041,\n",
       " 'el-Instruction': 0.7058823529411761,\n",
       " 'el-Information/Explanation': 0.695652173913043,\n",
       " 'el-Promotion': 0.625,\n",
       " 'el-Forum': 0.9523809523809521,\n",
       " 'el-Prose/Lyrical': 1.0,\n",
       " 'el-Legal': 1.0,\n",
       " 'tr-News': 0.9523809523809521,\n",
       " 'tr-Opinion/Argumentation': 0.818181818181818,\n",
       " 'tr-Instruction': 0.9,\n",
       " 'tr-Information/Explanation': 0.8235294117647051,\n",
       " 'tr-Promotion': 0.8571428571428571,\n",
       " 'tr-Forum': 0.8888888888888891,\n",
       " 'tr-Prose/Lyrical': 0.9523809523809521,\n",
       " 'tr-Legal': 1.0,\n",
       " 'sq-News': 0.8888888888888891,\n",
       " 'sq-Opinion/Argumentation': 0.6666666666666661,\n",
       " 'sq-Instruction': 0.9473684210526311,\n",
       " 'sq-Information/Explanation': 0.8,\n",
       " 'sq-Promotion': 0.9473684210526311,\n",
       " 'sq-Forum': 0.777777777777777,\n",
       " 'sq-Prose/Lyrical': 0.8571428571428571,\n",
       " 'sq-Legal': 0.9473684210526311,\n",
       " 'is-News': 0.7272727272727271,\n",
       " 'is-Opinion/Argumentation': 0.818181818181818,\n",
       " 'is-Instruction': 0.777777777777777,\n",
       " 'is-Information/Explanation': 0.5,\n",
       " 'is-Promotion': 0.75,\n",
       " 'is-Forum': 0.9473684210526311,\n",
       " 'is-Prose/Lyrical': 1.0,\n",
       " 'is-Legal': 0.842105263157894,\n",
       " 'uk-News': 1.0,\n",
       " 'uk-Opinion/Argumentation': 0.9090909090909091,\n",
       " 'uk-Instruction': 0.9523809523809521,\n",
       " 'uk-Information/Explanation': 1.0,\n",
       " 'uk-Promotion': 0.777777777777777,\n",
       " 'uk-Forum': 0.9473684210526311,\n",
       " 'uk-Prose/Lyrical': 1.0,\n",
       " 'uk-Legal': 1.0,\n",
       " 'ca-News': 0.8235294117647051,\n",
       " 'ca-Opinion/Argumentation': 0.842105263157894,\n",
       " 'ca-Instruction': 0.7499999999999991,\n",
       " 'ca-Information/Explanation': 0.7200000000000001,\n",
       " 'ca-Promotion': 0.7826086956521731,\n",
       " 'ca-Forum': 0.842105263157894,\n",
       " 'ca-Prose/Lyrical': 0.9090909090909091,\n",
       " 'ca-Legal': 0.9473684210526311,\n",
       " 'mk-News': 0.9090909090909091,\n",
       " 'mk-Opinion/Argumentation': 0.777777777777777,\n",
       " 'mk-Instruction': 1.0,\n",
       " 'mk-Information/Explanation': 0.842105263157894,\n",
       " 'mk-Promotion': 0.9523809523809521,\n",
       " 'mk-Forum': 1.0,\n",
       " 'mk-Prose/Lyrical': 0.9523809523809521,\n",
       " 'mk-Legal': 0.9473684210526311,\n",
       " 'hr-News': 0.9473684210526311,\n",
       " 'hr-Opinion/Argumentation': 0.777777777777777,\n",
       " 'hr-Instruction': 0.7499999999999991,\n",
       " 'hr-Information/Explanation': 0.9523809523809521,\n",
       " 'hr-Promotion': 0.8695652173913041,\n",
       " 'hr-Forum': 0.9090909090909091,\n",
       " 'hr-Prose/Lyrical': 0.8571428571428571,\n",
       " 'hr-Legal': 1.0,\n",
       " 'sl-News': 0.9,\n",
       " 'sl-Opinion/Argumentation': 0.8235294117647051,\n",
       " 'sl-Instruction': 1.0,\n",
       " 'sl-Information/Explanation': 0.9,\n",
       " 'sl-Promotion': 1.0,\n",
       " 'sl-Forum': 1.0,\n",
       " 'sl-Prose/Lyrical': 0.9090909090909091,\n",
       " 'sl-Legal': 0.9523809523809521}"
      ]
     },
     "execution_count": 24,
     "metadata": {},
     "output_type": "execute_result"
    }
   ],
   "source": [
    "# Get scores in format \"mt-News\"\n",
    "label_scores_new_dict = {}\n",
    "\n",
    "for lang in list(label_scores.keys()):\n",
    "\tfor label in list(label_scores[lang].keys()):\n",
    "\t\tlabel_scores_new_dict[f\"{lang}-{label}\"] = label_scores[lang][label]\n",
    "\n",
    "label_scores_new_dict"
   ]
  },
  {
   "cell_type": "code",
   "execution_count": 25,
   "metadata": {},
   "outputs": [
    {
     "data": {
      "text/html": [
       "<div>\n",
       "<style scoped>\n",
       "    .dataframe tbody tr th:only-of-type {\n",
       "        vertical-align: middle;\n",
       "    }\n",
       "\n",
       "    .dataframe tbody tr th {\n",
       "        vertical-align: top;\n",
       "    }\n",
       "\n",
       "    .dataframe thead th {\n",
       "        text-align: right;\n",
       "    }\n",
       "</style>\n",
       "<table border=\"1\" class=\"dataframe\">\n",
       "  <thead>\n",
       "    <tr style=\"text-align: right;\">\n",
       "      <th></th>\n",
       "      <th>label</th>\n",
       "      <th>F1</th>\n",
       "    </tr>\n",
       "  </thead>\n",
       "  <tbody>\n",
       "    <tr>\n",
       "      <th>0</th>\n",
       "      <td>mt-News</td>\n",
       "      <td>0.692308</td>\n",
       "    </tr>\n",
       "    <tr>\n",
       "      <th>1</th>\n",
       "      <td>mt-Opinion/Argumentation</td>\n",
       "      <td>0.333333</td>\n",
       "    </tr>\n",
       "    <tr>\n",
       "      <th>2</th>\n",
       "      <td>mt-Instruction</td>\n",
       "      <td>0.689655</td>\n",
       "    </tr>\n",
       "    <tr>\n",
       "      <th>3</th>\n",
       "      <td>mt-Information/Explanation</td>\n",
       "      <td>0.521739</td>\n",
       "    </tr>\n",
       "    <tr>\n",
       "      <th>4</th>\n",
       "      <td>mt-Promotion</td>\n",
       "      <td>0.818182</td>\n",
       "    </tr>\n",
       "    <tr>\n",
       "      <th>...</th>\n",
       "      <td>...</td>\n",
       "      <td>...</td>\n",
       "    </tr>\n",
       "    <tr>\n",
       "      <th>75</th>\n",
       "      <td>sl-Information/Explanation</td>\n",
       "      <td>0.900000</td>\n",
       "    </tr>\n",
       "    <tr>\n",
       "      <th>76</th>\n",
       "      <td>sl-Promotion</td>\n",
       "      <td>1.000000</td>\n",
       "    </tr>\n",
       "    <tr>\n",
       "      <th>77</th>\n",
       "      <td>sl-Forum</td>\n",
       "      <td>1.000000</td>\n",
       "    </tr>\n",
       "    <tr>\n",
       "      <th>78</th>\n",
       "      <td>sl-Prose/Lyrical</td>\n",
       "      <td>0.909091</td>\n",
       "    </tr>\n",
       "    <tr>\n",
       "      <th>79</th>\n",
       "      <td>sl-Legal</td>\n",
       "      <td>0.952381</td>\n",
       "    </tr>\n",
       "  </tbody>\n",
       "</table>\n",
       "<p>80 rows × 2 columns</p>\n",
       "</div>"
      ],
      "text/plain": [
       "                         label        F1\n",
       "0                      mt-News  0.692308\n",
       "1     mt-Opinion/Argumentation  0.333333\n",
       "2               mt-Instruction  0.689655\n",
       "3   mt-Information/Explanation  0.521739\n",
       "4                 mt-Promotion  0.818182\n",
       "..                         ...       ...\n",
       "75  sl-Information/Explanation  0.900000\n",
       "76                sl-Promotion  1.000000\n",
       "77                    sl-Forum  1.000000\n",
       "78            sl-Prose/Lyrical  0.909091\n",
       "79                    sl-Legal  0.952381\n",
       "\n",
       "[80 rows x 2 columns]"
      ]
     },
     "execution_count": 25,
     "metadata": {},
     "output_type": "execute_result"
    }
   ],
   "source": [
    "label_scores_df = pd.DataFrame({\"label\":list(label_scores_new_dict.keys()), \"F1\": list(label_scores_new_dict.values())})\n",
    "label_scores_df"
   ]
  },
  {
   "cell_type": "code",
   "execution_count": 26,
   "metadata": {},
   "outputs": [
    {
     "data": {
      "text/html": [
       "<div>\n",
       "<style scoped>\n",
       "    .dataframe tbody tr th:only-of-type {\n",
       "        vertical-align: middle;\n",
       "    }\n",
       "\n",
       "    .dataframe tbody tr th {\n",
       "        vertical-align: top;\n",
       "    }\n",
       "\n",
       "    .dataframe thead th {\n",
       "        text-align: right;\n",
       "    }\n",
       "</style>\n",
       "<table border=\"1\" class=\"dataframe\">\n",
       "  <thead>\n",
       "    <tr style=\"text-align: right;\">\n",
       "      <th></th>\n",
       "      <th>label</th>\n",
       "      <th>overlap</th>\n",
       "    </tr>\n",
       "  </thead>\n",
       "  <tbody>\n",
       "    <tr>\n",
       "      <th>0</th>\n",
       "      <td>mt-Information/Explanation</td>\n",
       "      <td>0.714543</td>\n",
       "    </tr>\n",
       "    <tr>\n",
       "      <th>1</th>\n",
       "      <td>mt-News</td>\n",
       "      <td>0.708364</td>\n",
       "    </tr>\n",
       "    <tr>\n",
       "      <th>2</th>\n",
       "      <td>mt-Instruction</td>\n",
       "      <td>0.619401</td>\n",
       "    </tr>\n",
       "    <tr>\n",
       "      <th>3</th>\n",
       "      <td>mt-Opinion/Argumentation</td>\n",
       "      <td>0.682129</td>\n",
       "    </tr>\n",
       "    <tr>\n",
       "      <th>4</th>\n",
       "      <td>mt-Forum</td>\n",
       "      <td>0.583984</td>\n",
       "    </tr>\n",
       "    <tr>\n",
       "      <th>...</th>\n",
       "      <td>...</td>\n",
       "      <td>...</td>\n",
       "    </tr>\n",
       "    <tr>\n",
       "      <th>74</th>\n",
       "      <td>sl-Opinion/Argumentation</td>\n",
       "      <td>0.888709</td>\n",
       "    </tr>\n",
       "    <tr>\n",
       "      <th>75</th>\n",
       "      <td>sl-Forum</td>\n",
       "      <td>0.801008</td>\n",
       "    </tr>\n",
       "    <tr>\n",
       "      <th>76</th>\n",
       "      <td>sl-Prose/Lyrical</td>\n",
       "      <td>0.699553</td>\n",
       "    </tr>\n",
       "    <tr>\n",
       "      <th>77</th>\n",
       "      <td>sl-Legal</td>\n",
       "      <td>0.755659</td>\n",
       "    </tr>\n",
       "    <tr>\n",
       "      <th>78</th>\n",
       "      <td>sl-Promotion</td>\n",
       "      <td>0.874180</td>\n",
       "    </tr>\n",
       "  </tbody>\n",
       "</table>\n",
       "<p>79 rows × 2 columns</p>\n",
       "</div>"
      ],
      "text/plain": [
       "                         label   overlap\n",
       "0   mt-Information/Explanation  0.714543\n",
       "1                      mt-News  0.708364\n",
       "2               mt-Instruction  0.619401\n",
       "3     mt-Opinion/Argumentation  0.682129\n",
       "4                     mt-Forum  0.583984\n",
       "..                         ...       ...\n",
       "74    sl-Opinion/Argumentation  0.888709\n",
       "75                    sl-Forum  0.801008\n",
       "76            sl-Prose/Lyrical  0.699553\n",
       "77                    sl-Legal  0.755659\n",
       "78                sl-Promotion  0.874180\n",
       "\n",
       "[79 rows x 2 columns]"
      ]
     },
     "execution_count": 26,
     "metadata": {},
     "output_type": "execute_result"
    }
   ],
   "source": [
    "# Get label-level overlap percentages\n",
    "label_overlap = pd.read_csv(\"datasets/label-level-token-overlap.csv\", index_col = 0)\n",
    "label_overlap"
   ]
  },
  {
   "cell_type": "code",
   "execution_count": 27,
   "metadata": {},
   "outputs": [
    {
     "data": {
      "text/html": [
       "<div>\n",
       "<style scoped>\n",
       "    .dataframe tbody tr th:only-of-type {\n",
       "        vertical-align: middle;\n",
       "    }\n",
       "\n",
       "    .dataframe tbody tr th {\n",
       "        vertical-align: top;\n",
       "    }\n",
       "\n",
       "    .dataframe thead th {\n",
       "        text-align: right;\n",
       "    }\n",
       "</style>\n",
       "<table border=\"1\" class=\"dataframe\">\n",
       "  <thead>\n",
       "    <tr style=\"text-align: right;\">\n",
       "      <th></th>\n",
       "      <th>label</th>\n",
       "      <th>overlap</th>\n",
       "      <th>F1</th>\n",
       "    </tr>\n",
       "  </thead>\n",
       "  <tbody>\n",
       "    <tr>\n",
       "      <th>0</th>\n",
       "      <td>mt-Information/Explanation</td>\n",
       "      <td>0.714543</td>\n",
       "      <td>0.521739</td>\n",
       "    </tr>\n",
       "    <tr>\n",
       "      <th>1</th>\n",
       "      <td>mt-News</td>\n",
       "      <td>0.708364</td>\n",
       "      <td>0.692308</td>\n",
       "    </tr>\n",
       "    <tr>\n",
       "      <th>2</th>\n",
       "      <td>mt-Instruction</td>\n",
       "      <td>0.619401</td>\n",
       "      <td>0.689655</td>\n",
       "    </tr>\n",
       "    <tr>\n",
       "      <th>3</th>\n",
       "      <td>mt-Opinion/Argumentation</td>\n",
       "      <td>0.682129</td>\n",
       "      <td>0.333333</td>\n",
       "    </tr>\n",
       "    <tr>\n",
       "      <th>4</th>\n",
       "      <td>mt-Forum</td>\n",
       "      <td>0.583984</td>\n",
       "      <td>0.181818</td>\n",
       "    </tr>\n",
       "    <tr>\n",
       "      <th>...</th>\n",
       "      <td>...</td>\n",
       "      <td>...</td>\n",
       "      <td>...</td>\n",
       "    </tr>\n",
       "    <tr>\n",
       "      <th>74</th>\n",
       "      <td>sl-Opinion/Argumentation</td>\n",
       "      <td>0.888709</td>\n",
       "      <td>0.823529</td>\n",
       "    </tr>\n",
       "    <tr>\n",
       "      <th>75</th>\n",
       "      <td>sl-Forum</td>\n",
       "      <td>0.801008</td>\n",
       "      <td>1.000000</td>\n",
       "    </tr>\n",
       "    <tr>\n",
       "      <th>76</th>\n",
       "      <td>sl-Prose/Lyrical</td>\n",
       "      <td>0.699553</td>\n",
       "      <td>0.909091</td>\n",
       "    </tr>\n",
       "    <tr>\n",
       "      <th>77</th>\n",
       "      <td>sl-Legal</td>\n",
       "      <td>0.755659</td>\n",
       "      <td>0.952381</td>\n",
       "    </tr>\n",
       "    <tr>\n",
       "      <th>78</th>\n",
       "      <td>sl-Promotion</td>\n",
       "      <td>0.874180</td>\n",
       "      <td>1.000000</td>\n",
       "    </tr>\n",
       "  </tbody>\n",
       "</table>\n",
       "<p>79 rows × 3 columns</p>\n",
       "</div>"
      ],
      "text/plain": [
       "                         label   overlap        F1\n",
       "0   mt-Information/Explanation  0.714543  0.521739\n",
       "1                      mt-News  0.708364  0.692308\n",
       "2               mt-Instruction  0.619401  0.689655\n",
       "3     mt-Opinion/Argumentation  0.682129  0.333333\n",
       "4                     mt-Forum  0.583984  0.181818\n",
       "..                         ...       ...       ...\n",
       "74    sl-Opinion/Argumentation  0.888709  0.823529\n",
       "75                    sl-Forum  0.801008  1.000000\n",
       "76            sl-Prose/Lyrical  0.699553  0.909091\n",
       "77                    sl-Legal  0.755659  0.952381\n",
       "78                sl-Promotion  0.874180  1.000000\n",
       "\n",
       "[79 rows x 3 columns]"
      ]
     },
     "execution_count": 27,
     "metadata": {},
     "output_type": "execute_result"
    }
   ],
   "source": [
    "# Merge the two dfs\n",
    "label_merged = pd.merge(left=label_overlap, right=label_scores_df, on=\"label\")\n",
    "label_merged"
   ]
  },
  {
   "cell_type": "markdown",
   "metadata": {},
   "source": [
    "Plot in different colors for each of the labels"
   ]
  },
  {
   "cell_type": "code",
   "execution_count": 28,
   "metadata": {},
   "outputs": [
    {
     "data": {
      "text/html": [
       "<div>\n",
       "<style scoped>\n",
       "    .dataframe tbody tr th:only-of-type {\n",
       "        vertical-align: middle;\n",
       "    }\n",
       "\n",
       "    .dataframe tbody tr th {\n",
       "        vertical-align: top;\n",
       "    }\n",
       "\n",
       "    .dataframe thead th {\n",
       "        text-align: right;\n",
       "    }\n",
       "</style>\n",
       "<table border=\"1\" class=\"dataframe\">\n",
       "  <thead>\n",
       "    <tr style=\"text-align: right;\">\n",
       "      <th></th>\n",
       "      <th>label</th>\n",
       "      <th>overlap</th>\n",
       "      <th>F1</th>\n",
       "      <th>lang</th>\n",
       "      <th>genre</th>\n",
       "    </tr>\n",
       "  </thead>\n",
       "  <tbody>\n",
       "    <tr>\n",
       "      <th>0</th>\n",
       "      <td>mt-Information/Explanation</td>\n",
       "      <td>0.714543</td>\n",
       "      <td>0.521739</td>\n",
       "      <td>mt</td>\n",
       "      <td>Information/Explanation</td>\n",
       "    </tr>\n",
       "    <tr>\n",
       "      <th>1</th>\n",
       "      <td>mt-News</td>\n",
       "      <td>0.708364</td>\n",
       "      <td>0.692308</td>\n",
       "      <td>mt</td>\n",
       "      <td>News</td>\n",
       "    </tr>\n",
       "  </tbody>\n",
       "</table>\n",
       "</div>"
      ],
      "text/plain": [
       "                        label   overlap        F1 lang  \\\n",
       "0  mt-Information/Explanation  0.714543  0.521739   mt   \n",
       "1                     mt-News  0.708364  0.692308   mt   \n",
       "\n",
       "                     genre  \n",
       "0  Information/Explanation  \n",
       "1                     News  "
      ]
     },
     "execution_count": 28,
     "metadata": {},
     "output_type": "execute_result"
    }
   ],
   "source": [
    "# Add additional columns in the df with information on the labels and lang\n",
    "label_merged[\"lang\"] = label_merged[\"label\"].apply(lambda x: x.split(\"-\")[0])\n",
    "label_merged[\"genre\"] = label_merged[\"label\"].apply(lambda x: x.split(\"-\")[1])\n",
    "label_merged.head(2)"
   ]
  },
  {
   "cell_type": "code",
   "execution_count": 29,
   "metadata": {},
   "outputs": [
    {
     "data": {
      "text/html": [
       "<div>\n",
       "<style scoped>\n",
       "    .dataframe tbody tr th:only-of-type {\n",
       "        vertical-align: middle;\n",
       "    }\n",
       "\n",
       "    .dataframe tbody tr th {\n",
       "        vertical-align: top;\n",
       "    }\n",
       "\n",
       "    .dataframe thead th {\n",
       "        text-align: right;\n",
       "    }\n",
       "</style>\n",
       "<table border=\"1\" class=\"dataframe\">\n",
       "  <thead>\n",
       "    <tr style=\"text-align: right;\">\n",
       "      <th></th>\n",
       "      <th>label</th>\n",
       "      <th>overlap</th>\n",
       "      <th>F1</th>\n",
       "      <th>lang</th>\n",
       "      <th>genre</th>\n",
       "    </tr>\n",
       "  </thead>\n",
       "  <tbody>\n",
       "    <tr>\n",
       "      <th>4</th>\n",
       "      <td>mt-Forum</td>\n",
       "      <td>0.583984</td>\n",
       "      <td>0.181818</td>\n",
       "      <td>mt</td>\n",
       "      <td>Forum</td>\n",
       "    </tr>\n",
       "    <tr>\n",
       "      <th>5</th>\n",
       "      <td>mt-Prose/Lyrical</td>\n",
       "      <td>0.591797</td>\n",
       "      <td>0.181818</td>\n",
       "      <td>mt</td>\n",
       "      <td>Prose/Lyrical</td>\n",
       "    </tr>\n",
       "    <tr>\n",
       "      <th>3</th>\n",
       "      <td>mt-Opinion/Argumentation</td>\n",
       "      <td>0.682129</td>\n",
       "      <td>0.333333</td>\n",
       "      <td>mt</td>\n",
       "      <td>Opinion/Argumentation</td>\n",
       "    </tr>\n",
       "    <tr>\n",
       "      <th>0</th>\n",
       "      <td>mt-Information/Explanation</td>\n",
       "      <td>0.714543</td>\n",
       "      <td>0.521739</td>\n",
       "      <td>mt</td>\n",
       "      <td>Information/Explanation</td>\n",
       "    </tr>\n",
       "    <tr>\n",
       "      <th>2</th>\n",
       "      <td>mt-Instruction</td>\n",
       "      <td>0.619401</td>\n",
       "      <td>0.689655</td>\n",
       "      <td>mt</td>\n",
       "      <td>Instruction</td>\n",
       "    </tr>\n",
       "    <tr>\n",
       "      <th>1</th>\n",
       "      <td>mt-News</td>\n",
       "      <td>0.708364</td>\n",
       "      <td>0.692308</td>\n",
       "      <td>mt</td>\n",
       "      <td>News</td>\n",
       "    </tr>\n",
       "    <tr>\n",
       "      <th>6</th>\n",
       "      <td>mt-Promotion</td>\n",
       "      <td>0.657877</td>\n",
       "      <td>0.818182</td>\n",
       "      <td>mt</td>\n",
       "      <td>Promotion</td>\n",
       "    </tr>\n",
       "  </tbody>\n",
       "</table>\n",
       "</div>"
      ],
      "text/plain": [
       "                        label   overlap        F1 lang  \\\n",
       "4                    mt-Forum  0.583984  0.181818   mt   \n",
       "5            mt-Prose/Lyrical  0.591797  0.181818   mt   \n",
       "3    mt-Opinion/Argumentation  0.682129  0.333333   mt   \n",
       "0  mt-Information/Explanation  0.714543  0.521739   mt   \n",
       "2              mt-Instruction  0.619401  0.689655   mt   \n",
       "1                     mt-News  0.708364  0.692308   mt   \n",
       "6                mt-Promotion  0.657877  0.818182   mt   \n",
       "\n",
       "                     genre  \n",
       "4                    Forum  \n",
       "5            Prose/Lyrical  \n",
       "3    Opinion/Argumentation  \n",
       "0  Information/Explanation  \n",
       "2              Instruction  \n",
       "1                     News  \n",
       "6                Promotion  "
      ]
     },
     "execution_count": 29,
     "metadata": {},
     "output_type": "execute_result"
    }
   ],
   "source": [
    "label_merged[label_merged[\"lang\"] == \"mt\"].sort_values(by=\"F1\")"
   ]
  },
  {
   "cell_type": "code",
   "execution_count": 30,
   "metadata": {},
   "outputs": [],
   "source": [
    "# Extract vectors for each genre\n",
    "for label in ['Information/Explanation', 'News', 'Instruction','Opinion/Argumentation', 'Forum', 'Prose/Lyrical', 'Legal','Promotion']:\n",
    "\tcurrent_df = label_merged[label_merged[\"genre\"] == label]\n",
    "\tcurrent_overlap = current_df[\"overlap\"].to_list()\n",
    "\tcurrent_F1 = current_df[\"F1\"].to_list()"
   ]
  },
  {
   "cell_type": "code",
   "execution_count": 32,
   "metadata": {},
   "outputs": [
    {
     "data": {
      "image/png": "[encoded data removed]",
      "text/plain": [
       "<Figure size 640x480 with 1 Axes>"
      ]
     },
     "metadata": {},
     "output_type": "display_data"
    },
    {
     "name": "stdout",
     "output_type": "stream",
     "text": [
      "Pearsons correlation: -0.222\n",
      "p-value: 0.04956405395243631\n",
      "Spearmans correlation: -0.248\n",
      "p-value: 0.027340371679298852\n"
     ]
    }
   ],
   "source": [
    "# Analyse the correlation\n",
    "labels = list(main_dict.keys())\n",
    "analyse(label_merged[\"overlap\"].to_list(), label_merged[\"F1\"].to_list(), labels, x_name=\"Token Overlap (%)\", y_name=\"Macro F1\")"
   ]
  },
  {
   "cell_type": "code",
   "execution_count": 46,
   "metadata": {},
   "outputs": [
    {
     "data": {
      "text/plain": [
       "Text(0.5, 0, 'Token (Label-level) Overlap (%)')"
      ]
     },
     "execution_count": 46,
     "metadata": {},
     "output_type": "execute_result"
    },
    {
     "data": {
      "image/png": "[encoded data removed]",
      "text/plain": [
       "<Figure size 640x480 with 1 Axes>"
      ]
     },
     "metadata": {},
     "output_type": "display_data"
    }
   ],
   "source": [
    "y = label_merged[\"F1\"]\n",
    "x = label_merged[\"overlap\"]\n",
    "\n",
    "\n",
    "# Define the criteria - based on which column will the instances be grouped\n",
    "groups = label_merged.groupby('genre')\n",
    "\n",
    "for name, group in groups:\n",
    "    plt.plot(group[\"overlap\"], group[\"F1\"], marker='o', linestyle='', markersize=8, label=name);\n",
    "\n",
    "plt.legend(framealpha=0.3)\n",
    "plt.ylabel(\"F1\")\n",
    "plt.xlabel(\"Token (Label-level) Overlap (%)\")\n",
    "#plt.title('Correlation of token overlap (%) and F1 scores for each of the labels')"
   ]
  },
  {
   "cell_type": "markdown",
   "metadata": {},
   "source": [
    "# Correlation of English word overlap"
   ]
  },
  {
   "cell_type": "code",
   "execution_count": 70,
   "metadata": {},
   "outputs": [
    {
     "data": {
      "text/plain": [
       "dict_keys(['overlap_percentage', 'all_words', 'overlap_words', 'label_level_word_lists', 'label_overlap_percentage', 'label_overlap_token_list'])"
      ]
     },
     "execution_count": 70,
     "metadata": {},
     "output_type": "execute_result"
    }
   ],
   "source": [
    "main_dict[\"sl\"]['English_word_overlap'].keys()"
   ]
  },
  {
   "cell_type": "code",
   "execution_count": 71,
   "metadata": {},
   "outputs": [
    {
     "data": {
      "text/plain": [
       "[0.9093551797040169,\n",
       " 0.900834649221746,\n",
       " 0.9044013858591043,\n",
       " 0.9018958772193801,\n",
       " 0.9026613353970506,\n",
       " 0.9103291260584758,\n",
       " 0.9031615633557382,\n",
       " 0.9402651246522284,\n",
       " 0.934523502399257,\n",
       " 0.9370197300103842]"
      ]
     },
     "execution_count": 71,
     "metadata": {},
     "output_type": "execute_result"
    }
   ],
   "source": [
    "# Get an array of token overlap in percentages\n",
    "overlap = [main_dict[x]['English_word_overlap']['overlap_percentage'] for x in list(main_dict.keys())]\n",
    "overlap"
   ]
  },
  {
   "cell_type": "code",
   "execution_count": 72,
   "metadata": {},
   "outputs": [
    {
     "data": {
      "image/png": "[encoded data removed]",
      "text/plain": [
       "<Figure size 640x480 with 1 Axes>"
      ]
     },
     "metadata": {},
     "output_type": "display_data"
    },
    {
     "name": "stdout",
     "output_type": "stream",
     "text": [
      "Pearsons correlation: 0.330\n",
      "p-value: 0.3520290784980444\n",
      "Spearmans correlation: 0.600\n",
      "p-value: 0.06668799999999996\n"
     ]
    }
   ],
   "source": [
    "# Analyse the correlation\n",
    "labels = list(main_dict.keys())\n",
    "analyse(overlap, macro_F1, labels, x_name=\"English Word Overlap (%)\", y_name=\"Macro F1\")"
   ]
  },
  {
   "cell_type": "markdown",
   "metadata": {},
   "source": [
    "## Label-level"
   ]
  },
  {
   "cell_type": "code",
   "execution_count": 73,
   "metadata": {},
   "outputs": [
    {
     "data": {
      "text/html": [
       "<div>\n",
       "<style scoped>\n",
       "    .dataframe tbody tr th:only-of-type {\n",
       "        vertical-align: middle;\n",
       "    }\n",
       "\n",
       "    .dataframe tbody tr th {\n",
       "        vertical-align: top;\n",
       "    }\n",
       "\n",
       "    .dataframe thead th {\n",
       "        text-align: right;\n",
       "    }\n",
       "</style>\n",
       "<table border=\"1\" class=\"dataframe\">\n",
       "  <thead>\n",
       "    <tr style=\"text-align: right;\">\n",
       "      <th></th>\n",
       "      <th>mt</th>\n",
       "      <th>el</th>\n",
       "      <th>tr</th>\n",
       "      <th>sq</th>\n",
       "      <th>is</th>\n",
       "      <th>uk</th>\n",
       "      <th>ca</th>\n",
       "      <th>mk</th>\n",
       "      <th>hr</th>\n",
       "      <th>sl</th>\n",
       "    </tr>\n",
       "  </thead>\n",
       "  <tbody>\n",
       "    <tr>\n",
       "      <th>News</th>\n",
       "      <td>0.692308</td>\n",
       "      <td>0.900000</td>\n",
       "      <td>0.952381</td>\n",
       "      <td>0.888889</td>\n",
       "      <td>0.727273</td>\n",
       "      <td>1.000000</td>\n",
       "      <td>0.823529</td>\n",
       "      <td>0.909091</td>\n",
       "      <td>0.947368</td>\n",
       "      <td>0.900000</td>\n",
       "    </tr>\n",
       "    <tr>\n",
       "      <th>Opinion/Argumentation</th>\n",
       "      <td>0.333333</td>\n",
       "      <td>0.869565</td>\n",
       "      <td>0.818182</td>\n",
       "      <td>0.666667</td>\n",
       "      <td>0.818182</td>\n",
       "      <td>0.909091</td>\n",
       "      <td>0.842105</td>\n",
       "      <td>0.777778</td>\n",
       "      <td>0.777778</td>\n",
       "      <td>0.823529</td>\n",
       "    </tr>\n",
       "    <tr>\n",
       "      <th>Instruction</th>\n",
       "      <td>0.689655</td>\n",
       "      <td>0.705882</td>\n",
       "      <td>0.900000</td>\n",
       "      <td>0.947368</td>\n",
       "      <td>0.777778</td>\n",
       "      <td>0.952381</td>\n",
       "      <td>0.750000</td>\n",
       "      <td>1.000000</td>\n",
       "      <td>0.750000</td>\n",
       "      <td>1.000000</td>\n",
       "    </tr>\n",
       "    <tr>\n",
       "      <th>Information/Explanation</th>\n",
       "      <td>0.521739</td>\n",
       "      <td>0.695652</td>\n",
       "      <td>0.823529</td>\n",
       "      <td>0.800000</td>\n",
       "      <td>0.500000</td>\n",
       "      <td>1.000000</td>\n",
       "      <td>0.720000</td>\n",
       "      <td>0.842105</td>\n",
       "      <td>0.952381</td>\n",
       "      <td>0.900000</td>\n",
       "    </tr>\n",
       "    <tr>\n",
       "      <th>Promotion</th>\n",
       "      <td>0.818182</td>\n",
       "      <td>0.625000</td>\n",
       "      <td>0.857143</td>\n",
       "      <td>0.947368</td>\n",
       "      <td>0.750000</td>\n",
       "      <td>0.777778</td>\n",
       "      <td>0.782609</td>\n",
       "      <td>0.952381</td>\n",
       "      <td>0.869565</td>\n",
       "      <td>1.000000</td>\n",
       "    </tr>\n",
       "    <tr>\n",
       "      <th>Forum</th>\n",
       "      <td>0.181818</td>\n",
       "      <td>0.952381</td>\n",
       "      <td>0.888889</td>\n",
       "      <td>0.777778</td>\n",
       "      <td>0.947368</td>\n",
       "      <td>0.947368</td>\n",
       "      <td>0.842105</td>\n",
       "      <td>1.000000</td>\n",
       "      <td>0.909091</td>\n",
       "      <td>1.000000</td>\n",
       "    </tr>\n",
       "    <tr>\n",
       "      <th>Prose/Lyrical</th>\n",
       "      <td>0.181818</td>\n",
       "      <td>1.000000</td>\n",
       "      <td>0.952381</td>\n",
       "      <td>0.857143</td>\n",
       "      <td>1.000000</td>\n",
       "      <td>1.000000</td>\n",
       "      <td>0.909091</td>\n",
       "      <td>0.952381</td>\n",
       "      <td>0.857143</td>\n",
       "      <td>0.909091</td>\n",
       "    </tr>\n",
       "    <tr>\n",
       "      <th>Legal</th>\n",
       "      <td>NaN</td>\n",
       "      <td>1.000000</td>\n",
       "      <td>1.000000</td>\n",
       "      <td>0.947368</td>\n",
       "      <td>0.842105</td>\n",
       "      <td>1.000000</td>\n",
       "      <td>0.947368</td>\n",
       "      <td>0.947368</td>\n",
       "      <td>1.000000</td>\n",
       "      <td>0.952381</td>\n",
       "    </tr>\n",
       "  </tbody>\n",
       "</table>\n",
       "</div>"
      ],
      "text/plain": [
       "                               mt        el        tr        sq        is  \\\n",
       "News                     0.692308  0.900000  0.952381  0.888889  0.727273   \n",
       "Opinion/Argumentation    0.333333  0.869565  0.818182  0.666667  0.818182   \n",
       "Instruction              0.689655  0.705882  0.900000  0.947368  0.777778   \n",
       "Information/Explanation  0.521739  0.695652  0.823529  0.800000  0.500000   \n",
       "Promotion                0.818182  0.625000  0.857143  0.947368  0.750000   \n",
       "Forum                    0.181818  0.952381  0.888889  0.777778  0.947368   \n",
       "Prose/Lyrical            0.181818  1.000000  0.952381  0.857143  1.000000   \n",
       "Legal                         NaN  1.000000  1.000000  0.947368  0.842105   \n",
       "\n",
       "                               uk        ca        mk        hr        sl  \n",
       "News                     1.000000  0.823529  0.909091  0.947368  0.900000  \n",
       "Opinion/Argumentation    0.909091  0.842105  0.777778  0.777778  0.823529  \n",
       "Instruction              0.952381  0.750000  1.000000  0.750000  1.000000  \n",
       "Information/Explanation  1.000000  0.720000  0.842105  0.952381  0.900000  \n",
       "Promotion                0.777778  0.782609  0.952381  0.869565  1.000000  \n",
       "Forum                    0.947368  0.842105  1.000000  0.909091  1.000000  \n",
       "Prose/Lyrical            1.000000  0.909091  0.952381  0.857143  0.909091  \n",
       "Legal                    1.000000  0.947368  0.947368  1.000000  0.952381  "
      ]
     },
     "execution_count": 73,
     "metadata": {},
     "output_type": "execute_result"
    }
   ],
   "source": [
    "# Get label-level scores\n",
    "label_scores = pd.read_json(\"label-level-scores.json\")\n",
    "\n",
    "label_scores"
   ]
  },
  {
   "cell_type": "code",
   "execution_count": 74,
   "metadata": {},
   "outputs": [],
   "source": [
    "label_scores_dict = label_scores.to_dict()"
   ]
  },
  {
   "cell_type": "code",
   "execution_count": 75,
   "metadata": {},
   "outputs": [
    {
     "data": {
      "text/plain": [
       "{'mt-News': 0.6923076923076921,\n",
       " 'mt-Opinion/Argumentation': 0.33333333333333304,\n",
       " 'mt-Instruction': 0.689655172413793,\n",
       " 'mt-Information/Explanation': 0.521739130434782,\n",
       " 'mt-Promotion': 0.818181818181818,\n",
       " 'mt-Forum': 0.18181818181818102,\n",
       " 'mt-Prose/Lyrical': 0.18181818181818102,\n",
       " 'mt-Legal': nan,\n",
       " 'el-News': 0.9,\n",
       " 'el-Opinion/Argumentation': 0.8695652173913041,\n",
       " 'el-Instruction': 0.7058823529411761,\n",
       " 'el-Information/Explanation': 0.695652173913043,\n",
       " 'el-Promotion': 0.625,\n",
       " 'el-Forum': 0.9523809523809521,\n",
       " 'el-Prose/Lyrical': 1.0,\n",
       " 'el-Legal': 1.0,\n",
       " 'tr-News': 0.9523809523809521,\n",
       " 'tr-Opinion/Argumentation': 0.818181818181818,\n",
       " 'tr-Instruction': 0.9,\n",
       " 'tr-Information/Explanation': 0.8235294117647051,\n",
       " 'tr-Promotion': 0.8571428571428571,\n",
       " 'tr-Forum': 0.8888888888888891,\n",
       " 'tr-Prose/Lyrical': 0.9523809523809521,\n",
       " 'tr-Legal': 1.0,\n",
       " 'sq-News': 0.8888888888888891,\n",
       " 'sq-Opinion/Argumentation': 0.6666666666666661,\n",
       " 'sq-Instruction': 0.9473684210526311,\n",
       " 'sq-Information/Explanation': 0.8,\n",
       " 'sq-Promotion': 0.9473684210526311,\n",
       " 'sq-Forum': 0.777777777777777,\n",
       " 'sq-Prose/Lyrical': 0.8571428571428571,\n",
       " 'sq-Legal': 0.9473684210526311,\n",
       " 'is-News': 0.7272727272727271,\n",
       " 'is-Opinion/Argumentation': 0.818181818181818,\n",
       " 'is-Instruction': 0.777777777777777,\n",
       " 'is-Information/Explanation': 0.5,\n",
       " 'is-Promotion': 0.75,\n",
       " 'is-Forum': 0.9473684210526311,\n",
       " 'is-Prose/Lyrical': 1.0,\n",
       " 'is-Legal': 0.842105263157894,\n",
       " 'uk-News': 1.0,\n",
       " 'uk-Opinion/Argumentation': 0.9090909090909091,\n",
       " 'uk-Instruction': 0.9523809523809521,\n",
       " 'uk-Information/Explanation': 1.0,\n",
       " 'uk-Promotion': 0.777777777777777,\n",
       " 'uk-Forum': 0.9473684210526311,\n",
       " 'uk-Prose/Lyrical': 1.0,\n",
       " 'uk-Legal': 1.0,\n",
       " 'ca-News': 0.8235294117647051,\n",
       " 'ca-Opinion/Argumentation': 0.842105263157894,\n",
       " 'ca-Instruction': 0.7499999999999991,\n",
       " 'ca-Information/Explanation': 0.7200000000000001,\n",
       " 'ca-Promotion': 0.7826086956521731,\n",
       " 'ca-Forum': 0.842105263157894,\n",
       " 'ca-Prose/Lyrical': 0.9090909090909091,\n",
       " 'ca-Legal': 0.9473684210526311,\n",
       " 'mk-News': 0.9090909090909091,\n",
       " 'mk-Opinion/Argumentation': 0.777777777777777,\n",
       " 'mk-Instruction': 1.0,\n",
       " 'mk-Information/Explanation': 0.842105263157894,\n",
       " 'mk-Promotion': 0.9523809523809521,\n",
       " 'mk-Forum': 1.0,\n",
       " 'mk-Prose/Lyrical': 0.9523809523809521,\n",
       " 'mk-Legal': 0.9473684210526311,\n",
       " 'hr-News': 0.9473684210526311,\n",
       " 'hr-Opinion/Argumentation': 0.777777777777777,\n",
       " 'hr-Instruction': 0.7499999999999991,\n",
       " 'hr-Information/Explanation': 0.9523809523809521,\n",
       " 'hr-Promotion': 0.8695652173913041,\n",
       " 'hr-Forum': 0.9090909090909091,\n",
       " 'hr-Prose/Lyrical': 0.8571428571428571,\n",
       " 'hr-Legal': 1.0,\n",
       " 'sl-News': 0.9,\n",
       " 'sl-Opinion/Argumentation': 0.8235294117647051,\n",
       " 'sl-Instruction': 1.0,\n",
       " 'sl-Information/Explanation': 0.9,\n",
       " 'sl-Promotion': 1.0,\n",
       " 'sl-Forum': 1.0,\n",
       " 'sl-Prose/Lyrical': 0.9090909090909091,\n",
       " 'sl-Legal': 0.9523809523809521}"
      ]
     },
     "execution_count": 75,
     "metadata": {},
     "output_type": "execute_result"
    }
   ],
   "source": [
    "# Get scores in format \"mt-News\"\n",
    "label_scores_new_dict = {}\n",
    "\n",
    "for lang in list(label_scores.keys()):\n",
    "\tfor label in list(label_scores[lang].keys()):\n",
    "\t\tlabel_scores_new_dict[f\"{lang}-{label}\"] = label_scores[lang][label]\n",
    "\n",
    "label_scores_new_dict"
   ]
  },
  {
   "cell_type": "code",
   "execution_count": 76,
   "metadata": {},
   "outputs": [
    {
     "data": {
      "text/html": [
       "<div>\n",
       "<style scoped>\n",
       "    .dataframe tbody tr th:only-of-type {\n",
       "        vertical-align: middle;\n",
       "    }\n",
       "\n",
       "    .dataframe tbody tr th {\n",
       "        vertical-align: top;\n",
       "    }\n",
       "\n",
       "    .dataframe thead th {\n",
       "        text-align: right;\n",
       "    }\n",
       "</style>\n",
       "<table border=\"1\" class=\"dataframe\">\n",
       "  <thead>\n",
       "    <tr style=\"text-align: right;\">\n",
       "      <th></th>\n",
       "      <th>label</th>\n",
       "      <th>F1</th>\n",
       "    </tr>\n",
       "  </thead>\n",
       "  <tbody>\n",
       "    <tr>\n",
       "      <th>0</th>\n",
       "      <td>mt-News</td>\n",
       "      <td>0.692308</td>\n",
       "    </tr>\n",
       "    <tr>\n",
       "      <th>1</th>\n",
       "      <td>mt-Opinion/Argumentation</td>\n",
       "      <td>0.333333</td>\n",
       "    </tr>\n",
       "    <tr>\n",
       "      <th>2</th>\n",
       "      <td>mt-Instruction</td>\n",
       "      <td>0.689655</td>\n",
       "    </tr>\n",
       "    <tr>\n",
       "      <th>3</th>\n",
       "      <td>mt-Information/Explanation</td>\n",
       "      <td>0.521739</td>\n",
       "    </tr>\n",
       "    <tr>\n",
       "      <th>4</th>\n",
       "      <td>mt-Promotion</td>\n",
       "      <td>0.818182</td>\n",
       "    </tr>\n",
       "    <tr>\n",
       "      <th>...</th>\n",
       "      <td>...</td>\n",
       "      <td>...</td>\n",
       "    </tr>\n",
       "    <tr>\n",
       "      <th>75</th>\n",
       "      <td>sl-Information/Explanation</td>\n",
       "      <td>0.900000</td>\n",
       "    </tr>\n",
       "    <tr>\n",
       "      <th>76</th>\n",
       "      <td>sl-Promotion</td>\n",
       "      <td>1.000000</td>\n",
       "    </tr>\n",
       "    <tr>\n",
       "      <th>77</th>\n",
       "      <td>sl-Forum</td>\n",
       "      <td>1.000000</td>\n",
       "    </tr>\n",
       "    <tr>\n",
       "      <th>78</th>\n",
       "      <td>sl-Prose/Lyrical</td>\n",
       "      <td>0.909091</td>\n",
       "    </tr>\n",
       "    <tr>\n",
       "      <th>79</th>\n",
       "      <td>sl-Legal</td>\n",
       "      <td>0.952381</td>\n",
       "    </tr>\n",
       "  </tbody>\n",
       "</table>\n",
       "<p>80 rows × 2 columns</p>\n",
       "</div>"
      ],
      "text/plain": [
       "                         label        F1\n",
       "0                      mt-News  0.692308\n",
       "1     mt-Opinion/Argumentation  0.333333\n",
       "2               mt-Instruction  0.689655\n",
       "3   mt-Information/Explanation  0.521739\n",
       "4                 mt-Promotion  0.818182\n",
       "..                         ...       ...\n",
       "75  sl-Information/Explanation  0.900000\n",
       "76                sl-Promotion  1.000000\n",
       "77                    sl-Forum  1.000000\n",
       "78            sl-Prose/Lyrical  0.909091\n",
       "79                    sl-Legal  0.952381\n",
       "\n",
       "[80 rows x 2 columns]"
      ]
     },
     "execution_count": 76,
     "metadata": {},
     "output_type": "execute_result"
    }
   ],
   "source": [
    "label_scores_df = pd.DataFrame({\"label\":list(label_scores_new_dict.keys()), \"F1\": list(label_scores_new_dict.values())})\n",
    "label_scores_df"
   ]
  },
  {
   "cell_type": "code",
   "execution_count": 77,
   "metadata": {},
   "outputs": [
    {
     "data": {
      "text/html": [
       "<div>\n",
       "<style scoped>\n",
       "    .dataframe tbody tr th:only-of-type {\n",
       "        vertical-align: middle;\n",
       "    }\n",
       "\n",
       "    .dataframe tbody tr th {\n",
       "        vertical-align: top;\n",
       "    }\n",
       "\n",
       "    .dataframe thead th {\n",
       "        text-align: right;\n",
       "    }\n",
       "</style>\n",
       "<table border=\"1\" class=\"dataframe\">\n",
       "  <thead>\n",
       "    <tr style=\"text-align: right;\">\n",
       "      <th></th>\n",
       "      <th>label</th>\n",
       "      <th>overlap</th>\n",
       "    </tr>\n",
       "  </thead>\n",
       "  <tbody>\n",
       "    <tr>\n",
       "      <th>0</th>\n",
       "      <td>mt-Information/Explanation</td>\n",
       "      <td>0.860995</td>\n",
       "    </tr>\n",
       "    <tr>\n",
       "      <th>1</th>\n",
       "      <td>mt-News</td>\n",
       "      <td>0.869376</td>\n",
       "    </tr>\n",
       "    <tr>\n",
       "      <th>2</th>\n",
       "      <td>mt-Instruction</td>\n",
       "      <td>0.839773</td>\n",
       "    </tr>\n",
       "    <tr>\n",
       "      <th>3</th>\n",
       "      <td>mt-Opinion/Argumentation</td>\n",
       "      <td>0.840929</td>\n",
       "    </tr>\n",
       "    <tr>\n",
       "      <th>4</th>\n",
       "      <td>mt-Forum</td>\n",
       "      <td>0.736739</td>\n",
       "    </tr>\n",
       "    <tr>\n",
       "      <th>...</th>\n",
       "      <td>...</td>\n",
       "      <td>...</td>\n",
       "    </tr>\n",
       "    <tr>\n",
       "      <th>74</th>\n",
       "      <td>sl-Opinion/Argumentation</td>\n",
       "      <td>0.887936</td>\n",
       "    </tr>\n",
       "    <tr>\n",
       "      <th>75</th>\n",
       "      <td>sl-Forum</td>\n",
       "      <td>0.814320</td>\n",
       "    </tr>\n",
       "    <tr>\n",
       "      <th>76</th>\n",
       "      <td>sl-Prose/Lyrical</td>\n",
       "      <td>0.839646</td>\n",
       "    </tr>\n",
       "    <tr>\n",
       "      <th>77</th>\n",
       "      <td>sl-Legal</td>\n",
       "      <td>0.825265</td>\n",
       "    </tr>\n",
       "    <tr>\n",
       "      <th>78</th>\n",
       "      <td>sl-Promotion</td>\n",
       "      <td>0.858375</td>\n",
       "    </tr>\n",
       "  </tbody>\n",
       "</table>\n",
       "<p>79 rows × 2 columns</p>\n",
       "</div>"
      ],
      "text/plain": [
       "                         label   overlap\n",
       "0   mt-Information/Explanation  0.860995\n",
       "1                      mt-News  0.869376\n",
       "2               mt-Instruction  0.839773\n",
       "3     mt-Opinion/Argumentation  0.840929\n",
       "4                     mt-Forum  0.736739\n",
       "..                         ...       ...\n",
       "74    sl-Opinion/Argumentation  0.887936\n",
       "75                    sl-Forum  0.814320\n",
       "76            sl-Prose/Lyrical  0.839646\n",
       "77                    sl-Legal  0.825265\n",
       "78                sl-Promotion  0.858375\n",
       "\n",
       "[79 rows x 2 columns]"
      ]
     },
     "execution_count": 77,
     "metadata": {},
     "output_type": "execute_result"
    }
   ],
   "source": [
    "# Get label-level overlap percentages\n",
    "label_overlap = pd.read_csv(\"datasets/label-level-English-world-overlap.csv\", index_col = 0)\n",
    "label_overlap"
   ]
  },
  {
   "cell_type": "code",
   "execution_count": 78,
   "metadata": {},
   "outputs": [
    {
     "data": {
      "text/html": [
       "<div>\n",
       "<style scoped>\n",
       "    .dataframe tbody tr th:only-of-type {\n",
       "        vertical-align: middle;\n",
       "    }\n",
       "\n",
       "    .dataframe tbody tr th {\n",
       "        vertical-align: top;\n",
       "    }\n",
       "\n",
       "    .dataframe thead th {\n",
       "        text-align: right;\n",
       "    }\n",
       "</style>\n",
       "<table border=\"1\" class=\"dataframe\">\n",
       "  <thead>\n",
       "    <tr style=\"text-align: right;\">\n",
       "      <th></th>\n",
       "      <th>label</th>\n",
       "      <th>overlap</th>\n",
       "      <th>F1</th>\n",
       "    </tr>\n",
       "  </thead>\n",
       "  <tbody>\n",
       "    <tr>\n",
       "      <th>0</th>\n",
       "      <td>mt-Information/Explanation</td>\n",
       "      <td>0.860995</td>\n",
       "      <td>0.521739</td>\n",
       "    </tr>\n",
       "    <tr>\n",
       "      <th>1</th>\n",
       "      <td>mt-News</td>\n",
       "      <td>0.869376</td>\n",
       "      <td>0.692308</td>\n",
       "    </tr>\n",
       "    <tr>\n",
       "      <th>2</th>\n",
       "      <td>mt-Instruction</td>\n",
       "      <td>0.839773</td>\n",
       "      <td>0.689655</td>\n",
       "    </tr>\n",
       "    <tr>\n",
       "      <th>3</th>\n",
       "      <td>mt-Opinion/Argumentation</td>\n",
       "      <td>0.840929</td>\n",
       "      <td>0.333333</td>\n",
       "    </tr>\n",
       "    <tr>\n",
       "      <th>4</th>\n",
       "      <td>mt-Forum</td>\n",
       "      <td>0.736739</td>\n",
       "      <td>0.181818</td>\n",
       "    </tr>\n",
       "    <tr>\n",
       "      <th>...</th>\n",
       "      <td>...</td>\n",
       "      <td>...</td>\n",
       "      <td>...</td>\n",
       "    </tr>\n",
       "    <tr>\n",
       "      <th>74</th>\n",
       "      <td>sl-Opinion/Argumentation</td>\n",
       "      <td>0.887936</td>\n",
       "      <td>0.823529</td>\n",
       "    </tr>\n",
       "    <tr>\n",
       "      <th>75</th>\n",
       "      <td>sl-Forum</td>\n",
       "      <td>0.814320</td>\n",
       "      <td>1.000000</td>\n",
       "    </tr>\n",
       "    <tr>\n",
       "      <th>76</th>\n",
       "      <td>sl-Prose/Lyrical</td>\n",
       "      <td>0.839646</td>\n",
       "      <td>0.909091</td>\n",
       "    </tr>\n",
       "    <tr>\n",
       "      <th>77</th>\n",
       "      <td>sl-Legal</td>\n",
       "      <td>0.825265</td>\n",
       "      <td>0.952381</td>\n",
       "    </tr>\n",
       "    <tr>\n",
       "      <th>78</th>\n",
       "      <td>sl-Promotion</td>\n",
       "      <td>0.858375</td>\n",
       "      <td>1.000000</td>\n",
       "    </tr>\n",
       "  </tbody>\n",
       "</table>\n",
       "<p>79 rows × 3 columns</p>\n",
       "</div>"
      ],
      "text/plain": [
       "                         label   overlap        F1\n",
       "0   mt-Information/Explanation  0.860995  0.521739\n",
       "1                      mt-News  0.869376  0.692308\n",
       "2               mt-Instruction  0.839773  0.689655\n",
       "3     mt-Opinion/Argumentation  0.840929  0.333333\n",
       "4                     mt-Forum  0.736739  0.181818\n",
       "..                         ...       ...       ...\n",
       "74    sl-Opinion/Argumentation  0.887936  0.823529\n",
       "75                    sl-Forum  0.814320  1.000000\n",
       "76            sl-Prose/Lyrical  0.839646  0.909091\n",
       "77                    sl-Legal  0.825265  0.952381\n",
       "78                sl-Promotion  0.858375  1.000000\n",
       "\n",
       "[79 rows x 3 columns]"
      ]
     },
     "execution_count": 78,
     "metadata": {},
     "output_type": "execute_result"
    }
   ],
   "source": [
    "# Merge the two dfs\n",
    "label_merged = pd.merge(left=label_overlap, right=label_scores_df, on=\"label\")\n",
    "label_merged"
   ]
  },
  {
   "cell_type": "markdown",
   "metadata": {},
   "source": [
    "Plot in different colors for each of the labels"
   ]
  },
  {
   "cell_type": "code",
   "execution_count": 79,
   "metadata": {},
   "outputs": [
    {
     "data": {
      "text/html": [
       "<div>\n",
       "<style scoped>\n",
       "    .dataframe tbody tr th:only-of-type {\n",
       "        vertical-align: middle;\n",
       "    }\n",
       "\n",
       "    .dataframe tbody tr th {\n",
       "        vertical-align: top;\n",
       "    }\n",
       "\n",
       "    .dataframe thead th {\n",
       "        text-align: right;\n",
       "    }\n",
       "</style>\n",
       "<table border=\"1\" class=\"dataframe\">\n",
       "  <thead>\n",
       "    <tr style=\"text-align: right;\">\n",
       "      <th></th>\n",
       "      <th>label</th>\n",
       "      <th>overlap</th>\n",
       "      <th>F1</th>\n",
       "      <th>lang</th>\n",
       "      <th>genre</th>\n",
       "    </tr>\n",
       "  </thead>\n",
       "  <tbody>\n",
       "    <tr>\n",
       "      <th>0</th>\n",
       "      <td>mt-Information/Explanation</td>\n",
       "      <td>0.860995</td>\n",
       "      <td>0.521739</td>\n",
       "      <td>mt</td>\n",
       "      <td>Information/Explanation</td>\n",
       "    </tr>\n",
       "    <tr>\n",
       "      <th>1</th>\n",
       "      <td>mt-News</td>\n",
       "      <td>0.869376</td>\n",
       "      <td>0.692308</td>\n",
       "      <td>mt</td>\n",
       "      <td>News</td>\n",
       "    </tr>\n",
       "  </tbody>\n",
       "</table>\n",
       "</div>"
      ],
      "text/plain": [
       "                        label   overlap        F1 lang  \\\n",
       "0  mt-Information/Explanation  0.860995  0.521739   mt   \n",
       "1                     mt-News  0.869376  0.692308   mt   \n",
       "\n",
       "                     genre  \n",
       "0  Information/Explanation  \n",
       "1                     News  "
      ]
     },
     "execution_count": 79,
     "metadata": {},
     "output_type": "execute_result"
    }
   ],
   "source": [
    "# Add additional columns in the df with information on the labels and lang\n",
    "label_merged[\"lang\"] = label_merged[\"label\"].apply(lambda x: x.split(\"-\")[0])\n",
    "label_merged[\"genre\"] = label_merged[\"label\"].apply(lambda x: x.split(\"-\")[1])\n",
    "label_merged.head(2)"
   ]
  },
  {
   "cell_type": "code",
   "execution_count": 81,
   "metadata": {},
   "outputs": [
    {
     "data": {
      "text/html": [
       "<div>\n",
       "<style scoped>\n",
       "    .dataframe tbody tr th:only-of-type {\n",
       "        vertical-align: middle;\n",
       "    }\n",
       "\n",
       "    .dataframe tbody tr th {\n",
       "        vertical-align: top;\n",
       "    }\n",
       "\n",
       "    .dataframe thead th {\n",
       "        text-align: right;\n",
       "    }\n",
       "</style>\n",
       "<table border=\"1\" class=\"dataframe\">\n",
       "  <thead>\n",
       "    <tr style=\"text-align: right;\">\n",
       "      <th></th>\n",
       "      <th>label</th>\n",
       "      <th>overlap</th>\n",
       "      <th>F1</th>\n",
       "      <th>lang</th>\n",
       "      <th>genre</th>\n",
       "    </tr>\n",
       "  </thead>\n",
       "  <tbody>\n",
       "    <tr>\n",
       "      <th>6</th>\n",
       "      <td>mt-Promotion</td>\n",
       "      <td>0.836786</td>\n",
       "      <td>0.818182</td>\n",
       "      <td>mt</td>\n",
       "      <td>Promotion</td>\n",
       "    </tr>\n",
       "    <tr>\n",
       "      <th>1</th>\n",
       "      <td>mt-News</td>\n",
       "      <td>0.869376</td>\n",
       "      <td>0.692308</td>\n",
       "      <td>mt</td>\n",
       "      <td>News</td>\n",
       "    </tr>\n",
       "    <tr>\n",
       "      <th>2</th>\n",
       "      <td>mt-Instruction</td>\n",
       "      <td>0.839773</td>\n",
       "      <td>0.689655</td>\n",
       "      <td>mt</td>\n",
       "      <td>Instruction</td>\n",
       "    </tr>\n",
       "    <tr>\n",
       "      <th>0</th>\n",
       "      <td>mt-Information/Explanation</td>\n",
       "      <td>0.860995</td>\n",
       "      <td>0.521739</td>\n",
       "      <td>mt</td>\n",
       "      <td>Information/Explanation</td>\n",
       "    </tr>\n",
       "    <tr>\n",
       "      <th>3</th>\n",
       "      <td>mt-Opinion/Argumentation</td>\n",
       "      <td>0.840929</td>\n",
       "      <td>0.333333</td>\n",
       "      <td>mt</td>\n",
       "      <td>Opinion/Argumentation</td>\n",
       "    </tr>\n",
       "    <tr>\n",
       "      <th>4</th>\n",
       "      <td>mt-Forum</td>\n",
       "      <td>0.736739</td>\n",
       "      <td>0.181818</td>\n",
       "      <td>mt</td>\n",
       "      <td>Forum</td>\n",
       "    </tr>\n",
       "    <tr>\n",
       "      <th>5</th>\n",
       "      <td>mt-Prose/Lyrical</td>\n",
       "      <td>0.802846</td>\n",
       "      <td>0.181818</td>\n",
       "      <td>mt</td>\n",
       "      <td>Prose/Lyrical</td>\n",
       "    </tr>\n",
       "  </tbody>\n",
       "</table>\n",
       "</div>"
      ],
      "text/plain": [
       "                        label   overlap        F1 lang  \\\n",
       "6                mt-Promotion  0.836786  0.818182   mt   \n",
       "1                     mt-News  0.869376  0.692308   mt   \n",
       "2              mt-Instruction  0.839773  0.689655   mt   \n",
       "0  mt-Information/Explanation  0.860995  0.521739   mt   \n",
       "3    mt-Opinion/Argumentation  0.840929  0.333333   mt   \n",
       "4                    mt-Forum  0.736739  0.181818   mt   \n",
       "5            mt-Prose/Lyrical  0.802846  0.181818   mt   \n",
       "\n",
       "                     genre  \n",
       "6                Promotion  \n",
       "1                     News  \n",
       "2              Instruction  \n",
       "0  Information/Explanation  \n",
       "3    Opinion/Argumentation  \n",
       "4                    Forum  \n",
       "5            Prose/Lyrical  "
      ]
     },
     "execution_count": 81,
     "metadata": {},
     "output_type": "execute_result"
    }
   ],
   "source": [
    "label_merged[label_merged[\"lang\"] == \"mt\"].sort_values(by=\"F1\", ascending=False)"
   ]
  },
  {
   "cell_type": "code",
   "execution_count": 82,
   "metadata": {},
   "outputs": [],
   "source": [
    "# Extract vectors for each genre\n",
    "for label in ['Information/Explanation', 'News', 'Instruction','Opinion/Argumentation', 'Forum', 'Prose/Lyrical', 'Legal','Promotion']:\n",
    "\tcurrent_df = label_merged[label_merged[\"genre\"] == label]\n",
    "\tcurrent_overlap = current_df[\"overlap\"].to_list()\n",
    "\tcurrent_F1 = current_df[\"F1\"].to_list()"
   ]
  },
  {
   "cell_type": "code",
   "execution_count": 83,
   "metadata": {},
   "outputs": [
    {
     "data": {
      "image/png": "[encoded data removed]",
      "text/plain": [
       "<Figure size 640x480 with 1 Axes>"
      ]
     },
     "metadata": {},
     "output_type": "display_data"
    },
    {
     "name": "stdout",
     "output_type": "stream",
     "text": [
      "Pearsons correlation: 0.057\n",
      "p-value: 0.6175767031873804\n",
      "Spearmans correlation: -0.130\n",
      "p-value: 0.2531020459829333\n"
     ]
    }
   ],
   "source": [
    "# Analyse the correlation\n",
    "labels = list(main_dict.keys())\n",
    "analyse(label_merged[\"overlap\"].to_list(), label_merged[\"F1\"].to_list(), labels, x_name=\"Token Overlap (%)\", y_name=\"Macro F1\")"
   ]
  },
  {
   "cell_type": "code",
   "execution_count": 85,
   "metadata": {},
   "outputs": [
    {
     "data": {
      "text/plain": [
       "Text(0.5, 0, 'English Word (Label-level) Overlap (%)')"
      ]
     },
     "execution_count": 85,
     "metadata": {},
     "output_type": "execute_result"
    },
    {
     "data": {
      "image/png": "[encoded data removed]",
      "text/plain": [
       "<Figure size 640x480 with 1 Axes>"
      ]
     },
     "metadata": {},
     "output_type": "display_data"
    }
   ],
   "source": [
    "y = label_merged[\"F1\"]\n",
    "x = label_merged[\"overlap\"]\n",
    "\n",
    "\n",
    "# Define the criteria - based on which column will the instances be grouped\n",
    "groups = label_merged.groupby('genre')\n",
    "\n",
    "for name, group in groups:\n",
    "    plt.plot(group[\"overlap\"], group[\"F1\"], marker='o', linestyle='', markersize=8, label=name);\n",
    "\n",
    "plt.legend(framealpha=0.3)\n",
    "plt.ylabel(\"F1\")\n",
    "plt.xlabel(\"English Word (Label-level) Overlap (%)\")\n",
    "#plt.title('Correlation of token overlap (%) and F1 scores for each of the labels')"
   ]
  },
  {
   "cell_type": "markdown",
   "metadata": {},
   "source": [
    "# Correlation of lang2vec features and performance"
   ]
  },
  {
   "cell_type": "code",
   "execution_count": 7,
   "metadata": {},
   "outputs": [
    {
     "data": {
      "text/plain": [
       "{'syntax_knn': {'sl': {'similarity-to-sl': 1.0,\n",
       "   'similarity-to-en': 0.7071067811865476,\n",
       "   'avg_similarity': 0.8535533905932737},\n",
       "  'hr': {'similarity-to-sl': 0.9259259259259259,\n",
       "   'similarity-to-en': 0.7463904912524668,\n",
       "   'avg_similarity': 0.8361582085891963},\n",
       "  'sr': {'similarity-to-sl': 0.9819805060619657,\n",
       "   'similarity-to-en': 0.6943650748294136,\n",
       "   'avg_similarity': 0.8381727904456897},\n",
       "  'hbs': {'similarity-to-sl': 0.9629629629629629,\n",
       "   'similarity-to-en': 0.6678230711206282,\n",
       "   'avg_similarity': 0.8153930170417956},\n",
       "  'mk': {'similarity-to-sl': 0.9456108576893003,\n",
       "   'similarity-to-en': 0.7715167498104595,\n",
       "   'avg_similarity': 0.85856380374988},\n",
       "  'bg': {'similarity-to-sl': 0.8888888888888888,\n",
       "   'similarity-to-en': 0.7856742013183862,\n",
       "   'avg_similarity': 0.8372815451036375},\n",
       "  'is': {'similarity-to-sl': 0.7925939239012171,\n",
       "   'similarity-to-en': 0.8006407690254358,\n",
       "   'avg_similarity': 0.7966173464633264},\n",
       "  'tr': {'similarity-to-sl': 0.42339019740572553,\n",
       "   'similarity-to-en': 0.24494897427831783,\n",
       "   'avg_similarity': 0.33416958584202167},\n",
       "  'uk': {'similarity-to-sl': 0.9092412093166349,\n",
       "   'similarity-to-en': 0.7715167498104595,\n",
       "   'avg_similarity': 0.8403789795635472},\n",
       "  'ca': {'similarity-to-sl': 0.7637626158259733,\n",
       "   'similarity-to-en': 0.8100925873009825,\n",
       "   'avg_similarity': 0.7869276015634779},\n",
       "  'el': {'similarity-to-sl': 0.8132500607904443,\n",
       "   'similarity-to-en': 0.6900655593423543,\n",
       "   'avg_similarity': 0.7516578100663993},\n",
       "  'mt': {'similarity-to-sl': 0.6221710168382552,\n",
       "   'similarity-to-en': 0.5499266813300749,\n",
       "   'avg_similarity': 0.5860488490841651},\n",
       "  'sq': {'similarity-to-sl': 0.8365019125713041,\n",
       "   'similarity-to-en': 0.6943650748294136,\n",
       "   'avg_similarity': 0.7654334937003588}},\n",
       " 'inventory_knn': {'sl': {'similarity-to-sl': 1.0000000000000002,\n",
       "   'similarity-to-en': 0.6454972243679029,\n",
       "   'avg_similarity': 0.8227486121839516},\n",
       "  'hr': {'similarity-to-sl': 0.8017837257372733,\n",
       "   'similarity-to-en': 0.5520524474738834,\n",
       "   'avg_similarity': 0.6769180866055784},\n",
       "  'sr': {'similarity-to-sl': 0.7759402897989853,\n",
       "   'similarity-to-en': 0.6010407640085653,\n",
       "   'avg_similarity': 0.6884905269037753},\n",
       "  'hbs': {'similarity-to-sl': 0.8017837257372733,\n",
       "   'similarity-to-en': 0.5520524474738834,\n",
       "   'avg_similarity': 0.6769180866055784},\n",
       "  'mk': {'similarity-to-sl': 0.7235680511449365,\n",
       "   'similarity-to-en': 0.560473402386419,\n",
       "   'avg_similarity': 0.6420207267656777},\n",
       "  'bg': {'similarity-to-sl': 0.7302967433402214,\n",
       "   'similarity-to-en': 0.5303300858899106,\n",
       "   'avg_similarity': 0.630313414615066},\n",
       "  'is': {'similarity-to-sl': 0.6172133998483676,\n",
       "   'similarity-to-en': 0.6274950199005567,\n",
       "   'avg_similarity': 0.6223542098744621},\n",
       "  'tr': {'similarity-to-sl': 0.510688230856951,\n",
       "   'similarity-to-en': 0.5172935265326568,\n",
       "   'avg_similarity': 0.513990878694804},\n",
       "  'uk': {'similarity-to-sl': 0.681005224606999,\n",
       "   'similarity-to-en': 0.6264114497259976,\n",
       "   'avg_similarity': 0.6537083371664982},\n",
       "  'ca': {'similarity-to-sl': 0.7960029457578487,\n",
       "   'similarity-to-en': 0.6459422414661737,\n",
       "   'avg_similarity': 0.7209725936120113},\n",
       "  'el': {'similarity-to-sl': 0.6087807775281011,\n",
       "   'similarity-to-en': 0.47155956257150755,\n",
       "   'avg_similarity': 0.5401701700498043},\n",
       "  'mt': {'similarity-to-sl': 0.5477225575051661,\n",
       "   'similarity-to-en': 0.5303300858899106,\n",
       "   'avg_similarity': 0.5390263216975384},\n",
       "  'sq': {'similarity-to-sl': 0.6531972647421809,\n",
       "   'similarity-to-en': 0.600832755431992,\n",
       "   'avg_similarity': 0.6270150100870864}},\n",
       " 'fam': {'sl': {'similarity-to-sl': 0.9999999999999998,\n",
       "   'similarity-to-en': 0.14907119849998599,\n",
       "   'avg_similarity': 0.5745355992499929},\n",
       "  'hr': {'similarity-to-sl': 0.8451542547285165,\n",
       "   'similarity-to-en': 0.1259881576697424,\n",
       "   'avg_similarity': 0.4855712061991294},\n",
       "  'sr': {'similarity-to-sl': 0.8451542547285165,\n",
       "   'similarity-to-en': 0.1259881576697424,\n",
       "   'avg_similarity': 0.4855712061991294},\n",
       "  'hbs': {'similarity-to-sl': 0.9128709291752769,\n",
       "   'similarity-to-en': 0.13608276348795434,\n",
       "   'avg_similarity': 0.5244768463316156},\n",
       "  'mk': {'similarity-to-sl': 0.7302967433402214,\n",
       "   'similarity-to-en': 0.13608276348795434,\n",
       "   'avg_similarity': 0.4331897534140879},\n",
       "  'bg': {'similarity-to-sl': 0.7302967433402214,\n",
       "   'similarity-to-en': 0.13608276348795434,\n",
       "   'avg_similarity': 0.4331897534140879},\n",
       "  'is': {'similarity-to-sl': 0.18257418583505536,\n",
       "   'similarity-to-en': 0.4082482904638631,\n",
       "   'avg_similarity': 0.29541123814945924},\n",
       "  'tr': {'similarity-to-sl': 0.0,\n",
       "   'similarity-to-en': 0.0,\n",
       "   'avg_similarity': 0.0},\n",
       "  'uk': {'similarity-to-sl': 0.5999999999999999,\n",
       "   'similarity-to-en': 0.14907119849998599,\n",
       "   'avg_similarity': 0.3745355992499929},\n",
       "  'ca': {'similarity-to-sl': 0.14142135623730948,\n",
       "   'similarity-to-en': 0.10540925533894598,\n",
       "   'avg_similarity': 0.12341530578812773},\n",
       "  'el': {'similarity-to-sl': 0.19999999999999996,\n",
       "   'similarity-to-en': 0.14907119849998599,\n",
       "   'avg_similarity': 0.17453559924999296},\n",
       "  'mt': {'similarity-to-sl': 0.0,\n",
       "   'similarity-to-en': 0.0,\n",
       "   'avg_similarity': 0.0},\n",
       "  'sq': {'similarity-to-sl': 0.4472135954999579,\n",
       "   'similarity-to-en': 0.3333333333333333,\n",
       "   'avg_similarity': 0.3902734644166456}},\n",
       " 'inventory_average': {'sl': {'similarity-to-sl': 1.0000000000000002,\n",
       "   'similarity-to-en': 0.6454972243679029,\n",
       "   'avg_similarity': 0.8227486121839516},\n",
       "  'hr': {'similarity-to-sl': 0.8017837257372733,\n",
       "   'similarity-to-en': 0.5520524474738834,\n",
       "   'avg_similarity': 0.6769180866055784},\n",
       "  'sr': {'similarity-to-sl': nan,\n",
       "   'similarity-to-en': nan,\n",
       "   'avg_similarity': nan},\n",
       "  'hbs': {'similarity-to-sl': 0.8017837257372733,\n",
       "   'similarity-to-en': 0.5520524474738834,\n",
       "   'avg_similarity': 0.6769180866055784},\n",
       "  'mk': {'similarity-to-sl': 0.7235680511449365,\n",
       "   'similarity-to-en': 0.560473402386419,\n",
       "   'avg_similarity': 0.6420207267656777},\n",
       "  'bg': {'similarity-to-sl': 0.6933752452815364,\n",
       "   'similarity-to-en': 0.5549890273805603,\n",
       "   'avg_similarity': 0.6241821363310484},\n",
       "  'is': {'similarity-to-sl': 0.6172133998483676,\n",
       "   'similarity-to-en': 0.6274950199005567,\n",
       "   'avg_similarity': 0.6223542098744621},\n",
       "  'tr': {'similarity-to-sl': 0.584202135250686,\n",
       "   'similarity-to-en': 0.5363212185231927,\n",
       "   'avg_similarity': 0.5602616768869393},\n",
       "  'uk': {'similarity-to-sl': 0.681005224606999,\n",
       "   'similarity-to-en': 0.6264114497259976,\n",
       "   'avg_similarity': 0.6537083371664982},\n",
       "  'ca': {'similarity-to-sl': 0.7960029457578487,\n",
       "   'similarity-to-en': 0.6459422414661737,\n",
       "   'avg_similarity': 0.7209725936120113},\n",
       "  'el': {'similarity-to-sl': 0.6087807775281011,\n",
       "   'similarity-to-en': 0.47155956257150755,\n",
       "   'avg_similarity': 0.5401701700498043},\n",
       "  'mt': {'similarity-to-sl': 0.5477225575051661,\n",
       "   'similarity-to-en': 0.5303300858899106,\n",
       "   'avg_similarity': 0.5390263216975384},\n",
       "  'sq': {'similarity-to-sl': 0.6632213378317428,\n",
       "   'similarity-to-en': 0.6100532341145388,\n",
       "   'avg_similarity': 0.6366372859731408}},\n",
       " 'geo': {'sl': {'similarity-to-sl': 1.0000000000000002,\n",
       "   'similarity-to-en': 0.9961540669743272,\n",
       "   'avg_similarity': 0.9980770334871637},\n",
       "  'hr': {'similarity-to-sl': 0.9999176376303283,\n",
       "   'similarity-to-en': 0.9949679733969741,\n",
       "   'avg_similarity': 0.9974428055136512},\n",
       "  'sr': {'similarity-to-sl': 0.9992490424686066,\n",
       "   'similarity-to-en': 0.9923103650287053,\n",
       "   'avg_similarity': 0.995779703748656},\n",
       "  'hbs': {'similarity-to-sl': 0.9996367461201854,\n",
       "   'similarity-to-en': 0.9935127085796617,\n",
       "   'avg_similarity': 0.9965747273499235},\n",
       "  'mk': {'similarity-to-sl': 0.998774875601279,\n",
       "   'similarity-to-en': 0.9907199613927667,\n",
       "   'avg_similarity': 0.9947474184970229},\n",
       "  'bg': {'similarity-to-sl': 0.9984113976109594,\n",
       "   'similarity-to-en': 0.9901148525024216,\n",
       "   'avg_similarity': 0.9942631250566905},\n",
       "  'is': {'similarity-to-sl': 0.9836921996965524,\n",
       "   'similarity-to-en': 0.9949271162042915,\n",
       "   'avg_similarity': 0.9893096579504219},\n",
       "  'tr': {'similarity-to-sl': 0.994499675827028,\n",
       "   'similarity-to-en': 0.9824631469022703,\n",
       "   'avg_similarity': 0.9884814113646492},\n",
       "  'uk': {'similarity-to-sl': 0.9988011990312049,\n",
       "   'similarity-to-en': 0.9928379880080811,\n",
       "   'avg_similarity': 0.995819593519643},\n",
       "  'ca': {'similarity-to-sl': 0.9977769711127104,\n",
       "   'similarity-to-en': 0.9965855590716017,\n",
       "   'avg_similarity': 0.9971812650921561},\n",
       "  'el': {'similarity-to-sl': 0.9982500519058677,\n",
       "   'similarity-to-en': 0.9895490989197243,\n",
       "   'avg_similarity': 0.9938995754127959},\n",
       "  'mt': {'similarity-to-sl': 0.9972213003171322,\n",
       "   'similarity-to-en': 0.9895560757068907,\n",
       "   'avg_similarity': 0.9933886880120115},\n",
       "  'sq': {'similarity-to-sl': 0.9991851138014322,\n",
       "   'similarity-to-en': 0.9919001622055704,\n",
       "   'avg_similarity': 0.9955426380035013}}}"
      ]
     },
     "execution_count": 7,
     "metadata": {},
     "output_type": "execute_result"
    }
   ],
   "source": [
    "# Import the cosine similarity values for all features\n",
    "with open(\"datasets/lang2vec_cosine_similarities.json\", \"r\") as json_file:\n",
    "\tfeatures_dict = json.load(json_file)\n",
    "\n",
    "features_dict"
   ]
  },
  {
   "cell_type": "code",
   "execution_count": 8,
   "metadata": {},
   "outputs": [
    {
     "data": {
      "text/plain": [
       "dict_keys(['syntax_knn', 'inventory_knn', 'fam', 'inventory_average', 'geo'])"
      ]
     },
     "execution_count": 8,
     "metadata": {},
     "output_type": "execute_result"
    }
   ],
   "source": [
    "features_dict.keys()"
   ]
  },
  {
   "cell_type": "code",
   "execution_count": 9,
   "metadata": {},
   "outputs": [],
   "source": [
    "def feature_df(feature, main_dict=main_dict):\n",
    "\t# Get an array of macro F1 values\n",
    "\tmacro_F1_df = pd.DataFrame({\"macro_f1\":[main_dict[x][\"macro_f1\"] for x in list(main_dict.keys())], \"index\": list(main_dict.keys())})\n",
    "\n",
    "\t# Create a features df\n",
    "\tfeature_df = pd.DataFrame(features_dict[feature]).transpose()\n",
    "\tfeature_df.reset_index(inplace=True)\n",
    "\n",
    "\t# Add macro F1 scores to the features_df\n",
    "\tfeature_df = pd.merge(left=feature_df, right=macro_F1_df, on=\"index\")\n",
    "\n",
    "\treturn feature_df"
   ]
  },
  {
   "cell_type": "code",
   "execution_count": 10,
   "metadata": {},
   "outputs": [
    {
     "data": {
      "text/html": [
       "<div>\n",
       "<style scoped>\n",
       "    .dataframe tbody tr th:only-of-type {\n",
       "        vertical-align: middle;\n",
       "    }\n",
       "\n",
       "    .dataframe tbody tr th {\n",
       "        vertical-align: top;\n",
       "    }\n",
       "\n",
       "    .dataframe thead th {\n",
       "        text-align: right;\n",
       "    }\n",
       "</style>\n",
       "<table border=\"1\" class=\"dataframe\">\n",
       "  <thead>\n",
       "    <tr style=\"text-align: right;\">\n",
       "      <th></th>\n",
       "      <th>index</th>\n",
       "      <th>similarity-to-sl</th>\n",
       "      <th>similarity-to-en</th>\n",
       "      <th>avg_similarity</th>\n",
       "      <th>macro_f1</th>\n",
       "    </tr>\n",
       "  </thead>\n",
       "  <tbody>\n",
       "    <tr>\n",
       "      <th>0</th>\n",
       "      <td>sl</td>\n",
       "      <td>1.000000</td>\n",
       "      <td>0.707107</td>\n",
       "      <td>0.853553</td>\n",
       "      <td>0.935625</td>\n",
       "    </tr>\n",
       "    <tr>\n",
       "      <th>1</th>\n",
       "      <td>hr</td>\n",
       "      <td>0.925926</td>\n",
       "      <td>0.746390</td>\n",
       "      <td>0.836158</td>\n",
       "      <td>0.882916</td>\n",
       "    </tr>\n",
       "  </tbody>\n",
       "</table>\n",
       "</div>"
      ],
      "text/plain": [
       "  index  similarity-to-sl  similarity-to-en  avg_similarity  macro_f1\n",
       "0    sl          1.000000          0.707107        0.853553  0.935625\n",
       "1    hr          0.925926          0.746390        0.836158  0.882916"
      ]
     },
     "execution_count": 10,
     "metadata": {},
     "output_type": "execute_result"
    }
   ],
   "source": [
    "syntax_knn_df = feature_df(\"syntax_knn\")\n",
    "syntax_knn_df.head(2)"
   ]
  },
  {
   "cell_type": "markdown",
   "metadata": {},
   "source": [
    "Correlation for syntax_knn"
   ]
  },
  {
   "cell_type": "code",
   "execution_count": 11,
   "metadata": {},
   "outputs": [
    {
     "data": {
      "image/png": "[encoded data removed]",
      "text/plain": [
       "<Figure size 640x480 with 1 Axes>"
      ]
     },
     "metadata": {},
     "output_type": "display_data"
    },
    {
     "name": "stdout",
     "output_type": "stream",
     "text": [
      "Pearsons correlation: 0.438\n",
      "p-value: 0.20497930863233146\n",
      "Spearmans correlation: 0.648\n",
      "p-value: 0.04254012768448945\n"
     ]
    },
    {
     "data": {
      "image/png": "[encoded data removed]",
      "text/plain": [
       "<Figure size 640x480 with 1 Axes>"
      ]
     },
     "metadata": {},
     "output_type": "display_data"
    },
    {
     "name": "stdout",
     "output_type": "stream",
     "text": [
      "Pearsons correlation: 0.178\n",
      "p-value: 0.6233237154689231\n",
      "Spearmans correlation: 0.030\n",
      "p-value: 0.9335717251179997\n"
     ]
    },
    {
     "data": {
      "image/png": "[encoded data removed]",
      "text/plain": [
       "<Figure size 640x480 with 1 Axes>"
      ]
     },
     "metadata": {},
     "output_type": "display_data"
    },
    {
     "name": "stdout",
     "output_type": "stream",
     "text": [
      "Pearsons correlation: 0.322\n",
      "p-value: 0.3637020520832426\n",
      "Spearmans correlation: 0.588\n",
      "p-value: 0.07387770688865801\n"
     ]
    }
   ],
   "source": [
    "# Analyse the correlation\n",
    "labels = syntax_knn_df[\"index\"].to_list()\n",
    "analyse(syntax_knn_df[\"similarity-to-sl\"].to_list(), syntax_knn_df[\"macro_f1\"].to_list(), labels, x_name=\"Syntax (knn) - similarity to Slovenian\", y_name=\"Macro F1\")\n",
    "\n",
    "# Analyse the correlation\n",
    "labels = syntax_knn_df[\"index\"].to_list()\n",
    "analyse(syntax_knn_df[\"similarity-to-en\"].to_list(), syntax_knn_df[\"macro_f1\"].to_list(), labels, x_name=\"Syntax (knn) - similarity to English\", y_name=\"Macro F1\")\n",
    "\n",
    "# Analyse the correlation\n",
    "labels = syntax_knn_df[\"index\"].to_list()\n",
    "analyse(syntax_knn_df[\"avg_similarity\"].to_list(), syntax_knn_df[\"macro_f1\"].to_list(), labels, x_name=\"Syntax (knn) - avg similarity\", y_name=\"Macro F1\")"
   ]
  },
  {
   "cell_type": "code",
   "execution_count": 12,
   "metadata": {},
   "outputs": [
    {
     "data": {
      "text/html": [
       "<div>\n",
       "<style scoped>\n",
       "    .dataframe tbody tr th:only-of-type {\n",
       "        vertical-align: middle;\n",
       "    }\n",
       "\n",
       "    .dataframe tbody tr th {\n",
       "        vertical-align: top;\n",
       "    }\n",
       "\n",
       "    .dataframe thead th {\n",
       "        text-align: right;\n",
       "    }\n",
       "</style>\n",
       "<table border=\"1\" class=\"dataframe\">\n",
       "  <thead>\n",
       "    <tr style=\"text-align: right;\">\n",
       "      <th></th>\n",
       "      <th>index</th>\n",
       "      <th>similarity-to-sl</th>\n",
       "      <th>similarity-to-en</th>\n",
       "      <th>avg_similarity</th>\n",
       "      <th>macro_f1</th>\n",
       "    </tr>\n",
       "  </thead>\n",
       "  <tbody>\n",
       "    <tr>\n",
       "      <th>0</th>\n",
       "      <td>sl</td>\n",
       "      <td>1.000000</td>\n",
       "      <td>0.645497</td>\n",
       "      <td>0.822749</td>\n",
       "      <td>0.935625</td>\n",
       "    </tr>\n",
       "    <tr>\n",
       "      <th>1</th>\n",
       "      <td>hr</td>\n",
       "      <td>0.801784</td>\n",
       "      <td>0.552052</td>\n",
       "      <td>0.676918</td>\n",
       "      <td>0.882916</td>\n",
       "    </tr>\n",
       "    <tr>\n",
       "      <th>2</th>\n",
       "      <td>mk</td>\n",
       "      <td>0.723568</td>\n",
       "      <td>0.560473</td>\n",
       "      <td>0.642021</td>\n",
       "      <td>0.922638</td>\n",
       "    </tr>\n",
       "    <tr>\n",
       "      <th>3</th>\n",
       "      <td>is</td>\n",
       "      <td>0.617213</td>\n",
       "      <td>0.627495</td>\n",
       "      <td>0.622354</td>\n",
       "      <td>0.795338</td>\n",
       "    </tr>\n",
       "    <tr>\n",
       "      <th>4</th>\n",
       "      <td>tr</td>\n",
       "      <td>0.510688</td>\n",
       "      <td>0.517294</td>\n",
       "      <td>0.513991</td>\n",
       "      <td>0.899063</td>\n",
       "    </tr>\n",
       "    <tr>\n",
       "      <th>5</th>\n",
       "      <td>uk</td>\n",
       "      <td>0.681005</td>\n",
       "      <td>0.626411</td>\n",
       "      <td>0.653708</td>\n",
       "      <td>0.948327</td>\n",
       "    </tr>\n",
       "    <tr>\n",
       "      <th>6</th>\n",
       "      <td>ca</td>\n",
       "      <td>0.796003</td>\n",
       "      <td>0.645942</td>\n",
       "      <td>0.720973</td>\n",
       "      <td>0.827101</td>\n",
       "    </tr>\n",
       "    <tr>\n",
       "      <th>7</th>\n",
       "      <td>el</td>\n",
       "      <td>0.608781</td>\n",
       "      <td>0.471560</td>\n",
       "      <td>0.540170</td>\n",
       "      <td>0.843560</td>\n",
       "    </tr>\n",
       "    <tr>\n",
       "      <th>8</th>\n",
       "      <td>mt</td>\n",
       "      <td>0.547723</td>\n",
       "      <td>0.530330</td>\n",
       "      <td>0.539026</td>\n",
       "      <td>0.488408</td>\n",
       "    </tr>\n",
       "    <tr>\n",
       "      <th>9</th>\n",
       "      <td>sq</td>\n",
       "      <td>0.653197</td>\n",
       "      <td>0.600833</td>\n",
       "      <td>0.627015</td>\n",
       "      <td>0.854073</td>\n",
       "    </tr>\n",
       "  </tbody>\n",
       "</table>\n",
       "</div>"
      ],
      "text/plain": [
       "  index  similarity-to-sl  similarity-to-en  avg_similarity  macro_f1\n",
       "0    sl          1.000000          0.645497        0.822749  0.935625\n",
       "1    hr          0.801784          0.552052        0.676918  0.882916\n",
       "2    mk          0.723568          0.560473        0.642021  0.922638\n",
       "3    is          0.617213          0.627495        0.622354  0.795338\n",
       "4    tr          0.510688          0.517294        0.513991  0.899063\n",
       "5    uk          0.681005          0.626411        0.653708  0.948327\n",
       "6    ca          0.796003          0.645942        0.720973  0.827101\n",
       "7    el          0.608781          0.471560        0.540170  0.843560\n",
       "8    mt          0.547723          0.530330        0.539026  0.488408\n",
       "9    sq          0.653197          0.600833        0.627015  0.854073"
      ]
     },
     "execution_count": 12,
     "metadata": {},
     "output_type": "execute_result"
    }
   ],
   "source": [
    "inventory_knn_df = feature_df(\"inventory_knn\")\n",
    "\n",
    "inventory_knn_df"
   ]
  },
  {
   "cell_type": "markdown",
   "metadata": {},
   "source": [
    "correlation for inventory knn"
   ]
  },
  {
   "cell_type": "code",
   "execution_count": 13,
   "metadata": {},
   "outputs": [
    {
     "data": {
      "image/png": "[encoded data removed]",
      "text/plain": [
       "<Figure size 640x480 with 1 Axes>"
      ]
     },
     "metadata": {},
     "output_type": "display_data"
    },
    {
     "name": "stdout",
     "output_type": "stream",
     "text": [
      "Pearsons correlation: 0.446\n",
      "p-value: 0.19671506967293775\n",
      "Spearmans correlation: 0.430\n",
      "p-value: 0.21449233253280775\n"
     ]
    },
    {
     "data": {
      "image/png": "[encoded data removed]",
      "text/plain": [
       "<Figure size 640x480 with 1 Axes>"
      ]
     },
     "metadata": {},
     "output_type": "display_data"
    },
    {
     "name": "stdout",
     "output_type": "stream",
     "text": [
      "Pearsons correlation: 0.266\n",
      "p-value: 0.45833649113169456\n",
      "Spearmans correlation: 0.115\n",
      "p-value: 0.7514196523258483\n"
     ]
    },
    {
     "data": {
      "image/png": "[encoded data removed]",
      "text/plain": [
       "<Figure size 640x480 with 1 Axes>"
      ]
     },
     "metadata": {},
     "output_type": "display_data"
    },
    {
     "name": "stdout",
     "output_type": "stream",
     "text": [
      "Pearsons correlation: 0.431\n",
      "p-value: 0.2136116514226672\n",
      "Spearmans correlation: 0.418\n",
      "p-value: 0.22911284098281892\n"
     ]
    }
   ],
   "source": [
    "# Analyse the correlation\n",
    "labels = inventory_knn_df[\"index\"].to_list()\n",
    "analyse(inventory_knn_df[\"similarity-to-sl\"].to_list(), inventory_knn_df[\"macro_f1\"].to_list(), labels, x_name=\"Syntax (knn) - similarity to Slovenian\", y_name=\"Macro F1\")\n",
    "\n",
    "# Analyse the correlation\n",
    "labels = inventory_knn_df[\"index\"].to_list()\n",
    "analyse(inventory_knn_df[\"similarity-to-en\"].to_list(), inventory_knn_df[\"macro_f1\"].to_list(), labels, x_name=\"Syntax (knn) - similarity to English\", y_name=\"Macro F1\")\n",
    "\n",
    "# Analyse the correlation\n",
    "labels = inventory_knn_df[\"index\"].to_list()\n",
    "analyse(inventory_knn_df[\"avg_similarity\"].to_list(), inventory_knn_df[\"macro_f1\"].to_list(), labels, x_name=\"Syntax (knn) - avg similarity\", y_name=\"Macro F1\")"
   ]
  },
  {
   "cell_type": "code",
   "execution_count": 14,
   "metadata": {},
   "outputs": [
    {
     "data": {
      "text/html": [
       "<div>\n",
       "<style scoped>\n",
       "    .dataframe tbody tr th:only-of-type {\n",
       "        vertical-align: middle;\n",
       "    }\n",
       "\n",
       "    .dataframe tbody tr th {\n",
       "        vertical-align: top;\n",
       "    }\n",
       "\n",
       "    .dataframe thead th {\n",
       "        text-align: right;\n",
       "    }\n",
       "</style>\n",
       "<table border=\"1\" class=\"dataframe\">\n",
       "  <thead>\n",
       "    <tr style=\"text-align: right;\">\n",
       "      <th></th>\n",
       "      <th>index</th>\n",
       "      <th>similarity-to-sl</th>\n",
       "      <th>similarity-to-en</th>\n",
       "      <th>avg_similarity</th>\n",
       "      <th>macro_f1</th>\n",
       "    </tr>\n",
       "  </thead>\n",
       "  <tbody>\n",
       "    <tr>\n",
       "      <th>0</th>\n",
       "      <td>sl</td>\n",
       "      <td>1.000000</td>\n",
       "      <td>0.645497</td>\n",
       "      <td>0.822749</td>\n",
       "      <td>0.935625</td>\n",
       "    </tr>\n",
       "    <tr>\n",
       "      <th>1</th>\n",
       "      <td>hr</td>\n",
       "      <td>0.801784</td>\n",
       "      <td>0.552052</td>\n",
       "      <td>0.676918</td>\n",
       "      <td>0.882916</td>\n",
       "    </tr>\n",
       "    <tr>\n",
       "      <th>2</th>\n",
       "      <td>mk</td>\n",
       "      <td>0.723568</td>\n",
       "      <td>0.560473</td>\n",
       "      <td>0.642021</td>\n",
       "      <td>0.922638</td>\n",
       "    </tr>\n",
       "    <tr>\n",
       "      <th>3</th>\n",
       "      <td>is</td>\n",
       "      <td>0.617213</td>\n",
       "      <td>0.627495</td>\n",
       "      <td>0.622354</td>\n",
       "      <td>0.795338</td>\n",
       "    </tr>\n",
       "    <tr>\n",
       "      <th>4</th>\n",
       "      <td>tr</td>\n",
       "      <td>0.584202</td>\n",
       "      <td>0.536321</td>\n",
       "      <td>0.560262</td>\n",
       "      <td>0.899063</td>\n",
       "    </tr>\n",
       "    <tr>\n",
       "      <th>5</th>\n",
       "      <td>uk</td>\n",
       "      <td>0.681005</td>\n",
       "      <td>0.626411</td>\n",
       "      <td>0.653708</td>\n",
       "      <td>0.948327</td>\n",
       "    </tr>\n",
       "    <tr>\n",
       "      <th>6</th>\n",
       "      <td>ca</td>\n",
       "      <td>0.796003</td>\n",
       "      <td>0.645942</td>\n",
       "      <td>0.720973</td>\n",
       "      <td>0.827101</td>\n",
       "    </tr>\n",
       "    <tr>\n",
       "      <th>7</th>\n",
       "      <td>el</td>\n",
       "      <td>0.608781</td>\n",
       "      <td>0.471560</td>\n",
       "      <td>0.540170</td>\n",
       "      <td>0.843560</td>\n",
       "    </tr>\n",
       "    <tr>\n",
       "      <th>8</th>\n",
       "      <td>mt</td>\n",
       "      <td>0.547723</td>\n",
       "      <td>0.530330</td>\n",
       "      <td>0.539026</td>\n",
       "      <td>0.488408</td>\n",
       "    </tr>\n",
       "    <tr>\n",
       "      <th>9</th>\n",
       "      <td>sq</td>\n",
       "      <td>0.663221</td>\n",
       "      <td>0.610053</td>\n",
       "      <td>0.636637</td>\n",
       "      <td>0.854073</td>\n",
       "    </tr>\n",
       "  </tbody>\n",
       "</table>\n",
       "</div>"
      ],
      "text/plain": [
       "  index  similarity-to-sl  similarity-to-en  avg_similarity  macro_f1\n",
       "0    sl          1.000000          0.645497        0.822749  0.935625\n",
       "1    hr          0.801784          0.552052        0.676918  0.882916\n",
       "2    mk          0.723568          0.560473        0.642021  0.922638\n",
       "3    is          0.617213          0.627495        0.622354  0.795338\n",
       "4    tr          0.584202          0.536321        0.560262  0.899063\n",
       "5    uk          0.681005          0.626411        0.653708  0.948327\n",
       "6    ca          0.796003          0.645942        0.720973  0.827101\n",
       "7    el          0.608781          0.471560        0.540170  0.843560\n",
       "8    mt          0.547723          0.530330        0.539026  0.488408\n",
       "9    sq          0.663221          0.610053        0.636637  0.854073"
      ]
     },
     "execution_count": 14,
     "metadata": {},
     "output_type": "execute_result"
    }
   ],
   "source": [
    "inventory_average_df = feature_df(\"inventory_average\")\n",
    "inventory_average_df"
   ]
  },
  {
   "cell_type": "markdown",
   "metadata": {},
   "source": [
    "correlation for inventory_average"
   ]
  },
  {
   "cell_type": "code",
   "execution_count": 15,
   "metadata": {},
   "outputs": [
    {
     "data": {
      "image/png": "[encoded data removed]",
      "text/plain": [
       "<Figure size 640x480 with 1 Axes>"
      ]
     },
     "metadata": {},
     "output_type": "display_data"
    },
    {
     "name": "stdout",
     "output_type": "stream",
     "text": [
      "Pearsons correlation: 0.504\n",
      "p-value: 0.13753468326127025\n",
      "Spearmans correlation: 0.503\n",
      "p-value: 0.13833369839449197\n"
     ]
    },
    {
     "data": {
      "image/png": "[encoded data removed]",
      "text/plain": [
       "<Figure size 640x480 with 1 Axes>"
      ]
     },
     "metadata": {},
     "output_type": "display_data"
    },
    {
     "name": "stdout",
     "output_type": "stream",
     "text": [
      "Pearsons correlation: 0.290\n",
      "p-value: 0.4166540572518981\n",
      "Spearmans correlation: 0.188\n",
      "p-value: 0.603217610029209\n"
     ]
    },
    {
     "data": {
      "image/png": "[encoded data removed]",
      "text/plain": [
       "<Figure size 640x480 with 1 Axes>"
      ]
     },
     "metadata": {},
     "output_type": "display_data"
    },
    {
     "name": "stdout",
     "output_type": "stream",
     "text": [
      "Pearsons correlation: 0.488\n",
      "p-value: 0.15264450047949052\n",
      "Spearmans correlation: 0.527\n",
      "p-value: 0.11730806555020223\n"
     ]
    }
   ],
   "source": [
    "# Analyse the correlation\n",
    "labels = inventory_average_df[\"index\"].to_list()\n",
    "analyse(inventory_average_df[\"similarity-to-sl\"].to_list(), inventory_average_df[\"macro_f1\"].to_list(), labels, x_name=\"Syntax (knn) - similarity to Slovenian\", y_name=\"Macro F1\")\n",
    "\n",
    "# Analyse the correlation\n",
    "labels = inventory_average_df[\"index\"].to_list()\n",
    "analyse(inventory_average_df[\"similarity-to-en\"].to_list(), inventory_average_df[\"macro_f1\"].to_list(), labels, x_name=\"Syntax (knn) - similarity to English\", y_name=\"Macro F1\")\n",
    "\n",
    "# Analyse the correlation\n",
    "labels = inventory_average_df[\"index\"].to_list()\n",
    "analyse(inventory_average_df[\"avg_similarity\"].to_list(), inventory_average_df[\"macro_f1\"].to_list(), labels, x_name=\"Syntax (knn) - avg similarity\", y_name=\"Macro F1\")"
   ]
  },
  {
   "cell_type": "code",
   "execution_count": 16,
   "metadata": {},
   "outputs": [
    {
     "data": {
      "text/html": [
       "<div>\n",
       "<style scoped>\n",
       "    .dataframe tbody tr th:only-of-type {\n",
       "        vertical-align: middle;\n",
       "    }\n",
       "\n",
       "    .dataframe tbody tr th {\n",
       "        vertical-align: top;\n",
       "    }\n",
       "\n",
       "    .dataframe thead th {\n",
       "        text-align: right;\n",
       "    }\n",
       "</style>\n",
       "<table border=\"1\" class=\"dataframe\">\n",
       "  <thead>\n",
       "    <tr style=\"text-align: right;\">\n",
       "      <th></th>\n",
       "      <th>index</th>\n",
       "      <th>similarity-to-sl</th>\n",
       "      <th>similarity-to-en</th>\n",
       "      <th>avg_similarity</th>\n",
       "      <th>macro_f1</th>\n",
       "    </tr>\n",
       "  </thead>\n",
       "  <tbody>\n",
       "    <tr>\n",
       "      <th>0</th>\n",
       "      <td>sl</td>\n",
       "      <td>1.000000</td>\n",
       "      <td>0.149071</td>\n",
       "      <td>0.574536</td>\n",
       "      <td>0.935625</td>\n",
       "    </tr>\n",
       "    <tr>\n",
       "      <th>1</th>\n",
       "      <td>hr</td>\n",
       "      <td>0.845154</td>\n",
       "      <td>0.125988</td>\n",
       "      <td>0.485571</td>\n",
       "      <td>0.882916</td>\n",
       "    </tr>\n",
       "    <tr>\n",
       "      <th>2</th>\n",
       "      <td>mk</td>\n",
       "      <td>0.730297</td>\n",
       "      <td>0.136083</td>\n",
       "      <td>0.433190</td>\n",
       "      <td>0.922638</td>\n",
       "    </tr>\n",
       "    <tr>\n",
       "      <th>3</th>\n",
       "      <td>is</td>\n",
       "      <td>0.182574</td>\n",
       "      <td>0.408248</td>\n",
       "      <td>0.295411</td>\n",
       "      <td>0.795338</td>\n",
       "    </tr>\n",
       "    <tr>\n",
       "      <th>4</th>\n",
       "      <td>tr</td>\n",
       "      <td>0.000000</td>\n",
       "      <td>0.000000</td>\n",
       "      <td>0.000000</td>\n",
       "      <td>0.899063</td>\n",
       "    </tr>\n",
       "    <tr>\n",
       "      <th>5</th>\n",
       "      <td>uk</td>\n",
       "      <td>0.600000</td>\n",
       "      <td>0.149071</td>\n",
       "      <td>0.374536</td>\n",
       "      <td>0.948327</td>\n",
       "    </tr>\n",
       "    <tr>\n",
       "      <th>6</th>\n",
       "      <td>ca</td>\n",
       "      <td>0.141421</td>\n",
       "      <td>0.105409</td>\n",
       "      <td>0.123415</td>\n",
       "      <td>0.827101</td>\n",
       "    </tr>\n",
       "    <tr>\n",
       "      <th>7</th>\n",
       "      <td>el</td>\n",
       "      <td>0.200000</td>\n",
       "      <td>0.149071</td>\n",
       "      <td>0.174536</td>\n",
       "      <td>0.843560</td>\n",
       "    </tr>\n",
       "    <tr>\n",
       "      <th>8</th>\n",
       "      <td>mt</td>\n",
       "      <td>0.000000</td>\n",
       "      <td>0.000000</td>\n",
       "      <td>0.000000</td>\n",
       "      <td>0.488408</td>\n",
       "    </tr>\n",
       "    <tr>\n",
       "      <th>9</th>\n",
       "      <td>sq</td>\n",
       "      <td>0.447214</td>\n",
       "      <td>0.333333</td>\n",
       "      <td>0.390273</td>\n",
       "      <td>0.854073</td>\n",
       "    </tr>\n",
       "  </tbody>\n",
       "</table>\n",
       "</div>"
      ],
      "text/plain": [
       "  index  similarity-to-sl  similarity-to-en  avg_similarity  macro_f1\n",
       "0    sl          1.000000          0.149071        0.574536  0.935625\n",
       "1    hr          0.845154          0.125988        0.485571  0.882916\n",
       "2    mk          0.730297          0.136083        0.433190  0.922638\n",
       "3    is          0.182574          0.408248        0.295411  0.795338\n",
       "4    tr          0.000000          0.000000        0.000000  0.899063\n",
       "5    uk          0.600000          0.149071        0.374536  0.948327\n",
       "6    ca          0.141421          0.105409        0.123415  0.827101\n",
       "7    el          0.200000          0.149071        0.174536  0.843560\n",
       "8    mt          0.000000          0.000000        0.000000  0.488408\n",
       "9    sq          0.447214          0.333333        0.390273  0.854073"
      ]
     },
     "execution_count": 16,
     "metadata": {},
     "output_type": "execute_result"
    }
   ],
   "source": [
    "fam_df = feature_df(\"fam\")\n",
    "fam_df"
   ]
  },
  {
   "cell_type": "code",
   "execution_count": 17,
   "metadata": {},
   "outputs": [
    {
     "data": {
      "image/png": "[encoded data removed]",
      "text/plain": [
       "<Figure size 640x480 with 1 Axes>"
      ]
     },
     "metadata": {},
     "output_type": "display_data"
    },
    {
     "name": "stdout",
     "output_type": "stream",
     "text": [
      "Pearsons correlation: 0.589\n",
      "p-value: 0.07293026480754324\n",
      "Spearmans correlation: 0.663\n",
      "p-value: 0.03680640234866444\n"
     ]
    },
    {
     "data": {
      "image/png": "[encoded data removed]",
      "text/plain": [
       "<Figure size 640x480 with 1 Axes>"
      ]
     },
     "metadata": {},
     "output_type": "display_data"
    },
    {
     "name": "stdout",
     "output_type": "stream",
     "text": [
      "Pearsons correlation: 0.216\n",
      "p-value: 0.5485041938559941\n",
      "Spearmans correlation: 0.105\n",
      "p-value: 0.7736158139144371\n"
     ]
    },
    {
     "data": {
      "image/png": "[encoded data removed]",
      "text/plain": [
       "<Figure size 640x480 with 1 Axes>"
      ]
     },
     "metadata": {},
     "output_type": "display_data"
    },
    {
     "name": "stdout",
     "output_type": "stream",
     "text": [
      "Pearsons correlation: 0.598\n",
      "p-value: 0.06771962475808203\n",
      "Spearmans correlation: 0.578\n",
      "p-value: 0.08041257910277316\n"
     ]
    }
   ],
   "source": [
    "# Analyse the correlation\n",
    "labels = fam_df[\"index\"].to_list()\n",
    "analyse(fam_df[\"similarity-to-sl\"].to_list(), fam_df[\"macro_f1\"].to_list(), labels, x_name=\"Syntax (knn) - similarity to Slovenian\", y_name=\"Macro F1\")\n",
    "\n",
    "# Analyse the correlation\n",
    "labels = fam_df[\"index\"].to_list()\n",
    "analyse(fam_df[\"similarity-to-en\"].to_list(), fam_df[\"macro_f1\"].to_list(), labels, x_name=\"Syntax (knn) - similarity to English\", y_name=\"Macro F1\")\n",
    "\n",
    "# Analyse the correlation\n",
    "labels = fam_df[\"index\"].to_list()\n",
    "analyse(fam_df[\"avg_similarity\"].to_list(), fam_df[\"macro_f1\"].to_list(), labels, x_name=\"Syntax (knn) - avg similarity\", y_name=\"Macro F1\")"
   ]
  },
  {
   "cell_type": "code",
   "execution_count": 18,
   "metadata": {},
   "outputs": [
    {
     "data": {
      "text/html": [
       "<div>\n",
       "<style scoped>\n",
       "    .dataframe tbody tr th:only-of-type {\n",
       "        vertical-align: middle;\n",
       "    }\n",
       "\n",
       "    .dataframe tbody tr th {\n",
       "        vertical-align: top;\n",
       "    }\n",
       "\n",
       "    .dataframe thead th {\n",
       "        text-align: right;\n",
       "    }\n",
       "</style>\n",
       "<table border=\"1\" class=\"dataframe\">\n",
       "  <thead>\n",
       "    <tr style=\"text-align: right;\">\n",
       "      <th></th>\n",
       "      <th>index</th>\n",
       "      <th>similarity-to-sl</th>\n",
       "      <th>similarity-to-en</th>\n",
       "      <th>avg_similarity</th>\n",
       "      <th>macro_f1</th>\n",
       "    </tr>\n",
       "  </thead>\n",
       "  <tbody>\n",
       "    <tr>\n",
       "      <th>0</th>\n",
       "      <td>sl</td>\n",
       "      <td>1.000000</td>\n",
       "      <td>0.996154</td>\n",
       "      <td>0.998077</td>\n",
       "      <td>0.935625</td>\n",
       "    </tr>\n",
       "    <tr>\n",
       "      <th>1</th>\n",
       "      <td>hr</td>\n",
       "      <td>0.999918</td>\n",
       "      <td>0.994968</td>\n",
       "      <td>0.997443</td>\n",
       "      <td>0.882916</td>\n",
       "    </tr>\n",
       "    <tr>\n",
       "      <th>2</th>\n",
       "      <td>mk</td>\n",
       "      <td>0.998775</td>\n",
       "      <td>0.990720</td>\n",
       "      <td>0.994747</td>\n",
       "      <td>0.922638</td>\n",
       "    </tr>\n",
       "    <tr>\n",
       "      <th>3</th>\n",
       "      <td>is</td>\n",
       "      <td>0.983692</td>\n",
       "      <td>0.994927</td>\n",
       "      <td>0.989310</td>\n",
       "      <td>0.795338</td>\n",
       "    </tr>\n",
       "    <tr>\n",
       "      <th>4</th>\n",
       "      <td>tr</td>\n",
       "      <td>0.994500</td>\n",
       "      <td>0.982463</td>\n",
       "      <td>0.988481</td>\n",
       "      <td>0.899063</td>\n",
       "    </tr>\n",
       "    <tr>\n",
       "      <th>5</th>\n",
       "      <td>uk</td>\n",
       "      <td>0.998801</td>\n",
       "      <td>0.992838</td>\n",
       "      <td>0.995820</td>\n",
       "      <td>0.948327</td>\n",
       "    </tr>\n",
       "    <tr>\n",
       "      <th>6</th>\n",
       "      <td>ca</td>\n",
       "      <td>0.997777</td>\n",
       "      <td>0.996586</td>\n",
       "      <td>0.997181</td>\n",
       "      <td>0.827101</td>\n",
       "    </tr>\n",
       "    <tr>\n",
       "      <th>7</th>\n",
       "      <td>el</td>\n",
       "      <td>0.998250</td>\n",
       "      <td>0.989549</td>\n",
       "      <td>0.993900</td>\n",
       "      <td>0.843560</td>\n",
       "    </tr>\n",
       "    <tr>\n",
       "      <th>8</th>\n",
       "      <td>mt</td>\n",
       "      <td>0.997221</td>\n",
       "      <td>0.989556</td>\n",
       "      <td>0.993389</td>\n",
       "      <td>0.488408</td>\n",
       "    </tr>\n",
       "    <tr>\n",
       "      <th>9</th>\n",
       "      <td>sq</td>\n",
       "      <td>0.999185</td>\n",
       "      <td>0.991900</td>\n",
       "      <td>0.995543</td>\n",
       "      <td>0.854073</td>\n",
       "    </tr>\n",
       "  </tbody>\n",
       "</table>\n",
       "</div>"
      ],
      "text/plain": [
       "  index  similarity-to-sl  similarity-to-en  avg_similarity  macro_f1\n",
       "0    sl          1.000000          0.996154        0.998077  0.935625\n",
       "1    hr          0.999918          0.994968        0.997443  0.882916\n",
       "2    mk          0.998775          0.990720        0.994747  0.922638\n",
       "3    is          0.983692          0.994927        0.989310  0.795338\n",
       "4    tr          0.994500          0.982463        0.988481  0.899063\n",
       "5    uk          0.998801          0.992838        0.995820  0.948327\n",
       "6    ca          0.997777          0.996586        0.997181  0.827101\n",
       "7    el          0.998250          0.989549        0.993900  0.843560\n",
       "8    mt          0.997221          0.989556        0.993389  0.488408\n",
       "9    sq          0.999185          0.991900        0.995543  0.854073"
      ]
     },
     "execution_count": 18,
     "metadata": {},
     "output_type": "execute_result"
    }
   ],
   "source": [
    "geo_df = feature_df(\"geo\")\n",
    "geo_df"
   ]
  },
  {
   "cell_type": "code",
   "execution_count": 19,
   "metadata": {},
   "outputs": [
    {
     "data": {
      "image/png": "[encoded data removed]",
      "text/plain": [
       "<Figure size 640x480 with 1 Axes>"
      ]
     },
     "metadata": {},
     "output_type": "display_data"
    },
    {
     "name": "stdout",
     "output_type": "stream",
     "text": [
      "Pearsons correlation: 0.197\n",
      "p-value: 0.5859255977411909\n",
      "Spearmans correlation: 0.612\n",
      "p-value: 0.05997214247725524\n"
     ]
    },
    {
     "data": {
      "image/png": "[encoded data removed]",
      "text/plain": [
       "<Figure size 640x480 with 1 Axes>"
      ]
     },
     "metadata": {},
     "output_type": "display_data"
    },
    {
     "name": "stdout",
     "output_type": "stream",
     "text": [
      "Pearsons correlation: 0.120\n",
      "p-value: 0.741902890525256\n",
      "Spearmans correlation: 0.067\n",
      "p-value: 0.8548130882487426\n"
     ]
    },
    {
     "data": {
      "image/png": "[encoded data removed]",
      "text/plain": [
       "<Figure size 640x480 with 1 Axes>"
      ]
     },
     "metadata": {},
     "output_type": "display_data"
    },
    {
     "name": "stdout",
     "output_type": "stream",
     "text": [
      "Pearsons correlation: 0.224\n",
      "p-value: 0.533648240586378\n",
      "Spearmans correlation: 0.430\n",
      "p-value: 0.21449233253280775\n"
     ]
    }
   ],
   "source": [
    "# Analyse the correlation\n",
    "labels = geo_df[\"index\"].to_list()\n",
    "analyse(geo_df[\"similarity-to-sl\"].to_list(), geo_df[\"macro_f1\"].to_list(), labels, x_name=\"Syntax (knn) - similarity to Slovenian\", y_name=\"Macro F1\")\n",
    "\n",
    "# Analyse the correlation\n",
    "labels = geo_df[\"index\"].to_list()\n",
    "analyse(geo_df[\"similarity-to-en\"].to_list(), geo_df[\"macro_f1\"].to_list(), labels, x_name=\"Syntax (knn) - similarity to English\", y_name=\"Macro F1\")\n",
    "\n",
    "# Analyse the correlation\n",
    "labels = geo_df[\"index\"].to_list()\n",
    "analyse(geo_df[\"avg_similarity\"].to_list(), geo_df[\"macro_f1\"].to_list(), labels, x_name=\"Syntax (knn) - avg similarity\", y_name=\"Macro F1\")"
   ]
  }
 ],
 "metadata": {
  "kernelspec": {
   "display_name": "crosslingual_venv",
   "language": "python",
   "name": "python3"
  },
  "language_info": {
   "codemirror_mode": {
    "name": "ipython",
    "version": 3
   },
   "file_extension": ".py",
   "mimetype": "text/x-python",
   "name": "python",
   "nbconvert_exporter": "python",
   "pygments_lexer": "ipython3",
   "version": "3.12.2"
  }
 },
 "nbformat": 4,
 "nbformat_minor": 2
}
