{
 "cells": [
  {
   "cell_type": "markdown",
   "metadata": {},
   "source": [
    "Theory from https://machinelearningmastery.com/how-to-use-correlation-to-understand-the-relationship-between-variables/"
   ]
  },
  {
   "cell_type": "code",
   "execution_count": 7,
   "metadata": {},
   "outputs": [],
   "source": [
    "from matplotlib import pyplot\n",
    "import numpy as np\n",
    "import json\n",
    "from sklearn.preprocessing import MinMaxScaler\n",
    "import pandas as pd\n",
    "from evaluation import testing\n",
    "import json"
   ]
  },
  {
   "cell_type": "code",
   "execution_count": 2,
   "metadata": {},
   "outputs": [
    {
     "data": {
      "text/plain": [
       "dict_keys(['mt', 'el', 'tr', 'sq', 'is', 'uk', 'ca', 'mk', 'hr', 'sl'])"
      ]
     },
     "execution_count": 2,
     "metadata": {},
     "output_type": "execute_result"
    }
   ],
   "source": [
    "# Import the final dataset with test sets\n",
    "with open(\"manual-annotations/multilingual-genre-annotated-test-set.json\") as main_file:\n",
    "\tmain_dict = json.load(main_file)\n",
    "\n",
    "main_dict.keys()"
   ]
  },
  {
   "cell_type": "markdown",
   "metadata": {},
   "source": [
    "## Pearson Correlation"
   ]
  },
  {
   "cell_type": "markdown",
   "metadata": {},
   "source": [
    "At the core of many statistical analyses is the concept of linear relationships between variables. This is a relationship that is consistently additive across the two data samples.\n",
    "\n",
    "This relationship can be summarized between two variables, called the covariance. It is calculated as the average of the product between the values from each sample, where the values have been centred (by subtracting their respective means).\n",
    "\n",
    "The calculation of the sample covariance is as follows:\n",
    "\n",
    "cov(X, Y) = (sum (x - mean(X)) * (y - mean(Y)) ) * 1/(n-1)\n",
    "\n",
    "A problem with covariance as a statistical tool alone is that it is challenging to interpret. This leads us to Pearson’s correlation coefficient next."
   ]
  },
  {
   "cell_type": "markdown",
   "metadata": {},
   "source": [
    "Named after Karl Pearson, The Pearson correlation coefficient can be used to summarize the strength of the linear relationship between two data samples.\n",
    "\n",
    "Pearson’s correlation coefficient is calculated by dividing the covariance of the two variables by the product of their respective standard deviations. It is the normalization of the covariance between the two variables to give an interpretable score.\n",
    "\n",
    "Pearson's correlation coefficient = covariance(X, Y) / (stdv(X) * stdv(Y))\n",
    "The use of mean and standard deviation in the calculation suggests the need for the two data samples to have a Gaussian or Gaussian-like distribution.\n",
    "\n",
    "The result of the calculation, the correlation coefficient can be interpreted to understand the relationship.\n",
    "\n",
    "The coefficient returns a value between -1 and 1, symbolizing the full spectrum of correlation: from a complete negative correlation to a total positive correlation. A value of 0 means no correlation. The value must be interpreted, where often a value below -0.5 or above 0.5 indicates a notable correlation, and values below those values suggests a less notable correlation.\n",
    "\n",
    "Pearson’s correlation coefficient can be used to evaluate the relationship between more than two variables.\n",
    "\n",
    "This can be done by calculating a matrix of the relationships between each pair of variables in the dataset. The result is a symmetric matrix called a correlation matrix with a value of 1.0 along the diagonal as each column always perfectly correlates with itself."
   ]
  },
  {
   "cell_type": "code",
   "execution_count": 10,
   "metadata": {},
   "outputs": [],
   "source": [
    "from scipy.stats import pearsonr\n",
    "\n",
    "# calculate Pearson's correlation\n",
    "def pearson(macro_F1, factor):\n",
    "\tcorr, p = pearsonr(macro_F1, factor)\n",
    "\tprint('Pearsons correlation: %.3f' % corr)\n",
    "\tprint(f\"p-value: {p}\")"
   ]
  },
  {
   "cell_type": "markdown",
   "metadata": {},
   "source": [
    "## Spearman's Correlation"
   ]
  },
  {
   "cell_type": "markdown",
   "metadata": {},
   "source": [
    "While many data relationships can be linear, some may be nonlinear. These nonlinear relationships are stronger or weaker across the distribution of the variables. Further, the two variables being considered may have a non-Gaussian distribution.\n",
    "\n",
    "Named after Charles Spearman, Spearman’s correlation coefficient can be used to summarize the strength between the two data samples. This test of relationship can also be used if there is a linear relationship between the variables but will have slightly less power (e.g. may result in lower coefficient scores).\n",
    "\n",
    "As with the Pearson correlation coefficient, the scores are between -1 and 1 for perfectly negatively correlated variables and perfectly positively correlated respectively.\n",
    "\n",
    "Instead of directly working with the data samples, it operates on the relative ranks of data values. This is a common approach used in non-parametric statistics, e.g. statistical methods where we do not assume a distribution of the data such as Gaussian.\n",
    "\n",
    "Spearman's correlation coefficient = covariance(rank(X), rank(Y)) / (stdv(rank(X)) * stdv(rank(Y)))\n",
    "A linear relationship between the variables is not assumed, although a monotonic relationship is assumed. This is a mathematical name for an increasing or decreasing relationship between the two variables.\n",
    "\n",
    "If you are unsure of the distribution and possible relationships between two variables, the Spearman correlation coefficient is a good tool to use.\n",
    "\n",
    "As with the Pearson’s correlation coefficient, the coefficient can be calculated pair-wise for each variable in a dataset to give a correlation matrix for review."
   ]
  },
  {
   "cell_type": "code",
   "execution_count": 11,
   "metadata": {},
   "outputs": [],
   "source": [
    "from scipy.stats import spearmanr\n",
    "\n",
    "# calculate spearman's correlation\n",
    "def spearman(macro_F1, factor):\n",
    "\tcorr, p = spearmanr(macro_F1, factor)\n",
    "\tprint('Spearmans correlation: %.3f' % corr)\n",
    "\tprint(f\"p-value: {p}\")"
   ]
  },
  {
   "cell_type": "markdown",
   "metadata": {},
   "source": [
    "## Sizes in pretraining data"
   ]
  },
  {
   "cell_type": "code",
   "execution_count": 12,
   "metadata": {},
   "outputs": [],
   "source": [
    "# Add information on sizes in XLM-RoBERTa training set - for specific language and combined with very closely related language. Sizes are in M of tokens.\n",
    "sizes = {\n",
    "\t\"mt\": 0,\n",
    "\t\"el\": 4285, \n",
    "\t\"tr\": 2736,\n",
    "\t\"sq\": 918,\n",
    "\t\"is\": 505,\n",
    "\t\"uk\": 6500,\n",
    "\t\"ca\": 1752,\n",
    "\t\"mk\": 449,\n",
    "\t\"hr\": 3297 + 14 + 843, #added Bosnian, Serbian (in that order), \n",
    "\t\"sl\": 1669,}\n",
    "\n",
    "sizes_with_related = {\n",
    "\t\"mt\": 0 + 2869, # Central Semitic Arabic languages (Afro-Asiatic language family): Maltese, Arabic\n",
    "\t\"el\": 4285, # is a separate branch of Indo-European language family and has no direct descendants that could be added\n",
    "\t\"tr\": 2736 + 783,\n",
    "\t\"sq\": 918, # is a separate branch of Indo-European language family and has no direct descendants that could be added\n",
    "\t\"is\": 505 + 7823 + 8494 + 778, # North Germanic languages: Icelandic, Danish, Norwegian, Swedish\n",
    "\t\"uk\": 6500 + 362 + 23408, # East Slavic: Ukrainian, Belarusian, Russian\n",
    "\t\"ca\": 1752 + 9374 + 495 + 8405, # Ibero-Romance: Catalan, Spanish, Galician, Portuguese\n",
    "\t\"mk\": 449 + 5487, # Eastern South Slavic: Macedonian, Bulgarian \n",
    "\t\"hr\": 3297 + 1669 + 14 + 843, # Western South Slavic languages: Croatian, Slovenian, Bosnian, Serbian (in that order)\n",
    "\t\"sl\": 1669 + 3297 + 14 + 843 # Western South Slavic languages: Slovenian, Croatian, Bosnian, Serbian (in that order)\n",
    "\t}"
   ]
  },
  {
   "cell_type": "code",
   "execution_count": 13,
   "metadata": {},
   "outputs": [],
   "source": [
    "# Sizes in GB, from https://aclanthology.org/2020.acl-main.747.pdf\n",
    "\n",
    "sizes_mb = {\n",
    "\t\"mt\": 0,\n",
    "\t\"el\": 46.9,\n",
    "\t\"tr\": 20.9,\n",
    "\t\"sq\": 5.4,\n",
    "\t\"is\": 3.2,\n",
    "\t\"uk\": 84.6,\n",
    "\t\"ca\": 10.1,\n",
    "\t\"mk\": 4.8,\n",
    "\t\"hr\": 20.5 +0.1 + 9.1, #added Bosnian, Serbian (in that order), \n",
    "\t\"sl\": 10.3,\n",
    "\t}\n",
    "\n",
    "sizes_mb_with_related = {\n",
    "\t\"mt\": 0 + 28.0, # Central Semitic Arabic languages (Afro-Asiatic language family): Maltese, Arabic\n",
    "\t\"el\": 46.9, # is a separate branch of Indo-European language family and has no direct descendants that could be added\n",
    "\t\"tr\": 20.9 + 6.5, # Southern Turkic (Turkic language family): Turkish, Azerbaijani\n",
    "\t\"sq\": 5.4, # is a separate branch of Indo-European language family and has no direct descendants that could be added\n",
    "\t\"is\": 3.2 + 45.6 + 49.0 + 12.1, # North Germanic languages: Icelandic, Danish, Norwegian, Swedish\n",
    "\t\"uk\": 84.6 + 4.3 + 278.0, #East Slavic: Ukrainian, Belarusian, Russian\n",
    "\t\"ca\": 10.1 + 53.3 + 2.9 + 49.1, # Ibero-Romance: Catalan, Spanish, Galician, Portuguese\n",
    "\t\"mk\": 4.8 + 57.5, # Eastern South Slavic: Macedonian, Bulgarian\n",
    "\t\"hr\": 20.5 + 0.1 + 9.1 + 10.3, # Western South Slavic languages: Croatian, Bosnian, Serbian, Slovenian (in that order)\n",
    "\t\"sl\": 10.3 + 20.5 + 0.1 + 9.1 # Western South Slavic languages: Slovenian, Croatian, Bosnian, Serbian (in that order)\n",
    "\t}"
   ]
  },
  {
   "cell_type": "code",
   "execution_count": 14,
   "metadata": {},
   "outputs": [
    {
     "data": {
      "text/plain": [
       "[28.0, 46.9, 27.4, 5.4, 109.9, 366.9, 115.4, 62.3, 40.0, 40.0]"
      ]
     },
     "execution_count": 14,
     "metadata": {},
     "output_type": "execute_result"
    }
   ],
   "source": [
    "sizes_list = list(sizes.values())\n",
    "sizes_related_list = list(sizes_with_related.values())\n",
    "sizes_mb_list = list(sizes_mb.values())\n",
    "sizes_mb_related_list = list(sizes_mb_with_related.values())\n",
    "\n",
    "sizes_mb_related_list"
   ]
  },
  {
   "cell_type": "code",
   "execution_count": 27,
   "metadata": {},
   "outputs": [
    {
     "name": "stdout",
     "output_type": "stream",
     "text": [
      "[[0.06251729]\n",
      " [0.11479945]\n",
      " [0.06085754]\n",
      " [0.        ]\n",
      " [0.28907331]\n",
      " [1.        ]\n",
      " [0.30428769]\n",
      " [0.15739972]\n",
      " [0.09571231]\n",
      " [0.09571231]]\n"
     ]
    }
   ],
   "source": [
    "# Normalize the values using the min-max normalization\n",
    "# Min-max is a scaling technique where values are rescaled and shifted so that they range between 0 and 1 or between -1 and 1.\n",
    "\n",
    "def normalize(list):\n",
    "\tdata = np.array(list).reshape(-1, 1)\n",
    "\tscaler = MinMaxScaler()\n",
    "\tscaler.fit(data)\n",
    "\tnorm_list = scaler.transform(data)\n",
    "\n",
    "\treturn norm_list\n",
    "\n",
    "sizes_list_norm = normalize(sizes_list)\n",
    "sizes_related_list_norm = normalize(sizes_related_list)\n",
    "sizes_mb_list_norm = normalize(sizes_mb_list)\n",
    "sizes_mb_related_list_norm = normalize(sizes_mb_related_list)\n",
    "\n",
    "print(sizes_mb_related_list_norm)"
   ]
  },
  {
   "cell_type": "code",
   "execution_count": 21,
   "metadata": {},
   "outputs": [
    {
     "data": {
      "text/plain": [
       "[0.552356688788473,\n",
       " 0.8435600870783095,\n",
       " 0.8990631100925218,\n",
       " 0.866280284043442,\n",
       " 0.8104437496515837,\n",
       " 0.9483272575377839,\n",
       " 0.8271009954845262,\n",
       " 0.9226380344801398,\n",
       " 0.882915766854554,\n",
       " 0.935625159154571]"
      ]
     },
     "execution_count": 21,
     "metadata": {},
     "output_type": "execute_result"
    }
   ],
   "source": [
    "# Get an array of macro F1 values\n",
    "macro_F1 = [main_dict[x][\"macro_f1\"] for x in list(main_dict.keys())]\n",
    "macro_F1"
   ]
  },
  {
   "cell_type": "code",
   "execution_count": 19,
   "metadata": {},
   "outputs": [
    {
     "data": {
      "image/png": "[encoded data removed]",
      "text/plain": [
       "<Figure size 640x480 with 1 Axes>"
      ]
     },
     "metadata": {},
     "output_type": "display_data"
    }
   ],
   "source": [
    "# Show the values on a scatter plot\n",
    "# Normalized sizes (M of tokens)\n",
    "pyplot.scatter(macro_F1, sizes_list_norm)\n",
    "pyplot.show()"
   ]
  },
  {
   "cell_type": "code",
   "execution_count": 20,
   "metadata": {},
   "outputs": [
    {
     "data": {
      "image/png": "[encoded data removed]",
      "text/plain": [
       "<Figure size 640x480 with 1 Axes>"
      ]
     },
     "metadata": {},
     "output_type": "display_data"
    }
   ],
   "source": [
    "# Show the values on a scatter plot\n",
    "# Normalized sizes (M of tokens) with related languages\n",
    "pyplot.scatter(macro_F1, sizes_related_list_norm)\n",
    "pyplot.show()"
   ]
  },
  {
   "cell_type": "code",
   "execution_count": 21,
   "metadata": {},
   "outputs": [
    {
     "data": {
      "image/png": "[encoded data removed]",
      "text/plain": [
       "<Figure size 640x480 with 1 Axes>"
      ]
     },
     "metadata": {},
     "output_type": "display_data"
    }
   ],
   "source": [
    "# Show the values on a scatter plot\n",
    "# Normalized sizes (GB)\n",
    "pyplot.scatter(macro_F1, sizes_mb_list_norm)\n",
    "pyplot.show()"
   ]
  },
  {
   "cell_type": "code",
   "execution_count": 41,
   "metadata": {},
   "outputs": [
    {
     "data": {
      "image/png": "[encoded data removed]",
      "text/plain": [
       "<Figure size 640x480 with 1 Axes>"
      ]
     },
     "metadata": {},
     "output_type": "display_data"
    }
   ],
   "source": [
    "# Show the values on a scatter plot\n",
    "# Normalized sizes (GB)\n",
    "pyplot.scatter(macro_F1, sizes_mb_list)\n",
    "pyplot.show()"
   ]
  },
  {
   "cell_type": "code",
   "execution_count": 28,
   "metadata": {},
   "outputs": [
    {
     "data": {
      "image/png": "[encoded data removed]",
      "text/plain": [
       "<Figure size 640x480 with 1 Axes>"
      ]
     },
     "metadata": {},
     "output_type": "display_data"
    }
   ],
   "source": [
    "# Show the values on a scatter plot\n",
    "# Normalized sizes (GB) with related languages\n",
    "pyplot.scatter(macro_F1, sizes_mb_related_list_norm)\n",
    "pyplot.show()"
   ]
  },
  {
   "cell_type": "code",
   "execution_count": 42,
   "metadata": {},
   "outputs": [
    {
     "data": {
      "image/png": "[encoded data removed]",
      "text/plain": [
       "<Figure size 640x480 with 1 Axes>"
      ]
     },
     "metadata": {},
     "output_type": "display_data"
    }
   ],
   "source": [
    "# Show the values on a scatter plot\n",
    "# Normalized sizes (GB) with related languages\n",
    "pyplot.scatter(macro_F1, sizes_mb_related_list)\n",
    "pyplot.show()"
   ]
  },
  {
   "cell_type": "code",
   "execution_count": 45,
   "metadata": {},
   "outputs": [
    {
     "name": "stdout",
     "output_type": "stream",
     "text": [
      "Pearsons correlation: 0.483\n",
      "p-value: 0.15770106280572002\n",
      "Spearmans correlation: 0.442\n",
      "p-value: 0.20042268671194224\n",
      "\n",
      "\n",
      "Pearsons correlation: 0.240\n",
      "p-value: 0.5035757809014645\n",
      "Spearmans correlation: 0.280\n",
      "p-value: 0.433925839676929\n",
      "\n",
      "\n",
      "Pearsons correlation: 0.415\n",
      "p-value: 0.23343624750296876\n",
      "Spearmans correlation: 0.588\n",
      "p-value: 0.07387770688865801\n",
      "\n",
      "\n",
      "Pearsons correlation: 0.298\n",
      "p-value: 0.40378781012771897\n",
      "Spearmans correlation: 0.122\n",
      "p-value: 0.7379379712336098\n",
      "\n",
      "\n"
     ]
    }
   ],
   "source": [
    "# Calculate correlation\n",
    "for i in [sizes_list,sizes_related_list, sizes_mb_list, sizes_mb_related_list]:\n",
    "\tpearson(macro_F1, i)\n",
    "\tspearman(macro_F1, i)\n",
    "\tprint(\"\\n\")"
   ]
  },
  {
   "cell_type": "markdown",
   "metadata": {},
   "source": [
    "### Label-level correlation"
   ]
  },
  {
   "cell_type": "code",
   "execution_count": null,
   "metadata": {},
   "outputs": [],
   "source": [
    "# Extract label-level F1 scores\n",
    "label_scores = {}\n",
    "\n",
    "for lang in list(main_dict.keys()):\n",
    "\tdf = pd.DataFrame(main_dict[lang][\"dataset\"])\n",
    "\ty_true = df[\"y_true\"].to_list()\n",
    "\ty_pred = df[\"y_pred\"].to_list()\n",
    "\n",
    "\tlabels = list(df[\"y_true\"].unique())\n",
    "\n",
    "\tresults = testing(y_true, y_pred, labels)\n",
    "\n",
    "\tlabel_scores[lang] = {}\n",
    "\n",
    "\tfor label in labels:\n",
    "\t\tlabel_scores[lang][label] = results[\"report\"][label][\"f1-score\"]\n",
    "\n",
    "label_scores"
   ]
  },
  {
   "cell_type": "code",
   "execution_count": 8,
   "metadata": {},
   "outputs": [],
   "source": [
    "# Save the label-level scores\n",
    "with open(\"label-level-scores.json\", \"w\") as label_scores_file:\n",
    "\tjson.dump(label_scores, label_scores_file)"
   ]
  },
  {
   "cell_type": "code",
   "execution_count": 32,
   "metadata": {},
   "outputs": [
    {
     "data": {
      "text/html": [
       "<div>\n",
       "<style scoped>\n",
       "    .dataframe tbody tr th:only-of-type {\n",
       "        vertical-align: middle;\n",
       "    }\n",
       "\n",
       "    .dataframe tbody tr th {\n",
       "        vertical-align: top;\n",
       "    }\n",
       "\n",
       "    .dataframe thead th {\n",
       "        text-align: right;\n",
       "    }\n",
       "</style>\n",
       "<table border=\"1\" class=\"dataframe\">\n",
       "  <thead>\n",
       "    <tr style=\"text-align: right;\">\n",
       "      <th></th>\n",
       "      <th>sizes_gb</th>\n",
       "      <th>sizes_gb_related</th>\n",
       "      <th>label_scores</th>\n",
       "      <th>macro_f1</th>\n",
       "      <th>News_score</th>\n",
       "      <th>Instruction_score</th>\n",
       "      <th>Opinion/Argumentation_score</th>\n",
       "      <th>Promotion_score</th>\n",
       "      <th>Legal_score</th>\n",
       "      <th>Information/Explanation_score</th>\n",
       "      <th>Prose/Lyrical_score</th>\n",
       "      <th>Forum_score</th>\n",
       "    </tr>\n",
       "  </thead>\n",
       "  <tbody>\n",
       "    <tr>\n",
       "      <th>mt</th>\n",
       "      <td>0.0</td>\n",
       "      <td>28.0</td>\n",
       "      <td>{'News': 0.6923076923076923, 'Opinion/Argument...</td>\n",
       "      <td>0.552357</td>\n",
       "      <td>0.692308</td>\n",
       "      <td>0.689655</td>\n",
       "      <td>0.333333</td>\n",
       "      <td>0.818182</td>\n",
       "      <td>1.000000</td>\n",
       "      <td>0.521739</td>\n",
       "      <td>0.181818</td>\n",
       "      <td>0.181818</td>\n",
       "    </tr>\n",
       "    <tr>\n",
       "      <th>el</th>\n",
       "      <td>46.9</td>\n",
       "      <td>46.9</td>\n",
       "      <td>{'Instruction': 0.7058823529411764, 'Forum': 0...</td>\n",
       "      <td>0.843560</td>\n",
       "      <td>0.900000</td>\n",
       "      <td>0.705882</td>\n",
       "      <td>0.869565</td>\n",
       "      <td>0.625000</td>\n",
       "      <td>1.000000</td>\n",
       "      <td>0.695652</td>\n",
       "      <td>1.000000</td>\n",
       "      <td>0.952381</td>\n",
       "    </tr>\n",
       "    <tr>\n",
       "      <th>tr</th>\n",
       "      <td>20.9</td>\n",
       "      <td>27.4</td>\n",
       "      <td>{'Instruction': 0.9, 'Legal': 1.0, 'Opinion/Ar...</td>\n",
       "      <td>0.899063</td>\n",
       "      <td>0.952381</td>\n",
       "      <td>0.900000</td>\n",
       "      <td>0.818182</td>\n",
       "      <td>0.857143</td>\n",
       "      <td>1.000000</td>\n",
       "      <td>0.823529</td>\n",
       "      <td>0.952381</td>\n",
       "      <td>0.888889</td>\n",
       "    </tr>\n",
       "    <tr>\n",
       "      <th>sq</th>\n",
       "      <td>5.4</td>\n",
       "      <td>5.4</td>\n",
       "      <td>{'Opinion/Argumentation': 0.7, 'Legal': 0.9473...</td>\n",
       "      <td>0.866280</td>\n",
       "      <td>0.888889</td>\n",
       "      <td>0.947368</td>\n",
       "      <td>0.700000</td>\n",
       "      <td>0.947368</td>\n",
       "      <td>0.947368</td>\n",
       "      <td>0.800000</td>\n",
       "      <td>0.857143</td>\n",
       "      <td>0.842105</td>\n",
       "    </tr>\n",
       "    <tr>\n",
       "      <th>is</th>\n",
       "      <td>3.2</td>\n",
       "      <td>109.9</td>\n",
       "      <td>{'Legal': 0.8421052631578948, 'Information/Exp...</td>\n",
       "      <td>0.810444</td>\n",
       "      <td>0.727273</td>\n",
       "      <td>0.777778</td>\n",
       "      <td>0.818182</td>\n",
       "      <td>0.782609</td>\n",
       "      <td>0.842105</td>\n",
       "      <td>0.588235</td>\n",
       "      <td>1.000000</td>\n",
       "      <td>0.947368</td>\n",
       "    </tr>\n",
       "    <tr>\n",
       "      <th>uk</th>\n",
       "      <td>84.6</td>\n",
       "      <td>366.9</td>\n",
       "      <td>{'Instruction': 0.9523809523809523, 'Prose/Lyr...</td>\n",
       "      <td>0.948327</td>\n",
       "      <td>1.000000</td>\n",
       "      <td>0.952381</td>\n",
       "      <td>0.909091</td>\n",
       "      <td>0.777778</td>\n",
       "      <td>1.000000</td>\n",
       "      <td>1.000000</td>\n",
       "      <td>1.000000</td>\n",
       "      <td>0.947368</td>\n",
       "    </tr>\n",
       "    <tr>\n",
       "      <th>ca</th>\n",
       "      <td>10.1</td>\n",
       "      <td>115.4</td>\n",
       "      <td>{'Forum': 0.8421052631578948, 'Information/Exp...</td>\n",
       "      <td>0.827101</td>\n",
       "      <td>0.823529</td>\n",
       "      <td>0.750000</td>\n",
       "      <td>0.842105</td>\n",
       "      <td>0.782609</td>\n",
       "      <td>0.947368</td>\n",
       "      <td>0.720000</td>\n",
       "      <td>0.909091</td>\n",
       "      <td>0.842105</td>\n",
       "    </tr>\n",
       "    <tr>\n",
       "      <th>mk</th>\n",
       "      <td>4.8</td>\n",
       "      <td>62.3</td>\n",
       "      <td>{'Forum': 1.0, 'News': 0.9090909090909091, 'In...</td>\n",
       "      <td>0.922638</td>\n",
       "      <td>0.909091</td>\n",
       "      <td>1.000000</td>\n",
       "      <td>0.777778</td>\n",
       "      <td>0.952381</td>\n",
       "      <td>0.947368</td>\n",
       "      <td>0.842105</td>\n",
       "      <td>0.952381</td>\n",
       "      <td>1.000000</td>\n",
       "    </tr>\n",
       "    <tr>\n",
       "      <th>hr</th>\n",
       "      <td>29.7</td>\n",
       "      <td>40.0</td>\n",
       "      <td>{'Promotion': 0.8695652173913044, 'Information...</td>\n",
       "      <td>0.882916</td>\n",
       "      <td>0.947368</td>\n",
       "      <td>0.750000</td>\n",
       "      <td>0.777778</td>\n",
       "      <td>0.869565</td>\n",
       "      <td>1.000000</td>\n",
       "      <td>0.952381</td>\n",
       "      <td>0.857143</td>\n",
       "      <td>0.909091</td>\n",
       "    </tr>\n",
       "    <tr>\n",
       "      <th>sl</th>\n",
       "      <td>10.3</td>\n",
       "      <td>40.0</td>\n",
       "      <td>{'News': 0.9, 'Instruction': 1.0, 'Opinion/Arg...</td>\n",
       "      <td>0.935625</td>\n",
       "      <td>0.900000</td>\n",
       "      <td>1.000000</td>\n",
       "      <td>0.823529</td>\n",
       "      <td>1.000000</td>\n",
       "      <td>0.952381</td>\n",
       "      <td>0.900000</td>\n",
       "      <td>0.909091</td>\n",
       "      <td>1.000000</td>\n",
       "    </tr>\n",
       "  </tbody>\n",
       "</table>\n",
       "</div>"
      ],
      "text/plain": [
       "    sizes_gb  sizes_gb_related  \\\n",
       "mt       0.0              28.0   \n",
       "el      46.9              46.9   \n",
       "tr      20.9              27.4   \n",
       "sq       5.4               5.4   \n",
       "is       3.2             109.9   \n",
       "uk      84.6             366.9   \n",
       "ca      10.1             115.4   \n",
       "mk       4.8              62.3   \n",
       "hr      29.7              40.0   \n",
       "sl      10.3              40.0   \n",
       "\n",
       "                                         label_scores  macro_f1  News_score  \\\n",
       "mt  {'News': 0.6923076923076923, 'Opinion/Argument...  0.552357    0.692308   \n",
       "el  {'Instruction': 0.7058823529411764, 'Forum': 0...  0.843560    0.900000   \n",
       "tr  {'Instruction': 0.9, 'Legal': 1.0, 'Opinion/Ar...  0.899063    0.952381   \n",
       "sq  {'Opinion/Argumentation': 0.7, 'Legal': 0.9473...  0.866280    0.888889   \n",
       "is  {'Legal': 0.8421052631578948, 'Information/Exp...  0.810444    0.727273   \n",
       "uk  {'Instruction': 0.9523809523809523, 'Prose/Lyr...  0.948327    1.000000   \n",
       "ca  {'Forum': 0.8421052631578948, 'Information/Exp...  0.827101    0.823529   \n",
       "mk  {'Forum': 1.0, 'News': 0.9090909090909091, 'In...  0.922638    0.909091   \n",
       "hr  {'Promotion': 0.8695652173913044, 'Information...  0.882916    0.947368   \n",
       "sl  {'News': 0.9, 'Instruction': 1.0, 'Opinion/Arg...  0.935625    0.900000   \n",
       "\n",
       "    Instruction_score  Opinion/Argumentation_score  Promotion_score  \\\n",
       "mt           0.689655                     0.333333         0.818182   \n",
       "el           0.705882                     0.869565         0.625000   \n",
       "tr           0.900000                     0.818182         0.857143   \n",
       "sq           0.947368                     0.700000         0.947368   \n",
       "is           0.777778                     0.818182         0.782609   \n",
       "uk           0.952381                     0.909091         0.777778   \n",
       "ca           0.750000                     0.842105         0.782609   \n",
       "mk           1.000000                     0.777778         0.952381   \n",
       "hr           0.750000                     0.777778         0.869565   \n",
       "sl           1.000000                     0.823529         1.000000   \n",
       "\n",
       "    Legal_score  Information/Explanation_score  Prose/Lyrical_score  \\\n",
       "mt     1.000000                       0.521739             0.181818   \n",
       "el     1.000000                       0.695652             1.000000   \n",
       "tr     1.000000                       0.823529             0.952381   \n",
       "sq     0.947368                       0.800000             0.857143   \n",
       "is     0.842105                       0.588235             1.000000   \n",
       "uk     1.000000                       1.000000             1.000000   \n",
       "ca     0.947368                       0.720000             0.909091   \n",
       "mk     0.947368                       0.842105             0.952381   \n",
       "hr     1.000000                       0.952381             0.857143   \n",
       "sl     0.952381                       0.900000             0.909091   \n",
       "\n",
       "    Forum_score  \n",
       "mt     0.181818  \n",
       "el     0.952381  \n",
       "tr     0.888889  \n",
       "sq     0.842105  \n",
       "is     0.947368  \n",
       "uk     0.947368  \n",
       "ca     0.842105  \n",
       "mk     1.000000  \n",
       "hr     0.909091  \n",
       "sl     1.000000  "
      ]
     },
     "execution_count": 32,
     "metadata": {},
     "output_type": "execute_result"
    }
   ],
   "source": [
    "# Calculate label-level performance for each label, each dataset\n",
    "\n",
    "# Create a dataframe with all values\n",
    "\n",
    "df_results = pd.DataFrame({\"sizes_gb\": sizes_mb, \"sizes_gb_related\": sizes_mb_with_related, \"label_scores\": label_scores})\n",
    "\n",
    "#Add macro_f1\n",
    "\n",
    "df_results[\"macro_f1\"] = macro_F1\n",
    "\n",
    "# Add label specific scores\n",
    "\n",
    "for label in labels:\n",
    "\tdf_results[f\"{label}_score\"] = df_results[\"label_scores\"].apply(lambda x:x[label])\n",
    "\n",
    "df_results"
   ]
  },
  {
   "cell_type": "code",
   "execution_count": 43,
   "metadata": {},
   "outputs": [
    {
     "data": {
      "text/plain": [
       "[0, 1, 2, 3, 4, 5, 6, 7]"
      ]
     },
     "execution_count": 43,
     "metadata": {},
     "output_type": "execute_result"
    }
   ],
   "source": [
    "list(range(len(labels)))"
   ]
  },
  {
   "cell_type": "code",
   "execution_count": 44,
   "metadata": {},
   "outputs": [
    {
     "name": "stdout",
     "output_type": "stream",
     "text": [
      "Plot for size (in GB) and label F1 scores\n"
     ]
    },
    {
     "data": {
      "image/png": "[encoded data removed]",
      "text/plain": [
       "<Figure size 640x480 with 1 Axes>"
      ]
     },
     "metadata": {},
     "output_type": "display_data"
    },
    {
     "name": "stdout",
     "output_type": "stream",
     "text": [
      "Pearsons correlation: 0.275\n",
      "p-value: 0.013539468997046106\n",
      "Spearmans correlation: 0.349\n",
      "p-value: 0.0015106453984760197\n",
      "\n",
      "\n",
      "Plot for size + related languages (in GB) and label F1 scores\n"
     ]
    },
    {
     "data": {
      "image/png": "[encoded data removed]",
      "text/plain": [
       "<Figure size 640x480 with 1 Axes>"
      ]
     },
     "metadata": {},
     "output_type": "display_data"
    },
    {
     "name": "stdout",
     "output_type": "stream",
     "text": [
      "Pearsons correlation: 0.197\n",
      "p-value: 0.07932862745724867\n",
      "Spearmans correlation: 0.119\n",
      "p-value: 0.2919649610699323\n",
      "\n",
      "\n"
     ]
    }
   ],
   "source": [
    "# Merge all label performance into one long vector\n",
    "\n",
    "label_merged = []\n",
    "\n",
    "for label in labels:\n",
    "\t# Create label performance list\n",
    "\tlabel_merged.extend(df_results[f\"{label}_score\"].to_list())\n",
    "\n",
    "len(label_merged)\n",
    "\n",
    "# Create size list - it should be sizes_gb x 8 (number of labels)\n",
    "size_merged = []\n",
    "\n",
    "for i in list(range(len(labels))):\n",
    "\tsize_merged.extend(df_results[\"sizes_gb\"].to_list())\n",
    "\n",
    "size_related_merged = []\n",
    "\n",
    "# Do the same with size with related list\n",
    "for i in list(range(len(labels))):\n",
    "\tsize_related_merged.extend(df_results[\"sizes_gb_related\"].to_list())\n",
    "\n",
    "# Plot\n",
    "# Show the values on a scatter plot\n",
    "print(f\"Plot for size (in GB) and label F1 scores\")\n",
    "pyplot.scatter(label_merged, size_merged)\n",
    "pyplot.show()\n",
    "\n",
    "pearson(label_merged, size_merged)\n",
    "spearman(label_merged, size_merged)\n",
    "print(\"\\n\")\n",
    "\n",
    "\n",
    "print(f\"Plot for size + related languages (in GB) and label F1 scores\")\n",
    "# Show the values on a scatter plot\n",
    "pyplot.scatter(label_merged, size_related_merged)\n",
    "pyplot.show()\n",
    "\n",
    "pearson(label_merged, size_related_merged)\n",
    "spearman(label_merged, size_related_merged)\n",
    "print(\"\\n\")\n"
   ]
  },
  {
   "cell_type": "markdown",
   "metadata": {},
   "source": [
    "# Token Overlap"
   ]
  },
  {
   "cell_type": "code",
   "execution_count": 23,
   "metadata": {},
   "outputs": [
    {
     "data": {
      "text/plain": [
       "0.9742887570363609"
      ]
     },
     "execution_count": 23,
     "metadata": {},
     "output_type": "execute_result"
    }
   ],
   "source": [
    "main_dict[\"sl\"]['token_overlap']['overlap_percentage']"
   ]
  },
  {
   "cell_type": "code",
   "execution_count": 24,
   "metadata": {},
   "outputs": [
    {
     "data": {
      "text/plain": [
       "[0.8170850409836066,\n",
       " 0.16142765685019206,\n",
       " 0.5215024680505781,\n",
       " 0.605775337143711,\n",
       " 0.5175752260153825,\n",
       " 0.15667519020109227,\n",
       " 0.7448809178042405,\n",
       " 0.14598936285683273,\n",
       " 0.8215173660815188,\n",
       " 0.9742887570363609]"
      ]
     },
     "execution_count": 24,
     "metadata": {},
     "output_type": "execute_result"
    }
   ],
   "source": [
    "# Get an array of overlap percentage\n",
    "overlap = [main_dict[x]['token_overlap']['overlap_percentage'] for x in list(main_dict.keys())]\n",
    "overlap"
   ]
  },
  {
   "cell_type": "code",
   "execution_count": null,
   "metadata": {},
   "outputs": [],
   "source": [
    "# Show the values on a scatter plot\n",
    "# plot\n",
    "pyplot.scatter(macro_F1, overlap)\n",
    "pyplot.show()"
   ]
  }
 ],
 "metadata": {
  "kernelspec": {
   "display_name": "crosslingual_venv",
   "language": "python",
   "name": "python3"
  },
  "language_info": {
   "codemirror_mode": {
    "name": "ipython",
    "version": 3
   },
   "file_extension": ".py",
   "mimetype": "text/x-python",
   "name": "python",
   "nbconvert_exporter": "python",
   "pygments_lexer": "ipython3",
   "version": "3.8.10"
  }
 },
 "nbformat": 4,
 "nbformat_minor": 2
}
