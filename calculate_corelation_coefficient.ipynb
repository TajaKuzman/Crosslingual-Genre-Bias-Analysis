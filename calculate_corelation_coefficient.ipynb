{
 "cells": [
  {
   "cell_type": "markdown",
   "metadata": {},
   "source": [
    "Theory from https://machinelearningmastery.com/how-to-use-correlation-to-understand-the-relationship-between-variables/"
   ]
  },
  {
   "cell_type": "code",
   "execution_count": 30,
   "metadata": {},
   "outputs": [
    {
     "name": "stdout",
     "output_type": "stream",
     "text": [
      "env: CUDA_DEVICE_ORDER=PCI_BUS_ID\n",
      "env: CUDA_VISIBLE_DEVICES=2\n"
     ]
    }
   ],
   "source": [
    "# Define the gpu  on the gpu machine\n",
    "%env CUDA_DEVICE_ORDER=PCI_BUS_ID\n",
    "%env CUDA_VISIBLE_DEVICES=2\n",
    "\n",
    "from matplotlib import pyplot\n",
    "import numpy as np\n",
    "import json\n",
    "from sklearn.preprocessing import MinMaxScaler\n",
    "import pandas as pd\n",
    "from evaluation import testing\n",
    "import json\n",
    "from scipy.stats import pearsonr\n",
    "from scipy.stats import spearmanr\n",
    "# Import Pyplot to plot the numbers\n",
    "import matplotlib.pyplot as plt"
   ]
  },
  {
   "cell_type": "code",
   "execution_count": 2,
   "metadata": {},
   "outputs": [
    {
     "data": {
      "text/plain": [
       "dict_keys(['mt', 'el', 'tr', 'sq', 'is', 'uk', 'ca', 'mk', 'hr', 'sl'])"
      ]
     },
     "execution_count": 2,
     "metadata": {},
     "output_type": "execute_result"
    }
   ],
   "source": [
    "# Import the final dataset with test sets\n",
    "with open(\"manual-annotations/multilingual-genre-annotated-test-set.json\") as main_file:\n",
    "\tmain_dict = json.load(main_file)\n",
    "\n",
    "main_dict.keys()"
   ]
  },
  {
   "cell_type": "code",
   "execution_count": 11,
   "metadata": {},
   "outputs": [
    {
     "data": {
      "text/plain": [
       "[0.552356688788473,\n",
       " 0.8435600870783095,\n",
       " 0.8990631100925218,\n",
       " 0.866280284043442,\n",
       " 0.8104437496515837,\n",
       " 0.9483272575377839,\n",
       " 0.8271009954845262,\n",
       " 0.9226380344801398,\n",
       " 0.882915766854554,\n",
       " 0.935625159154571]"
      ]
     },
     "execution_count": 11,
     "metadata": {},
     "output_type": "execute_result"
    }
   ],
   "source": [
    "# Get an array of macro F1 values\n",
    "macro_F1 = [main_dict[x][\"macro_f1\"] for x in list(main_dict.keys())]\n",
    "macro_F1"
   ]
  },
  {
   "cell_type": "code",
   "execution_count": 15,
   "metadata": {},
   "outputs": [
    {
     "data": {
      "text/plain": [
       "0.881772716041937"
      ]
     },
     "execution_count": 15,
     "metadata": {},
     "output_type": "execute_result"
    }
   ],
   "source": [
    "np.mean(macro_F1[1:])"
   ]
  },
  {
   "cell_type": "code",
   "execution_count": 41,
   "metadata": {},
   "outputs": [],
   "source": [
    "# Define relevant functions\n",
    "\n",
    "def plot(x, y, x_name, y_name, main_dict):\n",
    "\t\"\"\"\n",
    "\tArgs: x and y are lists of values, extracted from the main_dict in such order: \"[main_dict[x][value] for x in list(main_dict.keys())]\". List of labels are the keys of main_dict - languages of test sets.\n",
    "\t\"\"\"\n",
    "\tpyplot.scatter(x, y)\n",
    "\n",
    "\tlabels = list(main_dict.keys())\n",
    "\n",
    "\t# Add labels for each dot\n",
    "\tfor i, label in enumerate(labels):\n",
    "\t\tpyplot.text(x[i], y[i], label)\n",
    "\n",
    "\n",
    "\t# Set labels and title\n",
    "\tpyplot.xlabel(f'{x_name}')\n",
    "\tpyplot.ylabel(f'{y_name}')\n",
    "\t#pyplot.title(f'Correlation of {x_name} and {y_name}.')\n",
    "\n",
    "\tpyplot.show()\n",
    "\n",
    "from scipy.stats import pearsonr\n",
    "from scipy.stats import spearmanr\n",
    "\n",
    "# calculate Pearson's correlation\n",
    "def pearson(x, y):\n",
    "\tcorr, p = pearsonr(x, y)\n",
    "\tprint('Pearsons correlation: %.3f' % corr)\n",
    "\tprint(f\"p-value: {p}\")\n",
    "\n",
    "\n",
    "# calculate spearman's correlation\n",
    "def spearman(x, y):\n",
    "\tcorr, p = spearmanr(x, y)\n",
    "\tprint('Spearmans correlation: %.3f' % corr)\n",
    "\tprint(f\"p-value: {p}\")\n",
    "\n",
    "# Function that combines all of the above\n",
    "def analyse(x, y, x_name=\"x\", y_name=\"y\", main_dict=main_dict):\n",
    "\tplot(x, y, x_name, y_name, main_dict)\n",
    "\tpearson(x, y)\n",
    "\tspearman(x, y)"
   ]
  },
  {
   "cell_type": "markdown",
   "metadata": {},
   "source": [
    "# Calculate genre label distribution correlation"
   ]
  },
  {
   "cell_type": "code",
   "execution_count": 12,
   "metadata": {},
   "outputs": [
    {
     "name": "stdout",
     "output_type": "stream",
     "text": [
      "[{'In no. of texts': 'News', 'Bosnian': 0.666998471, 'Bulgarian': 0.476937854, 'Croatian': 0.46437218, 'Macedonian': 0.645280384, 'Montenegrin': 0.673375611, 'Serbian': 0.515970355, 'Slovenian': 0.308237159, 'Albanian': 0.700677003, 'Maltese': 0.004845469, 'Catalan': 0.487564985, 'Icelandic': 0.368679999, 'Greek': 0.552005292, 'Turkish': 0.447870175, 'Ukrainian': 0.461449077}, {'In no. of texts': 'Information/Explanation', 'Bosnian': 0.05727437, 'Bulgarian': 0.099645958, 'Croatian': 0.136523759, 'Macedonian': 0.070312721, 'Montenegrin': 0.094815999, 'Serbian': 0.113864656, 'Slovenian': 0.136290919, 'Albanian': 0.085407545, 'Maltese': 0.595063289, 'Catalan': 0.204248025, 'Icelandic': 0.198429781, 'Greek': 0.10865583, 'Turkish': 0.163202034, 'Ukrainian': 0.22197856}, {'In no. of texts': 'Opinion/Argumentation', 'Bosnian': 0.063857118, 'Bulgarian': 0.078662988, 'Croatian': 0.088212921, 'Macedonian': 0.076115689, 'Montenegrin': 0.085757347, 'Serbian': 0.08653581, 'Slovenian': 0.122983065, 'Albanian': 0.079373868, 'Maltese': 0.13744981, 'Catalan': 0.094034424, 'Icelandic': 0.184934789, 'Greek': 0.094851704, 'Turkish': 0.082922453, 'Ukrainian': 0.041906849}, {'In no. of texts': 'Promotion', 'Bosnian': 0.056124684, 'Bulgarian': 0.170482276, 'Croatian': 0.159061816, 'Macedonian': 0.072678671, 'Montenegrin': 0.086094022, 'Serbian': 0.111308055, 'Slovenian': 0.244829478, 'Albanian': 0.034459019, 'Maltese': 0.006463459, 'Catalan': 0.129272152, 'Icelandic': 0.066036132, 'Greek': 0.128911321, 'Turkish': 0.152667222, 'Ukrainian': 0.142228161}, {'In no. of texts': 'Instruction', 'Bosnian': 0.029771653, 'Bulgarian': 0.064119189, 'Croatian': 0.045456357, 'Macedonian': 0.068911931, 'Montenegrin': 0.028391142, 'Serbian': 0.048223823, 'Slovenian': 0.057829746, 'Albanian': 0.03174013, 'Maltese': 0.006616474, 'Catalan': 0.035427175, 'Icelandic': 0.040426368, 'Greek': 0.056954317, 'Turkish': 0.058281408, 'Ukrainian': 0.079023037}, {'In no. of texts': 'Legal', 'Bosnian': 0.011597076, 'Bulgarian': 0.014194816, 'Croatian': 0.014190548, 'Macedonian': 0.008855899, 'Montenegrin': 0.012399096, 'Serbian': 0.008194286, 'Slovenian': 0.033212976, 'Albanian': 0.003670379, 'Maltese': 3.96705e-05, 'Catalan': 0.015428643, 'Icelandic': 0.026422568, 'Greek': 0.013918973, 'Turkish': 0.013996931, 'Ukrainian': 0.020018575}, {'In no. of texts': 'Forum', 'Bosnian': 0.077268713, 'Bulgarian': 0.078830477, 'Croatian': 0.085768522, 'Macedonian': 0.051769203, 'Montenegrin': 0.011112894, 'Serbian': 0.104441881, 'Slovenian': 0.087137101, 'Albanian': 0.03805146, 'Maltese': 0.147475114, 'Catalan': 0.025452044, 'Icelandic': 0.099015876, 'Greek': 0.037953406, 'Turkish': 0.060435418, 'Ukrainian': 0.020447621}, {'In no. of texts': 'Prose/Lyrical', 'Bosnian': 0.037107915, 'Bulgarian': 0.017126441, 'Croatian': 0.006413897, 'Macedonian': 0.006075501, 'Montenegrin': 0.008053889, 'Serbian': 0.011461133, 'Slovenian': 0.009479556, 'Albanian': 0.026620597, 'Maltese': 0.102046715, 'Catalan': 0.008572553, 'Icelandic': 0.016054487, 'Greek': 0.006749158, 'Turkish': 0.020624359, 'Ukrainian': 0.012948121}, {'In no. of texts': nan, 'Bosnian': nan, 'Bulgarian': nan, 'Croatian': nan, 'Macedonian': nan, 'Montenegrin': nan, 'Serbian': nan, 'Slovenian': nan, 'Albanian': nan, 'Maltese': nan, 'Catalan': nan, 'Icelandic': nan, 'Greek': nan, 'Turkish': nan, 'Ukrainian': nan}, {'In no. of texts': nan, 'Bosnian': nan, 'Bulgarian': nan, 'Croatian': nan, 'Macedonian': nan, 'Montenegrin': nan, 'Serbian': nan, 'Slovenian': nan, 'Albanian': nan, 'Maltese': nan, 'Catalan': nan, 'Icelandic': nan, 'Greek': nan, 'Turkish': nan, 'Ukrainian': nan}, {'In no. of texts': nan, 'Bosnian': nan, 'Bulgarian': nan, 'Croatian': nan, 'Macedonian': nan, 'Montenegrin': nan, 'Serbian': nan, 'Slovenian': nan, 'Albanian': nan, 'Maltese': nan, 'Catalan': nan, 'Icelandic': nan, 'Greek': nan, 'Turkish': nan, 'Ukrainian': nan}, {'In no. of texts': nan, 'Bosnian': nan, 'Bulgarian': nan, 'Croatian': nan, 'Macedonian': nan, 'Montenegrin': nan, 'Serbian': nan, 'Slovenian': nan, 'Albanian': nan, 'Maltese': nan, 'Catalan': nan, 'Icelandic': nan, 'Greek': nan, 'Turkish': nan, 'Ukrainian': nan}, {'In no. of texts': nan, 'Bosnian': nan, 'Bulgarian': nan, 'Croatian': nan, 'Macedonian': nan, 'Montenegrin': nan, 'Serbian': nan, 'Slovenian': nan, 'Albanian': nan, 'Maltese': nan, 'Catalan': nan, 'Icelandic': nan, 'Greek': nan, 'Turkish': nan, 'Ukrainian': nan}]\n"
     ]
    },
    {
     "data": {
      "text/plain": [
       "{'News': [0.666998471,\n",
       "  0.476937854,\n",
       "  0.46437218,\n",
       "  0.645280384,\n",
       "  0.673375611,\n",
       "  0.515970355,\n",
       "  0.308237159,\n",
       "  0.700677003,\n",
       "  0.004845469,\n",
       "  0.487564985,\n",
       "  0.368679999,\n",
       "  0.552005292,\n",
       "  0.447870175,\n",
       "  0.461449077],\n",
       " 'Information/Explanation': [0.05727437,\n",
       "  0.099645958,\n",
       "  0.136523759,\n",
       "  0.070312721,\n",
       "  0.094815999,\n",
       "  0.113864656,\n",
       "  0.136290919,\n",
       "  0.085407545,\n",
       "  0.595063289,\n",
       "  0.204248025,\n",
       "  0.198429781,\n",
       "  0.10865583,\n",
       "  0.163202034,\n",
       "  0.22197856],\n",
       " 'Opinion/Argumentation': [0.063857118,\n",
       "  0.078662988,\n",
       "  0.088212921,\n",
       "  0.076115689,\n",
       "  0.085757347,\n",
       "  0.08653581,\n",
       "  0.122983065,\n",
       "  0.079373868,\n",
       "  0.13744981,\n",
       "  0.094034424,\n",
       "  0.184934789,\n",
       "  0.094851704,\n",
       "  0.082922453,\n",
       "  0.041906849],\n",
       " 'Promotion': [0.056124684,\n",
       "  0.170482276,\n",
       "  0.159061816,\n",
       "  0.072678671,\n",
       "  0.086094022,\n",
       "  0.111308055,\n",
       "  0.244829478,\n",
       "  0.034459019,\n",
       "  0.006463459,\n",
       "  0.129272152,\n",
       "  0.066036132,\n",
       "  0.128911321,\n",
       "  0.152667222,\n",
       "  0.142228161],\n",
       " 'Instruction': [0.029771653,\n",
       "  0.064119189,\n",
       "  0.045456357,\n",
       "  0.068911931,\n",
       "  0.028391142,\n",
       "  0.048223823,\n",
       "  0.057829746,\n",
       "  0.03174013,\n",
       "  0.006616474,\n",
       "  0.035427175,\n",
       "  0.040426368,\n",
       "  0.056954317,\n",
       "  0.058281408,\n",
       "  0.079023037],\n",
       " 'Legal': [0.011597076,\n",
       "  0.014194816,\n",
       "  0.014190548,\n",
       "  0.008855899,\n",
       "  0.012399096,\n",
       "  0.008194286,\n",
       "  0.033212976,\n",
       "  0.003670379,\n",
       "  3.96705e-05,\n",
       "  0.015428643,\n",
       "  0.026422568,\n",
       "  0.013918973,\n",
       "  0.013996931,\n",
       "  0.020018575],\n",
       " 'Forum': [0.077268713,\n",
       "  0.078830477,\n",
       "  0.085768522,\n",
       "  0.051769203,\n",
       "  0.011112894,\n",
       "  0.104441881,\n",
       "  0.087137101,\n",
       "  0.03805146,\n",
       "  0.147475114,\n",
       "  0.025452044,\n",
       "  0.099015876,\n",
       "  0.037953406,\n",
       "  0.060435418,\n",
       "  0.020447621],\n",
       " 'Prose/Lyrical': [0.037107915,\n",
       "  0.017126441,\n",
       "  0.006413897,\n",
       "  0.006075501,\n",
       "  0.008053889,\n",
       "  0.011461133,\n",
       "  0.009479556,\n",
       "  0.026620597,\n",
       "  0.102046715,\n",
       "  0.008572553,\n",
       "  0.016054487,\n",
       "  0.006749158,\n",
       "  0.020624359,\n",
       "  0.012948121],\n",
       " nan: [nan, nan, nan, nan, nan, nan, nan, nan, nan, nan, nan, nan, nan, nan]}"
      ]
     },
     "execution_count": 12,
     "metadata": {},
     "output_type": "execute_result"
    }
   ],
   "source": [
    "# Import the spreadsheet with genre label distribution\n",
    "frequency_df = pd.read_csv(\"datasets/genre-correlation.csv\")\n",
    "frequency_dict = frequency_df.to_dict(orient=\"records\")\n",
    "\n",
    "print(frequency_dict)\n",
    "\n",
    "label_vectors = {}\n",
    "\n",
    "for item in frequency_dict:\n",
    "\tlabel_vectors[list(item.values())[0]] = list(item.values())[1:]\n",
    "\n",
    "label_vectors"
   ]
  },
  {
   "cell_type": "code",
   "execution_count": 29,
   "metadata": {},
   "outputs": [],
   "source": [
    "# calculate Pearson's correlation\n",
    "def pearson(x, y):\n",
    "\tcorr, p = pearsonr(x, y)\n",
    "\treturn [corr, p]\n",
    "\n",
    "\n",
    "# calculate spearman's correlation\n",
    "def spearman(x, y):\n",
    "\tcorr, p = spearmanr(x, y)\n",
    "\treturn [corr, p]"
   ]
  },
  {
   "cell_type": "code",
   "execution_count": 30,
   "metadata": {},
   "outputs": [],
   "source": [
    "labels = ['News', 'Information/Explanation', 'Opinion/Argumentation', 'Promotion', 'Instruction', 'Legal', 'Forum', 'Prose/Lyrical']"
   ]
  },
  {
   "cell_type": "code",
   "execution_count": 46,
   "metadata": {},
   "outputs": [],
   "source": [
    "results = {}\n",
    "\n",
    "# Calculate correlation for each label frequency pair\n",
    "for label in labels:\n",
    "\tfor other_label in labels:\n",
    "\t\tif label != other_label:\n",
    "\t\t\tresults[f\"{label}-{other_label}\"] = {\"Pearson\": pearson(label_vectors[label], label_vectors[other_label])[0], \"Pearson-p-value\": pearson(label_vectors[label], label_vectors[other_label])[1], \"Spearman\": spearman(label_vectors[label], label_vectors[other_label])[0], \"Spearman-p-value\": spearman(label_vectors[label], label_vectors[other_label])[1]}\n",
    "\n",
    "results_df = pd.DataFrame(results).transpose().sort_values(by=\"Pearson-p-value\")"
   ]
  },
  {
   "cell_type": "code",
   "execution_count": 47,
   "metadata": {},
   "outputs": [
    {
     "name": "stdout",
     "output_type": "stream",
     "text": [
      "|                              |   Pearson |   Pearson-p-value |   Spearman |   Spearman-p-value |\n",
      "|:-----------------------------|----------:|------------------:|-----------:|-------------------:|\n",
      "| News-Information/Explanation | -0.875348 |       4.11861e-05 |  -0.806593 |        0.000491113 |\n",
      "| Information/Explanation-News | -0.875348 |       4.11861e-05 |  -0.806593 |        0.000491113 |\n",
      "| News-Forum                   | -0.707912 |       0.00461391  |  -0.564835 |        0.0353302   |\n",
      "| Forum-News                   | -0.707912 |       0.00461391  |  -0.564835 |        0.0353302   |\n",
      "| Instruction-Promotion        |  0.6428   |       0.0131586   |   0.63956  |        0.0137796   |\n",
      "| Promotion-Instruction        |  0.6428   |       0.0131586   |   0.63956  |        0.0137796   |\n",
      "| Legal-Promotion              |  0.705183 |       0.00484659  |   0.696703 |        0.00562868  |\n",
      "| Promotion-Legal              |  0.705183 |       0.00484659  |   0.696703 |        0.00562868  |\n"
     ]
    }
   ],
   "source": [
    "# Filter out correlations with too high p-value in case of Spearman\n",
    "results_df_spear = results_df[results_df[\"Spearman-p-value\"] < 0.05].sort_values(by=\"Spearman\")\n",
    "print(results_df_spear.to_markdown())"
   ]
  },
  {
   "cell_type": "markdown",
   "metadata": {},
   "source": [
    "## Pearson Correlation"
   ]
  },
  {
   "cell_type": "markdown",
   "metadata": {},
   "source": [
    "At the core of many statistical analyses is the concept of linear relationships between variables. This is a relationship that is consistently additive across the two data samples.\n",
    "\n",
    "This relationship can be summarized between two variables, called the covariance. It is calculated as the average of the product between the values from each sample, where the values have been centred (by subtracting their respective means).\n",
    "\n",
    "The calculation of the sample covariance is as follows:\n",
    "\n",
    "cov(X, Y) = (sum (x - mean(X)) * (y - mean(Y)) ) * 1/(n-1)\n",
    "\n",
    "A problem with covariance as a statistical tool alone is that it is challenging to interpret. This leads us to Pearson’s correlation coefficient next."
   ]
  },
  {
   "cell_type": "markdown",
   "metadata": {},
   "source": [
    "Named after Karl Pearson, The Pearson correlation coefficient can be used to summarize the strength of the linear relationship between two data samples.\n",
    "\n",
    "Pearson’s correlation coefficient is calculated by dividing the covariance of the two variables by the product of their respective standard deviations. It is the normalization of the covariance between the two variables to give an interpretable score.\n",
    "\n",
    "Pearson's correlation coefficient = covariance(X, Y) / (stdv(X) * stdv(Y))\n",
    "The use of mean and standard deviation in the calculation suggests the need for the two data samples to have a Gaussian or Gaussian-like distribution.\n",
    "\n",
    "The result of the calculation, the correlation coefficient can be interpreted to understand the relationship.\n",
    "\n",
    "The coefficient returns a value between -1 and 1, symbolizing the full spectrum of correlation: from a complete negative correlation to a total positive correlation. A value of 0 means no correlation. The value must be interpreted, where often a value below -0.5 or above 0.5 indicates a notable correlation, and values below those values suggests a less notable correlation.\n",
    "\n",
    "Pearson’s correlation coefficient can be used to evaluate the relationship between more than two variables.\n",
    "\n",
    "This can be done by calculating a matrix of the relationships between each pair of variables in the dataset. The result is a symmetric matrix called a correlation matrix with a value of 1.0 along the diagonal as each column always perfectly correlates with itself."
   ]
  },
  {
   "cell_type": "code",
   "execution_count": 3,
   "metadata": {},
   "outputs": [],
   "source": [
    "from scipy.stats import pearsonr\n",
    "\n",
    "# calculate Pearson's correlation\n",
    "def pearson(macro_F1, factor):\n",
    "\tcorr, p = pearsonr(macro_F1, factor)\n",
    "\tprint('Pearsons correlation: %.3f' % corr)\n",
    "\tprint(f\"p-value: {p}\")"
   ]
  },
  {
   "cell_type": "markdown",
   "metadata": {},
   "source": [
    "## Spearman's Correlation"
   ]
  },
  {
   "cell_type": "markdown",
   "metadata": {},
   "source": [
    "While many data relationships can be linear, some may be nonlinear. These nonlinear relationships are stronger or weaker across the distribution of the variables. Further, the two variables being considered may have a non-Gaussian distribution.\n",
    "\n",
    "Named after Charles Spearman, Spearman’s correlation coefficient can be used to summarize the strength between the two data samples. This test of relationship can also be used if there is a linear relationship between the variables but will have slightly less power (e.g. may result in lower coefficient scores).\n",
    "\n",
    "As with the Pearson correlation coefficient, the scores are between -1 and 1 for perfectly negatively correlated variables and perfectly positively correlated respectively.\n",
    "\n",
    "Instead of directly working with the data samples, it operates on the relative ranks of data values. This is a common approach used in non-parametric statistics, e.g. statistical methods where we do not assume a distribution of the data such as Gaussian.\n",
    "\n",
    "Spearman's correlation coefficient = covariance(rank(X), rank(Y)) / (stdv(rank(X)) * stdv(rank(Y)))\n",
    "A linear relationship between the variables is not assumed, although a monotonic relationship is assumed. This is a mathematical name for an increasing or decreasing relationship between the two variables.\n",
    "\n",
    "If you are unsure of the distribution and possible relationships between two variables, the Spearman correlation coefficient is a good tool to use.\n",
    "\n",
    "As with the Pearson’s correlation coefficient, the coefficient can be calculated pair-wise for each variable in a dataset to give a correlation matrix for review."
   ]
  },
  {
   "cell_type": "code",
   "execution_count": 4,
   "metadata": {},
   "outputs": [],
   "source": [
    "from scipy.stats import spearmanr\n",
    "\n",
    "# calculate spearman's correlation\n",
    "def spearman(macro_F1, factor):\n",
    "\tcorr, p = spearmanr(macro_F1, factor)\n",
    "\tprint('Spearmans correlation: %.3f' % corr)\n",
    "\tprint(f\"p-value: {p}\")"
   ]
  },
  {
   "cell_type": "markdown",
   "metadata": {},
   "source": [
    "## Sizes in pretraining data"
   ]
  },
  {
   "cell_type": "code",
   "execution_count": 9,
   "metadata": {},
   "outputs": [],
   "source": [
    "# Add information on sizes in XLM-RoBERTa training set - for specific language and combined with very closely related language. Sizes are in M of tokens.\n",
    "sizes = {\n",
    "\t\"mt\": 0,\n",
    "\t\"el\": 4285, \n",
    "\t\"tr\": 2736,\n",
    "\t\"sq\": 918,\n",
    "\t\"is\": 505,\n",
    "\t\"uk\": 6500,\n",
    "\t\"ca\": 1752,\n",
    "\t\"mk\": 449,\n",
    "\t\"hr\": 3297 + 14 + 843, #added Bosnian, Serbian (in that order), \n",
    "\t\"sl\": 1669,}\n",
    "\n",
    "sizes_with_related = {\n",
    "\t\"mt\": 0 + 2869, # Central Semitic Arabic languages (Afro-Asiatic language family): Maltese, Arabic\n",
    "\t\"el\": 4285, # is a separate branch of Indo-European language family and has no direct descendants that could be added\n",
    "\t\"tr\": 2736 + 783,\n",
    "\t\"sq\": 918, # is a separate branch of Indo-European language family and has no direct descendants that could be added\n",
    "\t\"is\": 505 + 7823 + 8494 + 778, # North Germanic languages: Icelandic, Danish, Norwegian, Swedish\n",
    "\t\"uk\": 6500 + 362 + 23408, # East Slavic: Ukrainian, Belarusian, Russian\n",
    "\t\"ca\": 1752 + 9374 + 495 + 8405, # Ibero-Romance: Catalan, Spanish, Galician, Portuguese\n",
    "\t\"mk\": 449 + 5487, # Eastern South Slavic: Macedonian, Bulgarian \n",
    "\t\"hr\": 3297 + 1669 + 14 + 843, # Western South Slavic languages: Croatian, Slovenian, Bosnian, Serbian (in that order)\n",
    "\t\"sl\": 1669 + 3297 + 14 + 843 # Western South Slavic languages: Slovenian, Croatian, Bosnian, Serbian (in that order)\n",
    "\t}"
   ]
  },
  {
   "cell_type": "code",
   "execution_count": 10,
   "metadata": {},
   "outputs": [],
   "source": [
    "# Sizes in GB, from https://aclanthology.org/2020.acl-main.747.pdf\n",
    "\n",
    "sizes_mb = {\n",
    "\t\"mt\": 0,\n",
    "\t\"el\": 46.9,\n",
    "\t\"tr\": 20.9,\n",
    "\t\"sq\": 5.4,\n",
    "\t\"is\": 3.2,\n",
    "\t\"uk\": 84.6,\n",
    "\t\"ca\": 10.1,\n",
    "\t\"mk\": 4.8,\n",
    "\t\"hr\": 20.5 +0.1 + 9.1, #added Bosnian, Serbian (in that order), \n",
    "\t\"sl\": 10.3,\n",
    "\t}\n",
    "\n",
    "sizes_mb_with_related = {\n",
    "\t\"mt\": 0 + 28.0, # Central Semitic Arabic languages (Afro-Asiatic language family): Maltese, Arabic\n",
    "\t\"el\": 46.9, # is a separate branch of Indo-European language family and has no direct descendants that could be added\n",
    "\t\"tr\": 20.9 + 6.5, # Southern Turkic (Turkic language family): Turkish, Azerbaijani\n",
    "\t\"sq\": 5.4, # is a separate branch of Indo-European language family and has no direct descendants that could be added\n",
    "\t\"is\": 3.2 + 45.6 + 49.0 + 12.1, # North Germanic languages: Icelandic, Danish, Norwegian, Swedish\n",
    "\t\"uk\": 84.6 + 4.3 + 278.0, #East Slavic: Ukrainian, Belarusian, Russian\n",
    "\t\"ca\": 10.1 + 53.3 + 2.9 + 49.1, # Ibero-Romance: Catalan, Spanish, Galician, Portuguese\n",
    "\t\"mk\": 4.8 + 57.5, # Eastern South Slavic: Macedonian, Bulgarian\n",
    "\t\"hr\": 20.5 + 0.1 + 9.1 + 10.3, # Western South Slavic languages: Croatian, Bosnian, Serbian, Slovenian (in that order)\n",
    "\t\"sl\": 10.3 + 20.5 + 0.1 + 9.1 # Western South Slavic languages: Slovenian, Croatian, Bosnian, Serbian (in that order)\n",
    "\t}"
   ]
  },
  {
   "cell_type": "code",
   "execution_count": 11,
   "metadata": {},
   "outputs": [
    {
     "data": {
      "text/plain": [
       "[28.0, 46.9, 27.4, 5.4, 109.9, 366.9, 115.4, 62.3, 40.0, 40.0]"
      ]
     },
     "execution_count": 11,
     "metadata": {},
     "output_type": "execute_result"
    }
   ],
   "source": [
    "sizes_list = list(sizes.values())\n",
    "sizes_related_list = list(sizes_with_related.values())\n",
    "sizes_mb_list = list(sizes_mb.values())\n",
    "sizes_mb_related_list = list(sizes_mb_with_related.values())\n",
    "\n",
    "sizes_mb_related_list"
   ]
  },
  {
   "cell_type": "code",
   "execution_count": 12,
   "metadata": {},
   "outputs": [
    {
     "name": "stdout",
     "output_type": "stream",
     "text": [
      "[[0.06251729]\n",
      " [0.11479945]\n",
      " [0.06085754]\n",
      " [0.        ]\n",
      " [0.28907331]\n",
      " [1.        ]\n",
      " [0.30428769]\n",
      " [0.15739972]\n",
      " [0.09571231]\n",
      " [0.09571231]]\n"
     ]
    }
   ],
   "source": [
    "# Normalize the values using the min-max normalization\n",
    "# Min-max is a scaling technique where values are rescaled and shifted so that they range between 0 and 1 or between -1 and 1.\n",
    "\n",
    "def normalize(list):\n",
    "\tdata = np.array(list).reshape(-1, 1)\n",
    "\tscaler = MinMaxScaler()\n",
    "\tscaler.fit(data)\n",
    "\tnorm_list = scaler.transform(data)\n",
    "\n",
    "\treturn norm_list\n",
    "\n",
    "sizes_list_norm = normalize(sizes_list)\n",
    "sizes_related_list_norm = normalize(sizes_related_list)\n",
    "sizes_mb_list_norm = normalize(sizes_mb_list)\n",
    "sizes_mb_related_list_norm = normalize(sizes_mb_related_list)\n",
    "\n",
    "print(sizes_mb_related_list_norm)"
   ]
  },
  {
   "cell_type": "code",
   "execution_count": 19,
   "metadata": {},
   "outputs": [
    {
     "data": {
      "image/png": "[encoded data removed]",
      "text/plain": [
       "<Figure size 640x480 with 1 Axes>"
      ]
     },
     "metadata": {},
     "output_type": "display_data"
    }
   ],
   "source": [
    "# Show the values on a scatter plot\n",
    "# Normalized sizes (M of tokens)\n",
    "pyplot.scatter(macro_F1, sizes_list_norm)\n",
    "pyplot.show()"
   ]
  },
  {
   "cell_type": "code",
   "execution_count": 20,
   "metadata": {},
   "outputs": [
    {
     "data": {
      "image/png": "[encoded data removed]",
      "text/plain": [
       "<Figure size 640x480 with 1 Axes>"
      ]
     },
     "metadata": {},
     "output_type": "display_data"
    }
   ],
   "source": [
    "# Show the values on a scatter plot\n",
    "# Normalized sizes (M of tokens) with related languages\n",
    "pyplot.scatter(macro_F1, sizes_related_list_norm)\n",
    "pyplot.show()"
   ]
  },
  {
   "cell_type": "code",
   "execution_count": 21,
   "metadata": {},
   "outputs": [
    {
     "data": {
      "image/png": "[encoded data removed]",
      "text/plain": [
       "<Figure size 640x480 with 1 Axes>"
      ]
     },
     "metadata": {},
     "output_type": "display_data"
    }
   ],
   "source": [
    "# Show the values on a scatter plot\n",
    "# Normalized sizes (GB)\n",
    "pyplot.scatter(macro_F1, sizes_mb_list_norm)\n",
    "pyplot.show()"
   ]
  },
  {
   "cell_type": "code",
   "execution_count": 41,
   "metadata": {},
   "outputs": [
    {
     "data": {
      "image/png": "[encoded data removed]",
      "text/plain": [
       "<Figure size 640x480 with 1 Axes>"
      ]
     },
     "metadata": {},
     "output_type": "display_data"
    }
   ],
   "source": [
    "# Show the values on a scatter plot\n",
    "# Normalized sizes (GB)\n",
    "pyplot.scatter(macro_F1, sizes_mb_list)\n",
    "pyplot.show()"
   ]
  },
  {
   "cell_type": "code",
   "execution_count": 28,
   "metadata": {},
   "outputs": [
    {
     "data": {
      "image/png": "[encoded data removed]",
      "text/plain": [
       "<Figure size 640x480 with 1 Axes>"
      ]
     },
     "metadata": {},
     "output_type": "display_data"
    }
   ],
   "source": [
    "# Show the values on a scatter plot\n",
    "# Normalized sizes (GB) with related languages\n",
    "pyplot.scatter(macro_F1, sizes_mb_related_list_norm)\n",
    "pyplot.show()"
   ]
  },
  {
   "cell_type": "code",
   "execution_count": 42,
   "metadata": {},
   "outputs": [
    {
     "data": {
      "image/png": "[encoded data removed]",
      "text/plain": [
       "<Figure size 640x480 with 1 Axes>"
      ]
     },
     "metadata": {},
     "output_type": "display_data"
    }
   ],
   "source": [
    "# Show the values on a scatter plot\n",
    "# Normalized sizes (GB) with related languages\n",
    "pyplot.scatter(macro_F1, sizes_mb_related_list)\n",
    "pyplot.show()"
   ]
  },
  {
   "cell_type": "code",
   "execution_count": 45,
   "metadata": {},
   "outputs": [
    {
     "name": "stdout",
     "output_type": "stream",
     "text": [
      "Pearsons correlation: 0.483\n",
      "p-value: 0.15770106280572002\n",
      "Spearmans correlation: 0.442\n",
      "p-value: 0.20042268671194224\n",
      "\n",
      "\n",
      "Pearsons correlation: 0.240\n",
      "p-value: 0.5035757809014645\n",
      "Spearmans correlation: 0.280\n",
      "p-value: 0.433925839676929\n",
      "\n",
      "\n",
      "Pearsons correlation: 0.415\n",
      "p-value: 0.23343624750296876\n",
      "Spearmans correlation: 0.588\n",
      "p-value: 0.07387770688865801\n",
      "\n",
      "\n",
      "Pearsons correlation: 0.298\n",
      "p-value: 0.40378781012771897\n",
      "Spearmans correlation: 0.122\n",
      "p-value: 0.7379379712336098\n",
      "\n",
      "\n"
     ]
    }
   ],
   "source": [
    "# Calculate correlation\n",
    "for i in [sizes_list,sizes_related_list, sizes_mb_list, sizes_mb_related_list]:\n",
    "\t\tpearson(macro_F1, i)\n",
    "\t\tspearman(macro_F1, i)\n",
    "\t\tprint(\"\\n\")"
   ]
  },
  {
   "cell_type": "code",
   "execution_count": 13,
   "metadata": {},
   "outputs": [
    {
     "data": {
      "image/png": "[encoded data removed]",
      "text/plain": [
       "<Figure size 640x480 with 1 Axes>"
      ]
     },
     "metadata": {},
     "output_type": "display_data"
    },
    {
     "name": "stdout",
     "output_type": "stream",
     "text": [
      "Pearsons correlation: 0.415\n",
      "p-value: 0.23343624750296876\n",
      "Spearmans correlation: 0.588\n",
      "p-value: 0.07387770688865801\n"
     ]
    }
   ],
   "source": [
    "# Get results for sizes_mb and sizes_mb_related\n",
    "\n",
    "analyse(macro_F1, sizes_mb_list, x_name=\"Macro F1\", y_name=\"Size in pretraining data (in GB)\")"
   ]
  },
  {
   "cell_type": "code",
   "execution_count": 14,
   "metadata": {},
   "outputs": [
    {
     "data": {
      "image/png": "[encoded data removed]",
      "text/plain": [
       "<Figure size 640x480 with 1 Axes>"
      ]
     },
     "metadata": {},
     "output_type": "display_data"
    },
    {
     "name": "stdout",
     "output_type": "stream",
     "text": [
      "Pearsons correlation: 0.298\n",
      "p-value: 0.40378781012771897\n",
      "Spearmans correlation: 0.122\n",
      "p-value: 0.7379379712336098\n"
     ]
    }
   ],
   "source": [
    "analyse(macro_F1, sizes_mb_related_list, x_name=\"Macro F1\", y_name=\"Size in pretraining data with related langs (in GB)\")"
   ]
  },
  {
   "cell_type": "markdown",
   "metadata": {},
   "source": [
    "### Label-level correlation"
   ]
  },
  {
   "cell_type": "code",
   "execution_count": null,
   "metadata": {},
   "outputs": [],
   "source": [
    "# Extract label-level F1 scores\n",
    "label_scores = {}\n",
    "\n",
    "for lang in list(main_dict.keys()):\n",
    "\tdf = pd.DataFrame(main_dict[lang][\"dataset\"])\n",
    "\ty_true = df[\"y_true\"].to_list()\n",
    "\ty_pred = df[\"y_pred\"].to_list()\n",
    "\n",
    "\tlabels = list(df[\"y_true\"].unique())\n",
    "\n",
    "\tresults = testing(y_true, y_pred, labels)\n",
    "\n",
    "\tlabel_scores[lang] = {}\n",
    "\n",
    "\tfor label in labels:\n",
    "\t\tlabel_scores[lang][label] = results[\"report\"][label][\"f1-score\"]\n",
    "\n",
    "label_scores"
   ]
  },
  {
   "cell_type": "code",
   "execution_count": 8,
   "metadata": {},
   "outputs": [],
   "source": [
    "# Save the label-level scores\n",
    "with open(\"label-level-scores.json\", \"w\") as label_scores_file:\n",
    "\tjson.dump(label_scores, label_scores_file)"
   ]
  },
  {
   "cell_type": "code",
   "execution_count": 6,
   "metadata": {},
   "outputs": [],
   "source": [
    "# Open label scores\n",
    "with open(\"label-level-scores.json\", \"r\") as label_scores_file:\n",
    "\tlabel_scores = json.load(label_scores_file)"
   ]
  },
  {
   "cell_type": "code",
   "execution_count": 7,
   "metadata": {},
   "outputs": [
    {
     "data": {
      "text/plain": [
       "['News',\n",
       " 'Opinion/Argumentation',\n",
       " 'Instruction',\n",
       " 'Information/Explanation',\n",
       " 'Promotion',\n",
       " 'Legal',\n",
       " 'Forum',\n",
       " 'Prose/Lyrical']"
      ]
     },
     "execution_count": 7,
     "metadata": {},
     "output_type": "execute_result"
    }
   ],
   "source": [
    "labels = list(label_scores[\"mt\"].keys())\n",
    "labels"
   ]
  },
  {
   "cell_type": "code",
   "execution_count": 14,
   "metadata": {},
   "outputs": [
    {
     "data": {
      "text/html": [
       "<div>\n",
       "<style scoped>\n",
       "    .dataframe tbody tr th:only-of-type {\n",
       "        vertical-align: middle;\n",
       "    }\n",
       "\n",
       "    .dataframe tbody tr th {\n",
       "        vertical-align: top;\n",
       "    }\n",
       "\n",
       "    .dataframe thead th {\n",
       "        text-align: right;\n",
       "    }\n",
       "</style>\n",
       "<table border=\"1\" class=\"dataframe\">\n",
       "  <thead>\n",
       "    <tr style=\"text-align: right;\">\n",
       "      <th></th>\n",
       "      <th>sizes_gb</th>\n",
       "      <th>sizes_gb_related</th>\n",
       "      <th>label_scores</th>\n",
       "      <th>macro_f1</th>\n",
       "      <th>News_score</th>\n",
       "      <th>Opinion/Argumentation_score</th>\n",
       "      <th>Instruction_score</th>\n",
       "      <th>Information/Explanation_score</th>\n",
       "      <th>Promotion_score</th>\n",
       "      <th>Legal_score</th>\n",
       "      <th>Forum_score</th>\n",
       "      <th>Prose/Lyrical_score</th>\n",
       "    </tr>\n",
       "  </thead>\n",
       "  <tbody>\n",
       "    <tr>\n",
       "      <th>mt</th>\n",
       "      <td>0.0</td>\n",
       "      <td>28.0</td>\n",
       "      <td>{'News': 0.6923076923076923, 'Opinion/Argument...</td>\n",
       "      <td>0.552357</td>\n",
       "      <td>0.692308</td>\n",
       "      <td>0.333333</td>\n",
       "      <td>0.689655</td>\n",
       "      <td>0.521739</td>\n",
       "      <td>0.818182</td>\n",
       "      <td>1.000000</td>\n",
       "      <td>0.181818</td>\n",
       "      <td>0.181818</td>\n",
       "    </tr>\n",
       "    <tr>\n",
       "      <th>el</th>\n",
       "      <td>46.9</td>\n",
       "      <td>46.9</td>\n",
       "      <td>{'Instruction': 0.7058823529411764, 'Forum': 0...</td>\n",
       "      <td>0.843560</td>\n",
       "      <td>0.900000</td>\n",
       "      <td>0.869565</td>\n",
       "      <td>0.705882</td>\n",
       "      <td>0.695652</td>\n",
       "      <td>0.625000</td>\n",
       "      <td>1.000000</td>\n",
       "      <td>0.952381</td>\n",
       "      <td>1.000000</td>\n",
       "    </tr>\n",
       "    <tr>\n",
       "      <th>tr</th>\n",
       "      <td>20.9</td>\n",
       "      <td>27.4</td>\n",
       "      <td>{'Instruction': 0.9, 'Legal': 1.0, 'Opinion/Ar...</td>\n",
       "      <td>0.899063</td>\n",
       "      <td>0.952381</td>\n",
       "      <td>0.818182</td>\n",
       "      <td>0.900000</td>\n",
       "      <td>0.823529</td>\n",
       "      <td>0.857143</td>\n",
       "      <td>1.000000</td>\n",
       "      <td>0.888889</td>\n",
       "      <td>0.952381</td>\n",
       "    </tr>\n",
       "    <tr>\n",
       "      <th>sq</th>\n",
       "      <td>5.4</td>\n",
       "      <td>5.4</td>\n",
       "      <td>{'Opinion/Argumentation': 0.7, 'Legal': 0.9473...</td>\n",
       "      <td>0.866280</td>\n",
       "      <td>0.888889</td>\n",
       "      <td>0.700000</td>\n",
       "      <td>0.947368</td>\n",
       "      <td>0.800000</td>\n",
       "      <td>0.947368</td>\n",
       "      <td>0.947368</td>\n",
       "      <td>0.842105</td>\n",
       "      <td>0.857143</td>\n",
       "    </tr>\n",
       "    <tr>\n",
       "      <th>is</th>\n",
       "      <td>3.2</td>\n",
       "      <td>109.9</td>\n",
       "      <td>{'Legal': 0.8421052631578948, 'Information/Exp...</td>\n",
       "      <td>0.810444</td>\n",
       "      <td>0.727273</td>\n",
       "      <td>0.818182</td>\n",
       "      <td>0.777778</td>\n",
       "      <td>0.588235</td>\n",
       "      <td>0.782609</td>\n",
       "      <td>0.842105</td>\n",
       "      <td>0.947368</td>\n",
       "      <td>1.000000</td>\n",
       "    </tr>\n",
       "    <tr>\n",
       "      <th>uk</th>\n",
       "      <td>84.6</td>\n",
       "      <td>366.9</td>\n",
       "      <td>{'Instruction': 0.9523809523809523, 'Prose/Lyr...</td>\n",
       "      <td>0.948327</td>\n",
       "      <td>1.000000</td>\n",
       "      <td>0.909091</td>\n",
       "      <td>0.952381</td>\n",
       "      <td>1.000000</td>\n",
       "      <td>0.777778</td>\n",
       "      <td>1.000000</td>\n",
       "      <td>0.947368</td>\n",
       "      <td>1.000000</td>\n",
       "    </tr>\n",
       "    <tr>\n",
       "      <th>ca</th>\n",
       "      <td>10.1</td>\n",
       "      <td>115.4</td>\n",
       "      <td>{'Forum': 0.8421052631578948, 'Information/Exp...</td>\n",
       "      <td>0.827101</td>\n",
       "      <td>0.823529</td>\n",
       "      <td>0.842105</td>\n",
       "      <td>0.750000</td>\n",
       "      <td>0.720000</td>\n",
       "      <td>0.782609</td>\n",
       "      <td>0.947368</td>\n",
       "      <td>0.842105</td>\n",
       "      <td>0.909091</td>\n",
       "    </tr>\n",
       "    <tr>\n",
       "      <th>mk</th>\n",
       "      <td>4.8</td>\n",
       "      <td>62.3</td>\n",
       "      <td>{'Forum': 1.0, 'News': 0.9090909090909091, 'In...</td>\n",
       "      <td>0.922638</td>\n",
       "      <td>0.909091</td>\n",
       "      <td>0.777778</td>\n",
       "      <td>1.000000</td>\n",
       "      <td>0.842105</td>\n",
       "      <td>0.952381</td>\n",
       "      <td>0.947368</td>\n",
       "      <td>1.000000</td>\n",
       "      <td>0.952381</td>\n",
       "    </tr>\n",
       "    <tr>\n",
       "      <th>hr</th>\n",
       "      <td>29.7</td>\n",
       "      <td>40.0</td>\n",
       "      <td>{'Promotion': 0.8695652173913044, 'Information...</td>\n",
       "      <td>0.882916</td>\n",
       "      <td>0.947368</td>\n",
       "      <td>0.777778</td>\n",
       "      <td>0.750000</td>\n",
       "      <td>0.952381</td>\n",
       "      <td>0.869565</td>\n",
       "      <td>1.000000</td>\n",
       "      <td>0.909091</td>\n",
       "      <td>0.857143</td>\n",
       "    </tr>\n",
       "    <tr>\n",
       "      <th>sl</th>\n",
       "      <td>10.3</td>\n",
       "      <td>40.0</td>\n",
       "      <td>{'News': 0.9, 'Instruction': 1.0, 'Opinion/Arg...</td>\n",
       "      <td>0.935625</td>\n",
       "      <td>0.900000</td>\n",
       "      <td>0.823529</td>\n",
       "      <td>1.000000</td>\n",
       "      <td>0.900000</td>\n",
       "      <td>1.000000</td>\n",
       "      <td>0.952381</td>\n",
       "      <td>1.000000</td>\n",
       "      <td>0.909091</td>\n",
       "    </tr>\n",
       "  </tbody>\n",
       "</table>\n",
       "</div>"
      ],
      "text/plain": [
       "    sizes_gb  sizes_gb_related  \\\n",
       "mt       0.0              28.0   \n",
       "el      46.9              46.9   \n",
       "tr      20.9              27.4   \n",
       "sq       5.4               5.4   \n",
       "is       3.2             109.9   \n",
       "uk      84.6             366.9   \n",
       "ca      10.1             115.4   \n",
       "mk       4.8              62.3   \n",
       "hr      29.7              40.0   \n",
       "sl      10.3              40.0   \n",
       "\n",
       "                                         label_scores  macro_f1  News_score  \\\n",
       "mt  {'News': 0.6923076923076923, 'Opinion/Argument...  0.552357    0.692308   \n",
       "el  {'Instruction': 0.7058823529411764, 'Forum': 0...  0.843560    0.900000   \n",
       "tr  {'Instruction': 0.9, 'Legal': 1.0, 'Opinion/Ar...  0.899063    0.952381   \n",
       "sq  {'Opinion/Argumentation': 0.7, 'Legal': 0.9473...  0.866280    0.888889   \n",
       "is  {'Legal': 0.8421052631578948, 'Information/Exp...  0.810444    0.727273   \n",
       "uk  {'Instruction': 0.9523809523809523, 'Prose/Lyr...  0.948327    1.000000   \n",
       "ca  {'Forum': 0.8421052631578948, 'Information/Exp...  0.827101    0.823529   \n",
       "mk  {'Forum': 1.0, 'News': 0.9090909090909091, 'In...  0.922638    0.909091   \n",
       "hr  {'Promotion': 0.8695652173913044, 'Information...  0.882916    0.947368   \n",
       "sl  {'News': 0.9, 'Instruction': 1.0, 'Opinion/Arg...  0.935625    0.900000   \n",
       "\n",
       "    Opinion/Argumentation_score  Instruction_score  \\\n",
       "mt                     0.333333           0.689655   \n",
       "el                     0.869565           0.705882   \n",
       "tr                     0.818182           0.900000   \n",
       "sq                     0.700000           0.947368   \n",
       "is                     0.818182           0.777778   \n",
       "uk                     0.909091           0.952381   \n",
       "ca                     0.842105           0.750000   \n",
       "mk                     0.777778           1.000000   \n",
       "hr                     0.777778           0.750000   \n",
       "sl                     0.823529           1.000000   \n",
       "\n",
       "    Information/Explanation_score  Promotion_score  Legal_score  Forum_score  \\\n",
       "mt                       0.521739         0.818182     1.000000     0.181818   \n",
       "el                       0.695652         0.625000     1.000000     0.952381   \n",
       "tr                       0.823529         0.857143     1.000000     0.888889   \n",
       "sq                       0.800000         0.947368     0.947368     0.842105   \n",
       "is                       0.588235         0.782609     0.842105     0.947368   \n",
       "uk                       1.000000         0.777778     1.000000     0.947368   \n",
       "ca                       0.720000         0.782609     0.947368     0.842105   \n",
       "mk                       0.842105         0.952381     0.947368     1.000000   \n",
       "hr                       0.952381         0.869565     1.000000     0.909091   \n",
       "sl                       0.900000         1.000000     0.952381     1.000000   \n",
       "\n",
       "    Prose/Lyrical_score  \n",
       "mt             0.181818  \n",
       "el             1.000000  \n",
       "tr             0.952381  \n",
       "sq             0.857143  \n",
       "is             1.000000  \n",
       "uk             1.000000  \n",
       "ca             0.909091  \n",
       "mk             0.952381  \n",
       "hr             0.857143  \n",
       "sl             0.909091  "
      ]
     },
     "execution_count": 14,
     "metadata": {},
     "output_type": "execute_result"
    }
   ],
   "source": [
    "# Calculate label-level performance for each label, each dataset\n",
    "\n",
    "# Create a dataframe with all values\n",
    "\n",
    "df_results = pd.DataFrame({\"sizes_gb\": sizes_mb, \"sizes_gb_related\": sizes_mb_with_related, \"label_scores\": label_scores})\n",
    "\n",
    "#Add macro_f1\n",
    "\n",
    "df_results[\"macro_f1\"] = macro_F1\n",
    "\n",
    "# Add label specific scores\n",
    "\n",
    "for label in labels:\n",
    "\tdf_results[f\"{label}_score\"] = df_results[\"label_scores\"].apply(lambda x:x[label])\n",
    "\n",
    "df_results"
   ]
  },
  {
   "cell_type": "code",
   "execution_count": 20,
   "metadata": {},
   "outputs": [
    {
     "name": "stdout",
     "output_type": "stream",
     "text": [
      "Size (in GB) and label F1 scores\n"
     ]
    },
    {
     "data": {
      "image/png": "[encoded data removed]",
      "text/plain": [
       "<Figure size 640x480 with 1 Axes>"
      ]
     },
     "metadata": {},
     "output_type": "display_data"
    },
    {
     "name": "stdout",
     "output_type": "stream",
     "text": [
      "Pearsons correlation: 0.275\n",
      "p-value: 0.013539468997046106\n",
      "Spearmans correlation: 0.349\n",
      "p-value: 0.0015106453984760197\n",
      "Plot for size + related languages (in GB) and label F1 scores\n"
     ]
    },
    {
     "data": {
      "image/png": "[encoded data removed]",
      "text/plain": [
       "<Figure size 640x480 with 1 Axes>"
      ]
     },
     "metadata": {},
     "output_type": "display_data"
    },
    {
     "name": "stdout",
     "output_type": "stream",
     "text": [
      "Pearsons correlation: 0.197\n",
      "p-value: 0.07932862745724867\n",
      "Spearmans correlation: 0.119\n",
      "p-value: 0.2919649610699323\n"
     ]
    }
   ],
   "source": [
    "# Merge all label performance into one long vector\n",
    "\n",
    "label_merged = []\n",
    "\n",
    "for label in labels:\n",
    "\t# Create label performance list\n",
    "\tlabel_merged.extend(df_results[f\"{label}_score\"].to_list())\n",
    "\n",
    "len(label_merged)\n",
    "\n",
    "# Create size list - it should be sizes_gb x 8 (number of labels)\n",
    "size_merged = []\n",
    "\n",
    "for i in list(range(len(labels))):\n",
    "\tsize_merged.extend(df_results[\"sizes_gb\"].to_list())\n",
    "\n",
    "size_related_merged = []\n",
    "\n",
    "# Do the same with size with related list\n",
    "for i in list(range(len(labels))):\n",
    "\tsize_related_merged.extend(df_results[\"sizes_gb_related\"].to_list())\n",
    "\n",
    "# Plot\n",
    "# Show the values on a scatter plot\n",
    "print(f\"Size (in GB) and label F1 scores\")\n",
    "analyse(label_merged, size_merged, \"Label F1 scores\", \"Size in pretraining data (in GB)\")\n",
    "\n",
    "\n",
    "print(f\"Plot for size + related languages (in GB) and label F1 scores\")\n",
    "# Show the values on a scatter plot\n",
    "analyse(label_merged, size_related_merged, \"Label F1 scores\", \"Size in pretraining data with related langs (in GB)\")\n"
   ]
  },
  {
   "cell_type": "markdown",
   "metadata": {},
   "source": [
    "# Correlation of token overlap and macro F1 scores"
   ]
  },
  {
   "cell_type": "markdown",
   "metadata": {},
   "source": [
    "## Dataset-level"
   ]
  },
  {
   "cell_type": "code",
   "execution_count": 39,
   "metadata": {},
   "outputs": [
    {
     "data": {
      "text/plain": [
       "[0.8170850409836066,\n",
       " 0.1614276568501921,\n",
       " 0.5215024680505782,\n",
       " 0.605775337143711,\n",
       " 0.5175752260153825,\n",
       " 0.15667519020109233,\n",
       " 0.7448809178042405,\n",
       " 0.14598936285683273,\n",
       " 0.8215173660815189,\n",
       " 0.9742887570363609]"
      ]
     },
     "execution_count": 39,
     "metadata": {},
     "output_type": "execute_result"
    }
   ],
   "source": [
    "# Get an array of token overlap in percentages\n",
    "overlap = [main_dict[x]['token_overlap']['overlap_percentage'] for x in list(main_dict.keys())]\n",
    "overlap"
   ]
  },
  {
   "cell_type": "code",
   "execution_count": 43,
   "metadata": {},
   "outputs": [
    {
     "data": {
      "image/png": "[encoded data removed]",
      "text/plain": [
       "<Figure size 640x480 with 1 Axes>"
      ]
     },
     "metadata": {},
     "output_type": "display_data"
    },
    {
     "name": "stdout",
     "output_type": "stream",
     "text": [
      "Pearsons correlation: -0.331\n",
      "p-value: 0.3501872914118316\n",
      "Spearmans correlation: -0.200\n",
      "p-value: 0.5795840000000001\n"
     ]
    }
   ],
   "source": [
    "# Analyse the correlation\n",
    "analyse(overlap, macro_F1, x_name=\"Token Overlap (%)\", y_name=\"Macro F1\")"
   ]
  },
  {
   "cell_type": "markdown",
   "metadata": {},
   "source": [
    "## Label-level"
   ]
  },
  {
   "cell_type": "code",
   "execution_count": 16,
   "metadata": {},
   "outputs": [
    {
     "data": {
      "text/html": [
       "<div>\n",
       "<style scoped>\n",
       "    .dataframe tbody tr th:only-of-type {\n",
       "        vertical-align: middle;\n",
       "    }\n",
       "\n",
       "    .dataframe tbody tr th {\n",
       "        vertical-align: top;\n",
       "    }\n",
       "\n",
       "    .dataframe thead th {\n",
       "        text-align: right;\n",
       "    }\n",
       "</style>\n",
       "<table border=\"1\" class=\"dataframe\">\n",
       "  <thead>\n",
       "    <tr style=\"text-align: right;\">\n",
       "      <th></th>\n",
       "      <th>mt</th>\n",
       "      <th>el</th>\n",
       "      <th>tr</th>\n",
       "      <th>sq</th>\n",
       "      <th>is</th>\n",
       "      <th>uk</th>\n",
       "      <th>ca</th>\n",
       "      <th>mk</th>\n",
       "      <th>hr</th>\n",
       "      <th>sl</th>\n",
       "    </tr>\n",
       "  </thead>\n",
       "  <tbody>\n",
       "    <tr>\n",
       "      <th>News</th>\n",
       "      <td>0.692308</td>\n",
       "      <td>0.900000</td>\n",
       "      <td>0.952381</td>\n",
       "      <td>0.888889</td>\n",
       "      <td>0.727273</td>\n",
       "      <td>1.000000</td>\n",
       "      <td>0.823529</td>\n",
       "      <td>0.909091</td>\n",
       "      <td>0.947368</td>\n",
       "      <td>0.900000</td>\n",
       "    </tr>\n",
       "    <tr>\n",
       "      <th>Opinion/Argumentation</th>\n",
       "      <td>0.333333</td>\n",
       "      <td>0.869565</td>\n",
       "      <td>0.818182</td>\n",
       "      <td>0.700000</td>\n",
       "      <td>0.818182</td>\n",
       "      <td>0.909091</td>\n",
       "      <td>0.842105</td>\n",
       "      <td>0.777778</td>\n",
       "      <td>0.777778</td>\n",
       "      <td>0.823529</td>\n",
       "    </tr>\n",
       "    <tr>\n",
       "      <th>Instruction</th>\n",
       "      <td>0.689655</td>\n",
       "      <td>0.705882</td>\n",
       "      <td>0.900000</td>\n",
       "      <td>0.947368</td>\n",
       "      <td>0.777778</td>\n",
       "      <td>0.952381</td>\n",
       "      <td>0.750000</td>\n",
       "      <td>1.000000</td>\n",
       "      <td>0.750000</td>\n",
       "      <td>1.000000</td>\n",
       "    </tr>\n",
       "    <tr>\n",
       "      <th>Information/Explanation</th>\n",
       "      <td>0.521739</td>\n",
       "      <td>0.695652</td>\n",
       "      <td>0.823529</td>\n",
       "      <td>0.800000</td>\n",
       "      <td>0.588235</td>\n",
       "      <td>1.000000</td>\n",
       "      <td>0.720000</td>\n",
       "      <td>0.842105</td>\n",
       "      <td>0.952381</td>\n",
       "      <td>0.900000</td>\n",
       "    </tr>\n",
       "    <tr>\n",
       "      <th>Promotion</th>\n",
       "      <td>0.818182</td>\n",
       "      <td>0.625000</td>\n",
       "      <td>0.857143</td>\n",
       "      <td>0.947368</td>\n",
       "      <td>0.782609</td>\n",
       "      <td>0.777778</td>\n",
       "      <td>0.782609</td>\n",
       "      <td>0.952381</td>\n",
       "      <td>0.869565</td>\n",
       "      <td>1.000000</td>\n",
       "    </tr>\n",
       "    <tr>\n",
       "      <th>Legal</th>\n",
       "      <td>1.000000</td>\n",
       "      <td>1.000000</td>\n",
       "      <td>1.000000</td>\n",
       "      <td>0.947368</td>\n",
       "      <td>0.842105</td>\n",
       "      <td>1.000000</td>\n",
       "      <td>0.947368</td>\n",
       "      <td>0.947368</td>\n",
       "      <td>1.000000</td>\n",
       "      <td>0.952381</td>\n",
       "    </tr>\n",
       "    <tr>\n",
       "      <th>Forum</th>\n",
       "      <td>0.181818</td>\n",
       "      <td>0.952381</td>\n",
       "      <td>0.888889</td>\n",
       "      <td>0.842105</td>\n",
       "      <td>0.947368</td>\n",
       "      <td>0.947368</td>\n",
       "      <td>0.842105</td>\n",
       "      <td>1.000000</td>\n",
       "      <td>0.909091</td>\n",
       "      <td>1.000000</td>\n",
       "    </tr>\n",
       "    <tr>\n",
       "      <th>Prose/Lyrical</th>\n",
       "      <td>0.181818</td>\n",
       "      <td>1.000000</td>\n",
       "      <td>0.952381</td>\n",
       "      <td>0.857143</td>\n",
       "      <td>1.000000</td>\n",
       "      <td>1.000000</td>\n",
       "      <td>0.909091</td>\n",
       "      <td>0.952381</td>\n",
       "      <td>0.857143</td>\n",
       "      <td>0.909091</td>\n",
       "    </tr>\n",
       "  </tbody>\n",
       "</table>\n",
       "</div>"
      ],
      "text/plain": [
       "                               mt        el        tr        sq        is  \\\n",
       "News                     0.692308  0.900000  0.952381  0.888889  0.727273   \n",
       "Opinion/Argumentation    0.333333  0.869565  0.818182  0.700000  0.818182   \n",
       "Instruction              0.689655  0.705882  0.900000  0.947368  0.777778   \n",
       "Information/Explanation  0.521739  0.695652  0.823529  0.800000  0.588235   \n",
       "Promotion                0.818182  0.625000  0.857143  0.947368  0.782609   \n",
       "Legal                    1.000000  1.000000  1.000000  0.947368  0.842105   \n",
       "Forum                    0.181818  0.952381  0.888889  0.842105  0.947368   \n",
       "Prose/Lyrical            0.181818  1.000000  0.952381  0.857143  1.000000   \n",
       "\n",
       "                               uk        ca        mk        hr        sl  \n",
       "News                     1.000000  0.823529  0.909091  0.947368  0.900000  \n",
       "Opinion/Argumentation    0.909091  0.842105  0.777778  0.777778  0.823529  \n",
       "Instruction              0.952381  0.750000  1.000000  0.750000  1.000000  \n",
       "Information/Explanation  1.000000  0.720000  0.842105  0.952381  0.900000  \n",
       "Promotion                0.777778  0.782609  0.952381  0.869565  1.000000  \n",
       "Legal                    1.000000  0.947368  0.947368  1.000000  0.952381  \n",
       "Forum                    0.947368  0.842105  1.000000  0.909091  1.000000  \n",
       "Prose/Lyrical            1.000000  0.909091  0.952381  0.857143  0.909091  "
      ]
     },
     "execution_count": 16,
     "metadata": {},
     "output_type": "execute_result"
    }
   ],
   "source": [
    "# Get label-level scores\n",
    "label_scores = pd.read_json(\"datasets/label-level-scores.json\")\n",
    "\n",
    "label_scores"
   ]
  },
  {
   "cell_type": "code",
   "execution_count": 9,
   "metadata": {},
   "outputs": [
    {
     "data": {
      "text/html": [
       "<div>\n",
       "<style scoped>\n",
       "    .dataframe tbody tr th:only-of-type {\n",
       "        vertical-align: middle;\n",
       "    }\n",
       "\n",
       "    .dataframe tbody tr th {\n",
       "        vertical-align: top;\n",
       "    }\n",
       "\n",
       "    .dataframe thead th {\n",
       "        text-align: right;\n",
       "    }\n",
       "</style>\n",
       "<table border=\"1\" class=\"dataframe\">\n",
       "  <thead>\n",
       "    <tr style=\"text-align: right;\">\n",
       "      <th></th>\n",
       "      <th>mt</th>\n",
       "      <th>el</th>\n",
       "      <th>tr</th>\n",
       "      <th>sq</th>\n",
       "      <th>is</th>\n",
       "      <th>uk</th>\n",
       "      <th>ca</th>\n",
       "      <th>mk</th>\n",
       "      <th>hr</th>\n",
       "      <th>sl</th>\n",
       "      <th>average</th>\n",
       "      <th>average-wth-mt</th>\n",
       "    </tr>\n",
       "  </thead>\n",
       "  <tbody>\n",
       "    <tr>\n",
       "      <th>News</th>\n",
       "      <td>0.69</td>\n",
       "      <td>0.90</td>\n",
       "      <td>0.95</td>\n",
       "      <td>0.89</td>\n",
       "      <td>0.73</td>\n",
       "      <td>1.00</td>\n",
       "      <td>0.82</td>\n",
       "      <td>0.91</td>\n",
       "      <td>0.95</td>\n",
       "      <td>0.90</td>\n",
       "      <td>0.87</td>\n",
       "      <td>0.89</td>\n",
       "    </tr>\n",
       "    <tr>\n",
       "      <th>Opinion/Argumentation</th>\n",
       "      <td>0.33</td>\n",
       "      <td>0.87</td>\n",
       "      <td>0.82</td>\n",
       "      <td>0.70</td>\n",
       "      <td>0.82</td>\n",
       "      <td>0.91</td>\n",
       "      <td>0.84</td>\n",
       "      <td>0.78</td>\n",
       "      <td>0.78</td>\n",
       "      <td>0.82</td>\n",
       "      <td>0.77</td>\n",
       "      <td>0.81</td>\n",
       "    </tr>\n",
       "    <tr>\n",
       "      <th>Instruction</th>\n",
       "      <td>0.69</td>\n",
       "      <td>0.71</td>\n",
       "      <td>0.90</td>\n",
       "      <td>0.95</td>\n",
       "      <td>0.78</td>\n",
       "      <td>0.95</td>\n",
       "      <td>0.75</td>\n",
       "      <td>1.00</td>\n",
       "      <td>0.75</td>\n",
       "      <td>1.00</td>\n",
       "      <td>0.85</td>\n",
       "      <td>0.86</td>\n",
       "    </tr>\n",
       "    <tr>\n",
       "      <th>Information/Explanation</th>\n",
       "      <td>0.52</td>\n",
       "      <td>0.70</td>\n",
       "      <td>0.82</td>\n",
       "      <td>0.80</td>\n",
       "      <td>0.59</td>\n",
       "      <td>1.00</td>\n",
       "      <td>0.72</td>\n",
       "      <td>0.84</td>\n",
       "      <td>0.95</td>\n",
       "      <td>0.90</td>\n",
       "      <td>0.78</td>\n",
       "      <td>0.81</td>\n",
       "    </tr>\n",
       "    <tr>\n",
       "      <th>Promotion</th>\n",
       "      <td>0.82</td>\n",
       "      <td>0.62</td>\n",
       "      <td>0.86</td>\n",
       "      <td>0.95</td>\n",
       "      <td>0.78</td>\n",
       "      <td>0.78</td>\n",
       "      <td>0.78</td>\n",
       "      <td>0.95</td>\n",
       "      <td>0.87</td>\n",
       "      <td>1.00</td>\n",
       "      <td>0.84</td>\n",
       "      <td>0.84</td>\n",
       "    </tr>\n",
       "    <tr>\n",
       "      <th>Legal</th>\n",
       "      <td>1.00</td>\n",
       "      <td>1.00</td>\n",
       "      <td>1.00</td>\n",
       "      <td>0.95</td>\n",
       "      <td>0.84</td>\n",
       "      <td>1.00</td>\n",
       "      <td>0.95</td>\n",
       "      <td>0.95</td>\n",
       "      <td>1.00</td>\n",
       "      <td>0.95</td>\n",
       "      <td>0.96</td>\n",
       "      <td>0.96</td>\n",
       "    </tr>\n",
       "    <tr>\n",
       "      <th>Forum</th>\n",
       "      <td>0.18</td>\n",
       "      <td>0.95</td>\n",
       "      <td>0.89</td>\n",
       "      <td>0.84</td>\n",
       "      <td>0.95</td>\n",
       "      <td>0.95</td>\n",
       "      <td>0.84</td>\n",
       "      <td>1.00</td>\n",
       "      <td>0.91</td>\n",
       "      <td>1.00</td>\n",
       "      <td>0.85</td>\n",
       "      <td>0.92</td>\n",
       "    </tr>\n",
       "    <tr>\n",
       "      <th>Prose/Lyrical</th>\n",
       "      <td>0.18</td>\n",
       "      <td>1.00</td>\n",
       "      <td>0.95</td>\n",
       "      <td>0.86</td>\n",
       "      <td>1.00</td>\n",
       "      <td>1.00</td>\n",
       "      <td>0.91</td>\n",
       "      <td>0.95</td>\n",
       "      <td>0.86</td>\n",
       "      <td>0.91</td>\n",
       "      <td>0.86</td>\n",
       "      <td>0.93</td>\n",
       "    </tr>\n",
       "  </tbody>\n",
       "</table>\n",
       "</div>"
      ],
      "text/plain": [
       "                           mt    el    tr    sq    is    uk    ca    mk    hr  \\\n",
       "News                     0.69  0.90  0.95  0.89  0.73  1.00  0.82  0.91  0.95   \n",
       "Opinion/Argumentation    0.33  0.87  0.82  0.70  0.82  0.91  0.84  0.78  0.78   \n",
       "Instruction              0.69  0.71  0.90  0.95  0.78  0.95  0.75  1.00  0.75   \n",
       "Information/Explanation  0.52  0.70  0.82  0.80  0.59  1.00  0.72  0.84  0.95   \n",
       "Promotion                0.82  0.62  0.86  0.95  0.78  0.78  0.78  0.95  0.87   \n",
       "Legal                    1.00  1.00  1.00  0.95  0.84  1.00  0.95  0.95  1.00   \n",
       "Forum                    0.18  0.95  0.89  0.84  0.95  0.95  0.84  1.00  0.91   \n",
       "Prose/Lyrical            0.18  1.00  0.95  0.86  1.00  1.00  0.91  0.95  0.86   \n",
       "\n",
       "                           sl  average  average-wth-mt  \n",
       "News                     0.90     0.87            0.89  \n",
       "Opinion/Argumentation    0.82     0.77            0.81  \n",
       "Instruction              1.00     0.85            0.86  \n",
       "Information/Explanation  0.90     0.78            0.81  \n",
       "Promotion                1.00     0.84            0.84  \n",
       "Legal                    0.95     0.96            0.96  \n",
       "Forum                    1.00     0.85            0.92  \n",
       "Prose/Lyrical            0.91     0.86            0.93  "
      ]
     },
     "execution_count": 9,
     "metadata": {},
     "output_type": "execute_result"
    }
   ],
   "source": [
    "# Add a column which averages the resuls in each row\n",
    "\n",
    "label_scores[\"average\"] = label_scores.mean(axis=1)\n",
    "\n",
    "# add average without Maltese\n",
    "label_scores[\"average-wth-mt\"] = label_scores.iloc[:, 1:].mean(axis=1)\n",
    "\n",
    "label_scores.round(2)"
   ]
  },
  {
   "cell_type": "code",
   "execution_count": 10,
   "metadata": {},
   "outputs": [
    {
     "name": "stdout",
     "output_type": "stream",
     "text": [
      "|                         |   mt |   el |   tr |   sq |   is |   uk |   ca |   mk |   hr |   sl |   average |   average-wth-mt |\n",
      "|:------------------------|-----:|-----:|-----:|-----:|-----:|-----:|-----:|-----:|-----:|-----:|----------:|-----------------:|\n",
      "| News                    | 0.69 | 0.9  | 0.95 | 0.89 | 0.73 | 1    | 0.82 | 0.91 | 0.95 | 0.9  |      0.87 |             0.89 |\n",
      "| Opinion/Argumentation   | 0.33 | 0.87 | 0.82 | 0.7  | 0.82 | 0.91 | 0.84 | 0.78 | 0.78 | 0.82 |      0.77 |             0.81 |\n",
      "| Instruction             | 0.69 | 0.71 | 0.9  | 0.95 | 0.78 | 0.95 | 0.75 | 1    | 0.75 | 1    |      0.85 |             0.86 |\n",
      "| Information/Explanation | 0.52 | 0.7  | 0.82 | 0.8  | 0.59 | 1    | 0.72 | 0.84 | 0.95 | 0.9  |      0.78 |             0.81 |\n",
      "| Promotion               | 0.82 | 0.62 | 0.86 | 0.95 | 0.78 | 0.78 | 0.78 | 0.95 | 0.87 | 1    |      0.84 |             0.84 |\n",
      "| Legal                   | 1    | 1    | 1    | 0.95 | 0.84 | 1    | 0.95 | 0.95 | 1    | 0.95 |      0.96 |             0.96 |\n",
      "| Forum                   | 0.18 | 0.95 | 0.89 | 0.84 | 0.95 | 0.95 | 0.84 | 1    | 0.91 | 1    |      0.85 |             0.92 |\n",
      "| Prose/Lyrical           | 0.18 | 1    | 0.95 | 0.86 | 1    | 1    | 0.91 | 0.95 | 0.86 | 0.91 |      0.86 |             0.93 |\n"
     ]
    }
   ],
   "source": [
    "# Round values in label scores to two decimal places\n",
    "print(label_scores.round(2).to_markdown())"
   ]
  },
  {
   "cell_type": "code",
   "execution_count": 17,
   "metadata": {},
   "outputs": [],
   "source": [
    "label_scores_dict = label_scores.to_dict()"
   ]
  },
  {
   "cell_type": "code",
   "execution_count": 18,
   "metadata": {},
   "outputs": [
    {
     "data": {
      "text/plain": [
       "{'mt-News': 0.6923076923076921,\n",
       " 'mt-Opinion/Argumentation': 0.33333333333333304,\n",
       " 'mt-Instruction': 0.689655172413793,\n",
       " 'mt-Information/Explanation': 0.521739130434782,\n",
       " 'mt-Promotion': 0.818181818181818,\n",
       " 'mt-Legal': 1.0,\n",
       " 'mt-Forum': 0.18181818181818102,\n",
       " 'mt-Prose/Lyrical': 0.18181818181818102,\n",
       " 'el-News': 0.9,\n",
       " 'el-Opinion/Argumentation': 0.8695652173913041,\n",
       " 'el-Instruction': 0.7058823529411761,\n",
       " 'el-Information/Explanation': 0.695652173913043,\n",
       " 'el-Promotion': 0.625,\n",
       " 'el-Legal': 1.0,\n",
       " 'el-Forum': 0.9523809523809521,\n",
       " 'el-Prose/Lyrical': 1.0,\n",
       " 'tr-News': 0.9523809523809521,\n",
       " 'tr-Opinion/Argumentation': 0.818181818181818,\n",
       " 'tr-Instruction': 0.9,\n",
       " 'tr-Information/Explanation': 0.8235294117647051,\n",
       " 'tr-Promotion': 0.8571428571428571,\n",
       " 'tr-Legal': 1.0,\n",
       " 'tr-Forum': 0.8888888888888891,\n",
       " 'tr-Prose/Lyrical': 0.9523809523809521,\n",
       " 'sq-News': 0.8888888888888891,\n",
       " 'sq-Opinion/Argumentation': 0.7000000000000001,\n",
       " 'sq-Instruction': 0.9473684210526311,\n",
       " 'sq-Information/Explanation': 0.8,\n",
       " 'sq-Promotion': 0.9473684210526311,\n",
       " 'sq-Legal': 0.9473684210526311,\n",
       " 'sq-Forum': 0.842105263157894,\n",
       " 'sq-Prose/Lyrical': 0.8571428571428571,\n",
       " 'is-News': 0.7272727272727271,\n",
       " 'is-Opinion/Argumentation': 0.818181818181818,\n",
       " 'is-Instruction': 0.777777777777777,\n",
       " 'is-Information/Explanation': 0.5882352941176471,\n",
       " 'is-Promotion': 0.7826086956521731,\n",
       " 'is-Legal': 0.842105263157894,\n",
       " 'is-Forum': 0.9473684210526311,\n",
       " 'is-Prose/Lyrical': 1.0,\n",
       " 'uk-News': 1.0,\n",
       " 'uk-Opinion/Argumentation': 0.9090909090909091,\n",
       " 'uk-Instruction': 0.9523809523809521,\n",
       " 'uk-Information/Explanation': 1.0,\n",
       " 'uk-Promotion': 0.777777777777777,\n",
       " 'uk-Legal': 1.0,\n",
       " 'uk-Forum': 0.9473684210526311,\n",
       " 'uk-Prose/Lyrical': 1.0,\n",
       " 'ca-News': 0.8235294117647051,\n",
       " 'ca-Opinion/Argumentation': 0.842105263157894,\n",
       " 'ca-Instruction': 0.7499999999999991,\n",
       " 'ca-Information/Explanation': 0.7200000000000001,\n",
       " 'ca-Promotion': 0.7826086956521731,\n",
       " 'ca-Legal': 0.9473684210526311,\n",
       " 'ca-Forum': 0.842105263157894,\n",
       " 'ca-Prose/Lyrical': 0.9090909090909091,\n",
       " 'mk-News': 0.9090909090909091,\n",
       " 'mk-Opinion/Argumentation': 0.777777777777777,\n",
       " 'mk-Instruction': 1.0,\n",
       " 'mk-Information/Explanation': 0.842105263157894,\n",
       " 'mk-Promotion': 0.9523809523809521,\n",
       " 'mk-Legal': 0.9473684210526311,\n",
       " 'mk-Forum': 1.0,\n",
       " 'mk-Prose/Lyrical': 0.9523809523809521,\n",
       " 'hr-News': 0.9473684210526311,\n",
       " 'hr-Opinion/Argumentation': 0.777777777777777,\n",
       " 'hr-Instruction': 0.7499999999999991,\n",
       " 'hr-Information/Explanation': 0.9523809523809521,\n",
       " 'hr-Promotion': 0.8695652173913041,\n",
       " 'hr-Legal': 1.0,\n",
       " 'hr-Forum': 0.9090909090909091,\n",
       " 'hr-Prose/Lyrical': 0.8571428571428571,\n",
       " 'sl-News': 0.9,\n",
       " 'sl-Opinion/Argumentation': 0.8235294117647051,\n",
       " 'sl-Instruction': 1.0,\n",
       " 'sl-Information/Explanation': 0.9,\n",
       " 'sl-Promotion': 1.0,\n",
       " 'sl-Legal': 0.9523809523809521,\n",
       " 'sl-Forum': 1.0,\n",
       " 'sl-Prose/Lyrical': 0.9090909090909091}"
      ]
     },
     "execution_count": 18,
     "metadata": {},
     "output_type": "execute_result"
    }
   ],
   "source": [
    "# Get scores in format \"mt-News\"\n",
    "label_scores_new_dict = {}\n",
    "\n",
    "for lang in list(label_scores.keys()):\n",
    "\tfor label in list(label_scores[lang].keys()):\n",
    "\t\tlabel_scores_new_dict[f\"{lang}-{label}\"] = label_scores[lang][label]\n",
    "\n",
    "label_scores_new_dict"
   ]
  },
  {
   "cell_type": "code",
   "execution_count": 21,
   "metadata": {},
   "outputs": [
    {
     "data": {
      "text/html": [
       "<div>\n",
       "<style scoped>\n",
       "    .dataframe tbody tr th:only-of-type {\n",
       "        vertical-align: middle;\n",
       "    }\n",
       "\n",
       "    .dataframe tbody tr th {\n",
       "        vertical-align: top;\n",
       "    }\n",
       "\n",
       "    .dataframe thead th {\n",
       "        text-align: right;\n",
       "    }\n",
       "</style>\n",
       "<table border=\"1\" class=\"dataframe\">\n",
       "  <thead>\n",
       "    <tr style=\"text-align: right;\">\n",
       "      <th></th>\n",
       "      <th>label</th>\n",
       "      <th>F1</th>\n",
       "    </tr>\n",
       "  </thead>\n",
       "  <tbody>\n",
       "    <tr>\n",
       "      <th>0</th>\n",
       "      <td>mt-News</td>\n",
       "      <td>0.692308</td>\n",
       "    </tr>\n",
       "    <tr>\n",
       "      <th>1</th>\n",
       "      <td>mt-Opinion/Argumentation</td>\n",
       "      <td>0.333333</td>\n",
       "    </tr>\n",
       "    <tr>\n",
       "      <th>2</th>\n",
       "      <td>mt-Instruction</td>\n",
       "      <td>0.689655</td>\n",
       "    </tr>\n",
       "    <tr>\n",
       "      <th>3</th>\n",
       "      <td>mt-Information/Explanation</td>\n",
       "      <td>0.521739</td>\n",
       "    </tr>\n",
       "    <tr>\n",
       "      <th>4</th>\n",
       "      <td>mt-Promotion</td>\n",
       "      <td>0.818182</td>\n",
       "    </tr>\n",
       "    <tr>\n",
       "      <th>...</th>\n",
       "      <td>...</td>\n",
       "      <td>...</td>\n",
       "    </tr>\n",
       "    <tr>\n",
       "      <th>75</th>\n",
       "      <td>sl-Information/Explanation</td>\n",
       "      <td>0.900000</td>\n",
       "    </tr>\n",
       "    <tr>\n",
       "      <th>76</th>\n",
       "      <td>sl-Promotion</td>\n",
       "      <td>1.000000</td>\n",
       "    </tr>\n",
       "    <tr>\n",
       "      <th>77</th>\n",
       "      <td>sl-Legal</td>\n",
       "      <td>0.952381</td>\n",
       "    </tr>\n",
       "    <tr>\n",
       "      <th>78</th>\n",
       "      <td>sl-Forum</td>\n",
       "      <td>1.000000</td>\n",
       "    </tr>\n",
       "    <tr>\n",
       "      <th>79</th>\n",
       "      <td>sl-Prose/Lyrical</td>\n",
       "      <td>0.909091</td>\n",
       "    </tr>\n",
       "  </tbody>\n",
       "</table>\n",
       "<p>80 rows × 2 columns</p>\n",
       "</div>"
      ],
      "text/plain": [
       "                         label        F1\n",
       "0                      mt-News  0.692308\n",
       "1     mt-Opinion/Argumentation  0.333333\n",
       "2               mt-Instruction  0.689655\n",
       "3   mt-Information/Explanation  0.521739\n",
       "4                 mt-Promotion  0.818182\n",
       "..                         ...       ...\n",
       "75  sl-Information/Explanation  0.900000\n",
       "76                sl-Promotion  1.000000\n",
       "77                    sl-Legal  0.952381\n",
       "78                    sl-Forum  1.000000\n",
       "79            sl-Prose/Lyrical  0.909091\n",
       "\n",
       "[80 rows x 2 columns]"
      ]
     },
     "execution_count": 21,
     "metadata": {},
     "output_type": "execute_result"
    }
   ],
   "source": [
    "label_scores_df = pd.DataFrame({\"label\":list(label_scores_new_dict.keys()), \"F1\": list(label_scores_new_dict.values())})\n",
    "label_scores_df"
   ]
  },
  {
   "cell_type": "code",
   "execution_count": 22,
   "metadata": {},
   "outputs": [
    {
     "data": {
      "text/html": [
       "<div>\n",
       "<style scoped>\n",
       "    .dataframe tbody tr th:only-of-type {\n",
       "        vertical-align: middle;\n",
       "    }\n",
       "\n",
       "    .dataframe tbody tr th {\n",
       "        vertical-align: top;\n",
       "    }\n",
       "\n",
       "    .dataframe thead th {\n",
       "        text-align: right;\n",
       "    }\n",
       "</style>\n",
       "<table border=\"1\" class=\"dataframe\">\n",
       "  <thead>\n",
       "    <tr style=\"text-align: right;\">\n",
       "      <th></th>\n",
       "      <th>label</th>\n",
       "      <th>overlap</th>\n",
       "    </tr>\n",
       "  </thead>\n",
       "  <tbody>\n",
       "    <tr>\n",
       "      <th>0</th>\n",
       "      <td>mt-Information/Explanation</td>\n",
       "      <td>0.714543</td>\n",
       "    </tr>\n",
       "    <tr>\n",
       "      <th>1</th>\n",
       "      <td>mt-News</td>\n",
       "      <td>0.712382</td>\n",
       "    </tr>\n",
       "    <tr>\n",
       "      <th>2</th>\n",
       "      <td>mt-Instruction</td>\n",
       "      <td>0.619401</td>\n",
       "    </tr>\n",
       "    <tr>\n",
       "      <th>3</th>\n",
       "      <td>mt-Opinion/Argumentation</td>\n",
       "      <td>0.682129</td>\n",
       "    </tr>\n",
       "    <tr>\n",
       "      <th>4</th>\n",
       "      <td>mt-Forum</td>\n",
       "      <td>0.583984</td>\n",
       "    </tr>\n",
       "    <tr>\n",
       "      <th>...</th>\n",
       "      <td>...</td>\n",
       "      <td>...</td>\n",
       "    </tr>\n",
       "    <tr>\n",
       "      <th>75</th>\n",
       "      <td>sl-Opinion/Argumentation</td>\n",
       "      <td>0.888709</td>\n",
       "    </tr>\n",
       "    <tr>\n",
       "      <th>76</th>\n",
       "      <td>sl-Forum</td>\n",
       "      <td>0.801008</td>\n",
       "    </tr>\n",
       "    <tr>\n",
       "      <th>77</th>\n",
       "      <td>sl-Prose/Lyrical</td>\n",
       "      <td>0.699553</td>\n",
       "    </tr>\n",
       "    <tr>\n",
       "      <th>78</th>\n",
       "      <td>sl-Legal</td>\n",
       "      <td>0.755659</td>\n",
       "    </tr>\n",
       "    <tr>\n",
       "      <th>79</th>\n",
       "      <td>sl-Promotion</td>\n",
       "      <td>0.874180</td>\n",
       "    </tr>\n",
       "  </tbody>\n",
       "</table>\n",
       "<p>80 rows × 2 columns</p>\n",
       "</div>"
      ],
      "text/plain": [
       "                         label   overlap\n",
       "0   mt-Information/Explanation  0.714543\n",
       "1                      mt-News  0.712382\n",
       "2               mt-Instruction  0.619401\n",
       "3     mt-Opinion/Argumentation  0.682129\n",
       "4                     mt-Forum  0.583984\n",
       "..                         ...       ...\n",
       "75    sl-Opinion/Argumentation  0.888709\n",
       "76                    sl-Forum  0.801008\n",
       "77            sl-Prose/Lyrical  0.699553\n",
       "78                    sl-Legal  0.755659\n",
       "79                sl-Promotion  0.874180\n",
       "\n",
       "[80 rows x 2 columns]"
      ]
     },
     "execution_count": 22,
     "metadata": {},
     "output_type": "execute_result"
    }
   ],
   "source": [
    "# Get label-level overlap percentages\n",
    "label_overlap = pd.read_csv(\"datasets/label-level-token-overlap.csv\", index_col = 0)\n",
    "label_overlap"
   ]
  },
  {
   "cell_type": "code",
   "execution_count": 23,
   "metadata": {},
   "outputs": [
    {
     "data": {
      "text/html": [
       "<div>\n",
       "<style scoped>\n",
       "    .dataframe tbody tr th:only-of-type {\n",
       "        vertical-align: middle;\n",
       "    }\n",
       "\n",
       "    .dataframe tbody tr th {\n",
       "        vertical-align: top;\n",
       "    }\n",
       "\n",
       "    .dataframe thead th {\n",
       "        text-align: right;\n",
       "    }\n",
       "</style>\n",
       "<table border=\"1\" class=\"dataframe\">\n",
       "  <thead>\n",
       "    <tr style=\"text-align: right;\">\n",
       "      <th></th>\n",
       "      <th>label</th>\n",
       "      <th>overlap</th>\n",
       "      <th>F1</th>\n",
       "    </tr>\n",
       "  </thead>\n",
       "  <tbody>\n",
       "    <tr>\n",
       "      <th>0</th>\n",
       "      <td>mt-Information/Explanation</td>\n",
       "      <td>0.714543</td>\n",
       "      <td>0.521739</td>\n",
       "    </tr>\n",
       "    <tr>\n",
       "      <th>1</th>\n",
       "      <td>mt-News</td>\n",
       "      <td>0.712382</td>\n",
       "      <td>0.692308</td>\n",
       "    </tr>\n",
       "    <tr>\n",
       "      <th>2</th>\n",
       "      <td>mt-Instruction</td>\n",
       "      <td>0.619401</td>\n",
       "      <td>0.689655</td>\n",
       "    </tr>\n",
       "    <tr>\n",
       "      <th>3</th>\n",
       "      <td>mt-Opinion/Argumentation</td>\n",
       "      <td>0.682129</td>\n",
       "      <td>0.333333</td>\n",
       "    </tr>\n",
       "    <tr>\n",
       "      <th>4</th>\n",
       "      <td>mt-Forum</td>\n",
       "      <td>0.583984</td>\n",
       "      <td>0.181818</td>\n",
       "    </tr>\n",
       "    <tr>\n",
       "      <th>...</th>\n",
       "      <td>...</td>\n",
       "      <td>...</td>\n",
       "      <td>...</td>\n",
       "    </tr>\n",
       "    <tr>\n",
       "      <th>75</th>\n",
       "      <td>sl-Opinion/Argumentation</td>\n",
       "      <td>0.888709</td>\n",
       "      <td>0.823529</td>\n",
       "    </tr>\n",
       "    <tr>\n",
       "      <th>76</th>\n",
       "      <td>sl-Forum</td>\n",
       "      <td>0.801008</td>\n",
       "      <td>1.000000</td>\n",
       "    </tr>\n",
       "    <tr>\n",
       "      <th>77</th>\n",
       "      <td>sl-Prose/Lyrical</td>\n",
       "      <td>0.699553</td>\n",
       "      <td>0.909091</td>\n",
       "    </tr>\n",
       "    <tr>\n",
       "      <th>78</th>\n",
       "      <td>sl-Legal</td>\n",
       "      <td>0.755659</td>\n",
       "      <td>0.952381</td>\n",
       "    </tr>\n",
       "    <tr>\n",
       "      <th>79</th>\n",
       "      <td>sl-Promotion</td>\n",
       "      <td>0.874180</td>\n",
       "      <td>1.000000</td>\n",
       "    </tr>\n",
       "  </tbody>\n",
       "</table>\n",
       "<p>80 rows × 3 columns</p>\n",
       "</div>"
      ],
      "text/plain": [
       "                         label   overlap        F1\n",
       "0   mt-Information/Explanation  0.714543  0.521739\n",
       "1                      mt-News  0.712382  0.692308\n",
       "2               mt-Instruction  0.619401  0.689655\n",
       "3     mt-Opinion/Argumentation  0.682129  0.333333\n",
       "4                     mt-Forum  0.583984  0.181818\n",
       "..                         ...       ...       ...\n",
       "75    sl-Opinion/Argumentation  0.888709  0.823529\n",
       "76                    sl-Forum  0.801008  1.000000\n",
       "77            sl-Prose/Lyrical  0.699553  0.909091\n",
       "78                    sl-Legal  0.755659  0.952381\n",
       "79                sl-Promotion  0.874180  1.000000\n",
       "\n",
       "[80 rows x 3 columns]"
      ]
     },
     "execution_count": 23,
     "metadata": {},
     "output_type": "execute_result"
    }
   ],
   "source": [
    "# Merge the two dfs\n",
    "label_merged = pd.merge(left=label_overlap, right=label_scores_df, on=\"label\")\n",
    "label_merged"
   ]
  },
  {
   "cell_type": "code",
   "execution_count": 31,
   "metadata": {},
   "outputs": [
    {
     "data": {
      "image/png": "[encoded data removed]",
      "text/plain": [
       "<Figure size 640x480 with 1 Axes>"
      ]
     },
     "metadata": {},
     "output_type": "display_data"
    },
    {
     "name": "stdout",
     "output_type": "stream",
     "text": [
      "Pearsons correlation: -0.210\n",
      "p-value: 0.061927713633443814\n",
      "Spearmans correlation: -0.221\n",
      "p-value: 0.049141435638464244\n"
     ]
    }
   ],
   "source": [
    "# Let's analyse the correlation\n",
    "analyse(label_merged[\"F1\"].to_list(), label_merged[\"overlap\"].to_list(), x_name=\"F1\", y_name=\"Token Overlap (%)\")"
   ]
  },
  {
   "cell_type": "markdown",
   "metadata": {},
   "source": [
    "Plot in different colors for each of the labels"
   ]
  },
  {
   "cell_type": "code",
   "execution_count": 27,
   "metadata": {},
   "outputs": [
    {
     "data": {
      "text/html": [
       "<div>\n",
       "<style scoped>\n",
       "    .dataframe tbody tr th:only-of-type {\n",
       "        vertical-align: middle;\n",
       "    }\n",
       "\n",
       "    .dataframe tbody tr th {\n",
       "        vertical-align: top;\n",
       "    }\n",
       "\n",
       "    .dataframe thead th {\n",
       "        text-align: right;\n",
       "    }\n",
       "</style>\n",
       "<table border=\"1\" class=\"dataframe\">\n",
       "  <thead>\n",
       "    <tr style=\"text-align: right;\">\n",
       "      <th></th>\n",
       "      <th>label</th>\n",
       "      <th>overlap</th>\n",
       "      <th>F1</th>\n",
       "      <th>lang</th>\n",
       "      <th>genre</th>\n",
       "    </tr>\n",
       "  </thead>\n",
       "  <tbody>\n",
       "    <tr>\n",
       "      <th>0</th>\n",
       "      <td>mt-Information/Explanation</td>\n",
       "      <td>0.714543</td>\n",
       "      <td>0.521739</td>\n",
       "      <td>mt</td>\n",
       "      <td>Information/Explanation</td>\n",
       "    </tr>\n",
       "    <tr>\n",
       "      <th>1</th>\n",
       "      <td>mt-News</td>\n",
       "      <td>0.712382</td>\n",
       "      <td>0.692308</td>\n",
       "      <td>mt</td>\n",
       "      <td>News</td>\n",
       "    </tr>\n",
       "  </tbody>\n",
       "</table>\n",
       "</div>"
      ],
      "text/plain": [
       "                        label   overlap        F1 lang  \\\n",
       "0  mt-Information/Explanation  0.714543  0.521739   mt   \n",
       "1                     mt-News  0.712382  0.692308   mt   \n",
       "\n",
       "                     genre  \n",
       "0  Information/Explanation  \n",
       "1                     News  "
      ]
     },
     "execution_count": 27,
     "metadata": {},
     "output_type": "execute_result"
    }
   ],
   "source": [
    "# Add additional columns in the df with information on the labels and lang\n",
    "label_merged[\"lang\"] = label_merged[\"label\"].apply(lambda x: x.split(\"-\")[0])\n",
    "label_merged[\"genre\"] = label_merged[\"label\"].apply(lambda x: x.split(\"-\")[1])\n",
    "label_merged.head(2)"
   ]
  },
  {
   "cell_type": "code",
   "execution_count": 29,
   "metadata": {},
   "outputs": [
    {
     "data": {
      "text/html": [
       "<div>\n",
       "<style scoped>\n",
       "    .dataframe tbody tr th:only-of-type {\n",
       "        vertical-align: middle;\n",
       "    }\n",
       "\n",
       "    .dataframe tbody tr th {\n",
       "        vertical-align: top;\n",
       "    }\n",
       "\n",
       "    .dataframe thead th {\n",
       "        text-align: right;\n",
       "    }\n",
       "</style>\n",
       "<table border=\"1\" class=\"dataframe\">\n",
       "  <thead>\n",
       "    <tr style=\"text-align: right;\">\n",
       "      <th></th>\n",
       "      <th>label</th>\n",
       "      <th>overlap</th>\n",
       "      <th>F1</th>\n",
       "      <th>lang</th>\n",
       "      <th>genre</th>\n",
       "    </tr>\n",
       "  </thead>\n",
       "  <tbody>\n",
       "    <tr>\n",
       "      <th>1</th>\n",
       "      <td>mt-News</td>\n",
       "      <td>0.712382</td>\n",
       "      <td>0.692308</td>\n",
       "      <td>mt</td>\n",
       "      <td>News</td>\n",
       "    </tr>\n",
       "    <tr>\n",
       "      <th>9</th>\n",
       "      <td>el-News</td>\n",
       "      <td>0.116252</td>\n",
       "      <td>0.900000</td>\n",
       "      <td>el</td>\n",
       "      <td>News</td>\n",
       "    </tr>\n",
       "    <tr>\n",
       "      <th>17</th>\n",
       "      <td>tr-News</td>\n",
       "      <td>0.441053</td>\n",
       "      <td>0.952381</td>\n",
       "      <td>tr</td>\n",
       "      <td>News</td>\n",
       "    </tr>\n",
       "    <tr>\n",
       "      <th>25</th>\n",
       "      <td>sq-News</td>\n",
       "      <td>0.465010</td>\n",
       "      <td>0.888889</td>\n",
       "      <td>sq</td>\n",
       "      <td>News</td>\n",
       "    </tr>\n",
       "    <tr>\n",
       "      <th>33</th>\n",
       "      <td>is-News</td>\n",
       "      <td>0.419619</td>\n",
       "      <td>0.727273</td>\n",
       "      <td>is</td>\n",
       "      <td>News</td>\n",
       "    </tr>\n",
       "    <tr>\n",
       "      <th>41</th>\n",
       "      <td>uk-News</td>\n",
       "      <td>0.131128</td>\n",
       "      <td>1.000000</td>\n",
       "      <td>uk</td>\n",
       "      <td>News</td>\n",
       "    </tr>\n",
       "    <tr>\n",
       "      <th>49</th>\n",
       "      <td>ca-News</td>\n",
       "      <td>0.612557</td>\n",
       "      <td>0.823529</td>\n",
       "      <td>ca</td>\n",
       "      <td>News</td>\n",
       "    </tr>\n",
       "    <tr>\n",
       "      <th>57</th>\n",
       "      <td>mk-News</td>\n",
       "      <td>0.105347</td>\n",
       "      <td>0.909091</td>\n",
       "      <td>mk</td>\n",
       "      <td>News</td>\n",
       "    </tr>\n",
       "    <tr>\n",
       "      <th>65</th>\n",
       "      <td>hr-News</td>\n",
       "      <td>0.719493</td>\n",
       "      <td>0.947368</td>\n",
       "      <td>hr</td>\n",
       "      <td>News</td>\n",
       "    </tr>\n",
       "    <tr>\n",
       "      <th>73</th>\n",
       "      <td>sl-News</td>\n",
       "      <td>0.912225</td>\n",
       "      <td>0.900000</td>\n",
       "      <td>sl</td>\n",
       "      <td>News</td>\n",
       "    </tr>\n",
       "  </tbody>\n",
       "</table>\n",
       "</div>"
      ],
      "text/plain": [
       "      label   overlap        F1 lang genre\n",
       "1   mt-News  0.712382  0.692308   mt  News\n",
       "9   el-News  0.116252  0.900000   el  News\n",
       "17  tr-News  0.441053  0.952381   tr  News\n",
       "25  sq-News  0.465010  0.888889   sq  News\n",
       "33  is-News  0.419619  0.727273   is  News\n",
       "41  uk-News  0.131128  1.000000   uk  News\n",
       "49  ca-News  0.612557  0.823529   ca  News\n",
       "57  mk-News  0.105347  0.909091   mk  News\n",
       "65  hr-News  0.719493  0.947368   hr  News\n",
       "73  sl-News  0.912225  0.900000   sl  News"
      ]
     },
     "execution_count": 29,
     "metadata": {},
     "output_type": "execute_result"
    }
   ],
   "source": [
    "label_merged[label_merged[\"genre\"] == \"News\"]"
   ]
  },
  {
   "cell_type": "code",
   "execution_count": null,
   "metadata": {},
   "outputs": [],
   "source": [
    "# Extract vectors for each genre\n",
    "for label in ['Information/Explanation', 'News', 'Instruction','Opinion/Argumentation', 'Forum', 'Prose/Lyrical', 'Legal','Promotion']:\n",
    "\tcurrent_df = label_merged[label_merged[\"genre\"] == label]\n",
    "\tcurrent_overlap = current_df[\"overlap\"].to_list()\n",
    "\tcurrent_F1 = current_df[\"F1\"].to_list()"
   ]
  },
  {
   "cell_type": "code",
   "execution_count": 38,
   "metadata": {},
   "outputs": [
    {
     "data": {
      "text/plain": [
       "Text(0, 0.5, 'Token overlap (%)')"
      ]
     },
     "execution_count": 38,
     "metadata": {},
     "output_type": "execute_result"
    },
    {
     "data": {
      "image/png": "[encoded data removed]",
      "text/plain": [
       "<Figure size 640x480 with 1 Axes>"
      ]
     },
     "metadata": {},
     "output_type": "display_data"
    }
   ],
   "source": [
    "x = label_merged[\"F1\"]\n",
    "y = label_merged[\"overlap\"]\n",
    "\n",
    "\n",
    "# Define the criteria - based on which column will the instances be grouped\n",
    "groups = label_merged.groupby('genre')\n",
    "\n",
    "for name, group in groups:\n",
    "    plt.plot(group[\"F1\"], group[\"overlap\"], marker='o', linestyle='', markersize=8, label=name);\n",
    "\n",
    "plt.legend()\n",
    "plt.xlabel(\"F1\")\n",
    "plt.ylabel(\"Token overlap (%)\")\n",
    "#plt.title('Correlation of token overlap (%) and F1 scores for each of the labels')"
   ]
  },
  {
   "cell_type": "code",
   "execution_count": null,
   "metadata": {},
   "outputs": [],
   "source": [
    "# Create a more detailed plot\n",
    "\n",
    "\tpyplot.scatter(x, y)\n",
    "\n",
    "labels = list(main_dict.keys())\n",
    "\n",
    "# Add labels for each dot\n",
    "for i, label in enumerate(labels):\n",
    "\tpyplot.text(x[i], y[i], label)\n",
    "\n",
    "\n",
    "# Set labels and title\n",
    "pyplot.xlabel(f'{x_name}')\n",
    "pyplot.ylabel(f'{y_name}')\n",
    "pyplot.title(f'Correlation of {x_name} and {y_name}.')\n",
    "\n",
    "pyplot.show()"
   ]
  },
  {
   "cell_type": "markdown",
   "metadata": {},
   "source": [
    "# Correlation of cosine similarity for token overlap and macro F1 scores"
   ]
  },
  {
   "cell_type": "markdown",
   "metadata": {},
   "source": [
    "## Dataset-level"
   ]
  },
  {
   "cell_type": "code",
   "execution_count": 6,
   "metadata": {},
   "outputs": [
    {
     "data": {
      "text/plain": [
       "[0.4142476865826809,\n",
       " 0.5273207128330722,\n",
       " 0.5938472232210807,\n",
       " 0.43448915477115685,\n",
       " 0.5251354659540077,\n",
       " 0.5846121788244142,\n",
       " 0.5254392489246424,\n",
       " 0.4225320009293607,\n",
       " 0.5662098277228971,\n",
       " 0.6334513674796362]"
      ]
     },
     "execution_count": 6,
     "metadata": {},
     "output_type": "execute_result"
    }
   ],
   "source": [
    "# Get an array of cosine similarity\n",
    "overlap = [main_dict[x]['token_overlap']['cosine_similarity'] for x in list(main_dict.keys())]\n",
    "overlap"
   ]
  },
  {
   "cell_type": "code",
   "execution_count": 7,
   "metadata": {},
   "outputs": [
    {
     "data": {
      "image/png": "[encoded data removed]",
      "text/plain": [
       "<Figure size 640x480 with 1 Axes>"
      ]
     },
     "metadata": {},
     "output_type": "display_data"
    },
    {
     "name": "stdout",
     "output_type": "stream",
     "text": [
      "Pearsons correlation: 0.560\n",
      "p-value: 0.0926047843840466\n",
      "Spearmans correlation: 0.624\n",
      "p-value: 0.053717767217167395\n"
     ]
    }
   ],
   "source": [
    "# Analyse the correlation\n",
    "analyse(macro_F1, overlap, x_name=\"Macro F1\", y_name=\"Cosine similarity\")"
   ]
  }
 ],
 "metadata": {
  "kernelspec": {
   "display_name": "crosslingual_venv",
   "language": "python",
   "name": "python3"
  },
  "language_info": {
   "codemirror_mode": {
    "name": "ipython",
    "version": 3
   },
   "file_extension": ".py",
   "mimetype": "text/x-python",
   "name": "python",
   "nbconvert_exporter": "python",
   "pygments_lexer": "ipython3",
   "version": "3.8.10"
  }
 },
 "nbformat": 4,
 "nbformat_minor": 2
}
