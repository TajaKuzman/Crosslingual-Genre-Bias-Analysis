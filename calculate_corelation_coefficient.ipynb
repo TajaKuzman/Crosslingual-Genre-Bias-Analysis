{
 "cells": [
  {
   "cell_type": "markdown",
   "metadata": {},
   "source": [
    "Theory from https://machinelearningmastery.com/how-to-use-correlation-to-understand-the-relationship-between-variables/"
   ]
  },
  {
   "cell_type": "code",
   "execution_count": 9,
   "metadata": {},
   "outputs": [],
   "source": [
    "from matplotlib import pyplot\n",
    "import numpy as np\n",
    "import json\n",
    "from sklearn.preprocessing import MinMaxScaler"
   ]
  },
  {
   "cell_type": "code",
   "execution_count": 2,
   "metadata": {},
   "outputs": [
    {
     "data": {
      "text/plain": [
       "dict_keys(['mt', 'el', 'tr', 'sq', 'is', 'uk', 'ca', 'mk', 'hr', 'sl'])"
      ]
     },
     "execution_count": 2,
     "metadata": {},
     "output_type": "execute_result"
    }
   ],
   "source": [
    "# Import the final dataset with test sets\n",
    "with open(\"manual-annotations/multilingual-genre-annotated-test-set.json\") as main_file:\n",
    "\tmain_dict = json.load(main_file)\n",
    "\n",
    "main_dict.keys()"
   ]
  },
  {
   "cell_type": "markdown",
   "metadata": {},
   "source": [
    "## Pearson Correlation"
   ]
  },
  {
   "cell_type": "markdown",
   "metadata": {},
   "source": [
    "At the core of many statistical analyses is the concept of linear relationships between variables. This is a relationship that is consistently additive across the two data samples.\n",
    "\n",
    "This relationship can be summarized between two variables, called the covariance. It is calculated as the average of the product between the values from each sample, where the values have been centred (by subtracting their respective means).\n",
    "\n",
    "The calculation of the sample covariance is as follows:\n",
    "\n",
    "cov(X, Y) = (sum (x - mean(X)) * (y - mean(Y)) ) * 1/(n-1)\n",
    "\n",
    "A problem with covariance as a statistical tool alone is that it is challenging to interpret. This leads us to Pearson’s correlation coefficient next."
   ]
  },
  {
   "cell_type": "markdown",
   "metadata": {},
   "source": [
    "Named after Karl Pearson, The Pearson correlation coefficient can be used to summarize the strength of the linear relationship between two data samples.\n",
    "\n",
    "Pearson’s correlation coefficient is calculated by dividing the covariance of the two variables by the product of their respective standard deviations. It is the normalization of the covariance between the two variables to give an interpretable score.\n",
    "\n",
    "Pearson's correlation coefficient = covariance(X, Y) / (stdv(X) * stdv(Y))\n",
    "The use of mean and standard deviation in the calculation suggests the need for the two data samples to have a Gaussian or Gaussian-like distribution.\n",
    "\n",
    "The result of the calculation, the correlation coefficient can be interpreted to understand the relationship.\n",
    "\n",
    "The coefficient returns a value between -1 and 1, symbolizing the full spectrum of correlation: from a complete negative correlation to a total positive correlation. A value of 0 means no correlation. The value must be interpreted, where often a value below -0.5 or above 0.5 indicates a notable correlation, and values below those values suggests a less notable correlation.\n",
    "\n",
    "Pearson’s correlation coefficient can be used to evaluate the relationship between more than two variables.\n",
    "\n",
    "This can be done by calculating a matrix of the relationships between each pair of variables in the dataset. The result is a symmetric matrix called a correlation matrix with a value of 1.0 along the diagonal as each column always perfectly correlates with itself."
   ]
  },
  {
   "cell_type": "code",
   "execution_count": 29,
   "metadata": {},
   "outputs": [],
   "source": [
    "from scipy.stats import pearsonr\n",
    "\n",
    "# calculate Pearson's correlation\n",
    "def pearson(macro_F1, factor):\n",
    "\tcorr, p = pearsonr(macro_F1, factor)\n",
    "\tprint('Pearsons correlation: %.3f' % corr)\n",
    "\tprint(f\"p-value: {p}\")"
   ]
  },
  {
   "cell_type": "markdown",
   "metadata": {},
   "source": [
    "## Spearman's Correlation"
   ]
  },
  {
   "cell_type": "markdown",
   "metadata": {},
   "source": [
    "While many data relationships can be linear, some may be nonlinear. These nonlinear relationships are stronger or weaker across the distribution of the variables. Further, the two variables being considered may have a non-Gaussian distribution.\n",
    "\n",
    "Named after Charles Spearman, Spearman’s correlation coefficient can be used to summarize the strength between the two data samples. This test of relationship can also be used if there is a linear relationship between the variables but will have slightly less power (e.g. may result in lower coefficient scores).\n",
    "\n",
    "As with the Pearson correlation coefficient, the scores are between -1 and 1 for perfectly negatively correlated variables and perfectly positively correlated respectively.\n",
    "\n",
    "Instead of directly working with the data samples, it operates on the relative ranks of data values. This is a common approach used in non-parametric statistics, e.g. statistical methods where we do not assume a distribution of the data such as Gaussian.\n",
    "\n",
    "Spearman's correlation coefficient = covariance(rank(X), rank(Y)) / (stdv(rank(X)) * stdv(rank(Y)))\n",
    "A linear relationship between the variables is not assumed, although a monotonic relationship is assumed. This is a mathematical name for an increasing or decreasing relationship between the two variables.\n",
    "\n",
    "If you are unsure of the distribution and possible relationships between two variables, the Spearman correlation coefficient is a good tool to use.\n",
    "\n",
    "As with the Pearson’s correlation coefficient, the coefficient can be calculated pair-wise for each variable in a dataset to give a correlation matrix for review."
   ]
  },
  {
   "cell_type": "code",
   "execution_count": 30,
   "metadata": {},
   "outputs": [],
   "source": [
    "from scipy.stats import spearmanr\n",
    "\n",
    "# calculate spearman's correlation\n",
    "def spearman(macro_F1, factor):\n",
    "\tcorr, p = spearmanr(macro_F1, factor)\n",
    "\tprint('Spearmans correlation: %.3f' % corr)\n",
    "\tprint(f\"p-value: {p}\")"
   ]
  },
  {
   "cell_type": "markdown",
   "metadata": {},
   "source": [
    "## Sizes in pretraining data"
   ]
  },
  {
   "cell_type": "code",
   "execution_count": 23,
   "metadata": {},
   "outputs": [],
   "source": [
    "# Add information on sizes in XLM-RoBERTa training set - for specific language and combined with very closely related language. Sizes are in M of tokens.\n",
    "sizes = {\n",
    "\t\"mt\": 0,\n",
    "\t\"el\": 4285, \n",
    "\t\"tr\": 2736,\n",
    "\t\"sq\": 918,\n",
    "\t\"is\": 505,\n",
    "\t\"uk\": 6500,\n",
    "\t\"ca\": 1752,\n",
    "\t\"mk\": 449,\n",
    "\t\"hr\": 3297 + 14 + 843, #added Bosnian, Serbian (in that order), \n",
    "\t\"sl\": 1669,}\n",
    "\n",
    "sizes_with_related = {\n",
    "\t\"mt\": 0 + 2869, # Central Semitic Arabic languages (Afro-Asiatic language family): Maltese, Arabic\n",
    "\t\"el\": 4285, # is a separate branch of Indo-European language family and has no direct descendants that could be added\n",
    "\t\"tr\": 2736 + 783,\n",
    "\t\"sq\": 918, # is a separate branch of Indo-European language family and has no direct descendants that could be added\n",
    "\t\"is\": 505 + 7823 + 8494 + 778, # North Germanic languages: Icelandic, Danish, Norwegian, Swedish\n",
    "\t\"uk\": 6500 + 362 + 23408, # East Slavic: Ukrainian, Belarusian, Russian\n",
    "\t\"ca\": 1752 + 9374 + 495 + 8405, # Ibero-Romance: Catalan, Spanish, Galician, Portuguese\n",
    "\t\"mk\": 449 + 5487, # Eastern South Slavic: Macedonian, Bulgarian \n",
    "\t\"hr\": 3297 + 1669 + 14 + 843, # Western South Slavic languages: Croatian, Slovenian, Bosnian, Serbian (in that order)\n",
    "\t\"sl\": 1669 + 3297 + 14 + 843 # Western South Slavic languages: Slovenian, Croatian, Bosnian, Serbian (in that order)\n",
    "\t}"
   ]
  },
  {
   "cell_type": "code",
   "execution_count": 24,
   "metadata": {},
   "outputs": [],
   "source": [
    "# Sizes in GB, from https://aclanthology.org/2020.acl-main.747.pdf\n",
    "\n",
    "sizes_mb = {\n",
    "\t\"mt\": 0,\n",
    "\t\"el\": 46.9,\n",
    "\t\"tr\": 20.9,\n",
    "\t\"sq\": 5.4,\n",
    "\t\"is\": 3.2,\n",
    "\t\"uk\": 84.6,\n",
    "\t\"ca\": 10.1,\n",
    "\t\"mk\": 4.8,\n",
    "\t\"hr\": 20.5 +0.1 + 9.1, #added Bosnian, Serbian (in that order), \n",
    "\t\"sl\": 10.3,\n",
    "\t}\n",
    "\n",
    "sizes_mb_with_related = {\n",
    "\t\"mt\": 0 + 28.0, # Central Semitic Arabic languages (Afro-Asiatic language family): Maltese, Arabic\n",
    "\t\"el\": 46.9, # is a separate branch of Indo-European language family and has no direct descendants that could be added\n",
    "\t\"tr\": 20.9 + 6.5, # Southern Turkic (Turkic language family): Turkish, Azerbaijani\n",
    "\t\"sq\": 5.4, # is a separate branch of Indo-European language family and has no direct descendants that could be added\n",
    "\t\"is\": 3.2 + 45.6 + 49.0 + 12.1, # North Germanic languages: Icelandic, Danish, Norwegian, Swedish\n",
    "\t\"uk\": 84.6 + 4.3 + 278.0, #East Slavic: Ukrainian, Belarusian, Russian\n",
    "\t\"ca\": 10.1 + 53.3 + 2.9 + 49.1, # Ibero-Romance: Catalan, Spanish, Galician, Portuguese\n",
    "\t\"mk\": 4.8 + 57.5, # Eastern South Slavic: Macedonian, Bulgarian\n",
    "\t\"hr\": 20.5 + 0.1 + 9.1 + 10.3, # Western South Slavic languages: Croatian, Bosnian, Serbian, Slovenian (in that order)\n",
    "\t\"sl\": 10.3 + 20.5 + 0.1 + 9.1 # Western South Slavic languages: Slovenian, Croatian, Bosnian, Serbian (in that order)\n",
    "\t}"
   ]
  },
  {
   "cell_type": "code",
   "execution_count": 25,
   "metadata": {},
   "outputs": [
    {
     "data": {
      "text/plain": [
       "[28.0, 46.9, 27.4, 5.4, 109.9, 366.9, 115.4, 62.3, 40.0, 40.0]"
      ]
     },
     "execution_count": 25,
     "metadata": {},
     "output_type": "execute_result"
    }
   ],
   "source": [
    "sizes_list = list(sizes.values())\n",
    "sizes_related_list = list(sizes_with_related.values())\n",
    "sizes_mb_list = list(sizes_mb.values())\n",
    "sizes_mb_related_list = list(sizes_mb_with_related.values())\n",
    "\n",
    "sizes_mb_related_list"
   ]
  },
  {
   "cell_type": "code",
   "execution_count": 27,
   "metadata": {},
   "outputs": [
    {
     "name": "stdout",
     "output_type": "stream",
     "text": [
      "[[0.06251729]\n",
      " [0.11479945]\n",
      " [0.06085754]\n",
      " [0.        ]\n",
      " [0.28907331]\n",
      " [1.        ]\n",
      " [0.30428769]\n",
      " [0.15739972]\n",
      " [0.09571231]\n",
      " [0.09571231]]\n"
     ]
    }
   ],
   "source": [
    "# Normalize the values using the min-max normalization\n",
    "# Min-max is a scaling technique where values are rescaled and shifted so that they range between 0 and 1 or between -1 and 1.\n",
    "\n",
    "def normalize(list):\n",
    "\tdata = np.array(list).reshape(-1, 1)\n",
    "\tscaler = MinMaxScaler()\n",
    "\tscaler.fit(data)\n",
    "\tnorm_list = scaler.transform(data)\n",
    "\n",
    "\treturn norm_list\n",
    "\n",
    "sizes_list_norm = normalize(sizes_list)\n",
    "sizes_related_list_norm = normalize(sizes_related_list)\n",
    "sizes_mb_list_norm = normalize(sizes_mb_list)\n",
    "sizes_mb_related_list_norm = normalize(sizes_mb_related_list)\n",
    "\n",
    "print(sizes_mb_related_list_norm)"
   ]
  },
  {
   "cell_type": "code",
   "execution_count": 18,
   "metadata": {},
   "outputs": [
    {
     "data": {
      "text/plain": [
       "[0.552356688788473,\n",
       " 0.8435600870783095,\n",
       " 0.8990631100925218,\n",
       " 0.866280284043442,\n",
       " 0.8104437496515837,\n",
       " 0.9483272575377839,\n",
       " 0.8271009954845262,\n",
       " 0.9226380344801398,\n",
       " 0.882915766854554,\n",
       " 0.935625159154571]"
      ]
     },
     "execution_count": 18,
     "metadata": {},
     "output_type": "execute_result"
    }
   ],
   "source": [
    "# Get an array of macro F1 values\n",
    "macro_F1 = [main_dict[x][\"macro_f1\"] for x in list(main_dict.keys())]\n",
    "macro_F1"
   ]
  },
  {
   "cell_type": "code",
   "execution_count": 19,
   "metadata": {},
   "outputs": [
    {
     "data": {
      "image/png": "[encoded data removed]",
      "text/plain": [
       "<Figure size 640x480 with 1 Axes>"
      ]
     },
     "metadata": {},
     "output_type": "display_data"
    }
   ],
   "source": [
    "# Show the values on a scatter plot\n",
    "# Normalized sizes (M of tokens)\n",
    "pyplot.scatter(macro_F1, sizes_list_norm)\n",
    "pyplot.show()"
   ]
  },
  {
   "cell_type": "code",
   "execution_count": 20,
   "metadata": {},
   "outputs": [
    {
     "data": {
      "image/png": "[encoded data removed]",
      "text/plain": [
       "<Figure size 640x480 with 1 Axes>"
      ]
     },
     "metadata": {},
     "output_type": "display_data"
    }
   ],
   "source": [
    "# Show the values on a scatter plot\n",
    "# Normalized sizes (M of tokens) with related languages\n",
    "pyplot.scatter(macro_F1, sizes_related_list_norm)\n",
    "pyplot.show()"
   ]
  },
  {
   "cell_type": "code",
   "execution_count": 21,
   "metadata": {},
   "outputs": [
    {
     "data": {
      "image/png": "[encoded data removed]",
      "text/plain": [
       "<Figure size 640x480 with 1 Axes>"
      ]
     },
     "metadata": {},
     "output_type": "display_data"
    }
   ],
   "source": [
    "# Show the values on a scatter plot\n",
    "# Normalized sizes (GB)\n",
    "pyplot.scatter(macro_F1, sizes_mb_list_norm)\n",
    "pyplot.show()"
   ]
  },
  {
   "cell_type": "code",
   "execution_count": 41,
   "metadata": {},
   "outputs": [
    {
     "data": {
      "image/png": "[encoded data removed]",
      "text/plain": [
       "<Figure size 640x480 with 1 Axes>"
      ]
     },
     "metadata": {},
     "output_type": "display_data"
    }
   ],
   "source": [
    "# Show the values on a scatter plot\n",
    "# Normalized sizes (GB)\n",
    "pyplot.scatter(macro_F1, sizes_mb_list)\n",
    "pyplot.show()"
   ]
  },
  {
   "cell_type": "code",
   "execution_count": 28,
   "metadata": {},
   "outputs": [
    {
     "data": {
      "image/png": "[encoded data removed]",
      "text/plain": [
       "<Figure size 640x480 with 1 Axes>"
      ]
     },
     "metadata": {},
     "output_type": "display_data"
    }
   ],
   "source": [
    "# Show the values on a scatter plot\n",
    "# Normalized sizes (GB) with related languages\n",
    "pyplot.scatter(macro_F1, sizes_mb_related_list_norm)\n",
    "pyplot.show()"
   ]
  },
  {
   "cell_type": "code",
   "execution_count": 42,
   "metadata": {},
   "outputs": [
    {
     "data": {
      "image/png": "[encoded data removed]",
      "text/plain": [
       "<Figure size 640x480 with 1 Axes>"
      ]
     },
     "metadata": {},
     "output_type": "display_data"
    }
   ],
   "source": [
    "# Show the values on a scatter plot\n",
    "# Normalized sizes (GB) with related languages\n",
    "pyplot.scatter(macro_F1, sizes_mb_related_list)\n",
    "pyplot.show()"
   ]
  },
  {
   "cell_type": "code",
   "execution_count": 45,
   "metadata": {},
   "outputs": [
    {
     "name": "stdout",
     "output_type": "stream",
     "text": [
      "Pearsons correlation: 0.483\n",
      "p-value: 0.15770106280572002\n",
      "Spearmans correlation: 0.442\n",
      "p-value: 0.20042268671194224\n",
      "\n",
      "\n",
      "Pearsons correlation: 0.240\n",
      "p-value: 0.5035757809014645\n",
      "Spearmans correlation: 0.280\n",
      "p-value: 0.433925839676929\n",
      "\n",
      "\n",
      "Pearsons correlation: 0.415\n",
      "p-value: 0.23343624750296876\n",
      "Spearmans correlation: 0.588\n",
      "p-value: 0.07387770688865801\n",
      "\n",
      "\n",
      "Pearsons correlation: 0.298\n",
      "p-value: 0.40378781012771897\n",
      "Spearmans correlation: 0.122\n",
      "p-value: 0.7379379712336098\n",
      "\n",
      "\n"
     ]
    }
   ],
   "source": [
    "# Calculate correlation\n",
    "for i in [sizes_list,sizes_related_list, sizes_mb_list, sizes_mb_related_list]:\n",
    "\tpearson(macro_F1, i)\n",
    "\tspearman(macro_F1, i)\n",
    "\tprint(\"\\n\")"
   ]
  },
  {
   "cell_type": "markdown",
   "metadata": {},
   "source": [
    "### Label-level correlation"
   ]
  },
  {
   "cell_type": "code",
   "execution_count": 46,
   "metadata": {},
   "outputs": [
    {
     "data": {
      "text/plain": [
       "dict_keys(['mt', 'el', 'tr', 'sq', 'is', 'uk', 'ca', 'mk', 'hr', 'sl'])"
      ]
     },
     "execution_count": 46,
     "metadata": {},
     "output_type": "execute_result"
    }
   ],
   "source": [
    "# Calculate label-level performance for each label, each dataset\n",
    "\n",
    "main_dict.keys()"
   ]
  },
  {
   "cell_type": "markdown",
   "metadata": {},
   "source": [
    "# Token Overlap"
   ]
  },
  {
   "cell_type": "code",
   "execution_count": 23,
   "metadata": {},
   "outputs": [
    {
     "data": {
      "text/plain": [
       "0.9742887570363609"
      ]
     },
     "execution_count": 23,
     "metadata": {},
     "output_type": "execute_result"
    }
   ],
   "source": [
    "main_dict[\"sl\"]['token_overlap']['overlap_percentage']"
   ]
  },
  {
   "cell_type": "code",
   "execution_count": 24,
   "metadata": {},
   "outputs": [
    {
     "data": {
      "text/plain": [
       "[0.8170850409836066,\n",
       " 0.16142765685019206,\n",
       " 0.5215024680505781,\n",
       " 0.605775337143711,\n",
       " 0.5175752260153825,\n",
       " 0.15667519020109227,\n",
       " 0.7448809178042405,\n",
       " 0.14598936285683273,\n",
       " 0.8215173660815188,\n",
       " 0.9742887570363609]"
      ]
     },
     "execution_count": 24,
     "metadata": {},
     "output_type": "execute_result"
    }
   ],
   "source": [
    "# Get an array of overlap percentage\n",
    "overlap = [main_dict[x]['token_overlap']['overlap_percentage'] for x in list(main_dict.keys())]\n",
    "overlap"
   ]
  },
  {
   "cell_type": "code",
   "execution_count": null,
   "metadata": {},
   "outputs": [],
   "source": [
    "# Show the values on a scatter plot\n",
    "# plot\n",
    "pyplot.scatter(macro_F1, overlap)\n",
    "pyplot.show()"
   ]
  }
 ],
 "metadata": {
  "kernelspec": {
   "display_name": "crosslingual_venv",
   "language": "python",
   "name": "python3"
  },
  "language_info": {
   "codemirror_mode": {
    "name": "ipython",
    "version": 3
   },
   "file_extension": ".py",
   "mimetype": "text/x-python",
   "name": "python",
   "nbconvert_exporter": "python",
   "pygments_lexer": "ipython3",
   "version": "3.8.10"
  }
 },
 "nbformat": 4,
 "nbformat_minor": 2
}
